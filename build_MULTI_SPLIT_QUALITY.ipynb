{
 "cells": [
  {
   "cell_type": "code",
   "execution_count": 1,
   "metadata": {},
   "outputs": [],
   "source": [
    "import os\n",
    "import os.path as osp\n",
    "import pandas as pd"
   ]
  },
  {
   "cell_type": "code",
   "execution_count": 2,
   "metadata": {},
   "outputs": [],
   "source": [
    "train = pd.read_csv('data/train_all_qualities.csv')\n",
    "train_q = pd.read_csv('data/train_quality.csv')\n",
    "train_field_def = pd.read_csv('data/train_field_def.csv')\n",
    "train_artifact = pd.read_csv('data/train_artifact.csv')\n",
    "train_clarity = pd.read_csv('data/train_clarity.csv')"
   ]
  },
  {
   "cell_type": "code",
   "execution_count": 3,
   "metadata": {},
   "outputs": [],
   "source": [
    "val = pd.read_csv('data/val_all_qualities.csv')\n",
    "val_q = pd.read_csv('data/val_quality.csv')\n",
    "val_field_def = pd.read_csv('data/val_field_def.csv')\n",
    "val_artifact = pd.read_csv('data/val_artifact.csv')\n",
    "val_clarity = pd.read_csv('data/val_clarity.csv')                           "
   ]
  },
  {
   "cell_type": "markdown",
   "metadata": {},
   "source": [
    "## All Qualities MT"
   ]
  },
  {
   "cell_type": "code",
   "execution_count": 4,
   "metadata": {},
   "outputs": [
    {
     "data": {
      "text/plain": [
       "((1198, 5), (401, 5))"
      ]
     },
     "execution_count": 4,
     "metadata": {},
     "output_type": "execute_result"
    }
   ],
   "source": [
    "train.shape, val.shape"
   ]
  },
  {
   "cell_type": "code",
   "execution_count": 5,
   "metadata": {},
   "outputs": [],
   "source": [
    "val_1 = val.copy()"
   ]
  },
  {
   "cell_type": "code",
   "execution_count": 6,
   "metadata": {},
   "outputs": [],
   "source": [
    "val_2, val_3, val_4 = train[:399], train[399:2*399], train[2*399:]"
   ]
  },
  {
   "cell_type": "code",
   "execution_count": 7,
   "metadata": {},
   "outputs": [
    {
     "data": {
      "text/plain": [
       "((401, 5), (399, 5), (399, 5), (400, 5))"
      ]
     },
     "execution_count": 7,
     "metadata": {},
     "output_type": "execute_result"
    }
   ],
   "source": [
    "val_1.shape, val_2.shape, val_3.shape, val_4.shape"
   ]
  },
  {
   "cell_type": "code",
   "execution_count": 8,
   "metadata": {},
   "outputs": [],
   "source": [
    "train_1 = pd.concat([val_2, val_3, val_4], axis=0)\n",
    "train_2 = pd.concat([val_1, val_3, val_4], axis=0)\n",
    "train_3 = pd.concat([val_1, val_2, val_4], axis=0)\n",
    "train_4 = pd.concat([val_1, val_2, val_3], axis=0)"
   ]
  },
  {
   "cell_type": "code",
   "execution_count": 10,
   "metadata": {},
   "outputs": [
    {
     "data": {
      "text/plain": [
       "((1198, 5), (1200, 5), (1200, 5), (1199, 5))"
      ]
     },
     "execution_count": 10,
     "metadata": {},
     "output_type": "execute_result"
    }
   ],
   "source": [
    "train_1.shape, train_2.shape, train_3.shape, train_4.shape"
   ]
  },
  {
   "cell_type": "code",
   "execution_count": 11,
   "metadata": {},
   "outputs": [],
   "source": [
    "train_1.to_csv(osp.join('csvs/', 'train_all_qualities_1.csv'), index=False)\n",
    "train_2.to_csv(osp.join('csvs/', 'train_all_qualities_2.csv'), index=False)\n",
    "train_3.to_csv(osp.join('csvs/', 'train_all_qualities_3.csv'), index=False)\n",
    "train_4.to_csv(osp.join('csvs/', 'train_all_qualities_4.csv'), index=False)\n",
    "\n",
    "val_1.to_csv(osp.join('csvs/', 'val_all_qualities_1.csv'), index=False)\n",
    "val_2.to_csv(osp.join('csvs/', 'val_all_qualities_2.csv'), index=False)\n",
    "val_3.to_csv(osp.join('csvs/', 'val_all_qualities_3.csv'), index=False)\n",
    "val_4.to_csv(osp.join('csvs/', 'val_all_qualities_4.csv'), index=False)"
   ]
  },
  {
   "cell_type": "markdown",
   "metadata": {},
   "source": [
    "### Overall Quality"
   ]
  },
  {
   "cell_type": "code",
   "execution_count": 12,
   "metadata": {},
   "outputs": [
    {
     "data": {
      "text/plain": [
       "((1200, 2), (400, 2))"
      ]
     },
     "execution_count": 12,
     "metadata": {},
     "output_type": "execute_result"
    }
   ],
   "source": [
    "train_q.shape, val_q.shape"
   ]
  },
  {
   "cell_type": "code",
   "execution_count": 15,
   "metadata": {},
   "outputs": [],
   "source": [
    "val_q_1 = val_q.copy()\n",
    "val_q_2 = train_q[0:400]\n",
    "val_q_3 = train_q[400:2*400]\n",
    "val_q_4 = train_q[2*400:]"
   ]
  },
  {
   "cell_type": "code",
   "execution_count": 16,
   "metadata": {},
   "outputs": [
    {
     "data": {
      "text/plain": [
       "((400, 2), (400, 2), (400, 2), (400, 2))"
      ]
     },
     "execution_count": 16,
     "metadata": {},
     "output_type": "execute_result"
    }
   ],
   "source": [
    "val_q_1.shape, val_q_2.shape,val_q_3.shape,val_q_4.shape"
   ]
  },
  {
   "cell_type": "code",
   "execution_count": 26,
   "metadata": {},
   "outputs": [
    {
     "name": "stdout",
     "output_type": "stream",
     "text": [
      "0    624\n",
      "1    576\n",
      "Name: dr, dtype: int64\n",
      "0    630\n",
      "1    570\n",
      "Name: dr, dtype: int64\n",
      "0    630\n",
      "1    570\n",
      "Name: dr, dtype: int64\n",
      "0    642\n",
      "1    558\n",
      "Name: dr, dtype: int64\n"
     ]
    }
   ],
   "source": [
    "print(train_q_1.dr.value_counts())\n",
    "print(train_q_2.dr.value_counts())\n",
    "print(train_q_3.dr.value_counts())\n",
    "print(train_q_4.dr.value_counts())"
   ]
  },
  {
   "cell_type": "code",
   "execution_count": 25,
   "metadata": {},
   "outputs": [
    {
     "name": "stdout",
     "output_type": "stream",
     "text": [
      "0    218\n",
      "1    182\n",
      "Name: dr, dtype: int64\n",
      "0    212\n",
      "1    188\n",
      "Name: dr, dtype: int64\n",
      "0    212\n",
      "1    188\n",
      "Name: dr, dtype: int64\n",
      "1    200\n",
      "0    200\n",
      "Name: dr, dtype: int64\n"
     ]
    }
   ],
   "source": [
    "print(val_q_1.dr.value_counts())\n",
    "print(val_q_2.dr.value_counts())\n",
    "print(val_q_3.dr.value_counts())\n",
    "print(val_q_4.dr.value_counts())"
   ]
  },
  {
   "cell_type": "code",
   "execution_count": 17,
   "metadata": {},
   "outputs": [],
   "source": [
    "train_q_1 = pd.concat([val_q_2, val_q_3, val_q_4], axis=0)\n",
    "train_q_2 = pd.concat([val_q_1, val_q_3, val_q_4], axis=0)\n",
    "train_q_3 = pd.concat([val_q_1, val_q_2, val_q_4], axis=0)\n",
    "train_q_4 = pd.concat([val_q_1, val_q_2, val_q_3], axis=0)"
   ]
  },
  {
   "cell_type": "code",
   "execution_count": 18,
   "metadata": {},
   "outputs": [],
   "source": [
    "train_q_1.to_csv(osp.join('csvs/', 'train_q_1.csv'), index=False)\n",
    "train_q_2.to_csv(osp.join('csvs/', 'train_q_2.csv'), index=False)\n",
    "train_q_3.to_csv(osp.join('csvs/', 'train_q_3.csv'), index=False)\n",
    "train_q_4.to_csv(osp.join('csvs/', 'train_q_4.csv'), index=False)\n",
    "\n",
    "val_q_1.to_csv(osp.join('csvs/', 'val_q_1.csv'), index=False)\n",
    "val_q_2.to_csv(osp.join('csvs/', 'val_q_2.csv'), index=False)\n",
    "val_q_3.to_csv(osp.join('csvs/', 'val_q_3.csv'), index=False)\n",
    "val_q_4.to_csv(osp.join('csvs/', 'val_q_4.csv'), index=False)"
   ]
  },
  {
   "cell_type": "markdown",
   "metadata": {},
   "source": [
    "### Field Definition"
   ]
  },
  {
   "cell_type": "code",
   "execution_count": 27,
   "metadata": {},
   "outputs": [
    {
     "data": {
      "text/plain": [
       "((1199, 2), (401, 2))"
      ]
     },
     "execution_count": 27,
     "metadata": {},
     "output_type": "execute_result"
    }
   ],
   "source": [
    "train_field_def.shape, val_field_def.shape"
   ]
  },
  {
   "cell_type": "code",
   "execution_count": 28,
   "metadata": {},
   "outputs": [],
   "source": [
    "val_q_1 = val_field_def.copy()\n",
    "val_q_2 = train_field_def[0:400]\n",
    "val_q_3 = train_field_def[400:2*400]\n",
    "val_q_4 = train_field_def[2*400:]"
   ]
  },
  {
   "cell_type": "code",
   "execution_count": 29,
   "metadata": {},
   "outputs": [
    {
     "data": {
      "text/plain": [
       "((401, 2), (400, 2), (400, 2), (399, 2))"
      ]
     },
     "execution_count": 29,
     "metadata": {},
     "output_type": "execute_result"
    }
   ],
   "source": [
    "val_q_1.shape, val_q_2.shape,val_q_3.shape,val_q_4.shape"
   ]
  },
  {
   "cell_type": "code",
   "execution_count": 30,
   "metadata": {},
   "outputs": [],
   "source": [
    "train_q_1 = pd.concat([val_q_2, val_q_3, val_q_4], axis=0)\n",
    "train_q_2 = pd.concat([val_q_1, val_q_3, val_q_4], axis=0)\n",
    "train_q_3 = pd.concat([val_q_1, val_q_2, val_q_4], axis=0)\n",
    "train_q_4 = pd.concat([val_q_1, val_q_2, val_q_3], axis=0)"
   ]
  },
  {
   "cell_type": "code",
   "execution_count": 31,
   "metadata": {},
   "outputs": [
    {
     "name": "stdout",
     "output_type": "stream",
     "text": [
      "3    801\n",
      "2    180\n",
      "4    164\n",
      "1     48\n",
      "0      6\n",
      "Name: dr, dtype: int64\n",
      "3    793\n",
      "2    191\n",
      "4    167\n",
      "1     43\n",
      "0      6\n",
      "Name: dr, dtype: int64\n",
      "3    787\n",
      "2    188\n",
      "4    175\n",
      "1     46\n",
      "0      4\n",
      "Name: dr, dtype: int64\n",
      "3    781\n",
      "2    200\n",
      "4    166\n",
      "1     49\n",
      "0      5\n",
      "Name: dr, dtype: int64\n"
     ]
    }
   ],
   "source": [
    "print(train_q_1.dr.value_counts())\n",
    "print(train_q_2.dr.value_counts())\n",
    "print(train_q_3.dr.value_counts())\n",
    "print(train_q_4.dr.value_counts())"
   ]
  },
  {
   "cell_type": "code",
   "execution_count": 32,
   "metadata": {},
   "outputs": [
    {
     "name": "stdout",
     "output_type": "stream",
     "text": [
      "3    253\n",
      "2     73\n",
      "4     60\n",
      "1     14\n",
      "0      1\n",
      "Name: dr, dtype: int64\n",
      "3    261\n",
      "2     62\n",
      "4     57\n",
      "1     19\n",
      "0      1\n",
      "Name: dr, dtype: int64\n",
      "3    267\n",
      "2     65\n",
      "4     49\n",
      "1     16\n",
      "0      3\n",
      "Name: dr, dtype: int64\n",
      "3    273\n",
      "4     58\n",
      "2     53\n",
      "1     13\n",
      "0      2\n",
      "Name: dr, dtype: int64\n"
     ]
    }
   ],
   "source": [
    "print(val_q_1.dr.value_counts())\n",
    "print(val_q_2.dr.value_counts())\n",
    "print(val_q_3.dr.value_counts())\n",
    "print(val_q_4.dr.value_counts())"
   ]
  },
  {
   "cell_type": "code",
   "execution_count": 33,
   "metadata": {},
   "outputs": [],
   "source": [
    "train_q_1.to_csv(osp.join('csvs/', 'train_field_def_1.csv'), index=False)\n",
    "train_q_2.to_csv(osp.join('csvs/', 'train_field_def_2.csv'), index=False)\n",
    "train_q_3.to_csv(osp.join('csvs/', 'train_field_def_3.csv'), index=False)\n",
    "train_q_4.to_csv(osp.join('csvs/', 'train_field_def_4.csv'), index=False)\n",
    "\n",
    "val_q_1.to_csv(osp.join('csvs/', 'val_field_def_1.csv'), index=False)\n",
    "val_q_2.to_csv(osp.join('csvs/', 'val_field_def_2.csv'), index=False)\n",
    "val_q_3.to_csv(osp.join('csvs/', 'val_field_def_3.csv'), index=False)\n",
    "val_q_4.to_csv(osp.join('csvs/', 'val_field_def_4.csv'), index=False)"
   ]
  },
  {
   "cell_type": "markdown",
   "metadata": {},
   "source": [
    "### Artifact"
   ]
  },
  {
   "cell_type": "code",
   "execution_count": 34,
   "metadata": {},
   "outputs": [
    {
     "data": {
      "text/plain": [
       "((1200, 2), (400, 2))"
      ]
     },
     "execution_count": 34,
     "metadata": {},
     "output_type": "execute_result"
    }
   ],
   "source": [
    "train_artifact.shape, val_artifact.shape"
   ]
  },
  {
   "cell_type": "code",
   "execution_count": 35,
   "metadata": {},
   "outputs": [],
   "source": [
    "val_q_1 = val_artifact.copy()\n",
    "val_q_2 = train_artifact[0:400]\n",
    "val_q_3 = train_artifact[400:2*400]\n",
    "val_q_4 = train_artifact[2*400:]"
   ]
  },
  {
   "cell_type": "code",
   "execution_count": 36,
   "metadata": {},
   "outputs": [
    {
     "data": {
      "text/plain": [
       "((400, 2), (400, 2), (400, 2), (400, 2))"
      ]
     },
     "execution_count": 36,
     "metadata": {},
     "output_type": "execute_result"
    }
   ],
   "source": [
    "val_q_1.shape, val_q_2.shape,val_q_3.shape,val_q_4.shape"
   ]
  },
  {
   "cell_type": "code",
   "execution_count": 37,
   "metadata": {},
   "outputs": [],
   "source": [
    "train_q_1 = pd.concat([val_q_2, val_q_3, val_q_4], axis=0)\n",
    "train_q_2 = pd.concat([val_q_1, val_q_3, val_q_4], axis=0)\n",
    "train_q_3 = pd.concat([val_q_1, val_q_2, val_q_4], axis=0)\n",
    "train_q_4 = pd.concat([val_q_1, val_q_2, val_q_3], axis=0)"
   ]
  },
  {
   "cell_type": "code",
   "execution_count": 38,
   "metadata": {},
   "outputs": [
    {
     "name": "stdout",
     "output_type": "stream",
     "text": [
      "0    599\n",
      "2    240\n",
      "3    146\n",
      "4    131\n",
      "1     47\n",
      "5     37\n",
      "Name: dr, dtype: int64\n",
      "0    582\n",
      "2    251\n",
      "3    158\n",
      "4    125\n",
      "1     51\n",
      "5     33\n",
      "Name: dr, dtype: int64\n",
      "0    600\n",
      "2    238\n",
      "3    155\n",
      "4    126\n",
      "1     50\n",
      "5     31\n",
      "Name: dr, dtype: int64\n",
      "0    589\n",
      "2    237\n",
      "3    159\n",
      "4    128\n",
      "1     47\n",
      "5     40\n",
      "Name: dr, dtype: int64\n"
     ]
    }
   ],
   "source": [
    "print(train_q_1.dr.value_counts())\n",
    "print(train_q_2.dr.value_counts())\n",
    "print(train_q_3.dr.value_counts())\n",
    "print(train_q_4.dr.value_counts())"
   ]
  },
  {
   "cell_type": "code",
   "execution_count": 39,
   "metadata": {},
   "outputs": [
    {
     "name": "stdout",
     "output_type": "stream",
     "text": [
      "0    191\n",
      "2     82\n",
      "3     60\n",
      "4     39\n",
      "1     18\n",
      "5     10\n",
      "Name: dr, dtype: int64\n",
      "0    208\n",
      "2     71\n",
      "3     48\n",
      "4     45\n",
      "5     14\n",
      "1     14\n",
      "Name: dr, dtype: int64\n",
      "0    190\n",
      "2     84\n",
      "3     51\n",
      "4     44\n",
      "5     16\n",
      "1     15\n",
      "Name: dr, dtype: int64\n",
      "0    201\n",
      "2     85\n",
      "3     47\n",
      "4     42\n",
      "1     18\n",
      "5      7\n",
      "Name: dr, dtype: int64\n"
     ]
    }
   ],
   "source": [
    "print(val_q_1.dr.value_counts())\n",
    "print(val_q_2.dr.value_counts())\n",
    "print(val_q_3.dr.value_counts())\n",
    "print(val_q_4.dr.value_counts())"
   ]
  },
  {
   "cell_type": "code",
   "execution_count": 40,
   "metadata": {},
   "outputs": [],
   "source": [
    "train_q_1.to_csv(osp.join('csvs/', 'train_artifact_1.csv'), index=False)\n",
    "train_q_2.to_csv(osp.join('csvs/', 'train_artifact_2.csv'), index=False)\n",
    "train_q_3.to_csv(osp.join('csvs/', 'train_artifact_3.csv'), index=False)\n",
    "train_q_4.to_csv(osp.join('csvs/', 'train_artifact_4.csv'), index=False)\n",
    "\n",
    "val_q_1.to_csv(osp.join('csvs/', 'val_artifact_1.csv'), index=False)\n",
    "val_q_2.to_csv(osp.join('csvs/', 'val_artifact_2.csv'), index=False)\n",
    "val_q_3.to_csv(osp.join('csvs/', 'val_artifact_3.csv'), index=False)\n",
    "val_q_4.to_csv(osp.join('csvs/', 'val_artifact_4.csv'), index=False)"
   ]
  },
  {
   "cell_type": "markdown",
   "metadata": {},
   "source": [
    "### Clarity"
   ]
  },
  {
   "cell_type": "code",
   "execution_count": 41,
   "metadata": {},
   "outputs": [
    {
     "data": {
      "text/plain": [
       "((1200, 2), (400, 2))"
      ]
     },
     "execution_count": 41,
     "metadata": {},
     "output_type": "execute_result"
    }
   ],
   "source": [
    "train_clarity.shape, val_clarity.shape"
   ]
  },
  {
   "cell_type": "code",
   "execution_count": 42,
   "metadata": {},
   "outputs": [],
   "source": [
    "val_q_1 = val_clarity.copy()\n",
    "val_q_2 = train_clarity[0:400]\n",
    "val_q_3 = train_clarity[400:2*400]\n",
    "val_q_4 = train_clarity[2*400:]"
   ]
  },
  {
   "cell_type": "code",
   "execution_count": 43,
   "metadata": {},
   "outputs": [
    {
     "data": {
      "text/plain": [
       "((400, 2), (400, 2), (400, 2), (400, 2))"
      ]
     },
     "execution_count": 43,
     "metadata": {},
     "output_type": "execute_result"
    }
   ],
   "source": [
    "val_q_1.shape, val_q_2.shape,val_q_3.shape,val_q_4.shape"
   ]
  },
  {
   "cell_type": "code",
   "execution_count": 44,
   "metadata": {},
   "outputs": [],
   "source": [
    "train_q_1 = pd.concat([val_q_2, val_q_3, val_q_4], axis=0)\n",
    "train_q_2 = pd.concat([val_q_1, val_q_3, val_q_4], axis=0)\n",
    "train_q_3 = pd.concat([val_q_1, val_q_2, val_q_4], axis=0)\n",
    "train_q_4 = pd.concat([val_q_1, val_q_2, val_q_3], axis=0)"
   ]
  },
  {
   "cell_type": "code",
   "execution_count": 45,
   "metadata": {},
   "outputs": [
    {
     "name": "stdout",
     "output_type": "stream",
     "text": [
      "4    431\n",
      "3    397\n",
      "2    258\n",
      "1     85\n",
      "0     29\n",
      "Name: dr, dtype: int64\n",
      "4    421\n",
      "3    401\n",
      "2    266\n",
      "1     87\n",
      "0     25\n",
      "Name: dr, dtype: int64\n",
      "4    446\n",
      "3    389\n",
      "2    254\n",
      "1     89\n",
      "0     22\n",
      "Name: dr, dtype: int64\n",
      "4    439\n",
      "3    388\n",
      "2    245\n",
      "1     99\n",
      "0     29\n",
      "Name: dr, dtype: int64\n"
     ]
    }
   ],
   "source": [
    "print(train_q_1.dr.value_counts())\n",
    "print(train_q_2.dr.value_counts())\n",
    "print(train_q_3.dr.value_counts())\n",
    "print(train_q_4.dr.value_counts())"
   ]
  },
  {
   "cell_type": "code",
   "execution_count": 46,
   "metadata": {},
   "outputs": [
    {
     "name": "stdout",
     "output_type": "stream",
     "text": [
      "4    148\n",
      "3    128\n",
      "2     83\n",
      "1     35\n",
      "0      6\n",
      "Name: dr, dtype: int64\n",
      "4    158\n",
      "3    124\n",
      "2     75\n",
      "1     33\n",
      "0     10\n",
      "Name: dr, dtype: int64\n",
      "3    136\n",
      "4    133\n",
      "2     87\n",
      "1     31\n",
      "0     13\n",
      "Name: dr, dtype: int64\n",
      "4    140\n",
      "3    137\n",
      "2     96\n",
      "1     21\n",
      "0      6\n",
      "Name: dr, dtype: int64\n"
     ]
    }
   ],
   "source": [
    "print(val_q_1.dr.value_counts())\n",
    "print(val_q_2.dr.value_counts())\n",
    "print(val_q_3.dr.value_counts())\n",
    "print(val_q_4.dr.value_counts())"
   ]
  },
  {
   "cell_type": "code",
   "execution_count": 47,
   "metadata": {},
   "outputs": [],
   "source": [
    "train_q_1.to_csv(osp.join('csvs/', 'train_clarity_1.csv'), index=False)\n",
    "train_q_2.to_csv(osp.join('csvs/', 'train_clarity_2.csv'), index=False)\n",
    "train_q_3.to_csv(osp.join('csvs/', 'train_clarity_3.csv'), index=False)\n",
    "train_q_4.to_csv(osp.join('csvs/', 'train_clarity_4.csv'), index=False)\n",
    "\n",
    "val_q_1.to_csv(osp.join('csvs/', 'val_clarity_1.csv'), index=False)\n",
    "val_q_2.to_csv(osp.join('csvs/', 'val_clarity_2.csv'), index=False)\n",
    "val_q_3.to_csv(osp.join('csvs/', 'val_clarity_3.csv'), index=False)\n",
    "val_q_4.to_csv(osp.join('csvs/', 'val_clarity_4.csv'), index=False)"
   ]
  },
  {
   "cell_type": "code",
   "execution_count": null,
   "metadata": {},
   "outputs": [],
   "source": []
  }
 ],
 "metadata": {
  "kernelspec": {
   "display_name": "vessels",
   "language": "python",
   "name": "build_central"
  },
  "language_info": {
   "codemirror_mode": {
    "name": "ipython",
    "version": 3
   },
   "file_extension": ".py",
   "mimetype": "text/x-python",
   "name": "python",
   "nbconvert_exporter": "python",
   "pygments_lexer": "ipython3",
   "version": "3.7.6"
  }
 },
 "nbformat": 4,
 "nbformat_minor": 2
}
