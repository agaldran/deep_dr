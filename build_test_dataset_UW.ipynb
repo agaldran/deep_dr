{
 "cells": [
  {
   "cell_type": "code",
   "execution_count": 1,
   "metadata": {},
   "outputs": [],
   "source": [
    "import os\n",
    "import os.path as osp\n",
    "import pandas as pd"
   ]
  },
  {
   "cell_type": "code",
   "execution_count": 10,
   "metadata": {},
   "outputs": [],
   "source": [
    "path_raw_data = '/home/agaldran/Desktop/data/deepdr_data/'"
   ]
  },
  {
   "cell_type": "code",
   "execution_count": 14,
   "metadata": {},
   "outputs": [],
   "source": [
    "path_raw_data = '/home/agaldran/Desktop/data/deepdr_data/Online-Challenge3-Evaluation'"
   ]
  },
  {
   "cell_type": "code",
   "execution_count": 15,
   "metadata": {},
   "outputs": [
    {
     "data": {
      "text/plain": [
       "Index(['image_id', 'DR_level'], dtype='object')"
      ]
     },
     "execution_count": 15,
     "metadata": {},
     "output_type": "execute_result"
    }
   ],
   "source": [
    "csv_path = osp.join(path_raw_data, 'Challenge3_upload.csv')\n",
    "df = pd.read_csv(csv_path)\n",
    "df.columns"
   ]
  },
  {
   "cell_type": "code",
   "execution_count": 16,
   "metadata": {},
   "outputs": [
    {
     "data": {
      "text/html": [
       "<div>\n",
       "<style scoped>\n",
       "    .dataframe tbody tr th:only-of-type {\n",
       "        vertical-align: middle;\n",
       "    }\n",
       "\n",
       "    .dataframe tbody tr th {\n",
       "        vertical-align: top;\n",
       "    }\n",
       "\n",
       "    .dataframe thead th {\n",
       "        text-align: right;\n",
       "    }\n",
       "</style>\n",
       "<table border=\"1\" class=\"dataframe\">\n",
       "  <thead>\n",
       "    <tr style=\"text-align: right;\">\n",
       "      <th></th>\n",
       "      <th>image_id</th>\n",
       "      <th>DR_level</th>\n",
       "    </tr>\n",
       "  </thead>\n",
       "  <tbody>\n",
       "    <tr>\n",
       "      <th>0</th>\n",
       "      <td>58_l2</td>\n",
       "      <td>NaN</td>\n",
       "    </tr>\n",
       "    <tr>\n",
       "      <th>1</th>\n",
       "      <td>58_r1</td>\n",
       "      <td>NaN</td>\n",
       "    </tr>\n",
       "    <tr>\n",
       "      <th>2</th>\n",
       "      <td>67_l1</td>\n",
       "      <td>NaN</td>\n",
       "    </tr>\n",
       "    <tr>\n",
       "      <th>3</th>\n",
       "      <td>67_r2</td>\n",
       "      <td>NaN</td>\n",
       "    </tr>\n",
       "    <tr>\n",
       "      <th>4</th>\n",
       "      <td>71_l1</td>\n",
       "      <td>NaN</td>\n",
       "    </tr>\n",
       "  </tbody>\n",
       "</table>\n",
       "</div>"
      ],
      "text/plain": [
       "  image_id  DR_level\n",
       "0    58_l2       NaN\n",
       "1    58_r1       NaN\n",
       "2    67_l1       NaN\n",
       "3    67_r2       NaN\n",
       "4    71_l1       NaN"
      ]
     },
     "execution_count": 16,
     "metadata": {},
     "output_type": "execute_result"
    }
   ],
   "source": [
    "df.head()"
   ]
  },
  {
   "cell_type": "code",
   "execution_count": 22,
   "metadata": {},
   "outputs": [],
   "source": [
    "image_list = df.image_id.values\n",
    "image_path_list = df.image_id.values\n",
    "image_path_list = [n[:2] for n in image_path_list]\n",
    "\n",
    "im_list = [osp.join(path_raw_data, n1, n2+'.jpg') for n1, n2 in zip(image_path_list, image_list)]\n",
    "num_ims = len(im_list)"
   ]
  },
  {
   "cell_type": "code",
   "execution_count": 23,
   "metadata": {},
   "outputs": [
    {
     "data": {
      "text/plain": [
       "['/home/agaldran/Desktop/data/deepdr_data/Online-Challenge3-Evaluation/58/58_l2.jpg',\n",
       " '/home/agaldran/Desktop/data/deepdr_data/Online-Challenge3-Evaluation/58/58_r1.jpg',\n",
       " '/home/agaldran/Desktop/data/deepdr_data/Online-Challenge3-Evaluation/67/67_l1.jpg',\n",
       " '/home/agaldran/Desktop/data/deepdr_data/Online-Challenge3-Evaluation/67/67_r2.jpg',\n",
       " '/home/agaldran/Desktop/data/deepdr_data/Online-Challenge3-Evaluation/71/71_l1.jpg',\n",
       " '/home/agaldran/Desktop/data/deepdr_data/Online-Challenge3-Evaluation/71/71_r2.jpg',\n",
       " '/home/agaldran/Desktop/data/deepdr_data/Online-Challenge3-Evaluation/72/72_r2.jpg',\n",
       " '/home/agaldran/Desktop/data/deepdr_data/Online-Challenge3-Evaluation/72/72_l1.jpg',\n",
       " '/home/agaldran/Desktop/data/deepdr_data/Online-Challenge3-Evaluation/73/73_r1.jpg',\n",
       " '/home/agaldran/Desktop/data/deepdr_data/Online-Challenge3-Evaluation/73/73_l2.jpg',\n",
       " '/home/agaldran/Desktop/data/deepdr_data/Online-Challenge3-Evaluation/74/74_r1.jpg',\n",
       " '/home/agaldran/Desktop/data/deepdr_data/Online-Challenge3-Evaluation/74/74_l2.jpg',\n",
       " '/home/agaldran/Desktop/data/deepdr_data/Online-Challenge3-Evaluation/75/75_l1.jpg',\n",
       " '/home/agaldran/Desktop/data/deepdr_data/Online-Challenge3-Evaluation/75/75_r2.jpg',\n",
       " '/home/agaldran/Desktop/data/deepdr_data/Online-Challenge3-Evaluation/76/76_l1.jpg',\n",
       " '/home/agaldran/Desktop/data/deepdr_data/Online-Challenge3-Evaluation/76/76_l2.jpg',\n",
       " '/home/agaldran/Desktop/data/deepdr_data/Online-Challenge3-Evaluation/78/78_l2.jpg',\n",
       " '/home/agaldran/Desktop/data/deepdr_data/Online-Challenge3-Evaluation/78/78_r1.jpg',\n",
       " '/home/agaldran/Desktop/data/deepdr_data/Online-Challenge3-Evaluation/80/80_r5.jpg',\n",
       " '/home/agaldran/Desktop/data/deepdr_data/Online-Challenge3-Evaluation/80/80_l1.jpg',\n",
       " '/home/agaldran/Desktop/data/deepdr_data/Online-Challenge3-Evaluation/81/81_r2.jpg',\n",
       " '/home/agaldran/Desktop/data/deepdr_data/Online-Challenge3-Evaluation/81/81_l4.jpg',\n",
       " '/home/agaldran/Desktop/data/deepdr_data/Online-Challenge3-Evaluation/82/82_l1.jpg',\n",
       " '/home/agaldran/Desktop/data/deepdr_data/Online-Challenge3-Evaluation/82/82_r2.jpg',\n",
       " '/home/agaldran/Desktop/data/deepdr_data/Online-Challenge3-Evaluation/83/83_r1.jpg',\n",
       " '/home/agaldran/Desktop/data/deepdr_data/Online-Challenge3-Evaluation/83/83_l2.jpg',\n",
       " '/home/agaldran/Desktop/data/deepdr_data/Online-Challenge3-Evaluation/84/84_r1.jpg',\n",
       " '/home/agaldran/Desktop/data/deepdr_data/Online-Challenge3-Evaluation/84/84_l2.jpg',\n",
       " '/home/agaldran/Desktop/data/deepdr_data/Online-Challenge3-Evaluation/85/85_r2.jpg',\n",
       " '/home/agaldran/Desktop/data/deepdr_data/Online-Challenge3-Evaluation/85/85_l1.jpg',\n",
       " '/home/agaldran/Desktop/data/deepdr_data/Online-Challenge3-Evaluation/86/86_l2.jpg',\n",
       " '/home/agaldran/Desktop/data/deepdr_data/Online-Challenge3-Evaluation/86/86_r3.jpg',\n",
       " '/home/agaldran/Desktop/data/deepdr_data/Online-Challenge3-Evaluation/10/100_r2.jpg',\n",
       " '/home/agaldran/Desktop/data/deepdr_data/Online-Challenge3-Evaluation/10/100_l4.jpg',\n",
       " '/home/agaldran/Desktop/data/deepdr_data/Online-Challenge3-Evaluation/10/101_r1.jpg',\n",
       " '/home/agaldran/Desktop/data/deepdr_data/Online-Challenge3-Evaluation/10/101_l2.jpg',\n",
       " '/home/agaldran/Desktop/data/deepdr_data/Online-Challenge3-Evaluation/10/102_r2.jpg',\n",
       " '/home/agaldran/Desktop/data/deepdr_data/Online-Challenge3-Evaluation/10/102_l3.jpg',\n",
       " '/home/agaldran/Desktop/data/deepdr_data/Online-Challenge3-Evaluation/10/103_r2.jpg',\n",
       " '/home/agaldran/Desktop/data/deepdr_data/Online-Challenge3-Evaluation/10/103_l3.jpg',\n",
       " '/home/agaldran/Desktop/data/deepdr_data/Online-Challenge3-Evaluation/10/104_l2.jpg',\n",
       " '/home/agaldran/Desktop/data/deepdr_data/Online-Challenge3-Evaluation/10/104_r1.jpg',\n",
       " '/home/agaldran/Desktop/data/deepdr_data/Online-Challenge3-Evaluation/10/105_l1.jpg',\n",
       " '/home/agaldran/Desktop/data/deepdr_data/Online-Challenge3-Evaluation/10/105_r2.jpg',\n",
       " '/home/agaldran/Desktop/data/deepdr_data/Online-Challenge3-Evaluation/10/106_l2.jpg',\n",
       " '/home/agaldran/Desktop/data/deepdr_data/Online-Challenge3-Evaluation/10/106_r1.jpg',\n",
       " '/home/agaldran/Desktop/data/deepdr_data/Online-Challenge3-Evaluation/10/107_l1.jpg',\n",
       " '/home/agaldran/Desktop/data/deepdr_data/Online-Challenge3-Evaluation/10/107_r2.jpg',\n",
       " '/home/agaldran/Desktop/data/deepdr_data/Online-Challenge3-Evaluation/10/108_r2.jpg',\n",
       " '/home/agaldran/Desktop/data/deepdr_data/Online-Challenge3-Evaluation/10/108_l1.jpg',\n",
       " '/home/agaldran/Desktop/data/deepdr_data/Online-Challenge3-Evaluation/10/109_l1.jpg',\n",
       " '/home/agaldran/Desktop/data/deepdr_data/Online-Challenge3-Evaluation/10/109_r2.jpg']"
      ]
     },
     "execution_count": 23,
     "metadata": {},
     "output_type": "execute_result"
    }
   ],
   "source": [
    "im_list"
   ]
  },
  {
   "cell_type": "code",
   "execution_count": null,
   "metadata": {},
   "outputs": [],
   "source": []
  },
  {
   "cell_type": "code",
   "execution_count": 7,
   "metadata": {},
   "outputs": [],
   "source": [
    "image_path_list = df.image_id.values\n",
    "# image_path_list = [n[:3] for n in image_path_list]"
   ]
  },
  {
   "cell_type": "code",
   "execution_count": 8,
   "metadata": {},
   "outputs": [],
   "source": [
    "im_list = [osp.join(path_raw_data, n1, n2+'.jpg') for n1, n2 in zip(image_path_list, image_list)]"
   ]
  },
  {
   "cell_type": "code",
   "execution_count": 9,
   "metadata": {},
   "outputs": [
    {
     "data": {
      "text/plain": [
       "['/home/agaldran/Desktop/data/deepdr_data/58_/58_l2.jpg',\n",
       " '/home/agaldran/Desktop/data/deepdr_data/58_/58_r1.jpg',\n",
       " '/home/agaldran/Desktop/data/deepdr_data/67_/67_l1.jpg',\n",
       " '/home/agaldran/Desktop/data/deepdr_data/67_/67_r2.jpg',\n",
       " '/home/agaldran/Desktop/data/deepdr_data/71_/71_l1.jpg',\n",
       " '/home/agaldran/Desktop/data/deepdr_data/71_/71_r2.jpg',\n",
       " '/home/agaldran/Desktop/data/deepdr_data/72_/72_r2.jpg',\n",
       " '/home/agaldran/Desktop/data/deepdr_data/72_/72_l1.jpg',\n",
       " '/home/agaldran/Desktop/data/deepdr_data/73_/73_r1.jpg',\n",
       " '/home/agaldran/Desktop/data/deepdr_data/73_/73_l2.jpg',\n",
       " '/home/agaldran/Desktop/data/deepdr_data/74_/74_r1.jpg',\n",
       " '/home/agaldran/Desktop/data/deepdr_data/74_/74_l2.jpg',\n",
       " '/home/agaldran/Desktop/data/deepdr_data/75_/75_l1.jpg',\n",
       " '/home/agaldran/Desktop/data/deepdr_data/75_/75_r2.jpg',\n",
       " '/home/agaldran/Desktop/data/deepdr_data/76_/76_l1.jpg',\n",
       " '/home/agaldran/Desktop/data/deepdr_data/76_/76_l2.jpg',\n",
       " '/home/agaldran/Desktop/data/deepdr_data/78_/78_l2.jpg',\n",
       " '/home/agaldran/Desktop/data/deepdr_data/78_/78_r1.jpg',\n",
       " '/home/agaldran/Desktop/data/deepdr_data/80_/80_r5.jpg',\n",
       " '/home/agaldran/Desktop/data/deepdr_data/80_/80_l1.jpg',\n",
       " '/home/agaldran/Desktop/data/deepdr_data/81_/81_r2.jpg',\n",
       " '/home/agaldran/Desktop/data/deepdr_data/81_/81_l4.jpg',\n",
       " '/home/agaldran/Desktop/data/deepdr_data/82_/82_l1.jpg',\n",
       " '/home/agaldran/Desktop/data/deepdr_data/82_/82_r2.jpg',\n",
       " '/home/agaldran/Desktop/data/deepdr_data/83_/83_r1.jpg',\n",
       " '/home/agaldran/Desktop/data/deepdr_data/83_/83_l2.jpg',\n",
       " '/home/agaldran/Desktop/data/deepdr_data/84_/84_r1.jpg',\n",
       " '/home/agaldran/Desktop/data/deepdr_data/84_/84_l2.jpg',\n",
       " '/home/agaldran/Desktop/data/deepdr_data/85_/85_r2.jpg',\n",
       " '/home/agaldran/Desktop/data/deepdr_data/85_/85_l1.jpg',\n",
       " '/home/agaldran/Desktop/data/deepdr_data/86_/86_l2.jpg',\n",
       " '/home/agaldran/Desktop/data/deepdr_data/86_/86_r3.jpg',\n",
       " '/home/agaldran/Desktop/data/deepdr_data/100/100_r2.jpg',\n",
       " '/home/agaldran/Desktop/data/deepdr_data/100/100_l4.jpg',\n",
       " '/home/agaldran/Desktop/data/deepdr_data/101/101_r1.jpg',\n",
       " '/home/agaldran/Desktop/data/deepdr_data/101/101_l2.jpg',\n",
       " '/home/agaldran/Desktop/data/deepdr_data/102/102_r2.jpg',\n",
       " '/home/agaldran/Desktop/data/deepdr_data/102/102_l3.jpg',\n",
       " '/home/agaldran/Desktop/data/deepdr_data/103/103_r2.jpg',\n",
       " '/home/agaldran/Desktop/data/deepdr_data/103/103_l3.jpg',\n",
       " '/home/agaldran/Desktop/data/deepdr_data/104/104_l2.jpg',\n",
       " '/home/agaldran/Desktop/data/deepdr_data/104/104_r1.jpg',\n",
       " '/home/agaldran/Desktop/data/deepdr_data/105/105_l1.jpg',\n",
       " '/home/agaldran/Desktop/data/deepdr_data/105/105_r2.jpg',\n",
       " '/home/agaldran/Desktop/data/deepdr_data/106/106_l2.jpg',\n",
       " '/home/agaldran/Desktop/data/deepdr_data/106/106_r1.jpg',\n",
       " '/home/agaldran/Desktop/data/deepdr_data/107/107_l1.jpg',\n",
       " '/home/agaldran/Desktop/data/deepdr_data/107/107_r2.jpg',\n",
       " '/home/agaldran/Desktop/data/deepdr_data/108/108_r2.jpg',\n",
       " '/home/agaldran/Desktop/data/deepdr_data/108/108_l1.jpg',\n",
       " '/home/agaldran/Desktop/data/deepdr_data/109/109_l1.jpg',\n",
       " '/home/agaldran/Desktop/data/deepdr_data/109/109_r2.jpg']"
      ]
     },
     "execution_count": 9,
     "metadata": {},
     "output_type": "execute_result"
    }
   ],
   "source": [
    "im_list"
   ]
  },
  {
   "cell_type": "code",
   "execution_count": 11,
   "metadata": {},
   "outputs": [],
   "source": [
    "path_out = 'data/test_images'"
   ]
  },
  {
   "cell_type": "code",
   "execution_count": 12,
   "metadata": {},
   "outputs": [],
   "source": [
    "df = df.drop(['abs_path'], axis=1)"
   ]
  },
  {
   "cell_type": "code",
   "execution_count": 13,
   "metadata": {},
   "outputs": [],
   "source": [
    "df['center'] = ['od' if 'l1' in n or 'r1' in n else 'mac' for n in list(df.image_id)]"
   ]
  },
  {
   "cell_type": "code",
   "execution_count": 14,
   "metadata": {},
   "outputs": [],
   "source": [
    "df_od = df[df.center=='od']\n",
    "df_mac = df[df.center=='mac']"
   ]
  },
  {
   "cell_type": "code",
   "execution_count": 15,
   "metadata": {},
   "outputs": [
    {
     "data": {
      "text/plain": [
       "((200, 3), (200, 3))"
      ]
     },
     "execution_count": 15,
     "metadata": {},
     "output_type": "execute_result"
    }
   ],
   "source": [
    "df_od.shape, df_mac.shape"
   ]
  },
  {
   "cell_type": "code",
   "execution_count": 16,
   "metadata": {},
   "outputs": [
    {
     "data": {
      "text/html": [
       "<div>\n",
       "<style scoped>\n",
       "    .dataframe tbody tr th:only-of-type {\n",
       "        vertical-align: middle;\n",
       "    }\n",
       "\n",
       "    .dataframe tbody tr th {\n",
       "        vertical-align: top;\n",
       "    }\n",
       "\n",
       "    .dataframe thead th {\n",
       "        text-align: right;\n",
       "    }\n",
       "</style>\n",
       "<table border=\"1\" class=\"dataframe\">\n",
       "  <thead>\n",
       "    <tr style=\"text-align: right;\">\n",
       "      <th></th>\n",
       "      <th>image_id</th>\n",
       "      <th>DR_Level</th>\n",
       "      <th>center</th>\n",
       "    </tr>\n",
       "  </thead>\n",
       "  <tbody>\n",
       "    <tr>\n",
       "      <th>0</th>\n",
       "      <td>347_l1</td>\n",
       "      <td>NaN</td>\n",
       "      <td>od</td>\n",
       "    </tr>\n",
       "    <tr>\n",
       "      <th>2</th>\n",
       "      <td>347_r1</td>\n",
       "      <td>NaN</td>\n",
       "      <td>od</td>\n",
       "    </tr>\n",
       "    <tr>\n",
       "      <th>4</th>\n",
       "      <td>353_l1</td>\n",
       "      <td>NaN</td>\n",
       "      <td>od</td>\n",
       "    </tr>\n",
       "    <tr>\n",
       "      <th>6</th>\n",
       "      <td>353_r1</td>\n",
       "      <td>NaN</td>\n",
       "      <td>od</td>\n",
       "    </tr>\n",
       "    <tr>\n",
       "      <th>8</th>\n",
       "      <td>354_l1</td>\n",
       "      <td>NaN</td>\n",
       "      <td>od</td>\n",
       "    </tr>\n",
       "  </tbody>\n",
       "</table>\n",
       "</div>"
      ],
      "text/plain": [
       "  image_id  DR_Level center\n",
       "0   347_l1       NaN     od\n",
       "2   347_r1       NaN     od\n",
       "4   353_l1       NaN     od\n",
       "6   353_r1       NaN     od\n",
       "8   354_l1       NaN     od"
      ]
     },
     "execution_count": 16,
     "metadata": {},
     "output_type": "execute_result"
    }
   ],
   "source": [
    "df_od.head()"
   ]
  },
  {
   "cell_type": "code",
   "execution_count": 17,
   "metadata": {},
   "outputs": [
    {
     "name": "stderr",
     "output_type": "stream",
     "text": [
      "/home/agaldran/anaconda3/envs/vessels/lib/python3.7/site-packages/ipykernel_launcher.py:1: SettingWithCopyWarning: \n",
      "A value is trying to be set on a copy of a slice from a DataFrame.\n",
      "Try using .loc[row_indexer,col_indexer] = value instead\n",
      "\n",
      "See the caveats in the documentation: http://pandas.pydata.org/pandas-docs/stable/user_guide/indexing.html#returning-a-view-versus-a-copy\n",
      "  \"\"\"Entry point for launching an IPython kernel.\n",
      "/home/agaldran/anaconda3/envs/vessels/lib/python3.7/site-packages/ipykernel_launcher.py:2: SettingWithCopyWarning: \n",
      "A value is trying to be set on a copy of a slice from a DataFrame.\n",
      "Try using .loc[row_indexer,col_indexer] = value instead\n",
      "\n",
      "See the caveats in the documentation: http://pandas.pydata.org/pandas-docs/stable/user_guide/indexing.html#returning-a-view-versus-a-copy\n",
      "  \n"
     ]
    }
   ],
   "source": [
    "df_od['image_id'] =df_od['image_id'].apply(lambda x: 'data/test_images/'+ x + '.jpg')\n",
    "df_mac['image_id'] =df_mac['image_id'].apply(lambda x: 'data/test_images/'+ x + '.jpg')"
   ]
  },
  {
   "cell_type": "code",
   "execution_count": 18,
   "metadata": {},
   "outputs": [],
   "source": [
    "df_od.drop(['center'], axis=1).fillna(0).to_csv('data/test_od.csv', index=False)\n",
    "df_mac.drop(['center'], axis=1).fillna(0).to_csv('data/test_mac.csv', index=False)"
   ]
  }
 ],
 "metadata": {
  "kernelspec": {
   "display_name": "vessels",
   "language": "python",
   "name": "vessels"
  },
  "language_info": {
   "codemirror_mode": {
    "name": "ipython",
    "version": 3
   },
   "file_extension": ".py",
   "mimetype": "text/x-python",
   "name": "python",
   "nbconvert_exporter": "python",
   "pygments_lexer": "ipython3",
   "version": "3.7.5"
  }
 },
 "nbformat": 4,
 "nbformat_minor": 2
}
