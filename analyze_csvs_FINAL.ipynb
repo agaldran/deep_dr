{
 "cells": [
  {
   "cell_type": "code",
   "execution_count": 83,
   "metadata": {},
   "outputs": [],
   "source": [
    "import pandas as pd"
   ]
  },
  {
   "cell_type": "code",
   "execution_count": 84,
   "metadata": {},
   "outputs": [
    {
     "data": {
      "text/html": [
       "<style>.container { width:80% !important; }</style>"
      ],
      "text/plain": [
       "<IPython.core.display.HTML object>"
      ]
     },
     "metadata": {},
     "output_type": "display_data"
    }
   ],
   "source": [
    "from IPython.core.display import display, HTML\n",
    "display(HTML(\"<style>.container { width:80% !important; }</style>\"))"
   ]
  },
  {
   "cell_type": "code",
   "execution_count": 87,
   "metadata": {},
   "outputs": [
    {
     "name": "stdout",
     "output_type": "stream",
     "text": [
      "The autoreload extension is already loaded. To reload it, use:\n",
      "  %reload_ext autoreload\n"
     ]
    }
   ],
   "source": [
    "%load_ext autoreload\n",
    "%autoreload 2\n",
    "\n",
    "from utils.get_loaders import get_train_val_loaders, modify_MT_dataset\n",
    "import numpy as np"
   ]
  },
  {
   "cell_type": "code",
   "execution_count": 113,
   "metadata": {},
   "outputs": [],
   "source": [
    "# train_loader, val_loader = get_train_val_loaders(csv_path_train='data/train_all_qualities.csv', csv_path_val='data/val_all_qualities.csv',\n",
    "#                                                      batch_size=8, mean=0, std=1, qualities=True)"
   ]
  },
  {
   "cell_type": "code",
   "execution_count": 114,
   "metadata": {},
   "outputs": [],
   "source": [
    "# print('quality', np.unique(train_loader.dataset.quality, return_counts=True)[1])\n",
    "# print('artifact', np.unique(train_loader.dataset.artifact, return_counts=True)[1])\n",
    "# print('field_def', np.unique(train_loader.dataset.field_def, return_counts=True)[1])\n",
    "# print('clarity', np.unique(train_loader.dataset.clarity, return_counts=True)[1])"
   ]
  },
  {
   "cell_type": "code",
   "execution_count": 115,
   "metadata": {},
   "outputs": [],
   "source": [
    "# csv_train_path = train_loader.dataset.csv_path #[10,4,1,1,1] [8,3,1,1,1]"
   ]
  },
  {
   "cell_type": "code",
   "execution_count": 116,
   "metadata": {},
   "outputs": [],
   "source": [
    "# train_loader_MOD = modify_MT_dataset(train_loader, csv_train_path=csv_train_path, keep_samples=[8,3,1,1,1], task='clarity')\n",
    "# print('quality', np.unique(train_loader_MOD.quality, return_counts=True)[1])\n",
    "# print('artifact', np.unique(train_loader_MOD.artifact, return_counts=True)[1])\n",
    "# print('field_def', np.unique(train_loader_MOD.field_def, return_counts=True)[1])\n",
    "# print('clarity', np.unique(train_loader_MOD.clarity, return_counts=True)[1])"
   ]
  },
  {
   "cell_type": "code",
   "execution_count": 117,
   "metadata": {},
   "outputs": [],
   "source": [
    "# csv_train_path = train_loader.dataset.csv_path #[10,4,1,1,1] [8,3,1,1,1]"
   ]
  },
  {
   "cell_type": "code",
   "execution_count": 118,
   "metadata": {},
   "outputs": [],
   "source": [
    "# train_loader_MOD = modify_MT_dataset(train_loader, csv_train_path=csv_train_path, keep_samples=[10,4,1,1,1], task='field_def')\n",
    "# print('quality', np.unique(train_loader_MOD.quality, return_counts=True)[1])\n",
    "# print('artifact', np.unique(train_loader_MOD.artifact, return_counts=True)[1])\n",
    "# print('field_def', np.unique(train_loader_MOD.field_def, return_counts=True)[1])\n",
    "# print('clarity', np.unique(train_loader_MOD.clarity, return_counts=True)[1])"
   ]
  },
  {
   "cell_type": "code",
   "execution_count": 119,
   "metadata": {},
   "outputs": [],
   "source": [
    "# csv_train_path = train_loader.dataset.csv_path #[10,4,1,1,1] [8,3,1,1,1]"
   ]
  },
  {
   "cell_type": "code",
   "execution_count": 120,
   "metadata": {},
   "outputs": [],
   "source": [
    "# train_loader_MOD = modify_MT_dataset(train_loader, csv_train_path=csv_train_path, keep_samples=[1,5,1,2,2,5], task='artifact')\n",
    "# print('quality', np.unique(train_loader_MOD.quality, return_counts=True)[1])\n",
    "# print('artifact', np.unique(train_loader_MOD.artifact, return_counts=True)[1])\n",
    "# print('field_def', np.unique(train_loader_MOD.field_def, return_counts=True)[1])\n",
    "# print('clarity', np.unique(train_loader_MOD.clarity, return_counts=True)[1])"
   ]
  },
  {
   "cell_type": "markdown",
   "metadata": {},
   "source": [
    "# Standard Fundus\n",
    "## Both OD+MAC"
   ]
  },
  {
   "cell_type": "code",
   "execution_count": 125,
   "metadata": {},
   "outputs": [],
   "source": [
    "df_all = pd.read_csv('trash.csv')"
   ]
  },
  {
   "cell_type": "code",
   "execution_count": 146,
   "metadata": {},
   "outputs": [
    {
     "data": {
      "text/html": [
       "<div>\n",
       "<style scoped>\n",
       "    .dataframe tbody tr th:only-of-type {\n",
       "        vertical-align: middle;\n",
       "    }\n",
       "\n",
       "    .dataframe tbody tr th {\n",
       "        vertical-align: top;\n",
       "    }\n",
       "\n",
       "    .dataframe thead th {\n",
       "        text-align: right;\n",
       "    }\n",
       "</style>\n",
       "<table border=\"1\" class=\"dataframe\">\n",
       "  <thead>\n",
       "    <tr style=\"text-align: right;\">\n",
       "      <th></th>\n",
       "      <th>csv_train</th>\n",
       "      <th>model_name</th>\n",
       "    </tr>\n",
       "  </thead>\n",
       "  <tbody>\n",
       "    <tr>\n",
       "      <th>3</th>\n",
       "      <td>train_all_qualities_1.csv</td>\n",
       "      <td>resnext50_sws</td>\n",
       "    </tr>\n",
       "    <tr>\n",
       "      <th>4</th>\n",
       "      <td>train_all_qualities_1.csv</td>\n",
       "      <td>resnet50_sws</td>\n",
       "    </tr>\n",
       "    <tr>\n",
       "      <th>24</th>\n",
       "      <td>train_all_qualities_1.csv</td>\n",
       "      <td>resnext50</td>\n",
       "    </tr>\n",
       "    <tr>\n",
       "      <th>25</th>\n",
       "      <td>train_all_qualities_1.csv</td>\n",
       "      <td>resnet50</td>\n",
       "    </tr>\n",
       "    <tr>\n",
       "      <th>1</th>\n",
       "      <td>train_all_qualities_2.csv</td>\n",
       "      <td>resnext50_sws</td>\n",
       "    </tr>\n",
       "    <tr>\n",
       "      <th>2</th>\n",
       "      <td>train_all_qualities_2.csv</td>\n",
       "      <td>resnet50_sws</td>\n",
       "    </tr>\n",
       "    <tr>\n",
       "      <th>22</th>\n",
       "      <td>train_all_qualities_2.csv</td>\n",
       "      <td>resnext50</td>\n",
       "    </tr>\n",
       "    <tr>\n",
       "      <th>23</th>\n",
       "      <td>train_all_qualities_2.csv</td>\n",
       "      <td>resnet50</td>\n",
       "    </tr>\n",
       "    <tr>\n",
       "      <th>19</th>\n",
       "      <td>train_all_qualities_3.csv</td>\n",
       "      <td>resnext50</td>\n",
       "    </tr>\n",
       "    <tr>\n",
       "      <th>20</th>\n",
       "      <td>train_all_qualities_3.csv</td>\n",
       "      <td>resnet50_sws</td>\n",
       "    </tr>\n",
       "    <tr>\n",
       "      <th>21</th>\n",
       "      <td>train_all_qualities_3.csv</td>\n",
       "      <td>resnet50</td>\n",
       "    </tr>\n",
       "    <tr>\n",
       "      <th>16</th>\n",
       "      <td>train_all_qualities_4.csv</td>\n",
       "      <td>resnext50_sws</td>\n",
       "    </tr>\n",
       "    <tr>\n",
       "      <th>17</th>\n",
       "      <td>train_all_qualities_4.csv</td>\n",
       "      <td>resnet50_sws</td>\n",
       "    </tr>\n",
       "    <tr>\n",
       "      <th>18</th>\n",
       "      <td>train_all_qualities_4.csv</td>\n",
       "      <td>resnet50</td>\n",
       "    </tr>\n",
       "  </tbody>\n",
       "</table>\n",
       "</div>"
      ],
      "text/plain": [
       "                    csv_train     model_name\n",
       "3   train_all_qualities_1.csv  resnext50_sws\n",
       "4   train_all_qualities_1.csv   resnet50_sws\n",
       "24  train_all_qualities_1.csv      resnext50\n",
       "25  train_all_qualities_1.csv       resnet50\n",
       "1   train_all_qualities_2.csv  resnext50_sws\n",
       "2   train_all_qualities_2.csv   resnet50_sws\n",
       "22  train_all_qualities_2.csv      resnext50\n",
       "23  train_all_qualities_2.csv       resnet50\n",
       "19  train_all_qualities_3.csv      resnext50\n",
       "20  train_all_qualities_3.csv   resnet50_sws\n",
       "21  train_all_qualities_3.csv       resnet50\n",
       "16  train_all_qualities_4.csv  resnext50_sws\n",
       "17  train_all_qualities_4.csv   resnet50_sws\n",
       "18  train_all_qualities_4.csv       resnet50"
      ]
     },
     "execution_count": 146,
     "metadata": {},
     "output_type": "execute_result"
    }
   ],
   "source": [
    "df_all[df_all['base_loss']=='ce'][['csv_train','model_name']].sort_values('csv_train')"
   ]
  },
  {
   "cell_type": "code",
   "execution_count": 147,
   "metadata": {},
   "outputs": [
    {
     "data": {
      "text/html": [
       "<div>\n",
       "<style scoped>\n",
       "    .dataframe tbody tr th:only-of-type {\n",
       "        vertical-align: middle;\n",
       "    }\n",
       "\n",
       "    .dataframe tbody tr th {\n",
       "        vertical-align: top;\n",
       "    }\n",
       "\n",
       "    .dataframe thead th {\n",
       "        text-align: right;\n",
       "    }\n",
       "</style>\n",
       "<table border=\"1\" class=\"dataframe\">\n",
       "  <thead>\n",
       "    <tr style=\"text-align: right;\">\n",
       "      <th></th>\n",
       "      <th>csv_train</th>\n",
       "      <th>model_name</th>\n",
       "    </tr>\n",
       "  </thead>\n",
       "  <tbody>\n",
       "    <tr>\n",
       "      <th>14</th>\n",
       "      <td>train_all_qualities_1.csv</td>\n",
       "      <td>resnext50_sws</td>\n",
       "    </tr>\n",
       "    <tr>\n",
       "      <th>15</th>\n",
       "      <td>train_all_qualities_1.csv</td>\n",
       "      <td>resnet50_sws</td>\n",
       "    </tr>\n",
       "    <tr>\n",
       "      <th>11</th>\n",
       "      <td>train_all_qualities_2.csv</td>\n",
       "      <td>resnext50_sws</td>\n",
       "    </tr>\n",
       "    <tr>\n",
       "      <th>12</th>\n",
       "      <td>train_all_qualities_2.csv</td>\n",
       "      <td>resnext50</td>\n",
       "    </tr>\n",
       "    <tr>\n",
       "      <th>13</th>\n",
       "      <td>train_all_qualities_2.csv</td>\n",
       "      <td>resnet50_sws</td>\n",
       "    </tr>\n",
       "    <tr>\n",
       "      <th>8</th>\n",
       "      <td>train_all_qualities_3.csv</td>\n",
       "      <td>resnext50</td>\n",
       "    </tr>\n",
       "    <tr>\n",
       "      <th>9</th>\n",
       "      <td>train_all_qualities_3.csv</td>\n",
       "      <td>resnet50_sws</td>\n",
       "    </tr>\n",
       "    <tr>\n",
       "      <th>10</th>\n",
       "      <td>train_all_qualities_3.csv</td>\n",
       "      <td>resnet50</td>\n",
       "    </tr>\n",
       "    <tr>\n",
       "      <th>6</th>\n",
       "      <td>train_all_qualities_4.csv</td>\n",
       "      <td>resnext50</td>\n",
       "    </tr>\n",
       "    <tr>\n",
       "      <th>7</th>\n",
       "      <td>train_all_qualities_4.csv</td>\n",
       "      <td>resnet50_sws</td>\n",
       "    </tr>\n",
       "  </tbody>\n",
       "</table>\n",
       "</div>"
      ],
      "text/plain": [
       "                    csv_train     model_name\n",
       "14  train_all_qualities_1.csv  resnext50_sws\n",
       "15  train_all_qualities_1.csv   resnet50_sws\n",
       "11  train_all_qualities_2.csv  resnext50_sws\n",
       "12  train_all_qualities_2.csv      resnext50\n",
       "13  train_all_qualities_2.csv   resnet50_sws\n",
       "8   train_all_qualities_3.csv      resnext50\n",
       "9   train_all_qualities_3.csv   resnet50_sws\n",
       "10  train_all_qualities_3.csv       resnet50\n",
       "6   train_all_qualities_4.csv      resnext50\n",
       "7   train_all_qualities_4.csv   resnet50_sws"
      ]
     },
     "execution_count": 147,
     "metadata": {},
     "output_type": "execute_result"
    }
   ],
   "source": [
    "df_all[df_all['base_loss']=='focal_loss'][['csv_train','model_name']].sort_values('csv_train')"
   ]
  },
  {
   "cell_type": "code",
   "execution_count": 126,
   "metadata": {},
   "outputs": [],
   "source": [
    "df_train1 = df_all[df_all.csv_train=='train_all_qualities_1.csv']\n",
    "df_train2 = df_all[df_all.csv_train=='train_all_qualities_2.csv']\n",
    "df_train3 = df_all[df_all.csv_train=='train_all_qualities_3.csv']\n",
    "df_train4 = df_all[df_all.csv_train=='train_all_qualities_4.csv']"
   ]
  },
  {
   "cell_type": "code",
   "execution_count": 141,
   "metadata": {},
   "outputs": [
    {
     "data": {
      "text/plain": [
       "16    resnext50_sws\n",
       "17     resnet50_sws\n",
       "18         resnet50\n",
       "Name: model_name, dtype: object"
      ]
     },
     "execution_count": 141,
     "metadata": {},
     "output_type": "execute_result"
    }
   ],
   "source": [
    "df_train4[df_train4['base_loss']=='ce'].model_name"
   ]
  },
  {
   "cell_type": "code",
   "execution_count": 124,
   "metadata": {},
   "outputs": [],
   "source": [
    "df_all = pd.read_csv('results_multi_split_fundus_final.csv')"
   ]
  },
  {
   "cell_type": "code",
   "execution_count": null,
   "metadata": {},
   "outputs": [],
   "source": [
    "df_all = df_all.drop(['run', 'operation', 'started',  'status', 'label', 'batch_size', 'decay_f', 'acc',\n",
    "        'optimizer', 'pretrained', 'save_model', 'step'], axis=1)\n",
    "df_all.columns"
   ]
  },
  {
   "cell_type": "code",
   "execution_count": null,
   "metadata": {},
   "outputs": [],
   "source": [
    "df_train1 = df_all[df_all.csv_train=='train_all_1.csv']\n",
    "df_train2 = df_all[df_all.csv_train=='train_all_2.csv']\n",
    "df_train3 = df_all[df_all.csv_train=='train_all_3.csv']\n",
    "df_train4 = df_all[df_all.csv_train=='train_all_4.csv']"
   ]
  },
  {
   "cell_type": "markdown",
   "metadata": {},
   "source": [
    "## First fold"
   ]
  },
  {
   "cell_type": "code",
   "execution_count": null,
   "metadata": {},
   "outputs": [],
   "source": [
    "df_train1.sort_values('kappa', ascending=False).head(15)"
   ]
  },
  {
   "cell_type": "markdown",
   "metadata": {},
   "source": [
    "### Best models this fold:"
   ]
  },
  {
   "cell_type": "markdown",
   "metadata": {},
   "source": [
    "python train.py --csv_train train_all_1.csv --base_loss focal_loss --exp 1 --lambd 10 --load_checkpoint models/resnet50_eyepacs --metric kappa_auc_avg --model_name resnet50 --n_epochs 50 --patience 5 --oversample 1/4/2/2/7 --save_model True --save_path best_both_f1 "
   ]
  },
  {
   "cell_type": "markdown",
   "metadata": {},
   "source": [
    "## Second fold"
   ]
  },
  {
   "cell_type": "code",
   "execution_count": null,
   "metadata": {},
   "outputs": [],
   "source": [
    "df_train2.sort_values('kappa', ascending=False).head(15)"
   ]
  },
  {
   "cell_type": "markdown",
   "metadata": {},
   "source": [
    "### Best models this fold:"
   ]
  },
  {
   "cell_type": "markdown",
   "metadata": {},
   "source": [
    "python train.py --csv_train train_all_2.csv --base_loss gls --exp 1 --lambd 10 --load_checkpoint models/resnet50_eyepacs --metric kappa_auc_avg --model_name resnet50 --n_epochs 50 --patience 5 --oversample 1/4/2/2/7 --save_model True --save_path best_both_f2 "
   ]
  },
  {
   "cell_type": "markdown",
   "metadata": {},
   "source": [
    "## Third fold"
   ]
  },
  {
   "cell_type": "code",
   "execution_count": null,
   "metadata": {},
   "outputs": [],
   "source": [
    "df_train3.sort_values('kappa', ascending=False).head(15)"
   ]
  },
  {
   "cell_type": "markdown",
   "metadata": {},
   "source": [
    "### Best models this fold:"
   ]
  },
  {
   "cell_type": "markdown",
   "metadata": {},
   "source": [
    "python train.py --csv_train train_all_3.csv --base_loss gls --exp 1 --lambd 10 --load_checkpoint models/resnet50_eyepacs --metric kappa_auc_avg --model_name resnet50 --n_epochs 50 --patience 5 --oversample 1/4/2/2/7 --save_model True --save_path best_both_f3 "
   ]
  },
  {
   "cell_type": "markdown",
   "metadata": {},
   "source": [
    "## Fourth fold"
   ]
  },
  {
   "cell_type": "code",
   "execution_count": null,
   "metadata": {},
   "outputs": [],
   "source": [
    "df_train4.sort_values('kappa', ascending=False).head(15)"
   ]
  },
  {
   "cell_type": "markdown",
   "metadata": {},
   "source": [
    "### Best models this fold:"
   ]
  },
  {
   "cell_type": "markdown",
   "metadata": {},
   "source": [
    "python train.py --csv_train train_all_4.csv --base_loss gls --exp 1 --lambd 10 --load_checkpoint models/resnet50_eyepacs --metric kappa_auc_avg --model_name resnet50 --n_epochs 50 --patience 5 --oversample 1/4/2/2/7 --save_model True --save_path best_both_f4 "
   ]
  },
  {
   "cell_type": "markdown",
   "metadata": {},
   "source": [
    "# MIXING COEFFICIENTS"
   ]
  },
  {
   "cell_type": "code",
   "execution_count": null,
   "metadata": {},
   "outputs": [],
   "source": [
    "k_auc_f1 = 0.5*(0.908872+0.857692)\n",
    "k_auc_f2 = 0.5*(0.935597+0.857399)\n",
    "k_auc_f3 = 0.5*(0.938523+0.882619)\n",
    "k_auc_f4 = 0.5*(0.943784+0.873273)\n",
    "coeff_sum = k_auc_f1+k_auc_f2+k_auc_f3+k_auc_f4"
   ]
  },
  {
   "cell_type": "code",
   "execution_count": null,
   "metadata": {},
   "outputs": [],
   "source": [
    "coeff_f1 = k_auc_f1/coeff_sum\n",
    "coeff_f2 = k_auc_f2/coeff_sum\n",
    "coeff_f3 = k_auc_f3/coeff_sum\n",
    "coeff_f4 = k_auc_f4/coeff_sum\n",
    "print(coeff_f1,coeff_f2,coeff_f3,coeff_f4)"
   ]
  },
  {
   "cell_type": "markdown",
   "metadata": {},
   "source": [
    "# Standard Fundus\n",
    "## OD"
   ]
  },
  {
   "cell_type": "code",
   "execution_count": null,
   "metadata": {},
   "outputs": [],
   "source": [
    "df_all = pd.read_csv('results_multi_split_fundus_od.csv')"
   ]
  },
  {
   "cell_type": "code",
   "execution_count": null,
   "metadata": {},
   "outputs": [],
   "source": [
    "df_all = df_all.drop(['run', 'operation', 'started',  'status', 'label', 'batch_size', 'decay_f', 'acc', 'load_checkpoint', \n",
    "        'optimizer', 'pretrained', 'save_model', 'step'], axis=1)\n",
    "df_all.columns"
   ]
  },
  {
   "cell_type": "code",
   "execution_count": null,
   "metadata": {},
   "outputs": [],
   "source": [
    "df_train1 = df_all[df_all.csv_train=='train_od_1.csv']\n",
    "df_train2 = df_all[df_all.csv_train=='train_od_2.csv']\n",
    "df_train3 = df_all[df_all.csv_train=='train_od_3.csv']\n",
    "df_train4 = df_all[df_all.csv_train=='train_od_4.csv']"
   ]
  },
  {
   "cell_type": "markdown",
   "metadata": {},
   "source": [
    "## First fold"
   ]
  },
  {
   "cell_type": "code",
   "execution_count": null,
   "metadata": {},
   "outputs": [],
   "source": [
    "df_train1.sort_values('kappa', ascending=False).head(5)"
   ]
  },
  {
   "cell_type": "markdown",
   "metadata": {},
   "source": [
    "### Best models this fold:"
   ]
  },
  {
   "cell_type": "markdown",
   "metadata": {},
   "source": [
    "python train.py --csv_train train_od_1.csv --base_loss focal_loss --exp 1 --lambd 10 --load_checkpoint models/resnet50_eyepacs --metric kappa_auc_avg --model_name resnet50 --n_epochs 50 --patience 5 --oversample 1/4/2/2/7 --save_model True --save_path best_od_f1 "
   ]
  },
  {
   "cell_type": "markdown",
   "metadata": {},
   "source": [
    "## Second fold"
   ]
  },
  {
   "cell_type": "code",
   "execution_count": null,
   "metadata": {},
   "outputs": [],
   "source": [
    "df_train2.sort_values('kappa', ascending=False).head(5)"
   ]
  },
  {
   "cell_type": "markdown",
   "metadata": {},
   "source": [
    "### Best models this fold:"
   ]
  },
  {
   "cell_type": "markdown",
   "metadata": {},
   "source": [
    "python train.py --csv_train train_od_2.csv --base_loss focal_loss --exp 1 --lambd 10 --load_checkpoint models/resnet50_eyepacs --metric kappa_auc_avg --model_name resnet50 --n_epochs 50 --patience 5 --oversample 1/4/2/2/7 --save_model True --save_path best_od_f2 "
   ]
  },
  {
   "cell_type": "markdown",
   "metadata": {},
   "source": [
    "## Third fold"
   ]
  },
  {
   "cell_type": "code",
   "execution_count": null,
   "metadata": {},
   "outputs": [],
   "source": [
    "df_train3.sort_values('kappa', ascending=False).head(5)"
   ]
  },
  {
   "cell_type": "markdown",
   "metadata": {},
   "source": [
    "### Best models this fold:"
   ]
  },
  {
   "cell_type": "markdown",
   "metadata": {},
   "source": [
    "python train.py --csv_train train_od_3.csv --base_loss focal_loss --exp 1 --lambd 10 --load_checkpoint models/resnet50_eyepacs --metric kappa_auc_avg --model_name resnet50 --n_epochs 50 --patience 5 --oversample 1/4/2/2/7 --save_model True --save_path best_od_f3 "
   ]
  },
  {
   "cell_type": "markdown",
   "metadata": {},
   "source": [
    "## Fourth fold"
   ]
  },
  {
   "cell_type": "code",
   "execution_count": null,
   "metadata": {},
   "outputs": [],
   "source": [
    "df_train4.sort_values('kappa', ascending=False).head(5)"
   ]
  },
  {
   "cell_type": "markdown",
   "metadata": {},
   "source": [
    "### Best models this fold:"
   ]
  },
  {
   "cell_type": "markdown",
   "metadata": {},
   "source": [
    "python train.py --csv_train train_od_4.csv --base_loss gls --exp 1 --lambd 10 --load_checkpoint models/resnet50_eyepacs --metric kappa_auc_avg --model_name resnet50 --n_epochs 50 --patience 5 --oversample 1/4/2/2/7 --save_model True --save_path best_od_f4 "
   ]
  },
  {
   "cell_type": "markdown",
   "metadata": {},
   "source": [
    "# MIXING COEFFICIENTS"
   ]
  },
  {
   "cell_type": "code",
   "execution_count": null,
   "metadata": {},
   "outputs": [],
   "source": [
    "k_auc_f1 = 0.5*0.915289+0.5*0.872834\n",
    "k_auc_f2 = 0.5*0.901828+0.5*0.859852\n",
    "k_auc_f3 = 0.5*0.906088+0.5*0.753158\n",
    "k_auc_f4 = 0.5*0.920812+0.5*0.826630\n",
    "coeff_sum = k_auc_f1+k_auc_f2+k_auc_f3+k_auc_f4"
   ]
  },
  {
   "cell_type": "code",
   "execution_count": null,
   "metadata": {},
   "outputs": [],
   "source": [
    "coeff_f1 = k_auc_f1/coeff_sum\n",
    "coeff_f2 = k_auc_f2/coeff_sum\n",
    "coeff_f3 = k_auc_f3/coeff_sum\n",
    "coeff_f4 = k_auc_f4/coeff_sum\n",
    "print(coeff_f1,coeff_f2,coeff_f3,coeff_f4)"
   ]
  },
  {
   "cell_type": "markdown",
   "metadata": {},
   "source": [
    "# Standard Fundus\n",
    "## MAC"
   ]
  },
  {
   "cell_type": "code",
   "execution_count": null,
   "metadata": {},
   "outputs": [],
   "source": [
    "df_all = pd.read_csv('results_multi_split_fundus_mac.csv')"
   ]
  },
  {
   "cell_type": "code",
   "execution_count": null,
   "metadata": {},
   "outputs": [],
   "source": [
    "df_all = df_all.drop(['run', 'operation', 'started',  'status', 'label', 'batch_size', 'decay_f', 'acc', 'load_checkpoint', \n",
    "        'optimizer', 'pretrained', 'save_model', 'step'], axis=1)\n",
    "df_all.columns"
   ]
  },
  {
   "cell_type": "code",
   "execution_count": null,
   "metadata": {},
   "outputs": [],
   "source": [
    "df_train1 = df_all[df_all.csv_train=='train_mac_1.csv']\n",
    "df_train2 = df_all[df_all.csv_train=='train_mac_2.csv']\n",
    "df_train3 = df_all[df_all.csv_train=='train_mac_3.csv']\n",
    "df_train4 = df_all[df_all.csv_train=='train_mac_4.csv']"
   ]
  },
  {
   "cell_type": "markdown",
   "metadata": {},
   "source": [
    "## First fold"
   ]
  },
  {
   "cell_type": "code",
   "execution_count": null,
   "metadata": {},
   "outputs": [],
   "source": [
    "df_train1.sort_values('kappa', ascending=False).head(5)"
   ]
  },
  {
   "cell_type": "markdown",
   "metadata": {},
   "source": [
    "### Best models this fold:"
   ]
  },
  {
   "cell_type": "markdown",
   "metadata": {},
   "source": [
    "python train.py --csv_train train_mac_1.csv --base_loss focal_loss --exp 1 --lambd 10 --load_checkpoint models/resnet50_eyepacs --metric kappa_auc_avg --model_name resnet50 --n_epochs 50 --patience 5 --oversample 1/4/2/2/7 --save_model True --save_path best_mac_f1 "
   ]
  },
  {
   "cell_type": "markdown",
   "metadata": {},
   "source": [
    "## Second fold"
   ]
  },
  {
   "cell_type": "code",
   "execution_count": null,
   "metadata": {},
   "outputs": [],
   "source": [
    "df_train2.sort_values('kappa', ascending=False).head(5)"
   ]
  },
  {
   "cell_type": "markdown",
   "metadata": {},
   "source": [
    "### Best models this fold:"
   ]
  },
  {
   "cell_type": "markdown",
   "metadata": {},
   "source": [
    "python train.py --csv_train train_mac_2.csv --base_loss gls --exp 1 --lambd 10 --load_checkpoint models/resnet50_eyepacs --metric kappa_auc_avg --model_name resnet50 --n_epochs 50 --patience 5 --oversample 1/4/2/2/7 --save_model True --save_path best_mac_f2 "
   ]
  },
  {
   "cell_type": "markdown",
   "metadata": {},
   "source": [
    "## Third fold"
   ]
  },
  {
   "cell_type": "code",
   "execution_count": null,
   "metadata": {},
   "outputs": [],
   "source": [
    "df_train3.sort_values('kappa', ascending=False).head(5)"
   ]
  },
  {
   "cell_type": "markdown",
   "metadata": {},
   "source": [
    "### Best models this fold:"
   ]
  },
  {
   "cell_type": "markdown",
   "metadata": {},
   "source": [
    "python train.py --csv_train train_mac_3.csv --base_loss focal_loss --exp 1 --lambd 10 --load_checkpoint models/resnet50_eyepacs --metric kappa_auc_avg --model_name resnet50 --n_epochs 50 --patience 5 --oversample 1/4/2/2/7 --save_model True --save_path best_mac_f3 "
   ]
  },
  {
   "cell_type": "markdown",
   "metadata": {},
   "source": [
    "## Fourth fold"
   ]
  },
  {
   "cell_type": "code",
   "execution_count": null,
   "metadata": {},
   "outputs": [],
   "source": [
    "df_train4.sort_values('kappa', ascending=False).head(5)"
   ]
  },
  {
   "cell_type": "markdown",
   "metadata": {},
   "source": [
    "### Best models this fold:"
   ]
  },
  {
   "cell_type": "markdown",
   "metadata": {},
   "source": [
    "python train.py --csv_train train_od_4.csv --base_loss ce --exp 1 --lambd 10 --load_checkpoint models/resnet50_eyepacs --metric kappa_auc_avg --model_name resnet50 --n_epochs 50 --patience 5 --oversample 1/4/2/2/7 --save_model True --save_path best_mac_f4 "
   ]
  },
  {
   "cell_type": "markdown",
   "metadata": {},
   "source": [
    "# MIXING COEFFICIENTS"
   ]
  },
  {
   "cell_type": "code",
   "execution_count": null,
   "metadata": {},
   "outputs": [],
   "source": [
    "k_auc_f1 = 0.5*(0.906182+0.852420)\n",
    "k_auc_f2 = 0.5*(0.891001+0.844584)\n",
    "k_auc_f3 = 0.5*(0.885983+0.805524)\n",
    "k_auc_f4 = 0.5*(0.927619+0.861877)\n",
    "coeff_sum = k_auc_f1+k_auc_f2+k_auc_f3+k_auc_f4"
   ]
  },
  {
   "cell_type": "code",
   "execution_count": null,
   "metadata": {},
   "outputs": [],
   "source": [
    "coeff_f1 = k_auc_f1/coeff_sum\n",
    "coeff_f2 = k_auc_f2/coeff_sum\n",
    "coeff_f3 = k_auc_f3/coeff_sum\n",
    "coeff_f4 = k_auc_f4/coeff_sum\n",
    "print(coeff_f1,coeff_f2,coeff_f3,coeff_f4)"
   ]
  },
  {
   "cell_type": "code",
   "execution_count": null,
   "metadata": {},
   "outputs": [],
   "source": []
  },
  {
   "cell_type": "code",
   "execution_count": null,
   "metadata": {},
   "outputs": [],
   "source": []
  }
 ],
 "metadata": {
  "kernelspec": {
   "display_name": "vessels",
   "language": "python",
   "name": "build_central"
  },
  "language_info": {
   "codemirror_mode": {
    "name": "ipython",
    "version": 3
   },
   "file_extension": ".py",
   "mimetype": "text/x-python",
   "name": "python",
   "nbconvert_exporter": "python",
   "pygments_lexer": "ipython3",
   "version": "3.7.6"
  }
 },
 "nbformat": 4,
 "nbformat_minor": 4
}
