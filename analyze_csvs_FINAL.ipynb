{
 "cells": [
  {
   "cell_type": "code",
   "execution_count": 83,
   "metadata": {},
   "outputs": [],
   "source": [
    "import pandas as pd"
   ]
  },
  {
   "cell_type": "code",
   "execution_count": 84,
   "metadata": {},
   "outputs": [
    {
     "data": {
      "text/html": [
       "<style>.container { width:80% !important; }</style>"
      ],
      "text/plain": [
       "<IPython.core.display.HTML object>"
      ]
     },
     "metadata": {},
     "output_type": "display_data"
    }
   ],
   "source": [
    "from IPython.core.display import display, HTML\n",
    "display(HTML(\"<style>.container { width:80% !important; }</style>\"))"
   ]
  },
  {
   "cell_type": "code",
   "execution_count": 87,
   "metadata": {},
   "outputs": [
    {
     "name": "stdout",
     "output_type": "stream",
     "text": [
      "The autoreload extension is already loaded. To reload it, use:\n",
      "  %reload_ext autoreload\n"
     ]
    }
   ],
   "source": [
    "%load_ext autoreload\n",
    "%autoreload 2\n",
    "\n",
    "from utils.get_loaders import get_train_val_loaders, modify_MT_dataset\n",
    "import numpy as np"
   ]
  },
  {
   "cell_type": "code",
   "execution_count": 88,
   "metadata": {},
   "outputs": [],
   "source": [
    "train_loader, val_loader = get_train_val_loaders(csv_path_train='data/train_all_qualities.csv', csv_path_val='data/val_all_qualities.csv',\n",
    "                                                     batch_size=8, mean=0, std=1, qualities=True)"
   ]
  },
  {
   "cell_type": "code",
   "execution_count": 93,
   "metadata": {},
   "outputs": [
    {
     "name": "stdout",
     "output_type": "stream",
     "text": [
      "quality [623 575]\n",
      "artifact [597  47 240 146 131  37]\n",
      "field_def [  5  48 180 801 164]\n",
      "clarity [ 28  85 257 397 431]\n"
     ]
    }
   ],
   "source": [
    "print('quality', np.unique(train_loader.dataset.quality, return_counts=True)[1])\n",
    "print('artifact', np.unique(train_loader.dataset.artifact, return_counts=True)[1])\n",
    "print('field_def', np.unique(train_loader.dataset.field_def, return_counts=True)[1])\n",
    "print('clarity', np.unique(train_loader.dataset.clarity, return_counts=True)[1])"
   ]
  },
  {
   "cell_type": "code",
   "execution_count": 94,
   "metadata": {},
   "outputs": [],
   "source": [
    "csv_train_path = train_loader.dataset.csv_path #[10,4,1,1,1] [8,3,1,1,1]"
   ]
  },
  {
   "cell_type": "code",
   "execution_count": 98,
   "metadata": {},
   "outputs": [
    {
     "name": "stdout",
     "output_type": "stream",
     "text": [
      "R0 nr samples (duplicated): 224(196)\n",
      "R1 nr samples (duplicated): 255(175)\n",
      "R2 nr samples (duplicated): 257(0)\n",
      "R3 nr samples (duplicated): 397(0)\n",
      "R4 nr samples (duplicated): 431(0)\n",
      "quality [928 636]\n",
      "artifact [627  47 243 174 296 177]\n",
      "field_def [  21   51  230 1077  185]\n",
      "clarity [224 255 257 397 431]\n"
     ]
    }
   ],
   "source": [
    "train_loader_MOD = modify_MT_dataset(train_loader, csv_train_path=csv_train_path, keep_samples=[8,3,1,1,1], task='clarity')\n",
    "print('quality', np.unique(train_loader_MOD.quality, return_counts=True)[1])\n",
    "print('artifact', np.unique(train_loader_MOD.artifact, return_counts=True)[1])\n",
    "print('field_def', np.unique(train_loader_MOD.field_def, return_counts=True)[1])\n",
    "print('clarity', np.unique(train_loader_MOD.clarity, return_counts=True)[1])"
   ]
  },
  {
   "cell_type": "code",
   "execution_count": 108,
   "metadata": {},
   "outputs": [],
   "source": [
    "csv_train_path = train_loader.dataset.csv_path #[10,4,1,1,1] [8,3,1,1,1]"
   ]
  },
  {
   "cell_type": "code",
   "execution_count": 109,
   "metadata": {},
   "outputs": [
    {
     "name": "stdout",
     "output_type": "stream",
     "text": [
      "R0 nr samples (duplicated): 50(45)\n",
      "R1 nr samples (duplicated): 192(144)\n",
      "R2 nr samples (duplicated): 180(0)\n",
      "R3 nr samples (duplicated): 801(0)\n",
      "R4 nr samples (duplicated): 164(0)\n",
      "quality [740 647]\n",
      "artifact [691  49 279 166 151  51]\n",
      "field_def [ 50 192 180 801 164]\n",
      "clarity [ 47  93 282 478 487]\n"
     ]
    }
   ],
   "source": [
    "train_loader_MOD = modify_MT_dataset(train_loader, csv_train_path=csv_train_path, keep_samples=[10,4,1,1,1], task='field_def')\n",
    "print('quality', np.unique(train_loader_MOD.quality, return_counts=True)[1])\n",
    "print('artifact', np.unique(train_loader_MOD.artifact, return_counts=True)[1])\n",
    "print('field_def', np.unique(train_loader_MOD.field_def, return_counts=True)[1])\n",
    "print('clarity', np.unique(train_loader_MOD.clarity, return_counts=True)[1])"
   ]
  },
  {
   "cell_type": "code",
   "execution_count": 110,
   "metadata": {},
   "outputs": [
    {
     "data": {
      "text/plain": [
       "1387"
      ]
     },
     "execution_count": 110,
     "metadata": {},
     "output_type": "execute_result"
    }
   ],
   "source": [
    "len(train_loader_MOD.dataset), len(train_loader_MOD.quality), len(train_loader_MOD.artifact)"
   ]
  },
  {
   "cell_type": "code",
   "execution_count": 111,
   "metadata": {},
   "outputs": [
    {
     "data": {
      "text/plain": [
       "1387"
      ]
     },
     "execution_count": 111,
     "metadata": {},
     "output_type": "execute_result"
    }
   ],
   "source": [
    "len(train_loader_MOD.quality)"
   ]
  },
  {
   "cell_type": "code",
   "execution_count": 112,
   "metadata": {},
   "outputs": [
    {
     "data": {
      "text/plain": [
       "1387"
      ]
     },
     "execution_count": 112,
     "metadata": {},
     "output_type": "execute_result"
    }
   ],
   "source": [
    "len(train_loader_MOD.artifact)"
   ]
  },
  {
   "cell_type": "code",
   "execution_count": null,
   "metadata": {},
   "outputs": [],
   "source": []
  },
  {
   "cell_type": "code",
   "execution_count": null,
   "metadata": {},
   "outputs": [],
   "source": []
  },
  {
   "cell_type": "code",
   "execution_count": 99,
   "metadata": {},
   "outputs": [],
   "source": [
    "csv_train_path = train_loader.dataset.csv_path #[10,4,1,1,1] [8,3,1,1,1]"
   ]
  },
  {
   "cell_type": "code",
   "execution_count": 101,
   "metadata": {},
   "outputs": [
    {
     "name": "stdout",
     "output_type": "stream",
     "text": [
      "R0 nr samples (duplicated): 597(0)\n",
      "R1 nr samples (duplicated): 235(188)\n",
      "R2 nr samples (duplicated): 240(0)\n",
      "R3 nr samples (duplicated): 292(166)\n",
      "R4 nr samples (duplicated): 262(149)\n",
      "R5 nr samples (duplicated): 185(148)\n",
      "quality [1080  731]\n",
      "artifact [597 235 240 292 262 185]\n",
      "field_def [  16   59  259 1259  218]\n",
      "clarity [109 191 422 563 526]\n"
     ]
    }
   ],
   "source": [
    "train_loader_MOD = modify_MT_dataset(train_loader, csv_train_path=csv_train_path, keep_samples=[1,5,1,2,2,5], task='artifact')\n",
    "print('quality', np.unique(train_loader_MOD.quality, return_counts=True)[1])\n",
    "print('artifact', np.unique(train_loader_MOD.artifact, return_counts=True)[1])\n",
    "print('field_def', np.unique(train_loader_MOD.field_def, return_counts=True)[1])\n",
    "print('clarity', np.unique(train_loader_MOD.clarity, return_counts=True)[1])"
   ]
  },
  {
   "cell_type": "code",
   "execution_count": 107,
   "metadata": {},
   "outputs": [
    {
     "data": {
      "text/plain": [
       "1811"
      ]
     },
     "execution_count": 107,
     "metadata": {},
     "output_type": "execute_result"
    }
   ],
   "source": [
    "len(train_loader_MOD.dataset)"
   ]
  },
  {
   "cell_type": "code",
   "execution_count": 105,
   "metadata": {},
   "outputs": [
    {
     "data": {
      "text/plain": [
       "1811"
      ]
     },
     "execution_count": 105,
     "metadata": {},
     "output_type": "execute_result"
    }
   ],
   "source": [
    "len(train_loader_MOD.quality)"
   ]
  },
  {
   "cell_type": "code",
   "execution_count": 106,
   "metadata": {},
   "outputs": [
    {
     "data": {
      "text/plain": [
       "1811"
      ]
     },
     "execution_count": 106,
     "metadata": {},
     "output_type": "execute_result"
    }
   ],
   "source": [
    "len(train_loader_MOD.artifact)"
   ]
  },
  {
   "cell_type": "markdown",
   "metadata": {},
   "source": [
    "# Standard Fundus\n",
    "## Both OD+MAC"
   ]
  },
  {
   "cell_type": "code",
   "execution_count": null,
   "metadata": {},
   "outputs": [],
   "source": [
    "df_all = pd.read_csv('trash.csv')"
   ]
  },
  {
   "cell_type": "code",
   "execution_count": null,
   "metadata": {},
   "outputs": [],
   "source": [
    "df_train1 = df_all[df_all.csv_train=='train_all_qualities_1.csv']\n",
    "df_train2 = df_all[df_all.csv_train=='train_all_qualities_2.csv']\n",
    "df_train3 = df_all[df_all.csv_train=='train_all_qualities_3.csv']\n",
    "df_train4 = df_all[df_all.csv_train=='train_all_qualities_4.csv']"
   ]
  },
  {
   "cell_type": "code",
   "execution_count": null,
   "metadata": {},
   "outputs": [],
   "source": [
    "df_train4[['model_name', 'base_loss']]"
   ]
  },
  {
   "cell_type": "code",
   "execution_count": null,
   "metadata": {},
   "outputs": [],
   "source": [
    "df_all = pd.read_csv('results_multi_split_fundus_final.csv')"
   ]
  },
  {
   "cell_type": "code",
   "execution_count": null,
   "metadata": {},
   "outputs": [],
   "source": [
    "df_all = df_all.drop(['run', 'operation', 'started',  'status', 'label', 'batch_size', 'decay_f', 'acc',\n",
    "        'optimizer', 'pretrained', 'save_model', 'step'], axis=1)\n",
    "df_all.columns"
   ]
  },
  {
   "cell_type": "code",
   "execution_count": null,
   "metadata": {},
   "outputs": [],
   "source": [
    "df_train1 = df_all[df_all.csv_train=='train_all_1.csv']\n",
    "df_train2 = df_all[df_all.csv_train=='train_all_2.csv']\n",
    "df_train3 = df_all[df_all.csv_train=='train_all_3.csv']\n",
    "df_train4 = df_all[df_all.csv_train=='train_all_4.csv']"
   ]
  },
  {
   "cell_type": "markdown",
   "metadata": {},
   "source": [
    "## First fold"
   ]
  },
  {
   "cell_type": "code",
   "execution_count": null,
   "metadata": {},
   "outputs": [],
   "source": [
    "df_train1.sort_values('kappa', ascending=False).head(15)"
   ]
  },
  {
   "cell_type": "markdown",
   "metadata": {},
   "source": [
    "### Best models this fold:"
   ]
  },
  {
   "cell_type": "markdown",
   "metadata": {},
   "source": [
    "python train.py --csv_train train_all_1.csv --base_loss focal_loss --exp 1 --lambd 10 --load_checkpoint models/resnet50_eyepacs --metric kappa_auc_avg --model_name resnet50 --n_epochs 50 --patience 5 --oversample 1/4/2/2/7 --save_model True --save_path best_both_f1 "
   ]
  },
  {
   "cell_type": "markdown",
   "metadata": {},
   "source": [
    "## Second fold"
   ]
  },
  {
   "cell_type": "code",
   "execution_count": null,
   "metadata": {},
   "outputs": [],
   "source": [
    "df_train2.sort_values('kappa', ascending=False).head(15)"
   ]
  },
  {
   "cell_type": "markdown",
   "metadata": {},
   "source": [
    "### Best models this fold:"
   ]
  },
  {
   "cell_type": "markdown",
   "metadata": {},
   "source": [
    "python train.py --csv_train train_all_2.csv --base_loss gls --exp 1 --lambd 10 --load_checkpoint models/resnet50_eyepacs --metric kappa_auc_avg --model_name resnet50 --n_epochs 50 --patience 5 --oversample 1/4/2/2/7 --save_model True --save_path best_both_f2 "
   ]
  },
  {
   "cell_type": "markdown",
   "metadata": {},
   "source": [
    "## Third fold"
   ]
  },
  {
   "cell_type": "code",
   "execution_count": null,
   "metadata": {},
   "outputs": [],
   "source": [
    "df_train3.sort_values('kappa', ascending=False).head(15)"
   ]
  },
  {
   "cell_type": "markdown",
   "metadata": {},
   "source": [
    "### Best models this fold:"
   ]
  },
  {
   "cell_type": "markdown",
   "metadata": {},
   "source": [
    "python train.py --csv_train train_all_3.csv --base_loss gls --exp 1 --lambd 10 --load_checkpoint models/resnet50_eyepacs --metric kappa_auc_avg --model_name resnet50 --n_epochs 50 --patience 5 --oversample 1/4/2/2/7 --save_model True --save_path best_both_f3 "
   ]
  },
  {
   "cell_type": "markdown",
   "metadata": {},
   "source": [
    "## Fourth fold"
   ]
  },
  {
   "cell_type": "code",
   "execution_count": null,
   "metadata": {},
   "outputs": [],
   "source": [
    "df_train4.sort_values('kappa', ascending=False).head(15)"
   ]
  },
  {
   "cell_type": "markdown",
   "metadata": {},
   "source": [
    "### Best models this fold:"
   ]
  },
  {
   "cell_type": "markdown",
   "metadata": {},
   "source": [
    "python train.py --csv_train train_all_4.csv --base_loss gls --exp 1 --lambd 10 --load_checkpoint models/resnet50_eyepacs --metric kappa_auc_avg --model_name resnet50 --n_epochs 50 --patience 5 --oversample 1/4/2/2/7 --save_model True --save_path best_both_f4 "
   ]
  },
  {
   "cell_type": "markdown",
   "metadata": {},
   "source": [
    "# MIXING COEFFICIENTS"
   ]
  },
  {
   "cell_type": "code",
   "execution_count": null,
   "metadata": {},
   "outputs": [],
   "source": [
    "k_auc_f1 = 0.5*(0.908872+0.857692)\n",
    "k_auc_f2 = 0.5*(0.935597+0.857399)\n",
    "k_auc_f3 = 0.5*(0.938523+0.882619)\n",
    "k_auc_f4 = 0.5*(0.943784+0.873273)\n",
    "coeff_sum = k_auc_f1+k_auc_f2+k_auc_f3+k_auc_f4"
   ]
  },
  {
   "cell_type": "code",
   "execution_count": null,
   "metadata": {},
   "outputs": [],
   "source": [
    "coeff_f1 = k_auc_f1/coeff_sum\n",
    "coeff_f2 = k_auc_f2/coeff_sum\n",
    "coeff_f3 = k_auc_f3/coeff_sum\n",
    "coeff_f4 = k_auc_f4/coeff_sum\n",
    "print(coeff_f1,coeff_f2,coeff_f3,coeff_f4)"
   ]
  },
  {
   "cell_type": "markdown",
   "metadata": {},
   "source": [
    "# Standard Fundus\n",
    "## OD"
   ]
  },
  {
   "cell_type": "code",
   "execution_count": null,
   "metadata": {},
   "outputs": [],
   "source": [
    "df_all = pd.read_csv('results_multi_split_fundus_od.csv')"
   ]
  },
  {
   "cell_type": "code",
   "execution_count": null,
   "metadata": {},
   "outputs": [],
   "source": [
    "df_all = df_all.drop(['run', 'operation', 'started',  'status', 'label', 'batch_size', 'decay_f', 'acc', 'load_checkpoint', \n",
    "        'optimizer', 'pretrained', 'save_model', 'step'], axis=1)\n",
    "df_all.columns"
   ]
  },
  {
   "cell_type": "code",
   "execution_count": null,
   "metadata": {},
   "outputs": [],
   "source": [
    "df_train1 = df_all[df_all.csv_train=='train_od_1.csv']\n",
    "df_train2 = df_all[df_all.csv_train=='train_od_2.csv']\n",
    "df_train3 = df_all[df_all.csv_train=='train_od_3.csv']\n",
    "df_train4 = df_all[df_all.csv_train=='train_od_4.csv']"
   ]
  },
  {
   "cell_type": "markdown",
   "metadata": {},
   "source": [
    "## First fold"
   ]
  },
  {
   "cell_type": "code",
   "execution_count": null,
   "metadata": {},
   "outputs": [],
   "source": [
    "df_train1.sort_values('kappa', ascending=False).head(5)"
   ]
  },
  {
   "cell_type": "markdown",
   "metadata": {},
   "source": [
    "### Best models this fold:"
   ]
  },
  {
   "cell_type": "markdown",
   "metadata": {},
   "source": [
    "python train.py --csv_train train_od_1.csv --base_loss focal_loss --exp 1 --lambd 10 --load_checkpoint models/resnet50_eyepacs --metric kappa_auc_avg --model_name resnet50 --n_epochs 50 --patience 5 --oversample 1/4/2/2/7 --save_model True --save_path best_od_f1 "
   ]
  },
  {
   "cell_type": "markdown",
   "metadata": {},
   "source": [
    "## Second fold"
   ]
  },
  {
   "cell_type": "code",
   "execution_count": null,
   "metadata": {},
   "outputs": [],
   "source": [
    "df_train2.sort_values('kappa', ascending=False).head(5)"
   ]
  },
  {
   "cell_type": "markdown",
   "metadata": {},
   "source": [
    "### Best models this fold:"
   ]
  },
  {
   "cell_type": "markdown",
   "metadata": {},
   "source": [
    "python train.py --csv_train train_od_2.csv --base_loss focal_loss --exp 1 --lambd 10 --load_checkpoint models/resnet50_eyepacs --metric kappa_auc_avg --model_name resnet50 --n_epochs 50 --patience 5 --oversample 1/4/2/2/7 --save_model True --save_path best_od_f2 "
   ]
  },
  {
   "cell_type": "markdown",
   "metadata": {},
   "source": [
    "## Third fold"
   ]
  },
  {
   "cell_type": "code",
   "execution_count": null,
   "metadata": {},
   "outputs": [],
   "source": [
    "df_train3.sort_values('kappa', ascending=False).head(5)"
   ]
  },
  {
   "cell_type": "markdown",
   "metadata": {},
   "source": [
    "### Best models this fold:"
   ]
  },
  {
   "cell_type": "markdown",
   "metadata": {},
   "source": [
    "python train.py --csv_train train_od_3.csv --base_loss focal_loss --exp 1 --lambd 10 --load_checkpoint models/resnet50_eyepacs --metric kappa_auc_avg --model_name resnet50 --n_epochs 50 --patience 5 --oversample 1/4/2/2/7 --save_model True --save_path best_od_f3 "
   ]
  },
  {
   "cell_type": "markdown",
   "metadata": {},
   "source": [
    "## Fourth fold"
   ]
  },
  {
   "cell_type": "code",
   "execution_count": null,
   "metadata": {},
   "outputs": [],
   "source": [
    "df_train4.sort_values('kappa', ascending=False).head(5)"
   ]
  },
  {
   "cell_type": "markdown",
   "metadata": {},
   "source": [
    "### Best models this fold:"
   ]
  },
  {
   "cell_type": "markdown",
   "metadata": {},
   "source": [
    "python train.py --csv_train train_od_4.csv --base_loss gls --exp 1 --lambd 10 --load_checkpoint models/resnet50_eyepacs --metric kappa_auc_avg --model_name resnet50 --n_epochs 50 --patience 5 --oversample 1/4/2/2/7 --save_model True --save_path best_od_f4 "
   ]
  },
  {
   "cell_type": "markdown",
   "metadata": {},
   "source": [
    "# MIXING COEFFICIENTS"
   ]
  },
  {
   "cell_type": "code",
   "execution_count": null,
   "metadata": {},
   "outputs": [],
   "source": [
    "k_auc_f1 = 0.5*0.915289+0.5*0.872834\n",
    "k_auc_f2 = 0.5*0.901828+0.5*0.859852\n",
    "k_auc_f3 = 0.5*0.906088+0.5*0.753158\n",
    "k_auc_f4 = 0.5*0.920812+0.5*0.826630\n",
    "coeff_sum = k_auc_f1+k_auc_f2+k_auc_f3+k_auc_f4"
   ]
  },
  {
   "cell_type": "code",
   "execution_count": null,
   "metadata": {},
   "outputs": [],
   "source": [
    "coeff_f1 = k_auc_f1/coeff_sum\n",
    "coeff_f2 = k_auc_f2/coeff_sum\n",
    "coeff_f3 = k_auc_f3/coeff_sum\n",
    "coeff_f4 = k_auc_f4/coeff_sum\n",
    "print(coeff_f1,coeff_f2,coeff_f3,coeff_f4)"
   ]
  },
  {
   "cell_type": "markdown",
   "metadata": {},
   "source": [
    "# Standard Fundus\n",
    "## MAC"
   ]
  },
  {
   "cell_type": "code",
   "execution_count": null,
   "metadata": {},
   "outputs": [],
   "source": [
    "df_all = pd.read_csv('results_multi_split_fundus_mac.csv')"
   ]
  },
  {
   "cell_type": "code",
   "execution_count": null,
   "metadata": {},
   "outputs": [],
   "source": [
    "df_all = df_all.drop(['run', 'operation', 'started',  'status', 'label', 'batch_size', 'decay_f', 'acc', 'load_checkpoint', \n",
    "        'optimizer', 'pretrained', 'save_model', 'step'], axis=1)\n",
    "df_all.columns"
   ]
  },
  {
   "cell_type": "code",
   "execution_count": null,
   "metadata": {},
   "outputs": [],
   "source": [
    "df_train1 = df_all[df_all.csv_train=='train_mac_1.csv']\n",
    "df_train2 = df_all[df_all.csv_train=='train_mac_2.csv']\n",
    "df_train3 = df_all[df_all.csv_train=='train_mac_3.csv']\n",
    "df_train4 = df_all[df_all.csv_train=='train_mac_4.csv']"
   ]
  },
  {
   "cell_type": "markdown",
   "metadata": {},
   "source": [
    "## First fold"
   ]
  },
  {
   "cell_type": "code",
   "execution_count": null,
   "metadata": {},
   "outputs": [],
   "source": [
    "df_train1.sort_values('kappa', ascending=False).head(5)"
   ]
  },
  {
   "cell_type": "markdown",
   "metadata": {},
   "source": [
    "### Best models this fold:"
   ]
  },
  {
   "cell_type": "markdown",
   "metadata": {},
   "source": [
    "python train.py --csv_train train_mac_1.csv --base_loss focal_loss --exp 1 --lambd 10 --load_checkpoint models/resnet50_eyepacs --metric kappa_auc_avg --model_name resnet50 --n_epochs 50 --patience 5 --oversample 1/4/2/2/7 --save_model True --save_path best_mac_f1 "
   ]
  },
  {
   "cell_type": "markdown",
   "metadata": {},
   "source": [
    "## Second fold"
   ]
  },
  {
   "cell_type": "code",
   "execution_count": null,
   "metadata": {},
   "outputs": [],
   "source": [
    "df_train2.sort_values('kappa', ascending=False).head(5)"
   ]
  },
  {
   "cell_type": "markdown",
   "metadata": {},
   "source": [
    "### Best models this fold:"
   ]
  },
  {
   "cell_type": "markdown",
   "metadata": {},
   "source": [
    "python train.py --csv_train train_mac_2.csv --base_loss gls --exp 1 --lambd 10 --load_checkpoint models/resnet50_eyepacs --metric kappa_auc_avg --model_name resnet50 --n_epochs 50 --patience 5 --oversample 1/4/2/2/7 --save_model True --save_path best_mac_f2 "
   ]
  },
  {
   "cell_type": "markdown",
   "metadata": {},
   "source": [
    "## Third fold"
   ]
  },
  {
   "cell_type": "code",
   "execution_count": null,
   "metadata": {},
   "outputs": [],
   "source": [
    "df_train3.sort_values('kappa', ascending=False).head(5)"
   ]
  },
  {
   "cell_type": "markdown",
   "metadata": {},
   "source": [
    "### Best models this fold:"
   ]
  },
  {
   "cell_type": "markdown",
   "metadata": {},
   "source": [
    "python train.py --csv_train train_mac_3.csv --base_loss focal_loss --exp 1 --lambd 10 --load_checkpoint models/resnet50_eyepacs --metric kappa_auc_avg --model_name resnet50 --n_epochs 50 --patience 5 --oversample 1/4/2/2/7 --save_model True --save_path best_mac_f3 "
   ]
  },
  {
   "cell_type": "markdown",
   "metadata": {},
   "source": [
    "## Fourth fold"
   ]
  },
  {
   "cell_type": "code",
   "execution_count": null,
   "metadata": {},
   "outputs": [],
   "source": [
    "df_train4.sort_values('kappa', ascending=False).head(5)"
   ]
  },
  {
   "cell_type": "markdown",
   "metadata": {},
   "source": [
    "### Best models this fold:"
   ]
  },
  {
   "cell_type": "markdown",
   "metadata": {},
   "source": [
    "python train.py --csv_train train_od_4.csv --base_loss ce --exp 1 --lambd 10 --load_checkpoint models/resnet50_eyepacs --metric kappa_auc_avg --model_name resnet50 --n_epochs 50 --patience 5 --oversample 1/4/2/2/7 --save_model True --save_path best_mac_f4 "
   ]
  },
  {
   "cell_type": "markdown",
   "metadata": {},
   "source": [
    "# MIXING COEFFICIENTS"
   ]
  },
  {
   "cell_type": "code",
   "execution_count": null,
   "metadata": {},
   "outputs": [],
   "source": [
    "k_auc_f1 = 0.5*(0.906182+0.852420)\n",
    "k_auc_f2 = 0.5*(0.891001+0.844584)\n",
    "k_auc_f3 = 0.5*(0.885983+0.805524)\n",
    "k_auc_f4 = 0.5*(0.927619+0.861877)\n",
    "coeff_sum = k_auc_f1+k_auc_f2+k_auc_f3+k_auc_f4"
   ]
  },
  {
   "cell_type": "code",
   "execution_count": null,
   "metadata": {},
   "outputs": [],
   "source": [
    "coeff_f1 = k_auc_f1/coeff_sum\n",
    "coeff_f2 = k_auc_f2/coeff_sum\n",
    "coeff_f3 = k_auc_f3/coeff_sum\n",
    "coeff_f4 = k_auc_f4/coeff_sum\n",
    "print(coeff_f1,coeff_f2,coeff_f3,coeff_f4)"
   ]
  },
  {
   "cell_type": "code",
   "execution_count": null,
   "metadata": {},
   "outputs": [],
   "source": []
  },
  {
   "cell_type": "code",
   "execution_count": null,
   "metadata": {},
   "outputs": [],
   "source": []
  }
 ],
 "metadata": {
  "kernelspec": {
   "display_name": "vessels",
   "language": "python",
   "name": "build_central"
  },
  "language_info": {
   "codemirror_mode": {
    "name": "ipython",
    "version": 3
   },
   "file_extension": ".py",
   "mimetype": "text/x-python",
   "name": "python",
   "nbconvert_exporter": "python",
   "pygments_lexer": "ipython3",
   "version": "3.7.6"
  }
 },
 "nbformat": 4,
 "nbformat_minor": 4
}
