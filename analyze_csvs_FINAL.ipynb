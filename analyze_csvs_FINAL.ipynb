{
 "cells": [
  {
   "cell_type": "code",
   "execution_count": 1,
   "metadata": {},
   "outputs": [],
   "source": [
    "import pandas as pd"
   ]
  },
  {
   "cell_type": "code",
   "execution_count": 2,
   "metadata": {},
   "outputs": [
    {
     "data": {
      "text/html": [
       "<style>.container { width:80% !important; }</style>"
      ],
      "text/plain": [
       "<IPython.core.display.HTML object>"
      ]
     },
     "metadata": {},
     "output_type": "display_data"
    }
   ],
   "source": [
    "from IPython.core.display import display, HTML\n",
    "display(HTML(\"<style>.container { width:80% !important; }</style>\"))"
   ]
  },
  {
   "cell_type": "markdown",
   "metadata": {},
   "source": [
    "# Standard Fundus\n",
    "## Both OD+MAC"
   ]
  },
  {
   "cell_type": "code",
   "execution_count": 22,
   "metadata": {},
   "outputs": [],
   "source": [
    "df_all = pd.read_csv('results_multi_split_fundus.csv')"
   ]
  },
  {
   "cell_type": "code",
   "execution_count": 23,
   "metadata": {},
   "outputs": [
    {
     "data": {
      "text/plain": [
       "Index(['time', 'base_loss', 'csv_train', 'exp', 'lambd', 'lr', 'metric',\n",
       "       'model_name', 'n_epochs', 'patience', 'auc', 'kappa'],\n",
       "      dtype='object')"
      ]
     },
     "execution_count": 23,
     "metadata": {},
     "output_type": "execute_result"
    }
   ],
   "source": [
    "df_all = df_all.drop(['run', 'operation', 'started',  'status', 'label', 'batch_size', 'decay_f', 'oversample', 'acc', 'load_checkpoint', \n",
    "        'optimizer', 'pretrained', 'save_model', 'step'], axis=1)\n",
    "df_all.columns"
   ]
  },
  {
   "cell_type": "code",
   "execution_count": 24,
   "metadata": {},
   "outputs": [],
   "source": [
    "df_train1 = df_all[df_all.csv_train=='train_all_1.csv']\n",
    "df_train2 = df_all[df_all.csv_train=='train_all_2.csv']\n",
    "df_train3 = df_all[df_all.csv_train=='train_all_3.csv']\n",
    "df_train4 = df_all[df_all.csv_train=='train_all_4.csv']"
   ]
  },
  {
   "cell_type": "markdown",
   "metadata": {},
   "source": [
    "## First fold"
   ]
  },
  {
   "cell_type": "code",
   "execution_count": 26,
   "metadata": {},
   "outputs": [
    {
     "data": {
      "text/html": [
       "<div>\n",
       "<style scoped>\n",
       "    .dataframe tbody tr th:only-of-type {\n",
       "        vertical-align: middle;\n",
       "    }\n",
       "\n",
       "    .dataframe tbody tr th {\n",
       "        vertical-align: top;\n",
       "    }\n",
       "\n",
       "    .dataframe thead th {\n",
       "        text-align: right;\n",
       "    }\n",
       "</style>\n",
       "<table border=\"1\" class=\"dataframe\">\n",
       "  <thead>\n",
       "    <tr style=\"text-align: right;\">\n",
       "      <th></th>\n",
       "      <th>time</th>\n",
       "      <th>base_loss</th>\n",
       "      <th>csv_train</th>\n",
       "      <th>exp</th>\n",
       "      <th>lambd</th>\n",
       "      <th>lr</th>\n",
       "      <th>metric</th>\n",
       "      <th>model_name</th>\n",
       "      <th>n_epochs</th>\n",
       "      <th>patience</th>\n",
       "      <th>auc</th>\n",
       "      <th>kappa</th>\n",
       "    </tr>\n",
       "  </thead>\n",
       "  <tbody>\n",
       "    <tr>\n",
       "      <th>16</th>\n",
       "      <td>0:12:11</td>\n",
       "      <td>focal_loss</td>\n",
       "      <td>train_all_1.csv</td>\n",
       "      <td>1.0</td>\n",
       "      <td>10.0</td>\n",
       "      <td>0.0001</td>\n",
       "      <td>kappa</td>\n",
       "      <td>resnet50</td>\n",
       "      <td>50.0</td>\n",
       "      <td>5.0</td>\n",
       "      <td>0.908872</td>\n",
       "      <td>0.857692</td>\n",
       "    </tr>\n",
       "    <tr>\n",
       "      <th>24</th>\n",
       "      <td>0:10:44</td>\n",
       "      <td>ce</td>\n",
       "      <td>train_all_1.csv</td>\n",
       "      <td>1.0</td>\n",
       "      <td>10.0</td>\n",
       "      <td>0.0001</td>\n",
       "      <td>kappa</td>\n",
       "      <td>resnet50</td>\n",
       "      <td>50.0</td>\n",
       "      <td>5.0</td>\n",
       "      <td>0.910152</td>\n",
       "      <td>0.855142</td>\n",
       "    </tr>\n",
       "    <tr>\n",
       "      <th>20</th>\n",
       "      <td>0:20:21</td>\n",
       "      <td>gls</td>\n",
       "      <td>train_all_1.csv</td>\n",
       "      <td>1.0</td>\n",
       "      <td>10.0</td>\n",
       "      <td>0.0001</td>\n",
       "      <td>kappa</td>\n",
       "      <td>resnet50</td>\n",
       "      <td>50.0</td>\n",
       "      <td>5.0</td>\n",
       "      <td>0.911746</td>\n",
       "      <td>0.853726</td>\n",
       "    </tr>\n",
       "    <tr>\n",
       "      <th>7</th>\n",
       "      <td>0:20:18</td>\n",
       "      <td>gls</td>\n",
       "      <td>train_all_1.csv</td>\n",
       "      <td>2.0</td>\n",
       "      <td>10.0</td>\n",
       "      <td>0.0001</td>\n",
       "      <td>kappa</td>\n",
       "      <td>resnet50</td>\n",
       "      <td>50.0</td>\n",
       "      <td>5.0</td>\n",
       "      <td>0.910105</td>\n",
       "      <td>0.853319</td>\n",
       "    </tr>\n",
       "    <tr>\n",
       "      <th>3</th>\n",
       "      <td>0:18:54</td>\n",
       "      <td>focal_loss</td>\n",
       "      <td>train_all_1.csv</td>\n",
       "      <td>2.0</td>\n",
       "      <td>10.0</td>\n",
       "      <td>0.0001</td>\n",
       "      <td>kappa</td>\n",
       "      <td>resnet50</td>\n",
       "      <td>50.0</td>\n",
       "      <td>5.0</td>\n",
       "      <td>0.911159</td>\n",
       "      <td>0.852960</td>\n",
       "    </tr>\n",
       "    <tr>\n",
       "      <th>11</th>\n",
       "      <td>0:10:44</td>\n",
       "      <td>ce</td>\n",
       "      <td>train_all_1.csv</td>\n",
       "      <td>2.0</td>\n",
       "      <td>10.0</td>\n",
       "      <td>0.0001</td>\n",
       "      <td>kappa</td>\n",
       "      <td>resnet50</td>\n",
       "      <td>50.0</td>\n",
       "      <td>5.0</td>\n",
       "      <td>0.906570</td>\n",
       "      <td>0.852516</td>\n",
       "    </tr>\n",
       "  </tbody>\n",
       "</table>\n",
       "</div>"
      ],
      "text/plain": [
       "       time   base_loss        csv_train  exp  lambd      lr metric  \\\n",
       "16  0:12:11  focal_loss  train_all_1.csv  1.0   10.0  0.0001  kappa   \n",
       "24  0:10:44          ce  train_all_1.csv  1.0   10.0  0.0001  kappa   \n",
       "20  0:20:21         gls  train_all_1.csv  1.0   10.0  0.0001  kappa   \n",
       "7   0:20:18         gls  train_all_1.csv  2.0   10.0  0.0001  kappa   \n",
       "3   0:18:54  focal_loss  train_all_1.csv  2.0   10.0  0.0001  kappa   \n",
       "11  0:10:44          ce  train_all_1.csv  2.0   10.0  0.0001  kappa   \n",
       "\n",
       "   model_name  n_epochs  patience       auc     kappa  \n",
       "16   resnet50      50.0       5.0  0.908872  0.857692  \n",
       "24   resnet50      50.0       5.0  0.910152  0.855142  \n",
       "20   resnet50      50.0       5.0  0.911746  0.853726  \n",
       "7    resnet50      50.0       5.0  0.910105  0.853319  \n",
       "3    resnet50      50.0       5.0  0.911159  0.852960  \n",
       "11   resnet50      50.0       5.0  0.906570  0.852516  "
      ]
     },
     "execution_count": 26,
     "metadata": {},
     "output_type": "execute_result"
    }
   ],
   "source": [
    "df_train1.sort_values('kappa', ascending=False).head(15)"
   ]
  },
  {
   "cell_type": "markdown",
   "metadata": {},
   "source": [
    "### The model with best kappa is focal_loss..."
   ]
  },
  {
   "cell_type": "code",
   "execution_count": null,
   "metadata": {},
   "outputs": [],
   "source": [
    "train.py --csv_train train_mac.csv --base_loss focal_loss --load_checkpoint models/resnet50_eyepacs --metric kappa --save_model True --save_path best_kappa_mac_20Mar "
   ]
  },
  {
   "cell_type": "markdown",
   "metadata": {},
   "source": [
    "## Second fold"
   ]
  },
  {
   "cell_type": "code",
   "execution_count": 27,
   "metadata": {},
   "outputs": [
    {
     "data": {
      "text/html": [
       "<div>\n",
       "<style scoped>\n",
       "    .dataframe tbody tr th:only-of-type {\n",
       "        vertical-align: middle;\n",
       "    }\n",
       "\n",
       "    .dataframe tbody tr th {\n",
       "        vertical-align: top;\n",
       "    }\n",
       "\n",
       "    .dataframe thead th {\n",
       "        text-align: right;\n",
       "    }\n",
       "</style>\n",
       "<table border=\"1\" class=\"dataframe\">\n",
       "  <thead>\n",
       "    <tr style=\"text-align: right;\">\n",
       "      <th></th>\n",
       "      <th>time</th>\n",
       "      <th>base_loss</th>\n",
       "      <th>csv_train</th>\n",
       "      <th>exp</th>\n",
       "      <th>lambd</th>\n",
       "      <th>lr</th>\n",
       "      <th>metric</th>\n",
       "      <th>model_name</th>\n",
       "      <th>n_epochs</th>\n",
       "      <th>patience</th>\n",
       "      <th>auc</th>\n",
       "      <th>kappa</th>\n",
       "    </tr>\n",
       "  </thead>\n",
       "  <tbody>\n",
       "    <tr>\n",
       "      <th>15</th>\n",
       "      <td>0:40:50</td>\n",
       "      <td>focal_loss</td>\n",
       "      <td>train_all_2.csv</td>\n",
       "      <td>1.0</td>\n",
       "      <td>10.0</td>\n",
       "      <td>0.0001</td>\n",
       "      <td>kappa</td>\n",
       "      <td>resnet50</td>\n",
       "      <td>50.0</td>\n",
       "      <td>5.0</td>\n",
       "      <td>0.940132</td>\n",
       "      <td>0.854205</td>\n",
       "    </tr>\n",
       "    <tr>\n",
       "      <th>19</th>\n",
       "      <td>0:29:06</td>\n",
       "      <td>gls</td>\n",
       "      <td>train_all_2.csv</td>\n",
       "      <td>1.0</td>\n",
       "      <td>10.0</td>\n",
       "      <td>0.0001</td>\n",
       "      <td>kappa</td>\n",
       "      <td>resnet50</td>\n",
       "      <td>50.0</td>\n",
       "      <td>5.0</td>\n",
       "      <td>0.936100</td>\n",
       "      <td>0.841414</td>\n",
       "    </tr>\n",
       "    <tr>\n",
       "      <th>6</th>\n",
       "      <td>0:31:39</td>\n",
       "      <td>gls</td>\n",
       "      <td>train_all_2.csv</td>\n",
       "      <td>2.0</td>\n",
       "      <td>10.0</td>\n",
       "      <td>0.0001</td>\n",
       "      <td>kappa</td>\n",
       "      <td>resnet50</td>\n",
       "      <td>50.0</td>\n",
       "      <td>5.0</td>\n",
       "      <td>0.928753</td>\n",
       "      <td>0.840415</td>\n",
       "    </tr>\n",
       "    <tr>\n",
       "      <th>23</th>\n",
       "      <td>0:22:25</td>\n",
       "      <td>ce</td>\n",
       "      <td>train_all_2.csv</td>\n",
       "      <td>1.0</td>\n",
       "      <td>10.0</td>\n",
       "      <td>0.0001</td>\n",
       "      <td>kappa</td>\n",
       "      <td>resnet50</td>\n",
       "      <td>50.0</td>\n",
       "      <td>5.0</td>\n",
       "      <td>0.936555</td>\n",
       "      <td>0.837230</td>\n",
       "    </tr>\n",
       "    <tr>\n",
       "      <th>2</th>\n",
       "      <td>0:28:56</td>\n",
       "      <td>focal_loss</td>\n",
       "      <td>train_all_2.csv</td>\n",
       "      <td>2.0</td>\n",
       "      <td>10.0</td>\n",
       "      <td>0.0001</td>\n",
       "      <td>kappa</td>\n",
       "      <td>resnet50</td>\n",
       "      <td>50.0</td>\n",
       "      <td>5.0</td>\n",
       "      <td>0.929571</td>\n",
       "      <td>0.832027</td>\n",
       "    </tr>\n",
       "    <tr>\n",
       "      <th>10</th>\n",
       "      <td>0:15:48</td>\n",
       "      <td>ce</td>\n",
       "      <td>train_all_2.csv</td>\n",
       "      <td>2.0</td>\n",
       "      <td>10.0</td>\n",
       "      <td>0.0001</td>\n",
       "      <td>kappa</td>\n",
       "      <td>resnet50</td>\n",
       "      <td>50.0</td>\n",
       "      <td>5.0</td>\n",
       "      <td>0.927665</td>\n",
       "      <td>0.829735</td>\n",
       "    </tr>\n",
       "  </tbody>\n",
       "</table>\n",
       "</div>"
      ],
      "text/plain": [
       "       time   base_loss        csv_train  exp  lambd      lr metric  \\\n",
       "15  0:40:50  focal_loss  train_all_2.csv  1.0   10.0  0.0001  kappa   \n",
       "19  0:29:06         gls  train_all_2.csv  1.0   10.0  0.0001  kappa   \n",
       "6   0:31:39         gls  train_all_2.csv  2.0   10.0  0.0001  kappa   \n",
       "23  0:22:25          ce  train_all_2.csv  1.0   10.0  0.0001  kappa   \n",
       "2   0:28:56  focal_loss  train_all_2.csv  2.0   10.0  0.0001  kappa   \n",
       "10  0:15:48          ce  train_all_2.csv  2.0   10.0  0.0001  kappa   \n",
       "\n",
       "   model_name  n_epochs  patience       auc     kappa  \n",
       "15   resnet50      50.0       5.0  0.940132  0.854205  \n",
       "19   resnet50      50.0       5.0  0.936100  0.841414  \n",
       "6    resnet50      50.0       5.0  0.928753  0.840415  \n",
       "23   resnet50      50.0       5.0  0.936555  0.837230  \n",
       "2    resnet50      50.0       5.0  0.929571  0.832027  \n",
       "10   resnet50      50.0       5.0  0.927665  0.829735  "
      ]
     },
     "execution_count": 27,
     "metadata": {},
     "output_type": "execute_result"
    }
   ],
   "source": [
    "df_train2.sort_values('kappa', ascending=False).head(15)"
   ]
  },
  {
   "cell_type": "markdown",
   "metadata": {},
   "source": [
    "### The model with best kappa is focal_loss..."
   ]
  },
  {
   "cell_type": "code",
   "execution_count": null,
   "metadata": {},
   "outputs": [],
   "source": []
  },
  {
   "cell_type": "markdown",
   "metadata": {},
   "source": [
    "## Third fold"
   ]
  },
  {
   "cell_type": "code",
   "execution_count": 28,
   "metadata": {},
   "outputs": [
    {
     "data": {
      "text/html": [
       "<div>\n",
       "<style scoped>\n",
       "    .dataframe tbody tr th:only-of-type {\n",
       "        vertical-align: middle;\n",
       "    }\n",
       "\n",
       "    .dataframe tbody tr th {\n",
       "        vertical-align: top;\n",
       "    }\n",
       "\n",
       "    .dataframe thead th {\n",
       "        text-align: right;\n",
       "    }\n",
       "</style>\n",
       "<table border=\"1\" class=\"dataframe\">\n",
       "  <thead>\n",
       "    <tr style=\"text-align: right;\">\n",
       "      <th></th>\n",
       "      <th>time</th>\n",
       "      <th>base_loss</th>\n",
       "      <th>csv_train</th>\n",
       "      <th>exp</th>\n",
       "      <th>lambd</th>\n",
       "      <th>lr</th>\n",
       "      <th>metric</th>\n",
       "      <th>model_name</th>\n",
       "      <th>n_epochs</th>\n",
       "      <th>patience</th>\n",
       "      <th>auc</th>\n",
       "      <th>kappa</th>\n",
       "    </tr>\n",
       "  </thead>\n",
       "  <tbody>\n",
       "    <tr>\n",
       "      <th>5</th>\n",
       "      <td>0:23:04</td>\n",
       "      <td>gls</td>\n",
       "      <td>train_all_3.csv</td>\n",
       "      <td>2.0</td>\n",
       "      <td>10.0</td>\n",
       "      <td>0.0001</td>\n",
       "      <td>kappa</td>\n",
       "      <td>resnet50</td>\n",
       "      <td>50.0</td>\n",
       "      <td>5.0</td>\n",
       "      <td>0.927763</td>\n",
       "      <td>0.882361</td>\n",
       "    </tr>\n",
       "    <tr>\n",
       "      <th>18</th>\n",
       "      <td>0:28:34</td>\n",
       "      <td>gls</td>\n",
       "      <td>train_all_3.csv</td>\n",
       "      <td>1.0</td>\n",
       "      <td>10.0</td>\n",
       "      <td>0.0001</td>\n",
       "      <td>kappa</td>\n",
       "      <td>resnet50</td>\n",
       "      <td>50.0</td>\n",
       "      <td>5.0</td>\n",
       "      <td>0.935997</td>\n",
       "      <td>0.880022</td>\n",
       "    </tr>\n",
       "    <tr>\n",
       "      <th>22</th>\n",
       "      <td>0:23:04</td>\n",
       "      <td>ce</td>\n",
       "      <td>train_all_3.csv</td>\n",
       "      <td>1.0</td>\n",
       "      <td>10.0</td>\n",
       "      <td>0.0001</td>\n",
       "      <td>kappa</td>\n",
       "      <td>resnet50</td>\n",
       "      <td>50.0</td>\n",
       "      <td>5.0</td>\n",
       "      <td>0.937363</td>\n",
       "      <td>0.873125</td>\n",
       "    </tr>\n",
       "    <tr>\n",
       "      <th>1</th>\n",
       "      <td>0:24:21</td>\n",
       "      <td>focal_loss</td>\n",
       "      <td>train_all_3.csv</td>\n",
       "      <td>2.0</td>\n",
       "      <td>10.0</td>\n",
       "      <td>0.0001</td>\n",
       "      <td>kappa</td>\n",
       "      <td>resnet50</td>\n",
       "      <td>50.0</td>\n",
       "      <td>5.0</td>\n",
       "      <td>0.928141</td>\n",
       "      <td>0.873123</td>\n",
       "    </tr>\n",
       "    <tr>\n",
       "      <th>9</th>\n",
       "      <td>0:27:03</td>\n",
       "      <td>ce</td>\n",
       "      <td>train_all_3.csv</td>\n",
       "      <td>2.0</td>\n",
       "      <td>10.0</td>\n",
       "      <td>0.0001</td>\n",
       "      <td>kappa</td>\n",
       "      <td>resnet50</td>\n",
       "      <td>50.0</td>\n",
       "      <td>5.0</td>\n",
       "      <td>0.936575</td>\n",
       "      <td>0.870542</td>\n",
       "    </tr>\n",
       "    <tr>\n",
       "      <th>14</th>\n",
       "      <td>0:17:37</td>\n",
       "      <td>focal_loss</td>\n",
       "      <td>train_all_3.csv</td>\n",
       "      <td>1.0</td>\n",
       "      <td>10.0</td>\n",
       "      <td>0.0001</td>\n",
       "      <td>kappa</td>\n",
       "      <td>resnet50</td>\n",
       "      <td>50.0</td>\n",
       "      <td>5.0</td>\n",
       "      <td>0.927314</td>\n",
       "      <td>0.866378</td>\n",
       "    </tr>\n",
       "  </tbody>\n",
       "</table>\n",
       "</div>"
      ],
      "text/plain": [
       "       time   base_loss        csv_train  exp  lambd      lr metric  \\\n",
       "5   0:23:04         gls  train_all_3.csv  2.0   10.0  0.0001  kappa   \n",
       "18  0:28:34         gls  train_all_3.csv  1.0   10.0  0.0001  kappa   \n",
       "22  0:23:04          ce  train_all_3.csv  1.0   10.0  0.0001  kappa   \n",
       "1   0:24:21  focal_loss  train_all_3.csv  2.0   10.0  0.0001  kappa   \n",
       "9   0:27:03          ce  train_all_3.csv  2.0   10.0  0.0001  kappa   \n",
       "14  0:17:37  focal_loss  train_all_3.csv  1.0   10.0  0.0001  kappa   \n",
       "\n",
       "   model_name  n_epochs  patience       auc     kappa  \n",
       "5    resnet50      50.0       5.0  0.927763  0.882361  \n",
       "18   resnet50      50.0       5.0  0.935997  0.880022  \n",
       "22   resnet50      50.0       5.0  0.937363  0.873125  \n",
       "1    resnet50      50.0       5.0  0.928141  0.873123  \n",
       "9    resnet50      50.0       5.0  0.936575  0.870542  \n",
       "14   resnet50      50.0       5.0  0.927314  0.866378  "
      ]
     },
     "execution_count": 28,
     "metadata": {},
     "output_type": "execute_result"
    }
   ],
   "source": [
    "df_train3.sort_values('kappa', ascending=False).head(15)"
   ]
  },
  {
   "cell_type": "markdown",
   "metadata": {},
   "source": [
    "### The model with best kappa is focal_loss..."
   ]
  },
  {
   "cell_type": "code",
   "execution_count": null,
   "metadata": {},
   "outputs": [],
   "source": []
  },
  {
   "cell_type": "markdown",
   "metadata": {},
   "source": [
    "## Fourth fold"
   ]
  },
  {
   "cell_type": "code",
   "execution_count": 29,
   "metadata": {},
   "outputs": [
    {
     "data": {
      "text/html": [
       "<div>\n",
       "<style scoped>\n",
       "    .dataframe tbody tr th:only-of-type {\n",
       "        vertical-align: middle;\n",
       "    }\n",
       "\n",
       "    .dataframe tbody tr th {\n",
       "        vertical-align: top;\n",
       "    }\n",
       "\n",
       "    .dataframe thead th {\n",
       "        text-align: right;\n",
       "    }\n",
       "</style>\n",
       "<table border=\"1\" class=\"dataframe\">\n",
       "  <thead>\n",
       "    <tr style=\"text-align: right;\">\n",
       "      <th></th>\n",
       "      <th>time</th>\n",
       "      <th>base_loss</th>\n",
       "      <th>csv_train</th>\n",
       "      <th>exp</th>\n",
       "      <th>lambd</th>\n",
       "      <th>lr</th>\n",
       "      <th>metric</th>\n",
       "      <th>model_name</th>\n",
       "      <th>n_epochs</th>\n",
       "      <th>patience</th>\n",
       "      <th>auc</th>\n",
       "      <th>kappa</th>\n",
       "    </tr>\n",
       "  </thead>\n",
       "  <tbody>\n",
       "    <tr>\n",
       "      <th>0</th>\n",
       "      <td>0:12:12</td>\n",
       "      <td>focal_loss</td>\n",
       "      <td>train_all_4.csv</td>\n",
       "      <td>2.0</td>\n",
       "      <td>10.0</td>\n",
       "      <td>0.0001</td>\n",
       "      <td>kappa</td>\n",
       "      <td>resnet50</td>\n",
       "      <td>50.0</td>\n",
       "      <td>5.0</td>\n",
       "      <td>0.915618</td>\n",
       "      <td>0.851332</td>\n",
       "    </tr>\n",
       "    <tr>\n",
       "      <th>13</th>\n",
       "      <td>0:12:13</td>\n",
       "      <td>focal_loss</td>\n",
       "      <td>train_all_4.csv</td>\n",
       "      <td>1.0</td>\n",
       "      <td>10.0</td>\n",
       "      <td>0.0001</td>\n",
       "      <td>kappa</td>\n",
       "      <td>resnet50</td>\n",
       "      <td>50.0</td>\n",
       "      <td>5.0</td>\n",
       "      <td>0.926175</td>\n",
       "      <td>0.849352</td>\n",
       "    </tr>\n",
       "    <tr>\n",
       "      <th>21</th>\n",
       "      <td>0:09:32</td>\n",
       "      <td>ce</td>\n",
       "      <td>train_all_4.csv</td>\n",
       "      <td>1.0</td>\n",
       "      <td>10.0</td>\n",
       "      <td>0.0001</td>\n",
       "      <td>kappa</td>\n",
       "      <td>resnet50</td>\n",
       "      <td>50.0</td>\n",
       "      <td>5.0</td>\n",
       "      <td>0.922933</td>\n",
       "      <td>0.848247</td>\n",
       "    </tr>\n",
       "    <tr>\n",
       "      <th>8</th>\n",
       "      <td>0:12:12</td>\n",
       "      <td>ce</td>\n",
       "      <td>train_all_4.csv</td>\n",
       "      <td>2.0</td>\n",
       "      <td>10.0</td>\n",
       "      <td>0.0001</td>\n",
       "      <td>kappa</td>\n",
       "      <td>resnet50</td>\n",
       "      <td>50.0</td>\n",
       "      <td>5.0</td>\n",
       "      <td>0.925101</td>\n",
       "      <td>0.845612</td>\n",
       "    </tr>\n",
       "    <tr>\n",
       "      <th>17</th>\n",
       "      <td>0:09:33</td>\n",
       "      <td>gls</td>\n",
       "      <td>train_all_4.csv</td>\n",
       "      <td>1.0</td>\n",
       "      <td>10.0</td>\n",
       "      <td>0.0001</td>\n",
       "      <td>kappa</td>\n",
       "      <td>resnet50</td>\n",
       "      <td>50.0</td>\n",
       "      <td>5.0</td>\n",
       "      <td>0.916541</td>\n",
       "      <td>0.842871</td>\n",
       "    </tr>\n",
       "    <tr>\n",
       "      <th>4</th>\n",
       "      <td>0:12:15</td>\n",
       "      <td>gls</td>\n",
       "      <td>train_all_4.csv</td>\n",
       "      <td>2.0</td>\n",
       "      <td>10.0</td>\n",
       "      <td>0.0001</td>\n",
       "      <td>kappa</td>\n",
       "      <td>resnet50</td>\n",
       "      <td>50.0</td>\n",
       "      <td>5.0</td>\n",
       "      <td>0.916695</td>\n",
       "      <td>0.840031</td>\n",
       "    </tr>\n",
       "  </tbody>\n",
       "</table>\n",
       "</div>"
      ],
      "text/plain": [
       "       time   base_loss        csv_train  exp  lambd      lr metric  \\\n",
       "0   0:12:12  focal_loss  train_all_4.csv  2.0   10.0  0.0001  kappa   \n",
       "13  0:12:13  focal_loss  train_all_4.csv  1.0   10.0  0.0001  kappa   \n",
       "21  0:09:32          ce  train_all_4.csv  1.0   10.0  0.0001  kappa   \n",
       "8   0:12:12          ce  train_all_4.csv  2.0   10.0  0.0001  kappa   \n",
       "17  0:09:33         gls  train_all_4.csv  1.0   10.0  0.0001  kappa   \n",
       "4   0:12:15         gls  train_all_4.csv  2.0   10.0  0.0001  kappa   \n",
       "\n",
       "   model_name  n_epochs  patience       auc     kappa  \n",
       "0    resnet50      50.0       5.0  0.915618  0.851332  \n",
       "13   resnet50      50.0       5.0  0.926175  0.849352  \n",
       "21   resnet50      50.0       5.0  0.922933  0.848247  \n",
       "8    resnet50      50.0       5.0  0.925101  0.845612  \n",
       "17   resnet50      50.0       5.0  0.916541  0.842871  \n",
       "4    resnet50      50.0       5.0  0.916695  0.840031  "
      ]
     },
     "execution_count": 29,
     "metadata": {},
     "output_type": "execute_result"
    }
   ],
   "source": [
    "df_train4.sort_values('kappa', ascending=False).head(15)"
   ]
  },
  {
   "cell_type": "markdown",
   "metadata": {},
   "source": [
    "### The model with best kappa is focal_loss..."
   ]
  },
  {
   "cell_type": "code",
   "execution_count": null,
   "metadata": {},
   "outputs": [],
   "source": []
  },
  {
   "cell_type": "markdown",
   "metadata": {},
   "source": [
    "# Standard Fundus\n",
    "## OD"
   ]
  },
  {
   "cell_type": "code",
   "execution_count": 13,
   "metadata": {},
   "outputs": [],
   "source": [
    "df_all = pd.read_csv('results_multi_split_fundus_od.csv')"
   ]
  },
  {
   "cell_type": "code",
   "execution_count": 14,
   "metadata": {},
   "outputs": [
    {
     "data": {
      "text/plain": [
       "Index(['time', 'base_loss', 'csv_train', 'exp', 'lambd', 'lr', 'metric',\n",
       "       'model_name', 'n_epochs', 'patience', 'auc', 'kappa'],\n",
       "      dtype='object')"
      ]
     },
     "execution_count": 14,
     "metadata": {},
     "output_type": "execute_result"
    }
   ],
   "source": [
    "df_all = df_all.drop(['run', 'operation', 'started',  'status', 'label', 'batch_size', 'decay_f', 'oversample', 'acc', 'load_checkpoint', \n",
    "        'optimizer', 'pretrained', 'save_model', 'step'], axis=1)\n",
    "df_all.columns"
   ]
  },
  {
   "cell_type": "code",
   "execution_count": 19,
   "metadata": {},
   "outputs": [],
   "source": [
    "df_train1 = df_all[df_all.csv_train=='train_od_1.csv']\n",
    "df_train2 = df_all[df_all.csv_train=='train_od_2.csv']\n",
    "df_train3 = df_all[df_all.csv_train=='train_od_3.csv']\n",
    "df_train4 = df_all[df_all.csv_train=='train_od_4.csv']"
   ]
  },
  {
   "cell_type": "markdown",
   "metadata": {},
   "source": [
    "## First fold"
   ]
  },
  {
   "cell_type": "code",
   "execution_count": 20,
   "metadata": {},
   "outputs": [
    {
     "data": {
      "text/html": [
       "<div>\n",
       "<style scoped>\n",
       "    .dataframe tbody tr th:only-of-type {\n",
       "        vertical-align: middle;\n",
       "    }\n",
       "\n",
       "    .dataframe tbody tr th {\n",
       "        vertical-align: top;\n",
       "    }\n",
       "\n",
       "    .dataframe thead th {\n",
       "        text-align: right;\n",
       "    }\n",
       "</style>\n",
       "<table border=\"1\" class=\"dataframe\">\n",
       "  <thead>\n",
       "    <tr style=\"text-align: right;\">\n",
       "      <th></th>\n",
       "      <th>time</th>\n",
       "      <th>base_loss</th>\n",
       "      <th>csv_train</th>\n",
       "      <th>exp</th>\n",
       "      <th>lambd</th>\n",
       "      <th>lr</th>\n",
       "      <th>metric</th>\n",
       "      <th>model_name</th>\n",
       "      <th>n_epochs</th>\n",
       "      <th>patience</th>\n",
       "      <th>auc</th>\n",
       "      <th>kappa</th>\n",
       "    </tr>\n",
       "  </thead>\n",
       "  <tbody>\n",
       "    <tr>\n",
       "      <th>3</th>\n",
       "      <td>0:06:49</td>\n",
       "      <td>focal_loss</td>\n",
       "      <td>train_od_1.csv</td>\n",
       "      <td>1.0</td>\n",
       "      <td>10.0</td>\n",
       "      <td>0.0001</td>\n",
       "      <td>kappa_auc_avg</td>\n",
       "      <td>resnet50</td>\n",
       "      <td>50.0</td>\n",
       "      <td>5.0</td>\n",
       "      <td>0.915289</td>\n",
       "      <td>0.872834</td>\n",
       "    </tr>\n",
       "    <tr>\n",
       "      <th>16</th>\n",
       "      <td>0:06:49</td>\n",
       "      <td>focal_loss</td>\n",
       "      <td>train_od_1.csv</td>\n",
       "      <td>1.0</td>\n",
       "      <td>10.0</td>\n",
       "      <td>0.0001</td>\n",
       "      <td>kappa</td>\n",
       "      <td>resnet50</td>\n",
       "      <td>50.0</td>\n",
       "      <td>5.0</td>\n",
       "      <td>0.915289</td>\n",
       "      <td>0.872834</td>\n",
       "    </tr>\n",
       "    <tr>\n",
       "      <th>7</th>\n",
       "      <td>0:06:49</td>\n",
       "      <td>ce</td>\n",
       "      <td>train_od_1.csv</td>\n",
       "      <td>1.0</td>\n",
       "      <td>10.0</td>\n",
       "      <td>0.0001</td>\n",
       "      <td>kappa_auc_avg</td>\n",
       "      <td>resnet50</td>\n",
       "      <td>50.0</td>\n",
       "      <td>5.0</td>\n",
       "      <td>0.916071</td>\n",
       "      <td>0.871407</td>\n",
       "    </tr>\n",
       "    <tr>\n",
       "      <th>20</th>\n",
       "      <td>0:06:49</td>\n",
       "      <td>ce</td>\n",
       "      <td>train_od_1.csv</td>\n",
       "      <td>1.0</td>\n",
       "      <td>10.0</td>\n",
       "      <td>0.0001</td>\n",
       "      <td>kappa</td>\n",
       "      <td>resnet50</td>\n",
       "      <td>50.0</td>\n",
       "      <td>5.0</td>\n",
       "      <td>0.916071</td>\n",
       "      <td>0.871407</td>\n",
       "    </tr>\n",
       "    <tr>\n",
       "      <th>11</th>\n",
       "      <td>0:06:49</td>\n",
       "      <td>gls</td>\n",
       "      <td>train_od_1.csv</td>\n",
       "      <td>1.0</td>\n",
       "      <td>10.0</td>\n",
       "      <td>0.0001</td>\n",
       "      <td>kappa_auc_avg</td>\n",
       "      <td>resnet50</td>\n",
       "      <td>50.0</td>\n",
       "      <td>5.0</td>\n",
       "      <td>0.911026</td>\n",
       "      <td>0.861434</td>\n",
       "    </tr>\n",
       "  </tbody>\n",
       "</table>\n",
       "</div>"
      ],
      "text/plain": [
       "       time   base_loss       csv_train  exp  lambd      lr         metric  \\\n",
       "3   0:06:49  focal_loss  train_od_1.csv  1.0   10.0  0.0001  kappa_auc_avg   \n",
       "16  0:06:49  focal_loss  train_od_1.csv  1.0   10.0  0.0001          kappa   \n",
       "7   0:06:49          ce  train_od_1.csv  1.0   10.0  0.0001  kappa_auc_avg   \n",
       "20  0:06:49          ce  train_od_1.csv  1.0   10.0  0.0001          kappa   \n",
       "11  0:06:49         gls  train_od_1.csv  1.0   10.0  0.0001  kappa_auc_avg   \n",
       "\n",
       "   model_name  n_epochs  patience       auc     kappa  \n",
       "3    resnet50      50.0       5.0  0.915289  0.872834  \n",
       "16   resnet50      50.0       5.0  0.915289  0.872834  \n",
       "7    resnet50      50.0       5.0  0.916071  0.871407  \n",
       "20   resnet50      50.0       5.0  0.916071  0.871407  \n",
       "11   resnet50      50.0       5.0  0.911026  0.861434  "
      ]
     },
     "execution_count": 20,
     "metadata": {},
     "output_type": "execute_result"
    }
   ],
   "source": [
    "df_train1.sort_values('kappa', ascending=False).head(5)"
   ]
  },
  {
   "cell_type": "markdown",
   "metadata": {},
   "source": [
    "### The model with best kappa is focal_loss..."
   ]
  },
  {
   "cell_type": "markdown",
   "metadata": {},
   "source": [
    "train.py --csv_train train_mac.csv --base_loss focal_loss --load_checkpoint models/resnet50_eyepacs --metric kappa --save_model True --save_path best_kappa_mac_20Mar "
   ]
  },
  {
   "cell_type": "markdown",
   "metadata": {},
   "source": [
    "## Second fold"
   ]
  },
  {
   "cell_type": "code",
   "execution_count": null,
   "metadata": {},
   "outputs": [],
   "source": [
    "df_train2.sort_values('kappa', ascending=False).head(5)"
   ]
  },
  {
   "cell_type": "markdown",
   "metadata": {},
   "source": [
    "### The model with best kappa is focal_loss..."
   ]
  },
  {
   "cell_type": "code",
   "execution_count": null,
   "metadata": {},
   "outputs": [],
   "source": []
  },
  {
   "cell_type": "markdown",
   "metadata": {},
   "source": [
    "## Third fold"
   ]
  },
  {
   "cell_type": "code",
   "execution_count": null,
   "metadata": {},
   "outputs": [],
   "source": [
    "df_train3.sort_values('kappa', ascending=False).head(5)"
   ]
  },
  {
   "cell_type": "markdown",
   "metadata": {},
   "source": [
    "### The model with best kappa is focal_loss..."
   ]
  },
  {
   "cell_type": "code",
   "execution_count": null,
   "metadata": {},
   "outputs": [],
   "source": []
  },
  {
   "cell_type": "markdown",
   "metadata": {},
   "source": [
    "## Fourth fold"
   ]
  },
  {
   "cell_type": "code",
   "execution_count": null,
   "metadata": {},
   "outputs": [],
   "source": [
    "df_train4.sort_values('kappa', ascending=False).head(5)"
   ]
  },
  {
   "cell_type": "markdown",
   "metadata": {},
   "source": [
    "### The model with best kappa is focal_loss..."
   ]
  },
  {
   "cell_type": "code",
   "execution_count": null,
   "metadata": {},
   "outputs": [],
   "source": []
  },
  {
   "cell_type": "code",
   "execution_count": null,
   "metadata": {},
   "outputs": [],
   "source": []
  }
 ],
 "metadata": {
  "kernelspec": {
   "display_name": "vessels",
   "language": "python",
   "name": "build_central"
  },
  "language_info": {
   "codemirror_mode": {
    "name": "ipython",
    "version": 3
   },
   "file_extension": ".py",
   "mimetype": "text/x-python",
   "name": "python",
   "nbconvert_exporter": "python",
   "pygments_lexer": "ipython3",
   "version": "3.7.6"
  }
 },
 "nbformat": 4,
 "nbformat_minor": 4
}
