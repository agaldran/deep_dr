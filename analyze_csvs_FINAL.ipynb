{
 "cells": [
  {
   "cell_type": "code",
   "execution_count": 4,
   "metadata": {},
   "outputs": [],
   "source": [
    "# train_loader, val_loader = get_train_val_loaders(csv_path_train='data/train_all_qualities.csv', csv_path_val='data/val_all_qualities.csv',\n",
    "#                                                      batch_size=8, mean=0, std=1, qualities=True)"
   ]
  },
  {
   "cell_type": "code",
   "execution_count": 5,
   "metadata": {},
   "outputs": [],
   "source": [
    "# print('quality', np.unique(train_loader.dataset.quality, return_counts=True)[1])\n",
    "# print('artifact', np.unique(train_loader.dataset.artifact, return_counts=True)[1])\n",
    "# print('field_def', np.unique(train_loader.dataset.field_def, return_counts=True)[1])\n",
    "# print('clarity', np.unique(train_loader.dataset.clarity, return_counts=True)[1])"
   ]
  },
  {
   "cell_type": "code",
   "execution_count": 6,
   "metadata": {},
   "outputs": [],
   "source": [
    "# csv_train_path = train_loader.dataset.csv_path #[10,4,1,1,1] [8,3,1,1,1]"
   ]
  },
  {
   "cell_type": "code",
   "execution_count": 7,
   "metadata": {},
   "outputs": [],
   "source": [
    "# train_loader_MOD = modify_MT_dataset(train_loader, csv_train_path=csv_train_path, keep_samples=[8,3,1,1,1], task='clarity')\n",
    "# print('quality', np.unique(train_loader_MOD.quality, return_counts=True)[1])\n",
    "# print('artifact', np.unique(train_loader_MOD.artifact, return_counts=True)[1])\n",
    "# print('field_def', np.unique(train_loader_MOD.field_def, return_counts=True)[1])\n",
    "# print('clarity', np.unique(train_loader_MOD.clarity, return_counts=True)[1])"
   ]
  },
  {
   "cell_type": "code",
   "execution_count": 8,
   "metadata": {},
   "outputs": [],
   "source": [
    "# csv_train_path = train_loader.dataset.csv_path #[10,4,1,1,1] [8,3,1,1,1]"
   ]
  },
  {
   "cell_type": "code",
   "execution_count": 9,
   "metadata": {},
   "outputs": [],
   "source": [
    "# train_loader_MOD = modify_MT_dataset(train_loader, csv_train_path=csv_train_path, keep_samples=[10,4,1,1,1], task='field_def')\n",
    "# print('quality', np.unique(train_loader_MOD.quality, return_counts=True)[1])\n",
    "# print('artifact', np.unique(train_loader_MOD.artifact, return_counts=True)[1])\n",
    "# print('field_def', np.unique(train_loader_MOD.field_def, return_counts=True)[1])\n",
    "# print('clarity', np.unique(train_loader_MOD.clarity, return_counts=True)[1])"
   ]
  },
  {
   "cell_type": "code",
   "execution_count": 10,
   "metadata": {},
   "outputs": [],
   "source": [
    "# csv_train_path = train_loader.dataset.csv_path #[10,4,1,1,1] [8,3,1,1,1]"
   ]
  },
  {
   "cell_type": "code",
   "execution_count": 11,
   "metadata": {},
   "outputs": [],
   "source": [
    "# train_loader_MOD = modify_MT_dataset(train_loader, csv_train_path=csv_train_path, keep_samples=[1,5,1,2,2,5], task='artifact')\n",
    "# print('quality', np.unique(train_loader_MOD.quality, return_counts=True)[1])\n",
    "# print('artifact', np.unique(train_loader_MOD.artifact, return_counts=True)[1])\n",
    "# print('field_def', np.unique(train_loader_MOD.field_def, return_counts=True)[1])\n",
    "# print('clarity', np.unique(train_loader_MOD.clarity, return_counts=True)[1])"
   ]
  },
  {
   "cell_type": "code",
   "execution_count": 1,
   "metadata": {},
   "outputs": [],
   "source": [
    "import pandas as pd"
   ]
  },
  {
   "cell_type": "code",
   "execution_count": 2,
   "metadata": {},
   "outputs": [
    {
     "data": {
      "text/html": [
       "<style>.container { width:80% !important; }</style>"
      ],
      "text/plain": [
       "<IPython.core.display.HTML object>"
      ]
     },
     "metadata": {},
     "output_type": "display_data"
    }
   ],
   "source": [
    "from IPython.core.display import display, HTML\n",
    "display(HTML(\"<style>.container { width:80% !important; }</style>\"))"
   ]
  },
  {
   "cell_type": "code",
   "execution_count": 3,
   "metadata": {},
   "outputs": [],
   "source": [
    "%load_ext autoreload\n",
    "%autoreload 2\n",
    "\n",
    "from utils.get_loaders import get_train_val_loaders, modify_MT_dataset\n",
    "import numpy as np"
   ]
  },
  {
   "cell_type": "markdown",
   "metadata": {},
   "source": [
    "# Standard Fundus\n",
    "## Both OD+MAC"
   ]
  },
  {
   "cell_type": "code",
   "execution_count": 67,
   "metadata": {},
   "outputs": [],
   "source": [
    "df_all = pd.read_csv('results_multi_split_fundus_both.csv')"
   ]
  },
  {
   "cell_type": "code",
   "execution_count": 68,
   "metadata": {},
   "outputs": [
    {
     "data": {
      "text/plain": [
       "Index(['time', 'base_loss', 'csv_train', 'exp', 'lambd', 'load_checkpoint',\n",
       "       'lr', 'metric', 'model_name', 'n_epochs', 'oversample', 'patience',\n",
       "       'pretrained', 'auc', 'kappa'],\n",
       "      dtype='object')"
      ]
     },
     "execution_count": 68,
     "metadata": {},
     "output_type": "execute_result"
    }
   ],
   "source": [
    "df_all = df_all.drop(['run', 'operation', 'started', 'status', 'label', 'batch_size', 'decay_f', 'acc', \n",
    "        'optimizer', 'save_model', 'step'], axis=1)\n",
    "df_all.columns"
   ]
  },
  {
   "cell_type": "code",
   "execution_count": 69,
   "metadata": {},
   "outputs": [],
   "source": [
    "df_train1 = df_all[df_all.csv_train=='train_all_1.csv']\n",
    "df_train2 = df_all[df_all.csv_train=='train_all_2.csv']\n",
    "df_train3 = df_all[df_all.csv_train=='train_all_3.csv']\n",
    "df_train4 = df_all[df_all.csv_train=='train_all_4.csv']"
   ]
  },
  {
   "cell_type": "markdown",
   "metadata": {},
   "source": [
    "## First fold - trained"
   ]
  },
  {
   "cell_type": "code",
   "execution_count": 70,
   "metadata": {},
   "outputs": [
    {
     "data": {
      "text/html": [
       "<div>\n",
       "<style scoped>\n",
       "    .dataframe tbody tr th:only-of-type {\n",
       "        vertical-align: middle;\n",
       "    }\n",
       "\n",
       "    .dataframe tbody tr th {\n",
       "        vertical-align: top;\n",
       "    }\n",
       "\n",
       "    .dataframe thead th {\n",
       "        text-align: right;\n",
       "    }\n",
       "</style>\n",
       "<table border=\"1\" class=\"dataframe\">\n",
       "  <thead>\n",
       "    <tr style=\"text-align: right;\">\n",
       "      <th></th>\n",
       "      <th>time</th>\n",
       "      <th>base_loss</th>\n",
       "      <th>csv_train</th>\n",
       "      <th>exp</th>\n",
       "      <th>lambd</th>\n",
       "      <th>load_checkpoint</th>\n",
       "      <th>lr</th>\n",
       "      <th>metric</th>\n",
       "      <th>model_name</th>\n",
       "      <th>n_epochs</th>\n",
       "      <th>oversample</th>\n",
       "      <th>patience</th>\n",
       "      <th>pretrained</th>\n",
       "      <th>auc</th>\n",
       "      <th>kappa</th>\n",
       "    </tr>\n",
       "  </thead>\n",
       "  <tbody>\n",
       "    <tr>\n",
       "      <th>16</th>\n",
       "      <td>0:12:11</td>\n",
       "      <td>focal_loss</td>\n",
       "      <td>train_all_1.csv</td>\n",
       "      <td>1.0</td>\n",
       "      <td>10.0</td>\n",
       "      <td>models/resnet50_eyepacs</td>\n",
       "      <td>0.0001</td>\n",
       "      <td>kappa</td>\n",
       "      <td>resnet50</td>\n",
       "      <td>50.0</td>\n",
       "      <td>1/4/2/2/7</td>\n",
       "      <td>5.0</td>\n",
       "      <td>True</td>\n",
       "      <td>0.908872</td>\n",
       "      <td>0.857692</td>\n",
       "    </tr>\n",
       "    <tr>\n",
       "      <th>24</th>\n",
       "      <td>0:10:44</td>\n",
       "      <td>ce</td>\n",
       "      <td>train_all_1.csv</td>\n",
       "      <td>1.0</td>\n",
       "      <td>10.0</td>\n",
       "      <td>models/resnet50_eyepacs</td>\n",
       "      <td>0.0001</td>\n",
       "      <td>kappa</td>\n",
       "      <td>resnet50</td>\n",
       "      <td>50.0</td>\n",
       "      <td>1/4/2/2/7</td>\n",
       "      <td>5.0</td>\n",
       "      <td>True</td>\n",
       "      <td>0.910152</td>\n",
       "      <td>0.855142</td>\n",
       "    </tr>\n",
       "    <tr>\n",
       "      <th>37</th>\n",
       "      <td>0:13:30</td>\n",
       "      <td>ce</td>\n",
       "      <td>train_all_1.csv</td>\n",
       "      <td>1.0</td>\n",
       "      <td>10.0</td>\n",
       "      <td>models/resnet50_eyepacs</td>\n",
       "      <td>0.0001</td>\n",
       "      <td>kappa_auc_avg</td>\n",
       "      <td>resnet50</td>\n",
       "      <td>50.0</td>\n",
       "      <td>1/4/2/2/7</td>\n",
       "      <td>5.0</td>\n",
       "      <td>True</td>\n",
       "      <td>0.912566</td>\n",
       "      <td>0.855063</td>\n",
       "    </tr>\n",
       "    <tr>\n",
       "      <th>29</th>\n",
       "      <td>0:20:15</td>\n",
       "      <td>focal_loss</td>\n",
       "      <td>train_all_1.csv</td>\n",
       "      <td>1.0</td>\n",
       "      <td>10.0</td>\n",
       "      <td>models/resnet50_eyepacs</td>\n",
       "      <td>0.0001</td>\n",
       "      <td>kappa_auc_avg</td>\n",
       "      <td>resnet50</td>\n",
       "      <td>50.0</td>\n",
       "      <td>1/4/2/2/7</td>\n",
       "      <td>5.0</td>\n",
       "      <td>True</td>\n",
       "      <td>0.914934</td>\n",
       "      <td>0.854528</td>\n",
       "    </tr>\n",
       "    <tr>\n",
       "      <th>20</th>\n",
       "      <td>0:20:21</td>\n",
       "      <td>gls</td>\n",
       "      <td>train_all_1.csv</td>\n",
       "      <td>1.0</td>\n",
       "      <td>10.0</td>\n",
       "      <td>models/resnet50_eyepacs</td>\n",
       "      <td>0.0001</td>\n",
       "      <td>kappa</td>\n",
       "      <td>resnet50</td>\n",
       "      <td>50.0</td>\n",
       "      <td>1/4/2/2/7</td>\n",
       "      <td>5.0</td>\n",
       "      <td>True</td>\n",
       "      <td>0.911746</td>\n",
       "      <td>0.853726</td>\n",
       "    </tr>\n",
       "  </tbody>\n",
       "</table>\n",
       "</div>"
      ],
      "text/plain": [
       "       time   base_loss        csv_train  exp  lambd          load_checkpoint  \\\n",
       "16  0:12:11  focal_loss  train_all_1.csv  1.0   10.0  models/resnet50_eyepacs   \n",
       "24  0:10:44          ce  train_all_1.csv  1.0   10.0  models/resnet50_eyepacs   \n",
       "37  0:13:30          ce  train_all_1.csv  1.0   10.0  models/resnet50_eyepacs   \n",
       "29  0:20:15  focal_loss  train_all_1.csv  1.0   10.0  models/resnet50_eyepacs   \n",
       "20  0:20:21         gls  train_all_1.csv  1.0   10.0  models/resnet50_eyepacs   \n",
       "\n",
       "        lr         metric model_name  n_epochs oversample  patience  \\\n",
       "16  0.0001          kappa   resnet50      50.0  1/4/2/2/7       5.0   \n",
       "24  0.0001          kappa   resnet50      50.0  1/4/2/2/7       5.0   \n",
       "37  0.0001  kappa_auc_avg   resnet50      50.0  1/4/2/2/7       5.0   \n",
       "29  0.0001  kappa_auc_avg   resnet50      50.0  1/4/2/2/7       5.0   \n",
       "20  0.0001          kappa   resnet50      50.0  1/4/2/2/7       5.0   \n",
       "\n",
       "   pretrained       auc     kappa  \n",
       "16       True  0.908872  0.857692  \n",
       "24       True  0.910152  0.855142  \n",
       "37       True  0.912566  0.855063  \n",
       "29       True  0.914934  0.854528  \n",
       "20       True  0.911746  0.853726  "
      ]
     },
     "execution_count": 70,
     "metadata": {},
     "output_type": "execute_result"
    }
   ],
   "source": [
    "df_train1.sort_values('kappa', ascending=False).head(5)"
   ]
  },
  {
   "cell_type": "markdown",
   "metadata": {},
   "source": [
    "### Best models this fold:"
   ]
  },
  {
   "cell_type": "markdown",
   "metadata": {},
   "source": [
    "python train.py --csv_train train_all_1.csv --base_loss ce --exp 1 --lambd 10 --lr 0.0001 --load_checkpoint models/resnet50_eyepacs --metric kappa_auc_avg --model_name resnet50 --n_epochs 50 --patience 5 --oversample 1/4/2/2/7 --save_model True --save_path best_both_f1 "
   ]
  },
  {
   "cell_type": "markdown",
   "metadata": {},
   "source": [
    "## Second fold - trained"
   ]
  },
  {
   "cell_type": "code",
   "execution_count": 16,
   "metadata": {},
   "outputs": [
    {
     "data": {
      "text/html": [
       "<div>\n",
       "<style scoped>\n",
       "    .dataframe tbody tr th:only-of-type {\n",
       "        vertical-align: middle;\n",
       "    }\n",
       "\n",
       "    .dataframe tbody tr th {\n",
       "        vertical-align: top;\n",
       "    }\n",
       "\n",
       "    .dataframe thead th {\n",
       "        text-align: right;\n",
       "    }\n",
       "</style>\n",
       "<table border=\"1\" class=\"dataframe\">\n",
       "  <thead>\n",
       "    <tr style=\"text-align: right;\">\n",
       "      <th></th>\n",
       "      <th>time</th>\n",
       "      <th>base_loss</th>\n",
       "      <th>csv_train</th>\n",
       "      <th>exp</th>\n",
       "      <th>lambd</th>\n",
       "      <th>lr</th>\n",
       "      <th>metric</th>\n",
       "      <th>model_name</th>\n",
       "      <th>n_epochs</th>\n",
       "      <th>oversample</th>\n",
       "      <th>patience</th>\n",
       "      <th>pretrained</th>\n",
       "      <th>auc</th>\n",
       "      <th>kappa</th>\n",
       "    </tr>\n",
       "  </thead>\n",
       "  <tbody>\n",
       "    <tr>\n",
       "      <th>32</th>\n",
       "      <td>0:42:15</td>\n",
       "      <td>gls</td>\n",
       "      <td>train_all_2.csv</td>\n",
       "      <td>1.0</td>\n",
       "      <td>10.0</td>\n",
       "      <td>0.0001</td>\n",
       "      <td>kappa_auc_avg</td>\n",
       "      <td>resnet50</td>\n",
       "      <td>50.0</td>\n",
       "      <td>1/4/2/2/7</td>\n",
       "      <td>5.0</td>\n",
       "      <td>True</td>\n",
       "      <td>0.935597</td>\n",
       "      <td>0.857399</td>\n",
       "    </tr>\n",
       "    <tr>\n",
       "      <th>15</th>\n",
       "      <td>0:40:50</td>\n",
       "      <td>focal_loss</td>\n",
       "      <td>train_all_2.csv</td>\n",
       "      <td>1.0</td>\n",
       "      <td>10.0</td>\n",
       "      <td>0.0001</td>\n",
       "      <td>kappa</td>\n",
       "      <td>resnet50</td>\n",
       "      <td>50.0</td>\n",
       "      <td>1/4/2/2/7</td>\n",
       "      <td>5.0</td>\n",
       "      <td>True</td>\n",
       "      <td>0.940132</td>\n",
       "      <td>0.854205</td>\n",
       "    </tr>\n",
       "    <tr>\n",
       "      <th>28</th>\n",
       "      <td>0:40:47</td>\n",
       "      <td>focal_loss</td>\n",
       "      <td>train_all_2.csv</td>\n",
       "      <td>1.0</td>\n",
       "      <td>10.0</td>\n",
       "      <td>0.0001</td>\n",
       "      <td>kappa_auc_avg</td>\n",
       "      <td>resnet50</td>\n",
       "      <td>50.0</td>\n",
       "      <td>1/4/2/2/7</td>\n",
       "      <td>5.0</td>\n",
       "      <td>True</td>\n",
       "      <td>0.940132</td>\n",
       "      <td>0.854205</td>\n",
       "    </tr>\n",
       "    <tr>\n",
       "      <th>19</th>\n",
       "      <td>0:29:06</td>\n",
       "      <td>gls</td>\n",
       "      <td>train_all_2.csv</td>\n",
       "      <td>1.0</td>\n",
       "      <td>10.0</td>\n",
       "      <td>0.0001</td>\n",
       "      <td>kappa</td>\n",
       "      <td>resnet50</td>\n",
       "      <td>50.0</td>\n",
       "      <td>1/4/2/2/7</td>\n",
       "      <td>5.0</td>\n",
       "      <td>True</td>\n",
       "      <td>0.936100</td>\n",
       "      <td>0.841414</td>\n",
       "    </tr>\n",
       "    <tr>\n",
       "      <th>6</th>\n",
       "      <td>0:31:39</td>\n",
       "      <td>gls</td>\n",
       "      <td>train_all_2.csv</td>\n",
       "      <td>2.0</td>\n",
       "      <td>10.0</td>\n",
       "      <td>0.0001</td>\n",
       "      <td>kappa</td>\n",
       "      <td>resnet50</td>\n",
       "      <td>50.0</td>\n",
       "      <td>1/4/2/2/7</td>\n",
       "      <td>5.0</td>\n",
       "      <td>True</td>\n",
       "      <td>0.928753</td>\n",
       "      <td>0.840415</td>\n",
       "    </tr>\n",
       "    <tr>\n",
       "      <th>23</th>\n",
       "      <td>0:22:25</td>\n",
       "      <td>ce</td>\n",
       "      <td>train_all_2.csv</td>\n",
       "      <td>1.0</td>\n",
       "      <td>10.0</td>\n",
       "      <td>0.0001</td>\n",
       "      <td>kappa</td>\n",
       "      <td>resnet50</td>\n",
       "      <td>50.0</td>\n",
       "      <td>1/4/2/2/7</td>\n",
       "      <td>5.0</td>\n",
       "      <td>True</td>\n",
       "      <td>0.936555</td>\n",
       "      <td>0.837230</td>\n",
       "    </tr>\n",
       "    <tr>\n",
       "      <th>36</th>\n",
       "      <td>0:25:03</td>\n",
       "      <td>ce</td>\n",
       "      <td>train_all_2.csv</td>\n",
       "      <td>1.0</td>\n",
       "      <td>10.0</td>\n",
       "      <td>0.0001</td>\n",
       "      <td>kappa_auc_avg</td>\n",
       "      <td>resnet50</td>\n",
       "      <td>50.0</td>\n",
       "      <td>1/4/2/2/7</td>\n",
       "      <td>5.0</td>\n",
       "      <td>True</td>\n",
       "      <td>0.938209</td>\n",
       "      <td>0.837085</td>\n",
       "    </tr>\n",
       "    <tr>\n",
       "      <th>2</th>\n",
       "      <td>0:28:56</td>\n",
       "      <td>focal_loss</td>\n",
       "      <td>train_all_2.csv</td>\n",
       "      <td>2.0</td>\n",
       "      <td>10.0</td>\n",
       "      <td>0.0001</td>\n",
       "      <td>kappa</td>\n",
       "      <td>resnet50</td>\n",
       "      <td>50.0</td>\n",
       "      <td>1/4/2/2/7</td>\n",
       "      <td>5.0</td>\n",
       "      <td>True</td>\n",
       "      <td>0.929571</td>\n",
       "      <td>0.832027</td>\n",
       "    </tr>\n",
       "    <tr>\n",
       "      <th>10</th>\n",
       "      <td>0:15:48</td>\n",
       "      <td>ce</td>\n",
       "      <td>train_all_2.csv</td>\n",
       "      <td>2.0</td>\n",
       "      <td>10.0</td>\n",
       "      <td>0.0001</td>\n",
       "      <td>kappa</td>\n",
       "      <td>resnet50</td>\n",
       "      <td>50.0</td>\n",
       "      <td>1/4/2/2/7</td>\n",
       "      <td>5.0</td>\n",
       "      <td>True</td>\n",
       "      <td>0.927665</td>\n",
       "      <td>0.829735</td>\n",
       "    </tr>\n",
       "  </tbody>\n",
       "</table>\n",
       "</div>"
      ],
      "text/plain": [
       "       time   base_loss        csv_train  exp  lambd      lr         metric  \\\n",
       "32  0:42:15         gls  train_all_2.csv  1.0   10.0  0.0001  kappa_auc_avg   \n",
       "15  0:40:50  focal_loss  train_all_2.csv  1.0   10.0  0.0001          kappa   \n",
       "28  0:40:47  focal_loss  train_all_2.csv  1.0   10.0  0.0001  kappa_auc_avg   \n",
       "19  0:29:06         gls  train_all_2.csv  1.0   10.0  0.0001          kappa   \n",
       "6   0:31:39         gls  train_all_2.csv  2.0   10.0  0.0001          kappa   \n",
       "23  0:22:25          ce  train_all_2.csv  1.0   10.0  0.0001          kappa   \n",
       "36  0:25:03          ce  train_all_2.csv  1.0   10.0  0.0001  kappa_auc_avg   \n",
       "2   0:28:56  focal_loss  train_all_2.csv  2.0   10.0  0.0001          kappa   \n",
       "10  0:15:48          ce  train_all_2.csv  2.0   10.0  0.0001          kappa   \n",
       "\n",
       "   model_name  n_epochs oversample  patience pretrained       auc     kappa  \n",
       "32   resnet50      50.0  1/4/2/2/7       5.0       True  0.935597  0.857399  \n",
       "15   resnet50      50.0  1/4/2/2/7       5.0       True  0.940132  0.854205  \n",
       "28   resnet50      50.0  1/4/2/2/7       5.0       True  0.940132  0.854205  \n",
       "19   resnet50      50.0  1/4/2/2/7       5.0       True  0.936100  0.841414  \n",
       "6    resnet50      50.0  1/4/2/2/7       5.0       True  0.928753  0.840415  \n",
       "23   resnet50      50.0  1/4/2/2/7       5.0       True  0.936555  0.837230  \n",
       "36   resnet50      50.0  1/4/2/2/7       5.0       True  0.938209  0.837085  \n",
       "2    resnet50      50.0  1/4/2/2/7       5.0       True  0.929571  0.832027  \n",
       "10   resnet50      50.0  1/4/2/2/7       5.0       True  0.927665  0.829735  "
      ]
     },
     "execution_count": 16,
     "metadata": {},
     "output_type": "execute_result"
    }
   ],
   "source": [
    "df_train2.sort_values('kappa', ascending=False).head(15)"
   ]
  },
  {
   "cell_type": "markdown",
   "metadata": {},
   "source": [
    "### Best models this fold:"
   ]
  },
  {
   "cell_type": "markdown",
   "metadata": {},
   "source": [
    "python train.py --csv_train train_all_2.csv --base_loss gls --exp 1 --lambd 10 --load_checkpoint models/resnet50_eyepacs --metric kappa_auc_avg --model_name resnet50 --n_epochs 50 --patience 5 --oversample 1/4/2/2/7 --save_model True --save_path best_both_f2 "
   ]
  },
  {
   "cell_type": "markdown",
   "metadata": {},
   "source": [
    "## Third fold - trained"
   ]
  },
  {
   "cell_type": "code",
   "execution_count": 17,
   "metadata": {},
   "outputs": [
    {
     "data": {
      "text/html": [
       "<div>\n",
       "<style scoped>\n",
       "    .dataframe tbody tr th:only-of-type {\n",
       "        vertical-align: middle;\n",
       "    }\n",
       "\n",
       "    .dataframe tbody tr th {\n",
       "        vertical-align: top;\n",
       "    }\n",
       "\n",
       "    .dataframe thead th {\n",
       "        text-align: right;\n",
       "    }\n",
       "</style>\n",
       "<table border=\"1\" class=\"dataframe\">\n",
       "  <thead>\n",
       "    <tr style=\"text-align: right;\">\n",
       "      <th></th>\n",
       "      <th>time</th>\n",
       "      <th>base_loss</th>\n",
       "      <th>csv_train</th>\n",
       "      <th>exp</th>\n",
       "      <th>lambd</th>\n",
       "      <th>lr</th>\n",
       "      <th>metric</th>\n",
       "      <th>model_name</th>\n",
       "      <th>n_epochs</th>\n",
       "      <th>oversample</th>\n",
       "      <th>patience</th>\n",
       "      <th>pretrained</th>\n",
       "      <th>auc</th>\n",
       "      <th>kappa</th>\n",
       "    </tr>\n",
       "  </thead>\n",
       "  <tbody>\n",
       "    <tr>\n",
       "      <th>31</th>\n",
       "      <td>0:38:01</td>\n",
       "      <td>gls</td>\n",
       "      <td>train_all_3.csv</td>\n",
       "      <td>1.0</td>\n",
       "      <td>10.0</td>\n",
       "      <td>0.0001</td>\n",
       "      <td>kappa_auc_avg</td>\n",
       "      <td>resnet50</td>\n",
       "      <td>50.0</td>\n",
       "      <td>1/4/2/2/7</td>\n",
       "      <td>5.0</td>\n",
       "      <td>True</td>\n",
       "      <td>0.938523</td>\n",
       "      <td>0.882619</td>\n",
       "    </tr>\n",
       "    <tr>\n",
       "      <th>5</th>\n",
       "      <td>0:23:04</td>\n",
       "      <td>gls</td>\n",
       "      <td>train_all_3.csv</td>\n",
       "      <td>2.0</td>\n",
       "      <td>10.0</td>\n",
       "      <td>0.0001</td>\n",
       "      <td>kappa</td>\n",
       "      <td>resnet50</td>\n",
       "      <td>50.0</td>\n",
       "      <td>1/4/2/2/7</td>\n",
       "      <td>5.0</td>\n",
       "      <td>True</td>\n",
       "      <td>0.927763</td>\n",
       "      <td>0.882361</td>\n",
       "    </tr>\n",
       "    <tr>\n",
       "      <th>18</th>\n",
       "      <td>0:28:34</td>\n",
       "      <td>gls</td>\n",
       "      <td>train_all_3.csv</td>\n",
       "      <td>1.0</td>\n",
       "      <td>10.0</td>\n",
       "      <td>0.0001</td>\n",
       "      <td>kappa</td>\n",
       "      <td>resnet50</td>\n",
       "      <td>50.0</td>\n",
       "      <td>1/4/2/2/7</td>\n",
       "      <td>5.0</td>\n",
       "      <td>True</td>\n",
       "      <td>0.935997</td>\n",
       "      <td>0.880022</td>\n",
       "    </tr>\n",
       "    <tr>\n",
       "      <th>27</th>\n",
       "      <td>0:37:52</td>\n",
       "      <td>focal_loss</td>\n",
       "      <td>train_all_3.csv</td>\n",
       "      <td>1.0</td>\n",
       "      <td>10.0</td>\n",
       "      <td>0.0001</td>\n",
       "      <td>kappa_auc_avg</td>\n",
       "      <td>resnet50</td>\n",
       "      <td>50.0</td>\n",
       "      <td>1/4/2/2/7</td>\n",
       "      <td>5.0</td>\n",
       "      <td>True</td>\n",
       "      <td>0.939830</td>\n",
       "      <td>0.877664</td>\n",
       "    </tr>\n",
       "    <tr>\n",
       "      <th>35</th>\n",
       "      <td>0:35:13</td>\n",
       "      <td>ce</td>\n",
       "      <td>train_all_3.csv</td>\n",
       "      <td>1.0</td>\n",
       "      <td>10.0</td>\n",
       "      <td>0.0001</td>\n",
       "      <td>kappa_auc_avg</td>\n",
       "      <td>resnet50</td>\n",
       "      <td>50.0</td>\n",
       "      <td>1/4/2/2/7</td>\n",
       "      <td>5.0</td>\n",
       "      <td>True</td>\n",
       "      <td>0.941209</td>\n",
       "      <td>0.876020</td>\n",
       "    </tr>\n",
       "    <tr>\n",
       "      <th>22</th>\n",
       "      <td>0:23:04</td>\n",
       "      <td>ce</td>\n",
       "      <td>train_all_3.csv</td>\n",
       "      <td>1.0</td>\n",
       "      <td>10.0</td>\n",
       "      <td>0.0001</td>\n",
       "      <td>kappa</td>\n",
       "      <td>resnet50</td>\n",
       "      <td>50.0</td>\n",
       "      <td>1/4/2/2/7</td>\n",
       "      <td>5.0</td>\n",
       "      <td>True</td>\n",
       "      <td>0.937363</td>\n",
       "      <td>0.873125</td>\n",
       "    </tr>\n",
       "    <tr>\n",
       "      <th>1</th>\n",
       "      <td>0:24:21</td>\n",
       "      <td>focal_loss</td>\n",
       "      <td>train_all_3.csv</td>\n",
       "      <td>2.0</td>\n",
       "      <td>10.0</td>\n",
       "      <td>0.0001</td>\n",
       "      <td>kappa</td>\n",
       "      <td>resnet50</td>\n",
       "      <td>50.0</td>\n",
       "      <td>1/4/2/2/7</td>\n",
       "      <td>5.0</td>\n",
       "      <td>True</td>\n",
       "      <td>0.928141</td>\n",
       "      <td>0.873123</td>\n",
       "    </tr>\n",
       "    <tr>\n",
       "      <th>9</th>\n",
       "      <td>0:27:03</td>\n",
       "      <td>ce</td>\n",
       "      <td>train_all_3.csv</td>\n",
       "      <td>2.0</td>\n",
       "      <td>10.0</td>\n",
       "      <td>0.0001</td>\n",
       "      <td>kappa</td>\n",
       "      <td>resnet50</td>\n",
       "      <td>50.0</td>\n",
       "      <td>1/4/2/2/7</td>\n",
       "      <td>5.0</td>\n",
       "      <td>True</td>\n",
       "      <td>0.936575</td>\n",
       "      <td>0.870542</td>\n",
       "    </tr>\n",
       "    <tr>\n",
       "      <th>14</th>\n",
       "      <td>0:17:37</td>\n",
       "      <td>focal_loss</td>\n",
       "      <td>train_all_3.csv</td>\n",
       "      <td>1.0</td>\n",
       "      <td>10.0</td>\n",
       "      <td>0.0001</td>\n",
       "      <td>kappa</td>\n",
       "      <td>resnet50</td>\n",
       "      <td>50.0</td>\n",
       "      <td>1/4/2/2/7</td>\n",
       "      <td>5.0</td>\n",
       "      <td>True</td>\n",
       "      <td>0.927314</td>\n",
       "      <td>0.866378</td>\n",
       "    </tr>\n",
       "  </tbody>\n",
       "</table>\n",
       "</div>"
      ],
      "text/plain": [
       "       time   base_loss        csv_train  exp  lambd      lr         metric  \\\n",
       "31  0:38:01         gls  train_all_3.csv  1.0   10.0  0.0001  kappa_auc_avg   \n",
       "5   0:23:04         gls  train_all_3.csv  2.0   10.0  0.0001          kappa   \n",
       "18  0:28:34         gls  train_all_3.csv  1.0   10.0  0.0001          kappa   \n",
       "27  0:37:52  focal_loss  train_all_3.csv  1.0   10.0  0.0001  kappa_auc_avg   \n",
       "35  0:35:13          ce  train_all_3.csv  1.0   10.0  0.0001  kappa_auc_avg   \n",
       "22  0:23:04          ce  train_all_3.csv  1.0   10.0  0.0001          kappa   \n",
       "1   0:24:21  focal_loss  train_all_3.csv  2.0   10.0  0.0001          kappa   \n",
       "9   0:27:03          ce  train_all_3.csv  2.0   10.0  0.0001          kappa   \n",
       "14  0:17:37  focal_loss  train_all_3.csv  1.0   10.0  0.0001          kappa   \n",
       "\n",
       "   model_name  n_epochs oversample  patience pretrained       auc     kappa  \n",
       "31   resnet50      50.0  1/4/2/2/7       5.0       True  0.938523  0.882619  \n",
       "5    resnet50      50.0  1/4/2/2/7       5.0       True  0.927763  0.882361  \n",
       "18   resnet50      50.0  1/4/2/2/7       5.0       True  0.935997  0.880022  \n",
       "27   resnet50      50.0  1/4/2/2/7       5.0       True  0.939830  0.877664  \n",
       "35   resnet50      50.0  1/4/2/2/7       5.0       True  0.941209  0.876020  \n",
       "22   resnet50      50.0  1/4/2/2/7       5.0       True  0.937363  0.873125  \n",
       "1    resnet50      50.0  1/4/2/2/7       5.0       True  0.928141  0.873123  \n",
       "9    resnet50      50.0  1/4/2/2/7       5.0       True  0.936575  0.870542  \n",
       "14   resnet50      50.0  1/4/2/2/7       5.0       True  0.927314  0.866378  "
      ]
     },
     "execution_count": 17,
     "metadata": {},
     "output_type": "execute_result"
    }
   ],
   "source": [
    "df_train3.sort_values('kappa', ascending=False).head(15)"
   ]
  },
  {
   "cell_type": "markdown",
   "metadata": {},
   "source": [
    "### Best models this fold:"
   ]
  },
  {
   "cell_type": "markdown",
   "metadata": {},
   "source": [
    "python train.py --csv_train train_all_3.csv --base_loss gls --exp 1 --lambd 10 --load_checkpoint models/resnet50_eyepacs --metric kappa_auc_avg --model_name resnet50 --n_epochs 50 --patience 5 --oversample 1/4/2/2/7 --save_model True --save_path best_both_f3 "
   ]
  },
  {
   "cell_type": "markdown",
   "metadata": {},
   "source": [
    "## Fourth fold - trained"
   ]
  },
  {
   "cell_type": "code",
   "execution_count": 18,
   "metadata": {},
   "outputs": [
    {
     "data": {
      "text/html": [
       "<div>\n",
       "<style scoped>\n",
       "    .dataframe tbody tr th:only-of-type {\n",
       "        vertical-align: middle;\n",
       "    }\n",
       "\n",
       "    .dataframe tbody tr th {\n",
       "        vertical-align: top;\n",
       "    }\n",
       "\n",
       "    .dataframe thead th {\n",
       "        text-align: right;\n",
       "    }\n",
       "</style>\n",
       "<table border=\"1\" class=\"dataframe\">\n",
       "  <thead>\n",
       "    <tr style=\"text-align: right;\">\n",
       "      <th></th>\n",
       "      <th>time</th>\n",
       "      <th>base_loss</th>\n",
       "      <th>csv_train</th>\n",
       "      <th>exp</th>\n",
       "      <th>lambd</th>\n",
       "      <th>lr</th>\n",
       "      <th>metric</th>\n",
       "      <th>model_name</th>\n",
       "      <th>n_epochs</th>\n",
       "      <th>oversample</th>\n",
       "      <th>patience</th>\n",
       "      <th>pretrained</th>\n",
       "      <th>auc</th>\n",
       "      <th>kappa</th>\n",
       "    </tr>\n",
       "  </thead>\n",
       "  <tbody>\n",
       "    <tr>\n",
       "      <th>30</th>\n",
       "      <td>0:43:29</td>\n",
       "      <td>gls</td>\n",
       "      <td>train_all_4.csv</td>\n",
       "      <td>1.0</td>\n",
       "      <td>10.0</td>\n",
       "      <td>0.0001</td>\n",
       "      <td>kappa_auc_avg</td>\n",
       "      <td>resnet50</td>\n",
       "      <td>50.0</td>\n",
       "      <td>1/4/2/2/7</td>\n",
       "      <td>5.0</td>\n",
       "      <td>True</td>\n",
       "      <td>0.943784</td>\n",
       "      <td>0.873273</td>\n",
       "    </tr>\n",
       "    <tr>\n",
       "      <th>0</th>\n",
       "      <td>0:12:12</td>\n",
       "      <td>focal_loss</td>\n",
       "      <td>train_all_4.csv</td>\n",
       "      <td>2.0</td>\n",
       "      <td>10.0</td>\n",
       "      <td>0.0001</td>\n",
       "      <td>kappa</td>\n",
       "      <td>resnet50</td>\n",
       "      <td>50.0</td>\n",
       "      <td>1/4/2/2/7</td>\n",
       "      <td>5.0</td>\n",
       "      <td>True</td>\n",
       "      <td>0.915618</td>\n",
       "      <td>0.851332</td>\n",
       "    </tr>\n",
       "    <tr>\n",
       "      <th>13</th>\n",
       "      <td>0:12:13</td>\n",
       "      <td>focal_loss</td>\n",
       "      <td>train_all_4.csv</td>\n",
       "      <td>1.0</td>\n",
       "      <td>10.0</td>\n",
       "      <td>0.0001</td>\n",
       "      <td>kappa</td>\n",
       "      <td>resnet50</td>\n",
       "      <td>50.0</td>\n",
       "      <td>1/4/2/2/7</td>\n",
       "      <td>5.0</td>\n",
       "      <td>True</td>\n",
       "      <td>0.926175</td>\n",
       "      <td>0.849352</td>\n",
       "    </tr>\n",
       "    <tr>\n",
       "      <th>26</th>\n",
       "      <td>0:29:47</td>\n",
       "      <td>focal_loss</td>\n",
       "      <td>train_all_4.csv</td>\n",
       "      <td>1.0</td>\n",
       "      <td>10.0</td>\n",
       "      <td>0.0001</td>\n",
       "      <td>kappa_auc_avg</td>\n",
       "      <td>resnet50</td>\n",
       "      <td>50.0</td>\n",
       "      <td>1/4/2/2/7</td>\n",
       "      <td>5.0</td>\n",
       "      <td>True</td>\n",
       "      <td>0.937589</td>\n",
       "      <td>0.848942</td>\n",
       "    </tr>\n",
       "    <tr>\n",
       "      <th>21</th>\n",
       "      <td>0:09:32</td>\n",
       "      <td>ce</td>\n",
       "      <td>train_all_4.csv</td>\n",
       "      <td>1.0</td>\n",
       "      <td>10.0</td>\n",
       "      <td>0.0001</td>\n",
       "      <td>kappa</td>\n",
       "      <td>resnet50</td>\n",
       "      <td>50.0</td>\n",
       "      <td>1/4/2/2/7</td>\n",
       "      <td>5.0</td>\n",
       "      <td>True</td>\n",
       "      <td>0.922933</td>\n",
       "      <td>0.848247</td>\n",
       "    </tr>\n",
       "    <tr>\n",
       "      <th>34</th>\n",
       "      <td>0:12:14</td>\n",
       "      <td>ce</td>\n",
       "      <td>train_all_4.csv</td>\n",
       "      <td>1.0</td>\n",
       "      <td>10.0</td>\n",
       "      <td>0.0001</td>\n",
       "      <td>kappa_auc_avg</td>\n",
       "      <td>resnet50</td>\n",
       "      <td>50.0</td>\n",
       "      <td>1/4/2/2/7</td>\n",
       "      <td>5.0</td>\n",
       "      <td>True</td>\n",
       "      <td>0.930879</td>\n",
       "      <td>0.847745</td>\n",
       "    </tr>\n",
       "    <tr>\n",
       "      <th>8</th>\n",
       "      <td>0:12:12</td>\n",
       "      <td>ce</td>\n",
       "      <td>train_all_4.csv</td>\n",
       "      <td>2.0</td>\n",
       "      <td>10.0</td>\n",
       "      <td>0.0001</td>\n",
       "      <td>kappa</td>\n",
       "      <td>resnet50</td>\n",
       "      <td>50.0</td>\n",
       "      <td>1/4/2/2/7</td>\n",
       "      <td>5.0</td>\n",
       "      <td>True</td>\n",
       "      <td>0.925101</td>\n",
       "      <td>0.845612</td>\n",
       "    </tr>\n",
       "    <tr>\n",
       "      <th>17</th>\n",
       "      <td>0:09:33</td>\n",
       "      <td>gls</td>\n",
       "      <td>train_all_4.csv</td>\n",
       "      <td>1.0</td>\n",
       "      <td>10.0</td>\n",
       "      <td>0.0001</td>\n",
       "      <td>kappa</td>\n",
       "      <td>resnet50</td>\n",
       "      <td>50.0</td>\n",
       "      <td>1/4/2/2/7</td>\n",
       "      <td>5.0</td>\n",
       "      <td>True</td>\n",
       "      <td>0.916541</td>\n",
       "      <td>0.842871</td>\n",
       "    </tr>\n",
       "    <tr>\n",
       "      <th>4</th>\n",
       "      <td>0:12:15</td>\n",
       "      <td>gls</td>\n",
       "      <td>train_all_4.csv</td>\n",
       "      <td>2.0</td>\n",
       "      <td>10.0</td>\n",
       "      <td>0.0001</td>\n",
       "      <td>kappa</td>\n",
       "      <td>resnet50</td>\n",
       "      <td>50.0</td>\n",
       "      <td>1/4/2/2/7</td>\n",
       "      <td>5.0</td>\n",
       "      <td>True</td>\n",
       "      <td>0.916695</td>\n",
       "      <td>0.840031</td>\n",
       "    </tr>\n",
       "  </tbody>\n",
       "</table>\n",
       "</div>"
      ],
      "text/plain": [
       "       time   base_loss        csv_train  exp  lambd      lr         metric  \\\n",
       "30  0:43:29         gls  train_all_4.csv  1.0   10.0  0.0001  kappa_auc_avg   \n",
       "0   0:12:12  focal_loss  train_all_4.csv  2.0   10.0  0.0001          kappa   \n",
       "13  0:12:13  focal_loss  train_all_4.csv  1.0   10.0  0.0001          kappa   \n",
       "26  0:29:47  focal_loss  train_all_4.csv  1.0   10.0  0.0001  kappa_auc_avg   \n",
       "21  0:09:32          ce  train_all_4.csv  1.0   10.0  0.0001          kappa   \n",
       "34  0:12:14          ce  train_all_4.csv  1.0   10.0  0.0001  kappa_auc_avg   \n",
       "8   0:12:12          ce  train_all_4.csv  2.0   10.0  0.0001          kappa   \n",
       "17  0:09:33         gls  train_all_4.csv  1.0   10.0  0.0001          kappa   \n",
       "4   0:12:15         gls  train_all_4.csv  2.0   10.0  0.0001          kappa   \n",
       "\n",
       "   model_name  n_epochs oversample  patience pretrained       auc     kappa  \n",
       "30   resnet50      50.0  1/4/2/2/7       5.0       True  0.943784  0.873273  \n",
       "0    resnet50      50.0  1/4/2/2/7       5.0       True  0.915618  0.851332  \n",
       "13   resnet50      50.0  1/4/2/2/7       5.0       True  0.926175  0.849352  \n",
       "26   resnet50      50.0  1/4/2/2/7       5.0       True  0.937589  0.848942  \n",
       "21   resnet50      50.0  1/4/2/2/7       5.0       True  0.922933  0.848247  \n",
       "34   resnet50      50.0  1/4/2/2/7       5.0       True  0.930879  0.847745  \n",
       "8    resnet50      50.0  1/4/2/2/7       5.0       True  0.925101  0.845612  \n",
       "17   resnet50      50.0  1/4/2/2/7       5.0       True  0.916541  0.842871  \n",
       "4    resnet50      50.0  1/4/2/2/7       5.0       True  0.916695  0.840031  "
      ]
     },
     "execution_count": 18,
     "metadata": {},
     "output_type": "execute_result"
    }
   ],
   "source": [
    "df_train4.sort_values('kappa', ascending=False).head(15)"
   ]
  },
  {
   "cell_type": "markdown",
   "metadata": {},
   "source": [
    "### Best models this fold:"
   ]
  },
  {
   "cell_type": "markdown",
   "metadata": {},
   "source": [
    "python train.py --csv_train train_all_4.csv --base_loss gls --exp 1 --lambd 10 --load_checkpoint models/resnet50_eyepacs --metric kappa_auc_avg --model_name resnet50 --n_epochs 50 --patience 5 --oversample 1/4/2/2/7 --save_model True --save_path best_both_f4 "
   ]
  },
  {
   "cell_type": "markdown",
   "metadata": {},
   "source": [
    "## MIXING COEFFICIENTS - ok"
   ]
  },
  {
   "cell_type": "code",
   "execution_count": 19,
   "metadata": {},
   "outputs": [],
   "source": [
    "k_auc_f1 = 0.5*(0.908872+0.857692)\n",
    "k_auc_f2 = 0.5*(0.935597+0.857399)\n",
    "k_auc_f3 = 0.5*(0.938523+0.882619)\n",
    "k_auc_f4 = 0.5*(0.943784+0.873273)\n",
    "coeff_sum = k_auc_f1+k_auc_f2+k_auc_f3+k_auc_f4"
   ]
  },
  {
   "cell_type": "code",
   "execution_count": 20,
   "metadata": {},
   "outputs": [
    {
     "name": "stdout",
     "output_type": "stream",
     "text": [
      "0.24543250197735156 0.24910475607755134 0.2530151398511676 0.25244760209392947\n"
     ]
    }
   ],
   "source": [
    "coeff_f1 = k_auc_f1/coeff_sum\n",
    "coeff_f2 = k_auc_f2/coeff_sum\n",
    "coeff_f3 = k_auc_f3/coeff_sum\n",
    "coeff_f4 = k_auc_f4/coeff_sum\n",
    "print(coeff_f1,coeff_f2,coeff_f3,coeff_f4)"
   ]
  },
  {
   "cell_type": "markdown",
   "metadata": {},
   "source": [
    "# Standard Fundus\n",
    "## OD"
   ]
  },
  {
   "cell_type": "code",
   "execution_count": 21,
   "metadata": {},
   "outputs": [],
   "source": [
    "df_all = pd.read_csv('results_multi_split_fundus_od.csv')"
   ]
  },
  {
   "cell_type": "code",
   "execution_count": 22,
   "metadata": {},
   "outputs": [
    {
     "data": {
      "text/plain": [
       "Index(['time', 'base_loss', 'csv_train', 'exp', 'lambd', 'lr', 'metric',\n",
       "       'model_name', 'n_epochs', 'oversample', 'patience', 'auc', 'kappa'],\n",
       "      dtype='object')"
      ]
     },
     "execution_count": 22,
     "metadata": {},
     "output_type": "execute_result"
    }
   ],
   "source": [
    "df_all = df_all.drop(['run', 'operation', 'started',  'status', 'label', 'batch_size', 'decay_f', 'acc', 'load_checkpoint', \n",
    "        'optimizer', 'pretrained', 'save_model', 'step'], axis=1)\n",
    "df_all.columns"
   ]
  },
  {
   "cell_type": "code",
   "execution_count": 23,
   "metadata": {},
   "outputs": [],
   "source": [
    "df_train1 = df_all[df_all.csv_train=='train_od_1.csv']\n",
    "df_train2 = df_all[df_all.csv_train=='train_od_2.csv']\n",
    "df_train3 = df_all[df_all.csv_train=='train_od_3.csv']\n",
    "df_train4 = df_all[df_all.csv_train=='train_od_4.csv']"
   ]
  },
  {
   "cell_type": "markdown",
   "metadata": {},
   "source": [
    "## First fold - trained"
   ]
  },
  {
   "cell_type": "code",
   "execution_count": 24,
   "metadata": {},
   "outputs": [
    {
     "data": {
      "text/html": [
       "<div>\n",
       "<style scoped>\n",
       "    .dataframe tbody tr th:only-of-type {\n",
       "        vertical-align: middle;\n",
       "    }\n",
       "\n",
       "    .dataframe tbody tr th {\n",
       "        vertical-align: top;\n",
       "    }\n",
       "\n",
       "    .dataframe thead th {\n",
       "        text-align: right;\n",
       "    }\n",
       "</style>\n",
       "<table border=\"1\" class=\"dataframe\">\n",
       "  <thead>\n",
       "    <tr style=\"text-align: right;\">\n",
       "      <th></th>\n",
       "      <th>time</th>\n",
       "      <th>base_loss</th>\n",
       "      <th>csv_train</th>\n",
       "      <th>exp</th>\n",
       "      <th>lambd</th>\n",
       "      <th>lr</th>\n",
       "      <th>metric</th>\n",
       "      <th>model_name</th>\n",
       "      <th>n_epochs</th>\n",
       "      <th>oversample</th>\n",
       "      <th>patience</th>\n",
       "      <th>auc</th>\n",
       "      <th>kappa</th>\n",
       "    </tr>\n",
       "  </thead>\n",
       "  <tbody>\n",
       "    <tr>\n",
       "      <th>3</th>\n",
       "      <td>0:06:49</td>\n",
       "      <td>focal_loss</td>\n",
       "      <td>train_od_1.csv</td>\n",
       "      <td>1.0</td>\n",
       "      <td>10.0</td>\n",
       "      <td>0.0001</td>\n",
       "      <td>kappa_auc_avg</td>\n",
       "      <td>resnet50</td>\n",
       "      <td>50.0</td>\n",
       "      <td>1/4/2/2/7</td>\n",
       "      <td>5.0</td>\n",
       "      <td>0.915289</td>\n",
       "      <td>0.872834</td>\n",
       "    </tr>\n",
       "    <tr>\n",
       "      <th>16</th>\n",
       "      <td>0:06:49</td>\n",
       "      <td>focal_loss</td>\n",
       "      <td>train_od_1.csv</td>\n",
       "      <td>1.0</td>\n",
       "      <td>10.0</td>\n",
       "      <td>0.0001</td>\n",
       "      <td>kappa</td>\n",
       "      <td>resnet50</td>\n",
       "      <td>50.0</td>\n",
       "      <td>1/4/2/2/7</td>\n",
       "      <td>5.0</td>\n",
       "      <td>0.915289</td>\n",
       "      <td>0.872834</td>\n",
       "    </tr>\n",
       "    <tr>\n",
       "      <th>7</th>\n",
       "      <td>0:06:49</td>\n",
       "      <td>ce</td>\n",
       "      <td>train_od_1.csv</td>\n",
       "      <td>1.0</td>\n",
       "      <td>10.0</td>\n",
       "      <td>0.0001</td>\n",
       "      <td>kappa_auc_avg</td>\n",
       "      <td>resnet50</td>\n",
       "      <td>50.0</td>\n",
       "      <td>1/4/2/2/7</td>\n",
       "      <td>5.0</td>\n",
       "      <td>0.916071</td>\n",
       "      <td>0.871407</td>\n",
       "    </tr>\n",
       "    <tr>\n",
       "      <th>20</th>\n",
       "      <td>0:06:49</td>\n",
       "      <td>ce</td>\n",
       "      <td>train_od_1.csv</td>\n",
       "      <td>1.0</td>\n",
       "      <td>10.0</td>\n",
       "      <td>0.0001</td>\n",
       "      <td>kappa</td>\n",
       "      <td>resnet50</td>\n",
       "      <td>50.0</td>\n",
       "      <td>1/4/2/2/7</td>\n",
       "      <td>5.0</td>\n",
       "      <td>0.916071</td>\n",
       "      <td>0.871407</td>\n",
       "    </tr>\n",
       "    <tr>\n",
       "      <th>11</th>\n",
       "      <td>0:06:49</td>\n",
       "      <td>gls</td>\n",
       "      <td>train_od_1.csv</td>\n",
       "      <td>1.0</td>\n",
       "      <td>10.0</td>\n",
       "      <td>0.0001</td>\n",
       "      <td>kappa_auc_avg</td>\n",
       "      <td>resnet50</td>\n",
       "      <td>50.0</td>\n",
       "      <td>1/4/2/2/7</td>\n",
       "      <td>5.0</td>\n",
       "      <td>0.911026</td>\n",
       "      <td>0.861434</td>\n",
       "    </tr>\n",
       "  </tbody>\n",
       "</table>\n",
       "</div>"
      ],
      "text/plain": [
       "       time   base_loss       csv_train  exp  lambd      lr         metric  \\\n",
       "3   0:06:49  focal_loss  train_od_1.csv  1.0   10.0  0.0001  kappa_auc_avg   \n",
       "16  0:06:49  focal_loss  train_od_1.csv  1.0   10.0  0.0001          kappa   \n",
       "7   0:06:49          ce  train_od_1.csv  1.0   10.0  0.0001  kappa_auc_avg   \n",
       "20  0:06:49          ce  train_od_1.csv  1.0   10.0  0.0001          kappa   \n",
       "11  0:06:49         gls  train_od_1.csv  1.0   10.0  0.0001  kappa_auc_avg   \n",
       "\n",
       "   model_name  n_epochs oversample  patience       auc     kappa  \n",
       "3    resnet50      50.0  1/4/2/2/7       5.0  0.915289  0.872834  \n",
       "16   resnet50      50.0  1/4/2/2/7       5.0  0.915289  0.872834  \n",
       "7    resnet50      50.0  1/4/2/2/7       5.0  0.916071  0.871407  \n",
       "20   resnet50      50.0  1/4/2/2/7       5.0  0.916071  0.871407  \n",
       "11   resnet50      50.0  1/4/2/2/7       5.0  0.911026  0.861434  "
      ]
     },
     "execution_count": 24,
     "metadata": {},
     "output_type": "execute_result"
    }
   ],
   "source": [
    "df_train1.sort_values('kappa', ascending=False).head(5)"
   ]
  },
  {
   "cell_type": "markdown",
   "metadata": {},
   "source": [
    "### Best models this fold:"
   ]
  },
  {
   "cell_type": "markdown",
   "metadata": {},
   "source": [
    "python train.py --csv_train train_od_1.csv --base_loss focal_loss --exp 1 --lambd 10 --load_checkpoint models/resnet50_eyepacs --metric kappa_auc_avg --model_name resnet50 --n_epochs 50 --patience 5 --oversample 1/4/2/2/7 --save_model True --save_path best_od_f1 "
   ]
  },
  {
   "cell_type": "markdown",
   "metadata": {},
   "source": [
    "## Second fold - trained"
   ]
  },
  {
   "cell_type": "code",
   "execution_count": 25,
   "metadata": {},
   "outputs": [
    {
     "data": {
      "text/html": [
       "<div>\n",
       "<style scoped>\n",
       "    .dataframe tbody tr th:only-of-type {\n",
       "        vertical-align: middle;\n",
       "    }\n",
       "\n",
       "    .dataframe tbody tr th {\n",
       "        vertical-align: top;\n",
       "    }\n",
       "\n",
       "    .dataframe thead th {\n",
       "        text-align: right;\n",
       "    }\n",
       "</style>\n",
       "<table border=\"1\" class=\"dataframe\">\n",
       "  <thead>\n",
       "    <tr style=\"text-align: right;\">\n",
       "      <th></th>\n",
       "      <th>time</th>\n",
       "      <th>base_loss</th>\n",
       "      <th>csv_train</th>\n",
       "      <th>exp</th>\n",
       "      <th>lambd</th>\n",
       "      <th>lr</th>\n",
       "      <th>metric</th>\n",
       "      <th>model_name</th>\n",
       "      <th>n_epochs</th>\n",
       "      <th>oversample</th>\n",
       "      <th>patience</th>\n",
       "      <th>auc</th>\n",
       "      <th>kappa</th>\n",
       "    </tr>\n",
       "  </thead>\n",
       "  <tbody>\n",
       "    <tr>\n",
       "      <th>15</th>\n",
       "      <td>0:06:38</td>\n",
       "      <td>focal_loss</td>\n",
       "      <td>train_od_2.csv</td>\n",
       "      <td>1.0</td>\n",
       "      <td>10.0</td>\n",
       "      <td>0.0001</td>\n",
       "      <td>kappa</td>\n",
       "      <td>resnet50</td>\n",
       "      <td>50.0</td>\n",
       "      <td>1/4/2/2/7</td>\n",
       "      <td>5.0</td>\n",
       "      <td>0.901828</td>\n",
       "      <td>0.859852</td>\n",
       "    </tr>\n",
       "    <tr>\n",
       "      <th>2</th>\n",
       "      <td>0:09:57</td>\n",
       "      <td>focal_loss</td>\n",
       "      <td>train_od_2.csv</td>\n",
       "      <td>1.0</td>\n",
       "      <td>10.0</td>\n",
       "      <td>0.0001</td>\n",
       "      <td>kappa_auc_avg</td>\n",
       "      <td>resnet50</td>\n",
       "      <td>50.0</td>\n",
       "      <td>1/4/2/2/7</td>\n",
       "      <td>5.0</td>\n",
       "      <td>0.914989</td>\n",
       "      <td>0.859409</td>\n",
       "    </tr>\n",
       "    <tr>\n",
       "      <th>19</th>\n",
       "      <td>0:07:57</td>\n",
       "      <td>ce</td>\n",
       "      <td>train_od_2.csv</td>\n",
       "      <td>1.0</td>\n",
       "      <td>10.0</td>\n",
       "      <td>0.0001</td>\n",
       "      <td>kappa</td>\n",
       "      <td>resnet50</td>\n",
       "      <td>50.0</td>\n",
       "      <td>1/4/2/2/7</td>\n",
       "      <td>5.0</td>\n",
       "      <td>0.907925</td>\n",
       "      <td>0.854485</td>\n",
       "    </tr>\n",
       "    <tr>\n",
       "      <th>10</th>\n",
       "      <td>0:07:19</td>\n",
       "      <td>gls</td>\n",
       "      <td>train_od_2.csv</td>\n",
       "      <td>1.0</td>\n",
       "      <td>10.0</td>\n",
       "      <td>0.0001</td>\n",
       "      <td>kappa_auc_avg</td>\n",
       "      <td>resnet50</td>\n",
       "      <td>50.0</td>\n",
       "      <td>1/4/2/2/7</td>\n",
       "      <td>5.0</td>\n",
       "      <td>0.902121</td>\n",
       "      <td>0.850788</td>\n",
       "    </tr>\n",
       "    <tr>\n",
       "      <th>23</th>\n",
       "      <td>0:07:19</td>\n",
       "      <td>gls</td>\n",
       "      <td>train_od_2.csv</td>\n",
       "      <td>1.0</td>\n",
       "      <td>10.0</td>\n",
       "      <td>0.0001</td>\n",
       "      <td>kappa</td>\n",
       "      <td>resnet50</td>\n",
       "      <td>50.0</td>\n",
       "      <td>1/4/2/2/7</td>\n",
       "      <td>5.0</td>\n",
       "      <td>0.902121</td>\n",
       "      <td>0.850788</td>\n",
       "    </tr>\n",
       "  </tbody>\n",
       "</table>\n",
       "</div>"
      ],
      "text/plain": [
       "       time   base_loss       csv_train  exp  lambd      lr         metric  \\\n",
       "15  0:06:38  focal_loss  train_od_2.csv  1.0   10.0  0.0001          kappa   \n",
       "2   0:09:57  focal_loss  train_od_2.csv  1.0   10.0  0.0001  kappa_auc_avg   \n",
       "19  0:07:57          ce  train_od_2.csv  1.0   10.0  0.0001          kappa   \n",
       "10  0:07:19         gls  train_od_2.csv  1.0   10.0  0.0001  kappa_auc_avg   \n",
       "23  0:07:19         gls  train_od_2.csv  1.0   10.0  0.0001          kappa   \n",
       "\n",
       "   model_name  n_epochs oversample  patience       auc     kappa  \n",
       "15   resnet50      50.0  1/4/2/2/7       5.0  0.901828  0.859852  \n",
       "2    resnet50      50.0  1/4/2/2/7       5.0  0.914989  0.859409  \n",
       "19   resnet50      50.0  1/4/2/2/7       5.0  0.907925  0.854485  \n",
       "10   resnet50      50.0  1/4/2/2/7       5.0  0.902121  0.850788  \n",
       "23   resnet50      50.0  1/4/2/2/7       5.0  0.902121  0.850788  "
      ]
     },
     "execution_count": 25,
     "metadata": {},
     "output_type": "execute_result"
    }
   ],
   "source": [
    "df_train2.sort_values('kappa', ascending=False).head(5)"
   ]
  },
  {
   "cell_type": "markdown",
   "metadata": {},
   "source": [
    "### Best models this fold:"
   ]
  },
  {
   "cell_type": "markdown",
   "metadata": {},
   "source": [
    "python train.py --csv_train train_od_2.csv --base_loss focal_loss --exp 1 --lambd 10 --load_checkpoint models/resnet50_eyepacs --metric kappa_auc_avg --model_name resnet50 --n_epochs 50 --patience 5 --oversample 1/4/2/2/7 --save_model True --save_path best_od_f2 "
   ]
  },
  {
   "cell_type": "markdown",
   "metadata": {},
   "source": [
    "## Third fold - trained"
   ]
  },
  {
   "cell_type": "code",
   "execution_count": 26,
   "metadata": {},
   "outputs": [
    {
     "data": {
      "text/html": [
       "<div>\n",
       "<style scoped>\n",
       "    .dataframe tbody tr th:only-of-type {\n",
       "        vertical-align: middle;\n",
       "    }\n",
       "\n",
       "    .dataframe tbody tr th {\n",
       "        vertical-align: top;\n",
       "    }\n",
       "\n",
       "    .dataframe thead th {\n",
       "        text-align: right;\n",
       "    }\n",
       "</style>\n",
       "<table border=\"1\" class=\"dataframe\">\n",
       "  <thead>\n",
       "    <tr style=\"text-align: right;\">\n",
       "      <th></th>\n",
       "      <th>time</th>\n",
       "      <th>base_loss</th>\n",
       "      <th>csv_train</th>\n",
       "      <th>exp</th>\n",
       "      <th>lambd</th>\n",
       "      <th>lr</th>\n",
       "      <th>metric</th>\n",
       "      <th>model_name</th>\n",
       "      <th>n_epochs</th>\n",
       "      <th>oversample</th>\n",
       "      <th>patience</th>\n",
       "      <th>auc</th>\n",
       "      <th>kappa</th>\n",
       "    </tr>\n",
       "  </thead>\n",
       "  <tbody>\n",
       "    <tr>\n",
       "      <th>1</th>\n",
       "      <td>0:14:03</td>\n",
       "      <td>focal_loss</td>\n",
       "      <td>train_od_3.csv</td>\n",
       "      <td>1.0</td>\n",
       "      <td>10.0</td>\n",
       "      <td>0.0001</td>\n",
       "      <td>kappa_auc_avg</td>\n",
       "      <td>resnet50</td>\n",
       "      <td>50.0</td>\n",
       "      <td>1/4/2/2/7</td>\n",
       "      <td>5.0</td>\n",
       "      <td>0.906088</td>\n",
       "      <td>0.753158</td>\n",
       "    </tr>\n",
       "    <tr>\n",
       "      <th>14</th>\n",
       "      <td>0:14:02</td>\n",
       "      <td>focal_loss</td>\n",
       "      <td>train_od_3.csv</td>\n",
       "      <td>1.0</td>\n",
       "      <td>10.0</td>\n",
       "      <td>0.0001</td>\n",
       "      <td>kappa</td>\n",
       "      <td>resnet50</td>\n",
       "      <td>50.0</td>\n",
       "      <td>1/4/2/2/7</td>\n",
       "      <td>5.0</td>\n",
       "      <td>0.906088</td>\n",
       "      <td>0.753158</td>\n",
       "    </tr>\n",
       "    <tr>\n",
       "      <th>5</th>\n",
       "      <td>0:10:43</td>\n",
       "      <td>ce</td>\n",
       "      <td>train_od_3.csv</td>\n",
       "      <td>1.0</td>\n",
       "      <td>10.0</td>\n",
       "      <td>0.0001</td>\n",
       "      <td>kappa_auc_avg</td>\n",
       "      <td>resnet50</td>\n",
       "      <td>50.0</td>\n",
       "      <td>1/4/2/2/7</td>\n",
       "      <td>5.0</td>\n",
       "      <td>0.905635</td>\n",
       "      <td>0.750663</td>\n",
       "    </tr>\n",
       "    <tr>\n",
       "      <th>22</th>\n",
       "      <td>0:12:44</td>\n",
       "      <td>gls</td>\n",
       "      <td>train_od_3.csv</td>\n",
       "      <td>1.0</td>\n",
       "      <td>10.0</td>\n",
       "      <td>0.0001</td>\n",
       "      <td>kappa</td>\n",
       "      <td>resnet50</td>\n",
       "      <td>50.0</td>\n",
       "      <td>1/4/2/2/7</td>\n",
       "      <td>5.0</td>\n",
       "      <td>0.899344</td>\n",
       "      <td>0.750505</td>\n",
       "    </tr>\n",
       "    <tr>\n",
       "      <th>9</th>\n",
       "      <td>0:10:44</td>\n",
       "      <td>gls</td>\n",
       "      <td>train_od_3.csv</td>\n",
       "      <td>1.0</td>\n",
       "      <td>10.0</td>\n",
       "      <td>0.0001</td>\n",
       "      <td>kappa_auc_avg</td>\n",
       "      <td>resnet50</td>\n",
       "      <td>50.0</td>\n",
       "      <td>1/4/2/2/7</td>\n",
       "      <td>5.0</td>\n",
       "      <td>0.903115</td>\n",
       "      <td>0.742196</td>\n",
       "    </tr>\n",
       "  </tbody>\n",
       "</table>\n",
       "</div>"
      ],
      "text/plain": [
       "       time   base_loss       csv_train  exp  lambd      lr         metric  \\\n",
       "1   0:14:03  focal_loss  train_od_3.csv  1.0   10.0  0.0001  kappa_auc_avg   \n",
       "14  0:14:02  focal_loss  train_od_3.csv  1.0   10.0  0.0001          kappa   \n",
       "5   0:10:43          ce  train_od_3.csv  1.0   10.0  0.0001  kappa_auc_avg   \n",
       "22  0:12:44         gls  train_od_3.csv  1.0   10.0  0.0001          kappa   \n",
       "9   0:10:44         gls  train_od_3.csv  1.0   10.0  0.0001  kappa_auc_avg   \n",
       "\n",
       "   model_name  n_epochs oversample  patience       auc     kappa  \n",
       "1    resnet50      50.0  1/4/2/2/7       5.0  0.906088  0.753158  \n",
       "14   resnet50      50.0  1/4/2/2/7       5.0  0.906088  0.753158  \n",
       "5    resnet50      50.0  1/4/2/2/7       5.0  0.905635  0.750663  \n",
       "22   resnet50      50.0  1/4/2/2/7       5.0  0.899344  0.750505  \n",
       "9    resnet50      50.0  1/4/2/2/7       5.0  0.903115  0.742196  "
      ]
     },
     "execution_count": 26,
     "metadata": {},
     "output_type": "execute_result"
    }
   ],
   "source": [
    "df_train3.sort_values('kappa', ascending=False).head(5)"
   ]
  },
  {
   "cell_type": "markdown",
   "metadata": {},
   "source": [
    "### Best models this fold:"
   ]
  },
  {
   "cell_type": "markdown",
   "metadata": {},
   "source": [
    "python train.py --csv_train train_od_3.csv --base_loss focal_loss --exp 1 --lambd 10 --load_checkpoint models/resnet50_eyepacs --metric kappa_auc_avg --model_name resnet50 --n_epochs 50 --patience 5 --oversample 1/4/2/2/7 --save_model True --save_path best_od_f3 "
   ]
  },
  {
   "cell_type": "markdown",
   "metadata": {},
   "source": [
    "## Fourth fold - trained"
   ]
  },
  {
   "cell_type": "code",
   "execution_count": 27,
   "metadata": {},
   "outputs": [
    {
     "data": {
      "text/html": [
       "<div>\n",
       "<style scoped>\n",
       "    .dataframe tbody tr th:only-of-type {\n",
       "        vertical-align: middle;\n",
       "    }\n",
       "\n",
       "    .dataframe tbody tr th {\n",
       "        vertical-align: top;\n",
       "    }\n",
       "\n",
       "    .dataframe thead th {\n",
       "        text-align: right;\n",
       "    }\n",
       "</style>\n",
       "<table border=\"1\" class=\"dataframe\">\n",
       "  <thead>\n",
       "    <tr style=\"text-align: right;\">\n",
       "      <th></th>\n",
       "      <th>time</th>\n",
       "      <th>base_loss</th>\n",
       "      <th>csv_train</th>\n",
       "      <th>exp</th>\n",
       "      <th>lambd</th>\n",
       "      <th>lr</th>\n",
       "      <th>metric</th>\n",
       "      <th>model_name</th>\n",
       "      <th>n_epochs</th>\n",
       "      <th>oversample</th>\n",
       "      <th>patience</th>\n",
       "      <th>auc</th>\n",
       "      <th>kappa</th>\n",
       "    </tr>\n",
       "  </thead>\n",
       "  <tbody>\n",
       "    <tr>\n",
       "      <th>8</th>\n",
       "      <td>0:16:09</td>\n",
       "      <td>gls</td>\n",
       "      <td>train_od_4.csv</td>\n",
       "      <td>1.0</td>\n",
       "      <td>10.0</td>\n",
       "      <td>0.0001</td>\n",
       "      <td>kappa_auc_avg</td>\n",
       "      <td>resnet50</td>\n",
       "      <td>50.0</td>\n",
       "      <td>1/4/2/2/7</td>\n",
       "      <td>5.0</td>\n",
       "      <td>0.920812</td>\n",
       "      <td>0.826630</td>\n",
       "    </tr>\n",
       "    <tr>\n",
       "      <th>0</th>\n",
       "      <td>0:07:44</td>\n",
       "      <td>focal_loss</td>\n",
       "      <td>train_od_4.csv</td>\n",
       "      <td>1.0</td>\n",
       "      <td>10.0</td>\n",
       "      <td>0.0001</td>\n",
       "      <td>kappa_auc_avg</td>\n",
       "      <td>resnet50</td>\n",
       "      <td>50.0</td>\n",
       "      <td>1/4/2/2/7</td>\n",
       "      <td>5.0</td>\n",
       "      <td>0.921794</td>\n",
       "      <td>0.821830</td>\n",
       "    </tr>\n",
       "    <tr>\n",
       "      <th>13</th>\n",
       "      <td>0:07:43</td>\n",
       "      <td>focal_loss</td>\n",
       "      <td>train_od_4.csv</td>\n",
       "      <td>1.0</td>\n",
       "      <td>10.0</td>\n",
       "      <td>0.0001</td>\n",
       "      <td>kappa</td>\n",
       "      <td>resnet50</td>\n",
       "      <td>50.0</td>\n",
       "      <td>1/4/2/2/7</td>\n",
       "      <td>5.0</td>\n",
       "      <td>0.921794</td>\n",
       "      <td>0.821830</td>\n",
       "    </tr>\n",
       "    <tr>\n",
       "      <th>21</th>\n",
       "      <td>0:11:56</td>\n",
       "      <td>gls</td>\n",
       "      <td>train_od_4.csv</td>\n",
       "      <td>1.0</td>\n",
       "      <td>10.0</td>\n",
       "      <td>0.0001</td>\n",
       "      <td>kappa</td>\n",
       "      <td>resnet50</td>\n",
       "      <td>50.0</td>\n",
       "      <td>1/4/2/2/7</td>\n",
       "      <td>5.0</td>\n",
       "      <td>0.918053</td>\n",
       "      <td>0.819788</td>\n",
       "    </tr>\n",
       "    <tr>\n",
       "      <th>17</th>\n",
       "      <td>0:06:19</td>\n",
       "      <td>ce</td>\n",
       "      <td>train_od_4.csv</td>\n",
       "      <td>1.0</td>\n",
       "      <td>10.0</td>\n",
       "      <td>0.0001</td>\n",
       "      <td>kappa</td>\n",
       "      <td>resnet50</td>\n",
       "      <td>50.0</td>\n",
       "      <td>1/4/2/2/7</td>\n",
       "      <td>5.0</td>\n",
       "      <td>0.911855</td>\n",
       "      <td>0.814889</td>\n",
       "    </tr>\n",
       "  </tbody>\n",
       "</table>\n",
       "</div>"
      ],
      "text/plain": [
       "       time   base_loss       csv_train  exp  lambd      lr         metric  \\\n",
       "8   0:16:09         gls  train_od_4.csv  1.0   10.0  0.0001  kappa_auc_avg   \n",
       "0   0:07:44  focal_loss  train_od_4.csv  1.0   10.0  0.0001  kappa_auc_avg   \n",
       "13  0:07:43  focal_loss  train_od_4.csv  1.0   10.0  0.0001          kappa   \n",
       "21  0:11:56         gls  train_od_4.csv  1.0   10.0  0.0001          kappa   \n",
       "17  0:06:19          ce  train_od_4.csv  1.0   10.0  0.0001          kappa   \n",
       "\n",
       "   model_name  n_epochs oversample  patience       auc     kappa  \n",
       "8    resnet50      50.0  1/4/2/2/7       5.0  0.920812  0.826630  \n",
       "0    resnet50      50.0  1/4/2/2/7       5.0  0.921794  0.821830  \n",
       "13   resnet50      50.0  1/4/2/2/7       5.0  0.921794  0.821830  \n",
       "21   resnet50      50.0  1/4/2/2/7       5.0  0.918053  0.819788  \n",
       "17   resnet50      50.0  1/4/2/2/7       5.0  0.911855  0.814889  "
      ]
     },
     "execution_count": 27,
     "metadata": {},
     "output_type": "execute_result"
    }
   ],
   "source": [
    "df_train4.sort_values('kappa', ascending=False).head(5)"
   ]
  },
  {
   "cell_type": "markdown",
   "metadata": {},
   "source": [
    "### Best models this fold:"
   ]
  },
  {
   "cell_type": "markdown",
   "metadata": {},
   "source": [
    "python train.py --csv_train train_od_4.csv --base_loss gls --exp 1 --lambd 10 --load_checkpoint models/resnet50_eyepacs --metric kappa_auc_avg --model_name resnet50 --n_epochs 50 --patience 5 --oversample 1/4/2/2/7 --save_model True --save_path best_od_f4 "
   ]
  },
  {
   "cell_type": "markdown",
   "metadata": {},
   "source": [
    "## MIXING COEFFICIENTS - ok"
   ]
  },
  {
   "cell_type": "code",
   "execution_count": 28,
   "metadata": {},
   "outputs": [],
   "source": [
    "k_auc_f1 = 0.5*0.915289+0.5*0.872834\n",
    "k_auc_f2 = 0.5*0.901828+0.5*0.859852\n",
    "k_auc_f3 = 0.5*0.906088+0.5*0.753158\n",
    "k_auc_f4 = 0.5*0.920812+0.5*0.826630\n",
    "coeff_sum = k_auc_f1+k_auc_f2+k_auc_f3+k_auc_f4"
   ]
  },
  {
   "cell_type": "code",
   "execution_count": 29,
   "metadata": {},
   "outputs": [
    {
     "name": "stdout",
     "output_type": "stream",
     "text": [
      "0.2570438170623667 0.2532426190158228 0.23851766644993863 0.25119589747187193\n"
     ]
    }
   ],
   "source": [
    "coeff_f1 = k_auc_f1/coeff_sum\n",
    "coeff_f2 = k_auc_f2/coeff_sum\n",
    "coeff_f3 = k_auc_f3/coeff_sum\n",
    "coeff_f4 = k_auc_f4/coeff_sum\n",
    "print(coeff_f1,coeff_f2,coeff_f3,coeff_f4)"
   ]
  },
  {
   "cell_type": "markdown",
   "metadata": {},
   "source": [
    "# Standard Fundus\n",
    "## MAC"
   ]
  },
  {
   "cell_type": "code",
   "execution_count": 30,
   "metadata": {},
   "outputs": [],
   "source": [
    "df_all = pd.read_csv('results_multi_split_fundus_mac.csv')"
   ]
  },
  {
   "cell_type": "code",
   "execution_count": 31,
   "metadata": {},
   "outputs": [
    {
     "data": {
      "text/plain": [
       "Index(['time', 'base_loss', 'csv_train', 'exp', 'lambd', 'lr', 'metric',\n",
       "       'model_name', 'n_epochs', 'oversample', 'patience', 'auc', 'kappa'],\n",
       "      dtype='object')"
      ]
     },
     "execution_count": 31,
     "metadata": {},
     "output_type": "execute_result"
    }
   ],
   "source": [
    "df_all = df_all.drop(['run', 'operation', 'started',  'status', 'label', 'batch_size', 'decay_f', 'acc', 'load_checkpoint', \n",
    "        'optimizer', 'pretrained', 'save_model', 'step'], axis=1)\n",
    "df_all.columns"
   ]
  },
  {
   "cell_type": "code",
   "execution_count": 32,
   "metadata": {},
   "outputs": [],
   "source": [
    "df_train1 = df_all[df_all.csv_train=='train_mac_1.csv']\n",
    "df_train2 = df_all[df_all.csv_train=='train_mac_2.csv']\n",
    "df_train3 = df_all[df_all.csv_train=='train_mac_3.csv']\n",
    "df_train4 = df_all[df_all.csv_train=='train_mac_4.csv']"
   ]
  },
  {
   "cell_type": "markdown",
   "metadata": {},
   "source": [
    "## First fold"
   ]
  },
  {
   "cell_type": "code",
   "execution_count": 33,
   "metadata": {},
   "outputs": [
    {
     "data": {
      "text/html": [
       "<div>\n",
       "<style scoped>\n",
       "    .dataframe tbody tr th:only-of-type {\n",
       "        vertical-align: middle;\n",
       "    }\n",
       "\n",
       "    .dataframe tbody tr th {\n",
       "        vertical-align: top;\n",
       "    }\n",
       "\n",
       "    .dataframe thead th {\n",
       "        text-align: right;\n",
       "    }\n",
       "</style>\n",
       "<table border=\"1\" class=\"dataframe\">\n",
       "  <thead>\n",
       "    <tr style=\"text-align: right;\">\n",
       "      <th></th>\n",
       "      <th>time</th>\n",
       "      <th>base_loss</th>\n",
       "      <th>csv_train</th>\n",
       "      <th>exp</th>\n",
       "      <th>lambd</th>\n",
       "      <th>lr</th>\n",
       "      <th>metric</th>\n",
       "      <th>model_name</th>\n",
       "      <th>n_epochs</th>\n",
       "      <th>oversample</th>\n",
       "      <th>patience</th>\n",
       "      <th>auc</th>\n",
       "      <th>kappa</th>\n",
       "    </tr>\n",
       "  </thead>\n",
       "  <tbody>\n",
       "    <tr>\n",
       "      <th>3</th>\n",
       "      <td>0:08:57</td>\n",
       "      <td>focal_loss</td>\n",
       "      <td>train_mac_1.csv</td>\n",
       "      <td>1.0</td>\n",
       "      <td>10.0</td>\n",
       "      <td>0.0001</td>\n",
       "      <td>kappa_auc_avg</td>\n",
       "      <td>resnet50</td>\n",
       "      <td>50.0</td>\n",
       "      <td>1/4/2/2/7</td>\n",
       "      <td>5.0</td>\n",
       "      <td>0.906182</td>\n",
       "      <td>0.852420</td>\n",
       "    </tr>\n",
       "    <tr>\n",
       "      <th>7</th>\n",
       "      <td>0:08:57</td>\n",
       "      <td>ce</td>\n",
       "      <td>train_mac_1.csv</td>\n",
       "      <td>1.0</td>\n",
       "      <td>10.0</td>\n",
       "      <td>0.0001</td>\n",
       "      <td>kappa_auc_avg</td>\n",
       "      <td>resnet50</td>\n",
       "      <td>50.0</td>\n",
       "      <td>1/4/2/2/7</td>\n",
       "      <td>5.0</td>\n",
       "      <td>0.908279</td>\n",
       "      <td>0.844220</td>\n",
       "    </tr>\n",
       "    <tr>\n",
       "      <th>11</th>\n",
       "      <td>0:08:56</td>\n",
       "      <td>gls</td>\n",
       "      <td>train_mac_1.csv</td>\n",
       "      <td>1.0</td>\n",
       "      <td>10.0</td>\n",
       "      <td>0.0001</td>\n",
       "      <td>kappa_auc_avg</td>\n",
       "      <td>resnet50</td>\n",
       "      <td>50.0</td>\n",
       "      <td>1/4/2/2/7</td>\n",
       "      <td>5.0</td>\n",
       "      <td>0.904655</td>\n",
       "      <td>0.834397</td>\n",
       "    </tr>\n",
       "  </tbody>\n",
       "</table>\n",
       "</div>"
      ],
      "text/plain": [
       "       time   base_loss        csv_train  exp  lambd      lr         metric  \\\n",
       "3   0:08:57  focal_loss  train_mac_1.csv  1.0   10.0  0.0001  kappa_auc_avg   \n",
       "7   0:08:57          ce  train_mac_1.csv  1.0   10.0  0.0001  kappa_auc_avg   \n",
       "11  0:08:56         gls  train_mac_1.csv  1.0   10.0  0.0001  kappa_auc_avg   \n",
       "\n",
       "   model_name  n_epochs oversample  patience       auc     kappa  \n",
       "3    resnet50      50.0  1/4/2/2/7       5.0  0.906182  0.852420  \n",
       "7    resnet50      50.0  1/4/2/2/7       5.0  0.908279  0.844220  \n",
       "11   resnet50      50.0  1/4/2/2/7       5.0  0.904655  0.834397  "
      ]
     },
     "execution_count": 33,
     "metadata": {},
     "output_type": "execute_result"
    }
   ],
   "source": [
    "df_train1.sort_values('kappa', ascending=False).head(5)"
   ]
  },
  {
   "cell_type": "markdown",
   "metadata": {},
   "source": [
    "### Best models this fold:"
   ]
  },
  {
   "cell_type": "markdown",
   "metadata": {},
   "source": [
    "python train.py --csv_train train_mac_1.csv --base_loss focal_loss --exp 1 --lambd 10 --load_checkpoint models/resnet50_eyepacs --metric kappa_auc_avg --model_name resnet50 --n_epochs 50 --patience 5 --oversample 1/4/2/2/7 --save_model True --save_path best_mac_f1 "
   ]
  },
  {
   "cell_type": "markdown",
   "metadata": {},
   "source": [
    "## Second fold"
   ]
  },
  {
   "cell_type": "code",
   "execution_count": 34,
   "metadata": {},
   "outputs": [
    {
     "data": {
      "text/html": [
       "<div>\n",
       "<style scoped>\n",
       "    .dataframe tbody tr th:only-of-type {\n",
       "        vertical-align: middle;\n",
       "    }\n",
       "\n",
       "    .dataframe tbody tr th {\n",
       "        vertical-align: top;\n",
       "    }\n",
       "\n",
       "    .dataframe thead th {\n",
       "        text-align: right;\n",
       "    }\n",
       "</style>\n",
       "<table border=\"1\" class=\"dataframe\">\n",
       "  <thead>\n",
       "    <tr style=\"text-align: right;\">\n",
       "      <th></th>\n",
       "      <th>time</th>\n",
       "      <th>base_loss</th>\n",
       "      <th>csv_train</th>\n",
       "      <th>exp</th>\n",
       "      <th>lambd</th>\n",
       "      <th>lr</th>\n",
       "      <th>metric</th>\n",
       "      <th>model_name</th>\n",
       "      <th>n_epochs</th>\n",
       "      <th>oversample</th>\n",
       "      <th>patience</th>\n",
       "      <th>auc</th>\n",
       "      <th>kappa</th>\n",
       "    </tr>\n",
       "  </thead>\n",
       "  <tbody>\n",
       "    <tr>\n",
       "      <th>10</th>\n",
       "      <td>0:07:25</td>\n",
       "      <td>gls</td>\n",
       "      <td>train_mac_2.csv</td>\n",
       "      <td>1.0</td>\n",
       "      <td>10.0</td>\n",
       "      <td>0.0001</td>\n",
       "      <td>kappa_auc_avg</td>\n",
       "      <td>resnet50</td>\n",
       "      <td>50.0</td>\n",
       "      <td>1/4/2/2/7</td>\n",
       "      <td>5.0</td>\n",
       "      <td>0.891001</td>\n",
       "      <td>0.844584</td>\n",
       "    </tr>\n",
       "    <tr>\n",
       "      <th>2</th>\n",
       "      <td>0:09:24</td>\n",
       "      <td>focal_loss</td>\n",
       "      <td>train_mac_2.csv</td>\n",
       "      <td>1.0</td>\n",
       "      <td>10.0</td>\n",
       "      <td>0.0001</td>\n",
       "      <td>kappa_auc_avg</td>\n",
       "      <td>resnet50</td>\n",
       "      <td>50.0</td>\n",
       "      <td>1/4/2/2/7</td>\n",
       "      <td>5.0</td>\n",
       "      <td>0.898606</td>\n",
       "      <td>0.842972</td>\n",
       "    </tr>\n",
       "    <tr>\n",
       "      <th>6</th>\n",
       "      <td>0:07:24</td>\n",
       "      <td>ce</td>\n",
       "      <td>train_mac_2.csv</td>\n",
       "      <td>1.0</td>\n",
       "      <td>10.0</td>\n",
       "      <td>0.0001</td>\n",
       "      <td>kappa_auc_avg</td>\n",
       "      <td>resnet50</td>\n",
       "      <td>50.0</td>\n",
       "      <td>1/4/2/2/7</td>\n",
       "      <td>5.0</td>\n",
       "      <td>0.896038</td>\n",
       "      <td>0.836269</td>\n",
       "    </tr>\n",
       "  </tbody>\n",
       "</table>\n",
       "</div>"
      ],
      "text/plain": [
       "       time   base_loss        csv_train  exp  lambd      lr         metric  \\\n",
       "10  0:07:25         gls  train_mac_2.csv  1.0   10.0  0.0001  kappa_auc_avg   \n",
       "2   0:09:24  focal_loss  train_mac_2.csv  1.0   10.0  0.0001  kappa_auc_avg   \n",
       "6   0:07:24          ce  train_mac_2.csv  1.0   10.0  0.0001  kappa_auc_avg   \n",
       "\n",
       "   model_name  n_epochs oversample  patience       auc     kappa  \n",
       "10   resnet50      50.0  1/4/2/2/7       5.0  0.891001  0.844584  \n",
       "2    resnet50      50.0  1/4/2/2/7       5.0  0.898606  0.842972  \n",
       "6    resnet50      50.0  1/4/2/2/7       5.0  0.896038  0.836269  "
      ]
     },
     "execution_count": 34,
     "metadata": {},
     "output_type": "execute_result"
    }
   ],
   "source": [
    "df_train2.sort_values('kappa', ascending=False).head(5)"
   ]
  },
  {
   "cell_type": "markdown",
   "metadata": {},
   "source": [
    "### Best models this fold:"
   ]
  },
  {
   "cell_type": "markdown",
   "metadata": {},
   "source": [
    "python train.py --csv_train train_mac_2.csv --base_loss gls --exp 1 --lambd 10 --load_checkpoint models/resnet50_eyepacs --metric kappa_auc_avg --model_name resnet50 --n_epochs 50 --patience 5 --oversample 1/4/2/2/7 --save_model True --save_path best_mac_f2 "
   ]
  },
  {
   "cell_type": "markdown",
   "metadata": {},
   "source": [
    "## Third fold"
   ]
  },
  {
   "cell_type": "code",
   "execution_count": 35,
   "metadata": {},
   "outputs": [
    {
     "data": {
      "text/html": [
       "<div>\n",
       "<style scoped>\n",
       "    .dataframe tbody tr th:only-of-type {\n",
       "        vertical-align: middle;\n",
       "    }\n",
       "\n",
       "    .dataframe tbody tr th {\n",
       "        vertical-align: top;\n",
       "    }\n",
       "\n",
       "    .dataframe thead th {\n",
       "        text-align: right;\n",
       "    }\n",
       "</style>\n",
       "<table border=\"1\" class=\"dataframe\">\n",
       "  <thead>\n",
       "    <tr style=\"text-align: right;\">\n",
       "      <th></th>\n",
       "      <th>time</th>\n",
       "      <th>base_loss</th>\n",
       "      <th>csv_train</th>\n",
       "      <th>exp</th>\n",
       "      <th>lambd</th>\n",
       "      <th>lr</th>\n",
       "      <th>metric</th>\n",
       "      <th>model_name</th>\n",
       "      <th>n_epochs</th>\n",
       "      <th>oversample</th>\n",
       "      <th>patience</th>\n",
       "      <th>auc</th>\n",
       "      <th>kappa</th>\n",
       "    </tr>\n",
       "  </thead>\n",
       "  <tbody>\n",
       "    <tr>\n",
       "      <th>1</th>\n",
       "      <td>0:05:24</td>\n",
       "      <td>focal_loss</td>\n",
       "      <td>train_mac_3.csv</td>\n",
       "      <td>1.0</td>\n",
       "      <td>10.0</td>\n",
       "      <td>0.0001</td>\n",
       "      <td>kappa_auc_avg</td>\n",
       "      <td>resnet50</td>\n",
       "      <td>50.0</td>\n",
       "      <td>1/4/2/2/7</td>\n",
       "      <td>5.0</td>\n",
       "      <td>0.885983</td>\n",
       "      <td>0.805524</td>\n",
       "    </tr>\n",
       "    <tr>\n",
       "      <th>5</th>\n",
       "      <td>0:12:05</td>\n",
       "      <td>ce</td>\n",
       "      <td>train_mac_3.csv</td>\n",
       "      <td>1.0</td>\n",
       "      <td>10.0</td>\n",
       "      <td>0.0001</td>\n",
       "      <td>kappa_auc_avg</td>\n",
       "      <td>resnet50</td>\n",
       "      <td>50.0</td>\n",
       "      <td>1/4/2/2/7</td>\n",
       "      <td>5.0</td>\n",
       "      <td>0.899887</td>\n",
       "      <td>0.801160</td>\n",
       "    </tr>\n",
       "    <tr>\n",
       "      <th>9</th>\n",
       "      <td>0:11:27</td>\n",
       "      <td>gls</td>\n",
       "      <td>train_mac_3.csv</td>\n",
       "      <td>1.0</td>\n",
       "      <td>10.0</td>\n",
       "      <td>0.0001</td>\n",
       "      <td>kappa_auc_avg</td>\n",
       "      <td>resnet50</td>\n",
       "      <td>50.0</td>\n",
       "      <td>1/4/2/2/7</td>\n",
       "      <td>5.0</td>\n",
       "      <td>0.900774</td>\n",
       "      <td>0.788709</td>\n",
       "    </tr>\n",
       "  </tbody>\n",
       "</table>\n",
       "</div>"
      ],
      "text/plain": [
       "      time   base_loss        csv_train  exp  lambd      lr         metric  \\\n",
       "1  0:05:24  focal_loss  train_mac_3.csv  1.0   10.0  0.0001  kappa_auc_avg   \n",
       "5  0:12:05          ce  train_mac_3.csv  1.0   10.0  0.0001  kappa_auc_avg   \n",
       "9  0:11:27         gls  train_mac_3.csv  1.0   10.0  0.0001  kappa_auc_avg   \n",
       "\n",
       "  model_name  n_epochs oversample  patience       auc     kappa  \n",
       "1   resnet50      50.0  1/4/2/2/7       5.0  0.885983  0.805524  \n",
       "5   resnet50      50.0  1/4/2/2/7       5.0  0.899887  0.801160  \n",
       "9   resnet50      50.0  1/4/2/2/7       5.0  0.900774  0.788709  "
      ]
     },
     "execution_count": 35,
     "metadata": {},
     "output_type": "execute_result"
    }
   ],
   "source": [
    "df_train3.sort_values('kappa', ascending=False).head(5)"
   ]
  },
  {
   "cell_type": "markdown",
   "metadata": {},
   "source": [
    "### Best models this fold:"
   ]
  },
  {
   "cell_type": "markdown",
   "metadata": {},
   "source": [
    "python train.py --csv_train train_mac_3.csv --base_loss focal_loss --exp 1 --lambd 10 --load_checkpoint models/resnet50_eyepacs --metric kappa_auc_avg --model_name resnet50 --n_epochs 50 --patience 5 --oversample 1/4/2/2/7 --save_model True --save_path best_mac_f3 "
   ]
  },
  {
   "cell_type": "markdown",
   "metadata": {},
   "source": [
    "## Fourth fold"
   ]
  },
  {
   "cell_type": "code",
   "execution_count": 36,
   "metadata": {},
   "outputs": [
    {
     "data": {
      "text/html": [
       "<div>\n",
       "<style scoped>\n",
       "    .dataframe tbody tr th:only-of-type {\n",
       "        vertical-align: middle;\n",
       "    }\n",
       "\n",
       "    .dataframe tbody tr th {\n",
       "        vertical-align: top;\n",
       "    }\n",
       "\n",
       "    .dataframe thead th {\n",
       "        text-align: right;\n",
       "    }\n",
       "</style>\n",
       "<table border=\"1\" class=\"dataframe\">\n",
       "  <thead>\n",
       "    <tr style=\"text-align: right;\">\n",
       "      <th></th>\n",
       "      <th>time</th>\n",
       "      <th>base_loss</th>\n",
       "      <th>csv_train</th>\n",
       "      <th>exp</th>\n",
       "      <th>lambd</th>\n",
       "      <th>lr</th>\n",
       "      <th>metric</th>\n",
       "      <th>model_name</th>\n",
       "      <th>n_epochs</th>\n",
       "      <th>oversample</th>\n",
       "      <th>patience</th>\n",
       "      <th>auc</th>\n",
       "      <th>kappa</th>\n",
       "    </tr>\n",
       "  </thead>\n",
       "  <tbody>\n",
       "    <tr>\n",
       "      <th>4</th>\n",
       "      <td>0:09:10</td>\n",
       "      <td>ce</td>\n",
       "      <td>train_mac_4.csv</td>\n",
       "      <td>1.0</td>\n",
       "      <td>10.0</td>\n",
       "      <td>0.0001</td>\n",
       "      <td>kappa_auc_avg</td>\n",
       "      <td>resnet50</td>\n",
       "      <td>50.0</td>\n",
       "      <td>1/4/2/2/7</td>\n",
       "      <td>5.0</td>\n",
       "      <td>0.927619</td>\n",
       "      <td>0.861877</td>\n",
       "    </tr>\n",
       "    <tr>\n",
       "      <th>8</th>\n",
       "      <td>0:08:30</td>\n",
       "      <td>gls</td>\n",
       "      <td>train_mac_4.csv</td>\n",
       "      <td>1.0</td>\n",
       "      <td>10.0</td>\n",
       "      <td>0.0001</td>\n",
       "      <td>kappa_auc_avg</td>\n",
       "      <td>resnet50</td>\n",
       "      <td>50.0</td>\n",
       "      <td>1/4/2/2/7</td>\n",
       "      <td>5.0</td>\n",
       "      <td>0.924584</td>\n",
       "      <td>0.861352</td>\n",
       "    </tr>\n",
       "    <tr>\n",
       "      <th>0</th>\n",
       "      <td>0:10:35</td>\n",
       "      <td>focal_loss</td>\n",
       "      <td>train_mac_4.csv</td>\n",
       "      <td>1.0</td>\n",
       "      <td>10.0</td>\n",
       "      <td>0.0001</td>\n",
       "      <td>kappa_auc_avg</td>\n",
       "      <td>resnet50</td>\n",
       "      <td>50.0</td>\n",
       "      <td>1/4/2/2/7</td>\n",
       "      <td>5.0</td>\n",
       "      <td>0.926112</td>\n",
       "      <td>0.853537</td>\n",
       "    </tr>\n",
       "  </tbody>\n",
       "</table>\n",
       "</div>"
      ],
      "text/plain": [
       "      time   base_loss        csv_train  exp  lambd      lr         metric  \\\n",
       "4  0:09:10          ce  train_mac_4.csv  1.0   10.0  0.0001  kappa_auc_avg   \n",
       "8  0:08:30         gls  train_mac_4.csv  1.0   10.0  0.0001  kappa_auc_avg   \n",
       "0  0:10:35  focal_loss  train_mac_4.csv  1.0   10.0  0.0001  kappa_auc_avg   \n",
       "\n",
       "  model_name  n_epochs oversample  patience       auc     kappa  \n",
       "4   resnet50      50.0  1/4/2/2/7       5.0  0.927619  0.861877  \n",
       "8   resnet50      50.0  1/4/2/2/7       5.0  0.924584  0.861352  \n",
       "0   resnet50      50.0  1/4/2/2/7       5.0  0.926112  0.853537  "
      ]
     },
     "execution_count": 36,
     "metadata": {},
     "output_type": "execute_result"
    }
   ],
   "source": [
    "df_train4.sort_values('kappa', ascending=False).head(5)"
   ]
  },
  {
   "cell_type": "markdown",
   "metadata": {},
   "source": [
    "### Best models this fold:"
   ]
  },
  {
   "cell_type": "markdown",
   "metadata": {},
   "source": [
    "python train.py --csv_train train_od_4.csv --base_loss ce --exp 1 --lambd 10 --load_checkpoint models/resnet50_eyepacs --metric kappa_auc_avg --model_name resnet50 --n_epochs 50 --patience 5 --oversample 1/4/2/2/7 --save_model True --save_path best_mac_f4 "
   ]
  },
  {
   "cell_type": "markdown",
   "metadata": {},
   "source": [
    "## MIXING COEFFICIENTS - ok"
   ]
  },
  {
   "cell_type": "code",
   "execution_count": 37,
   "metadata": {},
   "outputs": [],
   "source": [
    "k_auc_f1 = 0.5*0.906182+0.5*0.852420\n",
    "k_auc_f2 = 0.5*0.891001+0.5*0.844584\n",
    "k_auc_f3 = 0.5*0.885983+0.5*0.805524\n",
    "k_auc_f4 = 0.5*0.927619+0.5*0.861877\n",
    "coeff_sum = k_auc_f1+k_auc_f2+k_auc_f3+k_auc_f4"
   ]
  },
  {
   "cell_type": "code",
   "execution_count": 38,
   "metadata": {},
   "outputs": [
    {
     "name": "stdout",
     "output_type": "stream",
     "text": [
      "0.2521224511447 0.24882261271735967 0.24250335833145767 0.2565515778064827\n"
     ]
    }
   ],
   "source": [
    "coeff_f1 = k_auc_f1/coeff_sum\n",
    "coeff_f2 = k_auc_f2/coeff_sum\n",
    "coeff_f3 = k_auc_f3/coeff_sum\n",
    "coeff_f4 = k_auc_f4/coeff_sum\n",
    "print(coeff_f1,coeff_f2,coeff_f3,coeff_f4)"
   ]
  },
  {
   "cell_type": "markdown",
   "metadata": {},
   "source": [
    "# UW\n",
    "## Both OD+MAC"
   ]
  },
  {
   "cell_type": "code",
   "execution_count": 39,
   "metadata": {},
   "outputs": [],
   "source": [
    "df_all = pd.read_csv('results_multi_split_fundus_both_UW.csv')"
   ]
  },
  {
   "cell_type": "code",
   "execution_count": 40,
   "metadata": {},
   "outputs": [
    {
     "data": {
      "text/plain": [
       "Index(['time', 'base_loss', 'csv_train', 'exp', 'lambd', 'load_checkpoint',\n",
       "       'lr', 'metric', 'model_name', 'n_epochs', 'oversample', 'patience',\n",
       "       'pretrained', 'auc', 'kappa'],\n",
       "      dtype='object')"
      ]
     },
     "execution_count": 40,
     "metadata": {},
     "output_type": "execute_result"
    }
   ],
   "source": [
    "df_all = df_all.drop(['run', 'operation', 'started', 'status', 'label', 'batch_size', 'decay_f', 'acc',  \n",
    "        'optimizer', 'save_model', 'step'], axis=1)\n",
    "df_all.columns"
   ]
  },
  {
   "cell_type": "code",
   "execution_count": 41,
   "metadata": {},
   "outputs": [],
   "source": [
    "df_train1 = df_all[df_all.csv_train=='train_all_1_UW.csv']\n",
    "df_train2 = df_all[df_all.csv_train=='train_all_2_UW.csv']\n",
    "df_train3 = df_all[df_all.csv_train=='train_all_3_UW.csv']\n",
    "df_train4 = df_all[df_all.csv_train=='train_all_4_UW.csv']"
   ]
  },
  {
   "cell_type": "markdown",
   "metadata": {},
   "source": [
    "## First fold - trained"
   ]
  },
  {
   "cell_type": "code",
   "execution_count": 42,
   "metadata": {},
   "outputs": [
    {
     "data": {
      "text/html": [
       "<div>\n",
       "<style scoped>\n",
       "    .dataframe tbody tr th:only-of-type {\n",
       "        vertical-align: middle;\n",
       "    }\n",
       "\n",
       "    .dataframe tbody tr th {\n",
       "        vertical-align: top;\n",
       "    }\n",
       "\n",
       "    .dataframe thead th {\n",
       "        text-align: right;\n",
       "    }\n",
       "</style>\n",
       "<table border=\"1\" class=\"dataframe\">\n",
       "  <thead>\n",
       "    <tr style=\"text-align: right;\">\n",
       "      <th></th>\n",
       "      <th>time</th>\n",
       "      <th>base_loss</th>\n",
       "      <th>csv_train</th>\n",
       "      <th>exp</th>\n",
       "      <th>lambd</th>\n",
       "      <th>load_checkpoint</th>\n",
       "      <th>lr</th>\n",
       "      <th>metric</th>\n",
       "      <th>model_name</th>\n",
       "      <th>n_epochs</th>\n",
       "      <th>oversample</th>\n",
       "      <th>patience</th>\n",
       "      <th>pretrained</th>\n",
       "      <th>auc</th>\n",
       "      <th>kappa</th>\n",
       "    </tr>\n",
       "  </thead>\n",
       "  <tbody>\n",
       "    <tr>\n",
       "      <th>23</th>\n",
       "      <td>0:03:38</td>\n",
       "      <td>gls</td>\n",
       "      <td>train_all_1_UW.csv</td>\n",
       "      <td>1.0</td>\n",
       "      <td>1.0</td>\n",
       "      <td>experiments/best_both_f3</td>\n",
       "      <td>0.0001</td>\n",
       "      <td>kappa_auc_avg</td>\n",
       "      <td>resnet50</td>\n",
       "      <td>50.0</td>\n",
       "      <td>1/1/1/3/8</td>\n",
       "      <td>5.0</td>\n",
       "      <td>True</td>\n",
       "      <td>0.865708</td>\n",
       "      <td>0.797852</td>\n",
       "    </tr>\n",
       "    <tr>\n",
       "      <th>49</th>\n",
       "      <td>0:03:03</td>\n",
       "      <td>ce</td>\n",
       "      <td>train_all_1_UW.csv</td>\n",
       "      <td>1.0</td>\n",
       "      <td>10.0</td>\n",
       "      <td>models/resnet50_eyepacs</td>\n",
       "      <td>0.0001</td>\n",
       "      <td>kappa_auc_avg</td>\n",
       "      <td>resnet50</td>\n",
       "      <td>50.0</td>\n",
       "      <td>1/1/1/3/8</td>\n",
       "      <td>5.0</td>\n",
       "      <td>True</td>\n",
       "      <td>0.884569</td>\n",
       "      <td>0.796996</td>\n",
       "    </tr>\n",
       "    <tr>\n",
       "      <th>14</th>\n",
       "      <td>0:03:29</td>\n",
       "      <td>focal_loss</td>\n",
       "      <td>train_all_1_UW.csv</td>\n",
       "      <td>1.0</td>\n",
       "      <td>1.0</td>\n",
       "      <td>experiments/best_both_f3</td>\n",
       "      <td>0.0001</td>\n",
       "      <td>kappa_auc_avg</td>\n",
       "      <td>resnet50</td>\n",
       "      <td>50.0</td>\n",
       "      <td>1/1/1/3/8</td>\n",
       "      <td>5.0</td>\n",
       "      <td>True</td>\n",
       "      <td>0.861982</td>\n",
       "      <td>0.795035</td>\n",
       "    </tr>\n",
       "    <tr>\n",
       "      <th>13</th>\n",
       "      <td>0:03:04</td>\n",
       "      <td>focal_loss</td>\n",
       "      <td>train_all_1_UW.csv</td>\n",
       "      <td>1.0</td>\n",
       "      <td>10.0</td>\n",
       "      <td>models/resnet50_eyepacs</td>\n",
       "      <td>0.0001</td>\n",
       "      <td>kappa_auc_avg</td>\n",
       "      <td>resnet50</td>\n",
       "      <td>50.0</td>\n",
       "      <td>1/1/1/3/8</td>\n",
       "      <td>5.0</td>\n",
       "      <td>True</td>\n",
       "      <td>0.884626</td>\n",
       "      <td>0.790018</td>\n",
       "    </tr>\n",
       "    <tr>\n",
       "      <th>41</th>\n",
       "      <td>0:02:31</td>\n",
       "      <td>gls</td>\n",
       "      <td>train_all_1_UW.csv</td>\n",
       "      <td>1.0</td>\n",
       "      <td>10.0</td>\n",
       "      <td>models/resnet50_eyepacs</td>\n",
       "      <td>0.0001</td>\n",
       "      <td>kappa_auc_avg</td>\n",
       "      <td>resnet50</td>\n",
       "      <td>50.0</td>\n",
       "      <td>1/1/1/3/8</td>\n",
       "      <td>5.0</td>\n",
       "      <td>True</td>\n",
       "      <td>0.891016</td>\n",
       "      <td>0.788746</td>\n",
       "    </tr>\n",
       "  </tbody>\n",
       "</table>\n",
       "</div>"
      ],
      "text/plain": [
       "       time   base_loss           csv_train  exp  lambd  \\\n",
       "23  0:03:38         gls  train_all_1_UW.csv  1.0    1.0   \n",
       "49  0:03:03          ce  train_all_1_UW.csv  1.0   10.0   \n",
       "14  0:03:29  focal_loss  train_all_1_UW.csv  1.0    1.0   \n",
       "13  0:03:04  focal_loss  train_all_1_UW.csv  1.0   10.0   \n",
       "41  0:02:31         gls  train_all_1_UW.csv  1.0   10.0   \n",
       "\n",
       "             load_checkpoint      lr         metric model_name  n_epochs  \\\n",
       "23  experiments/best_both_f3  0.0001  kappa_auc_avg   resnet50      50.0   \n",
       "49   models/resnet50_eyepacs  0.0001  kappa_auc_avg   resnet50      50.0   \n",
       "14  experiments/best_both_f3  0.0001  kappa_auc_avg   resnet50      50.0   \n",
       "13   models/resnet50_eyepacs  0.0001  kappa_auc_avg   resnet50      50.0   \n",
       "41   models/resnet50_eyepacs  0.0001  kappa_auc_avg   resnet50      50.0   \n",
       "\n",
       "   oversample  patience pretrained       auc     kappa  \n",
       "23  1/1/1/3/8       5.0       True  0.865708  0.797852  \n",
       "49  1/1/1/3/8       5.0       True  0.884569  0.796996  \n",
       "14  1/1/1/3/8       5.0       True  0.861982  0.795035  \n",
       "13  1/1/1/3/8       5.0       True  0.884626  0.790018  \n",
       "41  1/1/1/3/8       5.0       True  0.891016  0.788746  "
      ]
     },
     "execution_count": 42,
     "metadata": {},
     "output_type": "execute_result"
    }
   ],
   "source": [
    "df_train1.sort_values('kappa', ascending=False).head(5)"
   ]
  },
  {
   "cell_type": "markdown",
   "metadata": {},
   "source": [
    "### Best models this fold:"
   ]
  },
  {
   "cell_type": "markdown",
   "metadata": {},
   "source": [
    "python train.py --csv_train train_all_1_UW.csv --base_loss ce --exp 1 --lambd 10 --lr 0.0001 --load_checkpoint models/resnet50_eyepacs --metric kappa_auc_avg --model_name resnet50 --n_epochs 50 --patience 5 --oversample 1/1/1/3/8 --save_model True --save_path best_both_UW_f1 "
   ]
  },
  {
   "cell_type": "markdown",
   "metadata": {},
   "source": [
    "## Second fold - trained"
   ]
  },
  {
   "cell_type": "code",
   "execution_count": 44,
   "metadata": {},
   "outputs": [
    {
     "data": {
      "text/html": [
       "<div>\n",
       "<style scoped>\n",
       "    .dataframe tbody tr th:only-of-type {\n",
       "        vertical-align: middle;\n",
       "    }\n",
       "\n",
       "    .dataframe tbody tr th {\n",
       "        vertical-align: top;\n",
       "    }\n",
       "\n",
       "    .dataframe thead th {\n",
       "        text-align: right;\n",
       "    }\n",
       "</style>\n",
       "<table border=\"1\" class=\"dataframe\">\n",
       "  <thead>\n",
       "    <tr style=\"text-align: right;\">\n",
       "      <th></th>\n",
       "      <th>time</th>\n",
       "      <th>base_loss</th>\n",
       "      <th>csv_train</th>\n",
       "      <th>exp</th>\n",
       "      <th>lambd</th>\n",
       "      <th>load_checkpoint</th>\n",
       "      <th>lr</th>\n",
       "      <th>metric</th>\n",
       "      <th>model_name</th>\n",
       "      <th>n_epochs</th>\n",
       "      <th>oversample</th>\n",
       "      <th>patience</th>\n",
       "      <th>pretrained</th>\n",
       "      <th>auc</th>\n",
       "      <th>kappa</th>\n",
       "    </tr>\n",
       "  </thead>\n",
       "  <tbody>\n",
       "    <tr>\n",
       "      <th>46</th>\n",
       "      <td>0:02:42</td>\n",
       "      <td>ce</td>\n",
       "      <td>train_all_2_UW.csv</td>\n",
       "      <td>1.0</td>\n",
       "      <td>10.0</td>\n",
       "      <td>experiments/best_both_f3</td>\n",
       "      <td>0.0001</td>\n",
       "      <td>kappa_auc_avg</td>\n",
       "      <td>resnet50</td>\n",
       "      <td>50.0</td>\n",
       "      <td>1/1/1/3/8</td>\n",
       "      <td>5.0</td>\n",
       "      <td>True</td>\n",
       "      <td>0.812002</td>\n",
       "      <td>0.651293</td>\n",
       "    </tr>\n",
       "    <tr>\n",
       "      <th>9</th>\n",
       "      <td>0:02:59</td>\n",
       "      <td>focal_loss</td>\n",
       "      <td>train_all_2_UW.csv</td>\n",
       "      <td>1.0</td>\n",
       "      <td>10.0</td>\n",
       "      <td>models/resnet50_eyepacs</td>\n",
       "      <td>0.0001</td>\n",
       "      <td>kappa_auc_avg</td>\n",
       "      <td>resnet50</td>\n",
       "      <td>50.0</td>\n",
       "      <td>1/1/1/3/8</td>\n",
       "      <td>5.0</td>\n",
       "      <td>True</td>\n",
       "      <td>0.810200</td>\n",
       "      <td>0.633370</td>\n",
       "    </tr>\n",
       "    <tr>\n",
       "      <th>8</th>\n",
       "      <td>0:02:59</td>\n",
       "      <td>focal_loss</td>\n",
       "      <td>train_all_2_UW.csv</td>\n",
       "      <td>1.0</td>\n",
       "      <td>10.0</td>\n",
       "      <td>experiments/best_both_f3</td>\n",
       "      <td>0.0001</td>\n",
       "      <td>kappa_auc_avg</td>\n",
       "      <td>resnet50</td>\n",
       "      <td>50.0</td>\n",
       "      <td>1/1/1/3/8</td>\n",
       "      <td>5.0</td>\n",
       "      <td>True</td>\n",
       "      <td>0.803573</td>\n",
       "      <td>0.630272</td>\n",
       "    </tr>\n",
       "    <tr>\n",
       "      <th>11</th>\n",
       "      <td>0:04:06</td>\n",
       "      <td>focal_loss</td>\n",
       "      <td>train_all_2_UW.csv</td>\n",
       "      <td>1.0</td>\n",
       "      <td>1.0</td>\n",
       "      <td>models/resnet50_eyepacs</td>\n",
       "      <td>0.0001</td>\n",
       "      <td>kappa_auc_avg</td>\n",
       "      <td>resnet50</td>\n",
       "      <td>50.0</td>\n",
       "      <td>1/1/1/3/8</td>\n",
       "      <td>5.0</td>\n",
       "      <td>True</td>\n",
       "      <td>0.819037</td>\n",
       "      <td>0.624776</td>\n",
       "    </tr>\n",
       "    <tr>\n",
       "      <th>38</th>\n",
       "      <td>0:02:43</td>\n",
       "      <td>gls</td>\n",
       "      <td>train_all_2_UW.csv</td>\n",
       "      <td>1.0</td>\n",
       "      <td>10.0</td>\n",
       "      <td>experiments/best_both_f3</td>\n",
       "      <td>0.0001</td>\n",
       "      <td>kappa_auc_avg</td>\n",
       "      <td>resnet50</td>\n",
       "      <td>50.0</td>\n",
       "      <td>1/1/1/3/8</td>\n",
       "      <td>5.0</td>\n",
       "      <td>True</td>\n",
       "      <td>0.810989</td>\n",
       "      <td>0.621503</td>\n",
       "    </tr>\n",
       "  </tbody>\n",
       "</table>\n",
       "</div>"
      ],
      "text/plain": [
       "       time   base_loss           csv_train  exp  lambd  \\\n",
       "46  0:02:42          ce  train_all_2_UW.csv  1.0   10.0   \n",
       "9   0:02:59  focal_loss  train_all_2_UW.csv  1.0   10.0   \n",
       "8   0:02:59  focal_loss  train_all_2_UW.csv  1.0   10.0   \n",
       "11  0:04:06  focal_loss  train_all_2_UW.csv  1.0    1.0   \n",
       "38  0:02:43         gls  train_all_2_UW.csv  1.0   10.0   \n",
       "\n",
       "             load_checkpoint      lr         metric model_name  n_epochs  \\\n",
       "46  experiments/best_both_f3  0.0001  kappa_auc_avg   resnet50      50.0   \n",
       "9    models/resnet50_eyepacs  0.0001  kappa_auc_avg   resnet50      50.0   \n",
       "8   experiments/best_both_f3  0.0001  kappa_auc_avg   resnet50      50.0   \n",
       "11   models/resnet50_eyepacs  0.0001  kappa_auc_avg   resnet50      50.0   \n",
       "38  experiments/best_both_f3  0.0001  kappa_auc_avg   resnet50      50.0   \n",
       "\n",
       "   oversample  patience pretrained       auc     kappa  \n",
       "46  1/1/1/3/8       5.0       True  0.812002  0.651293  \n",
       "9   1/1/1/3/8       5.0       True  0.810200  0.633370  \n",
       "8   1/1/1/3/8       5.0       True  0.803573  0.630272  \n",
       "11  1/1/1/3/8       5.0       True  0.819037  0.624776  \n",
       "38  1/1/1/3/8       5.0       True  0.810989  0.621503  "
      ]
     },
     "execution_count": 44,
     "metadata": {},
     "output_type": "execute_result"
    }
   ],
   "source": [
    "df_train2.sort_values('kappa', ascending=False).head(5)"
   ]
  },
  {
   "cell_type": "markdown",
   "metadata": {},
   "source": [
    "### Best models this fold:"
   ]
  },
  {
   "cell_type": "markdown",
   "metadata": {},
   "source": [
    "python train.py --csv_train train_all_2_UW.csv --base_loss ce --exp 1 --lambd 10 --load_checkpoint models/resnet50_eyepacs --metric kappa_auc_avg --model_name resnet50 --n_epochs 50 --patience 5 --oversample 1/1/1/3/8 --save_model True --save_path best_both_UW_f2 "
   ]
  },
  {
   "cell_type": "markdown",
   "metadata": {},
   "source": [
    "## Third fold - trained"
   ]
  },
  {
   "cell_type": "code",
   "execution_count": 45,
   "metadata": {},
   "outputs": [
    {
     "data": {
      "text/html": [
       "<div>\n",
       "<style scoped>\n",
       "    .dataframe tbody tr th:only-of-type {\n",
       "        vertical-align: middle;\n",
       "    }\n",
       "\n",
       "    .dataframe tbody tr th {\n",
       "        vertical-align: top;\n",
       "    }\n",
       "\n",
       "    .dataframe thead th {\n",
       "        text-align: right;\n",
       "    }\n",
       "</style>\n",
       "<table border=\"1\" class=\"dataframe\">\n",
       "  <thead>\n",
       "    <tr style=\"text-align: right;\">\n",
       "      <th></th>\n",
       "      <th>time</th>\n",
       "      <th>base_loss</th>\n",
       "      <th>csv_train</th>\n",
       "      <th>exp</th>\n",
       "      <th>lambd</th>\n",
       "      <th>load_checkpoint</th>\n",
       "      <th>lr</th>\n",
       "      <th>metric</th>\n",
       "      <th>model_name</th>\n",
       "      <th>n_epochs</th>\n",
       "      <th>oversample</th>\n",
       "      <th>patience</th>\n",
       "      <th>pretrained</th>\n",
       "      <th>auc</th>\n",
       "      <th>kappa</th>\n",
       "    </tr>\n",
       "  </thead>\n",
       "  <tbody>\n",
       "    <tr>\n",
       "      <th>28</th>\n",
       "      <td>0:01:55</td>\n",
       "      <td>ce</td>\n",
       "      <td>train_all_3_UW.csv</td>\n",
       "      <td>1.0</td>\n",
       "      <td>1.0</td>\n",
       "      <td>models/resnet50_eyepacs</td>\n",
       "      <td>0.0001</td>\n",
       "      <td>kappa_auc_avg</td>\n",
       "      <td>resnet50</td>\n",
       "      <td>50.0</td>\n",
       "      <td>1/1/1/3/8</td>\n",
       "      <td>5.0</td>\n",
       "      <td>True</td>\n",
       "      <td>0.806678</td>\n",
       "      <td>0.739156</td>\n",
       "    </tr>\n",
       "    <tr>\n",
       "      <th>45</th>\n",
       "      <td>0:01:55</td>\n",
       "      <td>ce</td>\n",
       "      <td>train_all_3_UW.csv</td>\n",
       "      <td>1.0</td>\n",
       "      <td>10.0</td>\n",
       "      <td>models/resnet50_eyepacs</td>\n",
       "      <td>0.0001</td>\n",
       "      <td>kappa_auc_avg</td>\n",
       "      <td>resnet50</td>\n",
       "      <td>50.0</td>\n",
       "      <td>1/1/1/3/8</td>\n",
       "      <td>5.0</td>\n",
       "      <td>True</td>\n",
       "      <td>0.813419</td>\n",
       "      <td>0.737165</td>\n",
       "    </tr>\n",
       "    <tr>\n",
       "      <th>5</th>\n",
       "      <td>0:03:08</td>\n",
       "      <td>focal_loss</td>\n",
       "      <td>train_all_3_UW.csv</td>\n",
       "      <td>1.0</td>\n",
       "      <td>10.0</td>\n",
       "      <td>models/resnet50_eyepacs</td>\n",
       "      <td>0.0001</td>\n",
       "      <td>kappa_auc_avg</td>\n",
       "      <td>resnet50</td>\n",
       "      <td>50.0</td>\n",
       "      <td>1/1/1/3/8</td>\n",
       "      <td>5.0</td>\n",
       "      <td>True</td>\n",
       "      <td>0.821324</td>\n",
       "      <td>0.726483</td>\n",
       "    </tr>\n",
       "    <tr>\n",
       "      <th>37</th>\n",
       "      <td>0:02:12</td>\n",
       "      <td>gls</td>\n",
       "      <td>train_all_3_UW.csv</td>\n",
       "      <td>1.0</td>\n",
       "      <td>10.0</td>\n",
       "      <td>models/resnet50_eyepacs</td>\n",
       "      <td>0.0001</td>\n",
       "      <td>kappa_auc_avg</td>\n",
       "      <td>resnet50</td>\n",
       "      <td>50.0</td>\n",
       "      <td>1/1/1/3/8</td>\n",
       "      <td>5.0</td>\n",
       "      <td>True</td>\n",
       "      <td>0.812335</td>\n",
       "      <td>0.725806</td>\n",
       "    </tr>\n",
       "    <tr>\n",
       "      <th>7</th>\n",
       "      <td>0:02:52</td>\n",
       "      <td>focal_loss</td>\n",
       "      <td>train_all_3_UW.csv</td>\n",
       "      <td>1.0</td>\n",
       "      <td>1.0</td>\n",
       "      <td>models/resnet50_eyepacs</td>\n",
       "      <td>0.0001</td>\n",
       "      <td>kappa_auc_avg</td>\n",
       "      <td>resnet50</td>\n",
       "      <td>50.0</td>\n",
       "      <td>1/1/1/3/8</td>\n",
       "      <td>5.0</td>\n",
       "      <td>True</td>\n",
       "      <td>0.804497</td>\n",
       "      <td>0.694255</td>\n",
       "    </tr>\n",
       "  </tbody>\n",
       "</table>\n",
       "</div>"
      ],
      "text/plain": [
       "       time   base_loss           csv_train  exp  lambd  \\\n",
       "28  0:01:55          ce  train_all_3_UW.csv  1.0    1.0   \n",
       "45  0:01:55          ce  train_all_3_UW.csv  1.0   10.0   \n",
       "5   0:03:08  focal_loss  train_all_3_UW.csv  1.0   10.0   \n",
       "37  0:02:12         gls  train_all_3_UW.csv  1.0   10.0   \n",
       "7   0:02:52  focal_loss  train_all_3_UW.csv  1.0    1.0   \n",
       "\n",
       "            load_checkpoint      lr         metric model_name  n_epochs  \\\n",
       "28  models/resnet50_eyepacs  0.0001  kappa_auc_avg   resnet50      50.0   \n",
       "45  models/resnet50_eyepacs  0.0001  kappa_auc_avg   resnet50      50.0   \n",
       "5   models/resnet50_eyepacs  0.0001  kappa_auc_avg   resnet50      50.0   \n",
       "37  models/resnet50_eyepacs  0.0001  kappa_auc_avg   resnet50      50.0   \n",
       "7   models/resnet50_eyepacs  0.0001  kappa_auc_avg   resnet50      50.0   \n",
       "\n",
       "   oversample  patience pretrained       auc     kappa  \n",
       "28  1/1/1/3/8       5.0       True  0.806678  0.739156  \n",
       "45  1/1/1/3/8       5.0       True  0.813419  0.737165  \n",
       "5   1/1/1/3/8       5.0       True  0.821324  0.726483  \n",
       "37  1/1/1/3/8       5.0       True  0.812335  0.725806  \n",
       "7   1/1/1/3/8       5.0       True  0.804497  0.694255  "
      ]
     },
     "execution_count": 45,
     "metadata": {},
     "output_type": "execute_result"
    }
   ],
   "source": [
    "df_train3.sort_values('kappa', ascending=False).head(5)"
   ]
  },
  {
   "cell_type": "markdown",
   "metadata": {},
   "source": [
    "### Best models this fold:"
   ]
  },
  {
   "cell_type": "markdown",
   "metadata": {},
   "source": [
    "python train.py --csv_train train_all_3_UW.csv --base_loss ce --exp 1 --lambd 10 --load_checkpoint models/resnet50_eyepacs --metric kappa_auc_avg --model_name resnet50 --n_epochs 50 --patience 5 --oversample 1/1/1/3/8 --save_model True --save_path best_both_UW_f3 "
   ]
  },
  {
   "cell_type": "markdown",
   "metadata": {},
   "source": [
    "## Fourth fold - trained"
   ]
  },
  {
   "cell_type": "code",
   "execution_count": 46,
   "metadata": {},
   "outputs": [
    {
     "data": {
      "text/html": [
       "<div>\n",
       "<style scoped>\n",
       "    .dataframe tbody tr th:only-of-type {\n",
       "        vertical-align: middle;\n",
       "    }\n",
       "\n",
       "    .dataframe tbody tr th {\n",
       "        vertical-align: top;\n",
       "    }\n",
       "\n",
       "    .dataframe thead th {\n",
       "        text-align: right;\n",
       "    }\n",
       "</style>\n",
       "<table border=\"1\" class=\"dataframe\">\n",
       "  <thead>\n",
       "    <tr style=\"text-align: right;\">\n",
       "      <th></th>\n",
       "      <th>time</th>\n",
       "      <th>base_loss</th>\n",
       "      <th>csv_train</th>\n",
       "      <th>exp</th>\n",
       "      <th>lambd</th>\n",
       "      <th>load_checkpoint</th>\n",
       "      <th>lr</th>\n",
       "      <th>metric</th>\n",
       "      <th>model_name</th>\n",
       "      <th>n_epochs</th>\n",
       "      <th>oversample</th>\n",
       "      <th>patience</th>\n",
       "      <th>pretrained</th>\n",
       "      <th>auc</th>\n",
       "      <th>kappa</th>\n",
       "    </tr>\n",
       "  </thead>\n",
       "  <tbody>\n",
       "    <tr>\n",
       "      <th>26</th>\n",
       "      <td>0:03:48</td>\n",
       "      <td>ce</td>\n",
       "      <td>train_all_4_UW.csv</td>\n",
       "      <td>1.0</td>\n",
       "      <td>1.0</td>\n",
       "      <td>models/resnet50_eyepacs</td>\n",
       "      <td>0.0001</td>\n",
       "      <td>kappa_auc_avg</td>\n",
       "      <td>resnet50</td>\n",
       "      <td>50.0</td>\n",
       "      <td>1/1/1/3/8</td>\n",
       "      <td>5.0</td>\n",
       "      <td>True</td>\n",
       "      <td>0.867193</td>\n",
       "      <td>0.712310</td>\n",
       "    </tr>\n",
       "    <tr>\n",
       "      <th>43</th>\n",
       "      <td>0:03:56</td>\n",
       "      <td>ce</td>\n",
       "      <td>train_all_4_UW.csv</td>\n",
       "      <td>1.0</td>\n",
       "      <td>10.0</td>\n",
       "      <td>models/resnet50_eyepacs</td>\n",
       "      <td>0.0001</td>\n",
       "      <td>kappa_auc_avg</td>\n",
       "      <td>resnet50</td>\n",
       "      <td>50.0</td>\n",
       "      <td>1/1/1/3/8</td>\n",
       "      <td>5.0</td>\n",
       "      <td>True</td>\n",
       "      <td>0.867004</td>\n",
       "      <td>0.711499</td>\n",
       "    </tr>\n",
       "    <tr>\n",
       "      <th>1</th>\n",
       "      <td>0:03:31</td>\n",
       "      <td>focal_loss</td>\n",
       "      <td>train_all_4_UW.csv</td>\n",
       "      <td>1.0</td>\n",
       "      <td>10.0</td>\n",
       "      <td>models/resnet50_eyepacs</td>\n",
       "      <td>0.0001</td>\n",
       "      <td>kappa_auc_avg</td>\n",
       "      <td>resnet50</td>\n",
       "      <td>50.0</td>\n",
       "      <td>1/1/1/3/8</td>\n",
       "      <td>5.0</td>\n",
       "      <td>True</td>\n",
       "      <td>0.860838</td>\n",
       "      <td>0.692366</td>\n",
       "    </tr>\n",
       "    <tr>\n",
       "      <th>35</th>\n",
       "      <td>0:03:48</td>\n",
       "      <td>gls</td>\n",
       "      <td>train_all_4_UW.csv</td>\n",
       "      <td>1.0</td>\n",
       "      <td>10.0</td>\n",
       "      <td>models/resnet50_eyepacs</td>\n",
       "      <td>0.0001</td>\n",
       "      <td>kappa_auc_avg</td>\n",
       "      <td>resnet50</td>\n",
       "      <td>50.0</td>\n",
       "      <td>1/1/1/3/8</td>\n",
       "      <td>5.0</td>\n",
       "      <td>True</td>\n",
       "      <td>0.848806</td>\n",
       "      <td>0.684709</td>\n",
       "    </tr>\n",
       "    <tr>\n",
       "      <th>3</th>\n",
       "      <td>0:05:11</td>\n",
       "      <td>focal_loss</td>\n",
       "      <td>train_all_4_UW.csv</td>\n",
       "      <td>1.0</td>\n",
       "      <td>1.0</td>\n",
       "      <td>models/resnet50_eyepacs</td>\n",
       "      <td>0.0001</td>\n",
       "      <td>kappa_auc_avg</td>\n",
       "      <td>resnet50</td>\n",
       "      <td>50.0</td>\n",
       "      <td>1/1/1/3/8</td>\n",
       "      <td>5.0</td>\n",
       "      <td>True</td>\n",
       "      <td>0.858952</td>\n",
       "      <td>0.680941</td>\n",
       "    </tr>\n",
       "  </tbody>\n",
       "</table>\n",
       "</div>"
      ],
      "text/plain": [
       "       time   base_loss           csv_train  exp  lambd  \\\n",
       "26  0:03:48          ce  train_all_4_UW.csv  1.0    1.0   \n",
       "43  0:03:56          ce  train_all_4_UW.csv  1.0   10.0   \n",
       "1   0:03:31  focal_loss  train_all_4_UW.csv  1.0   10.0   \n",
       "35  0:03:48         gls  train_all_4_UW.csv  1.0   10.0   \n",
       "3   0:05:11  focal_loss  train_all_4_UW.csv  1.0    1.0   \n",
       "\n",
       "            load_checkpoint      lr         metric model_name  n_epochs  \\\n",
       "26  models/resnet50_eyepacs  0.0001  kappa_auc_avg   resnet50      50.0   \n",
       "43  models/resnet50_eyepacs  0.0001  kappa_auc_avg   resnet50      50.0   \n",
       "1   models/resnet50_eyepacs  0.0001  kappa_auc_avg   resnet50      50.0   \n",
       "35  models/resnet50_eyepacs  0.0001  kappa_auc_avg   resnet50      50.0   \n",
       "3   models/resnet50_eyepacs  0.0001  kappa_auc_avg   resnet50      50.0   \n",
       "\n",
       "   oversample  patience pretrained       auc     kappa  \n",
       "26  1/1/1/3/8       5.0       True  0.867193  0.712310  \n",
       "43  1/1/1/3/8       5.0       True  0.867004  0.711499  \n",
       "1   1/1/1/3/8       5.0       True  0.860838  0.692366  \n",
       "35  1/1/1/3/8       5.0       True  0.848806  0.684709  \n",
       "3   1/1/1/3/8       5.0       True  0.858952  0.680941  "
      ]
     },
     "execution_count": 46,
     "metadata": {},
     "output_type": "execute_result"
    }
   ],
   "source": [
    "df_train4.sort_values('kappa', ascending=False).head(5)"
   ]
  },
  {
   "cell_type": "markdown",
   "metadata": {},
   "source": [
    "### Best models this fold:"
   ]
  },
  {
   "cell_type": "markdown",
   "metadata": {},
   "source": [
    "python train.py --csv_train train_all_4_UW.csv --base_loss ce --exp 1 --lambd 10 --load_checkpoint models/resnet50_eyepacs --metric kappa_auc_avg --model_name resnet50 --n_epochs 50 --patience 5 --oversample 1/1/1/3/8 --save_model True --save_path best_both_UW_f4 "
   ]
  },
  {
   "cell_type": "markdown",
   "metadata": {},
   "source": [
    "## MIXING COEFFICIENTS - ok"
   ]
  },
  {
   "cell_type": "code",
   "execution_count": 47,
   "metadata": {},
   "outputs": [],
   "source": [
    "k_auc_f1 = 0.5*0.884569+0.5*0.796996\n",
    "k_auc_f2 = 0.5*0.812000+0.5*0.633370\n",
    "k_auc_f3 = 0.5*0.813419+0.5*0.737165\n",
    "k_auc_f4 = 0.5*0.0.867004+0.5*0.0.711499\n",
    "coeff_sum = k_auc_f1+k_auc_f2+k_auc_f3+k_auc_f4"
   ]
  },
  {
   "cell_type": "code",
   "execution_count": 48,
   "metadata": {},
   "outputs": [
    {
     "name": "stdout",
     "output_type": "stream",
     "text": [
      "0.2687484557350126 0.23099966725384696 0.2478150148744882 0.25243686213665223\n"
     ]
    }
   ],
   "source": [
    "coeff_f1 = k_auc_f1/coeff_sum\n",
    "coeff_f2 = k_auc_f2/coeff_sum\n",
    "coeff_f3 = k_auc_f3/coeff_sum\n",
    "coeff_f4 = k_auc_f4/coeff_sum\n",
    "print(coeff_f1,coeff_f2,coeff_f3,coeff_f4)"
   ]
  },
  {
   "cell_type": "markdown",
   "metadata": {},
   "source": [
    "# UW\n",
    "## OD"
   ]
  },
  {
   "cell_type": "code",
   "execution_count": null,
   "metadata": {},
   "outputs": [],
   "source": [
    "df_all = pd.read_csv('results_multi_split_fundus_od_UW.csv')"
   ]
  },
  {
   "cell_type": "code",
   "execution_count": null,
   "metadata": {},
   "outputs": [],
   "source": [
    "df_all = df_all.drop(['run', 'operation', 'started', 'status', 'label', 'batch_size', 'decay_f', 'acc',  \n",
    "        'optimizer', 'save_model', 'step'], axis=1)\n",
    "df_all.columns"
   ]
  },
  {
   "cell_type": "code",
   "execution_count": null,
   "metadata": {},
   "outputs": [],
   "source": [
    "df_train1 = df_all[df_all.csv_train=='train_od_1_UW.csv']\n",
    "df_train2 = df_all[df_all.csv_train=='train_od_2_UW.csv']\n",
    "df_train3 = df_all[df_all.csv_train=='train_od_3_UW.csv']\n",
    "df_train4 = df_all[df_all.csv_train=='train_od_4_UW.csv']"
   ]
  },
  {
   "cell_type": "markdown",
   "metadata": {},
   "source": [
    "## First fold"
   ]
  },
  {
   "cell_type": "code",
   "execution_count": null,
   "metadata": {},
   "outputs": [],
   "source": [
    "df_train1.sort_values('kappa', ascending=False).head(5)"
   ]
  },
  {
   "cell_type": "markdown",
   "metadata": {},
   "source": [
    "#### Best models this fold:"
   ]
  },
  {
   "cell_type": "markdown",
   "metadata": {},
   "source": [
    "python train_"
   ]
  },
  {
   "cell_type": "markdown",
   "metadata": {},
   "source": [
    "### Second fold"
   ]
  },
  {
   "cell_type": "code",
   "execution_count": null,
   "metadata": {},
   "outputs": [],
   "source": [
    "df_train2.sort_values('kappa', ascending=False).head(5)"
   ]
  },
  {
   "cell_type": "markdown",
   "metadata": {},
   "source": [
    "#### Best models this fold:"
   ]
  },
  {
   "cell_type": "markdown",
   "metadata": {},
   "source": [
    "python train_"
   ]
  },
  {
   "cell_type": "markdown",
   "metadata": {},
   "source": [
    "### Third fold"
   ]
  },
  {
   "cell_type": "code",
   "execution_count": null,
   "metadata": {},
   "outputs": [],
   "source": [
    "df_train3.sort_values('kappa', ascending=False).head(5)"
   ]
  },
  {
   "cell_type": "markdown",
   "metadata": {},
   "source": [
    "#### Best models this fold:"
   ]
  },
  {
   "cell_type": "markdown",
   "metadata": {},
   "source": [
    "python train_"
   ]
  },
  {
   "cell_type": "markdown",
   "metadata": {},
   "source": [
    "### Fourth fold"
   ]
  },
  {
   "cell_type": "code",
   "execution_count": null,
   "metadata": {},
   "outputs": [],
   "source": [
    "df_train4.sort_values('kappa', ascending=False).head(5)"
   ]
  },
  {
   "cell_type": "markdown",
   "metadata": {},
   "source": [
    "#### Best models this fold:"
   ]
  },
  {
   "cell_type": "markdown",
   "metadata": {},
   "source": [
    "python train_"
   ]
  },
  {
   "cell_type": "markdown",
   "metadata": {},
   "source": [
    "## MIXING COEFFICIENTS"
   ]
  },
  {
   "cell_type": "code",
   "execution_count": null,
   "metadata": {},
   "outputs": [],
   "source": [
    "k_auc_f1 = 0.5*xxx+0.5*yyy\n",
    "k_auc_f2 = 0.5*xxx+0.5*yyy\n",
    "k_auc_f3 = 0.5*xxx+0.5*yyy\n",
    "k_auc_f4 = 0.5*xxx+0.5*yyy\n",
    "coeff_sum = k_auc_f1+k_auc_f2+k_auc_f3+k_auc_f4"
   ]
  },
  {
   "cell_type": "code",
   "execution_count": null,
   "metadata": {},
   "outputs": [],
   "source": [
    "coeff_f1 = k_auc_f1/coeff_sum\n",
    "coeff_f2 = k_auc_f2/coeff_sum\n",
    "coeff_f3 = k_auc_f3/coeff_sum\n",
    "coeff_f4 = k_auc_f4/coeff_sum\n",
    "print(coeff_f1,coeff_f2,coeff_f3,coeff_f4)"
   ]
  },
  {
   "cell_type": "markdown",
   "metadata": {},
   "source": [
    "# UW\n",
    "## MAC"
   ]
  },
  {
   "cell_type": "code",
   "execution_count": 56,
   "metadata": {},
   "outputs": [],
   "source": [
    "df_all = pd.read_csv('results_multi_split_fundus_mac_UW.csv')"
   ]
  },
  {
   "cell_type": "code",
   "execution_count": 57,
   "metadata": {},
   "outputs": [
    {
     "data": {
      "text/plain": [
       "Index(['time', 'base_loss', 'csv_train', 'exp', 'lambd', 'load_checkpoint',\n",
       "       'lr', 'metric', 'model_name', 'n_epochs', 'oversample', 'patience',\n",
       "       'pretrained', 'auc', 'kappa'],\n",
       "      dtype='object')"
      ]
     },
     "execution_count": 57,
     "metadata": {},
     "output_type": "execute_result"
    }
   ],
   "source": [
    "df_all = df_all.drop(['run', 'operation', 'started', 'status', 'label', 'batch_size', 'decay_f', 'acc',  \n",
    "        'optimizer', 'save_model', 'step'], axis=1)\n",
    "df_all.columns"
   ]
  },
  {
   "cell_type": "code",
   "execution_count": 58,
   "metadata": {},
   "outputs": [],
   "source": [
    "df_train1 = df_all[df_all.csv_train=='train_mac_1_UW.csv']\n",
    "df_train2 = df_all[df_all.csv_train=='train_mac_2_UW.csv']\n",
    "df_train3 = df_all[df_all.csv_train=='train_mac_3_UW.csv']\n",
    "df_train4 = df_all[df_all.csv_train=='train_mac_4_UW.csv']"
   ]
  },
  {
   "cell_type": "markdown",
   "metadata": {},
   "source": [
    "### First fold"
   ]
  },
  {
   "cell_type": "code",
   "execution_count": 59,
   "metadata": {},
   "outputs": [
    {
     "data": {
      "text/html": [
       "<div>\n",
       "<style scoped>\n",
       "    .dataframe tbody tr th:only-of-type {\n",
       "        vertical-align: middle;\n",
       "    }\n",
       "\n",
       "    .dataframe tbody tr th {\n",
       "        vertical-align: top;\n",
       "    }\n",
       "\n",
       "    .dataframe thead th {\n",
       "        text-align: right;\n",
       "    }\n",
       "</style>\n",
       "<table border=\"1\" class=\"dataframe\">\n",
       "  <thead>\n",
       "    <tr style=\"text-align: right;\">\n",
       "      <th></th>\n",
       "      <th>time</th>\n",
       "      <th>base_loss</th>\n",
       "      <th>csv_train</th>\n",
       "      <th>exp</th>\n",
       "      <th>lambd</th>\n",
       "      <th>load_checkpoint</th>\n",
       "      <th>lr</th>\n",
       "      <th>metric</th>\n",
       "      <th>model_name</th>\n",
       "      <th>n_epochs</th>\n",
       "      <th>oversample</th>\n",
       "      <th>patience</th>\n",
       "      <th>pretrained</th>\n",
       "      <th>auc</th>\n",
       "      <th>kappa</th>\n",
       "    </tr>\n",
       "  </thead>\n",
       "  <tbody>\n",
       "    <tr>\n",
       "      <th>7</th>\n",
       "      <td>0:03:13</td>\n",
       "      <td>gls</td>\n",
       "      <td>train_mac_1_UW.csv</td>\n",
       "      <td>1.0</td>\n",
       "      <td>10.0</td>\n",
       "      <td>models/resnet50_eyepacs</td>\n",
       "      <td>0.0001</td>\n",
       "      <td>kappa_auc_avg</td>\n",
       "      <td>resnet50</td>\n",
       "      <td>50.0</td>\n",
       "      <td>1/2/2/4/9</td>\n",
       "      <td>5.0</td>\n",
       "      <td>True</td>\n",
       "      <td>0.919381</td>\n",
       "      <td>0.840923</td>\n",
       "    </tr>\n",
       "    <tr>\n",
       "      <th>3</th>\n",
       "      <td>0:03:36</td>\n",
       "      <td>focal_loss</td>\n",
       "      <td>train_mac_1_UW.csv</td>\n",
       "      <td>1.0</td>\n",
       "      <td>10.0</td>\n",
       "      <td>models/resnet50_eyepacs</td>\n",
       "      <td>0.0001</td>\n",
       "      <td>kappa_auc_avg</td>\n",
       "      <td>resnet50</td>\n",
       "      <td>50.0</td>\n",
       "      <td>1/2/2/4/9</td>\n",
       "      <td>5.0</td>\n",
       "      <td>True</td>\n",
       "      <td>0.907960</td>\n",
       "      <td>0.828719</td>\n",
       "    </tr>\n",
       "    <tr>\n",
       "      <th>11</th>\n",
       "      <td>0:02:00</td>\n",
       "      <td>ce</td>\n",
       "      <td>train_mac_1_UW.csv</td>\n",
       "      <td>1.0</td>\n",
       "      <td>10.0</td>\n",
       "      <td>models/resnet50_eyepacs</td>\n",
       "      <td>0.0001</td>\n",
       "      <td>kappa_auc_avg</td>\n",
       "      <td>resnet50</td>\n",
       "      <td>50.0</td>\n",
       "      <td>1/2/2/4/9</td>\n",
       "      <td>5.0</td>\n",
       "      <td>True</td>\n",
       "      <td>0.927240</td>\n",
       "      <td>0.798611</td>\n",
       "    </tr>\n",
       "  </tbody>\n",
       "</table>\n",
       "</div>"
      ],
      "text/plain": [
       "       time   base_loss           csv_train  exp  lambd  \\\n",
       "7   0:03:13         gls  train_mac_1_UW.csv  1.0   10.0   \n",
       "3   0:03:36  focal_loss  train_mac_1_UW.csv  1.0   10.0   \n",
       "11  0:02:00          ce  train_mac_1_UW.csv  1.0   10.0   \n",
       "\n",
       "            load_checkpoint      lr         metric model_name  n_epochs  \\\n",
       "7   models/resnet50_eyepacs  0.0001  kappa_auc_avg   resnet50      50.0   \n",
       "3   models/resnet50_eyepacs  0.0001  kappa_auc_avg   resnet50      50.0   \n",
       "11  models/resnet50_eyepacs  0.0001  kappa_auc_avg   resnet50      50.0   \n",
       "\n",
       "   oversample  patience pretrained       auc     kappa  \n",
       "7   1/2/2/4/9       5.0       True  0.919381  0.840923  \n",
       "3   1/2/2/4/9       5.0       True  0.907960  0.828719  \n",
       "11  1/2/2/4/9       5.0       True  0.927240  0.798611  "
      ]
     },
     "execution_count": 59,
     "metadata": {},
     "output_type": "execute_result"
    }
   ],
   "source": [
    "df_train1.sort_values('kappa', ascending=False).head(5)"
   ]
  },
  {
   "cell_type": "markdown",
   "metadata": {},
   "source": [
    "#### Best models this fold:"
   ]
  },
  {
   "cell_type": "markdown",
   "metadata": {},
   "source": [
    "python train.py --csv_train train_mac_1_UW.csv --base_loss gls --exp 1 --lambd 10 --load_checkpoint models/resnet50_eyepacs --metric kappa_auc_avg --model_name resnet50 --n_epochs 50 --patience 5 --oversample 1/2/2/4/9 --save_model True --save_path best_mac_UW_f1 "
   ]
  },
  {
   "cell_type": "markdown",
   "metadata": {},
   "source": [
    "### Second fold"
   ]
  },
  {
   "cell_type": "code",
   "execution_count": 60,
   "metadata": {},
   "outputs": [
    {
     "data": {
      "text/html": [
       "<div>\n",
       "<style scoped>\n",
       "    .dataframe tbody tr th:only-of-type {\n",
       "        vertical-align: middle;\n",
       "    }\n",
       "\n",
       "    .dataframe tbody tr th {\n",
       "        vertical-align: top;\n",
       "    }\n",
       "\n",
       "    .dataframe thead th {\n",
       "        text-align: right;\n",
       "    }\n",
       "</style>\n",
       "<table border=\"1\" class=\"dataframe\">\n",
       "  <thead>\n",
       "    <tr style=\"text-align: right;\">\n",
       "      <th></th>\n",
       "      <th>time</th>\n",
       "      <th>base_loss</th>\n",
       "      <th>csv_train</th>\n",
       "      <th>exp</th>\n",
       "      <th>lambd</th>\n",
       "      <th>load_checkpoint</th>\n",
       "      <th>lr</th>\n",
       "      <th>metric</th>\n",
       "      <th>model_name</th>\n",
       "      <th>n_epochs</th>\n",
       "      <th>oversample</th>\n",
       "      <th>patience</th>\n",
       "      <th>pretrained</th>\n",
       "      <th>auc</th>\n",
       "      <th>kappa</th>\n",
       "    </tr>\n",
       "  </thead>\n",
       "  <tbody>\n",
       "    <tr>\n",
       "      <th>10</th>\n",
       "      <td>0:02:02</td>\n",
       "      <td>ce</td>\n",
       "      <td>train_mac_2_UW.csv</td>\n",
       "      <td>1.0</td>\n",
       "      <td>10.0</td>\n",
       "      <td>models/resnet50_eyepacs</td>\n",
       "      <td>0.0001</td>\n",
       "      <td>kappa_auc_avg</td>\n",
       "      <td>resnet50</td>\n",
       "      <td>50.0</td>\n",
       "      <td>1/2/2/4/9</td>\n",
       "      <td>5.0</td>\n",
       "      <td>True</td>\n",
       "      <td>0.821162</td>\n",
       "      <td>0.704816</td>\n",
       "    </tr>\n",
       "    <tr>\n",
       "      <th>6</th>\n",
       "      <td>0:02:40</td>\n",
       "      <td>gls</td>\n",
       "      <td>train_mac_2_UW.csv</td>\n",
       "      <td>1.0</td>\n",
       "      <td>10.0</td>\n",
       "      <td>models/resnet50_eyepacs</td>\n",
       "      <td>0.0001</td>\n",
       "      <td>kappa_auc_avg</td>\n",
       "      <td>resnet50</td>\n",
       "      <td>50.0</td>\n",
       "      <td>1/2/2/4/9</td>\n",
       "      <td>5.0</td>\n",
       "      <td>True</td>\n",
       "      <td>0.829946</td>\n",
       "      <td>0.696763</td>\n",
       "    </tr>\n",
       "    <tr>\n",
       "      <th>2</th>\n",
       "      <td>0:02:32</td>\n",
       "      <td>focal_loss</td>\n",
       "      <td>train_mac_2_UW.csv</td>\n",
       "      <td>1.0</td>\n",
       "      <td>10.0</td>\n",
       "      <td>models/resnet50_eyepacs</td>\n",
       "      <td>0.0001</td>\n",
       "      <td>kappa_auc_avg</td>\n",
       "      <td>resnet50</td>\n",
       "      <td>50.0</td>\n",
       "      <td>1/2/2/4/9</td>\n",
       "      <td>5.0</td>\n",
       "      <td>True</td>\n",
       "      <td>0.831978</td>\n",
       "      <td>0.692739</td>\n",
       "    </tr>\n",
       "  </tbody>\n",
       "</table>\n",
       "</div>"
      ],
      "text/plain": [
       "       time   base_loss           csv_train  exp  lambd  \\\n",
       "10  0:02:02          ce  train_mac_2_UW.csv  1.0   10.0   \n",
       "6   0:02:40         gls  train_mac_2_UW.csv  1.0   10.0   \n",
       "2   0:02:32  focal_loss  train_mac_2_UW.csv  1.0   10.0   \n",
       "\n",
       "            load_checkpoint      lr         metric model_name  n_epochs  \\\n",
       "10  models/resnet50_eyepacs  0.0001  kappa_auc_avg   resnet50      50.0   \n",
       "6   models/resnet50_eyepacs  0.0001  kappa_auc_avg   resnet50      50.0   \n",
       "2   models/resnet50_eyepacs  0.0001  kappa_auc_avg   resnet50      50.0   \n",
       "\n",
       "   oversample  patience pretrained       auc     kappa  \n",
       "10  1/2/2/4/9       5.0       True  0.821162  0.704816  \n",
       "6   1/2/2/4/9       5.0       True  0.829946  0.696763  \n",
       "2   1/2/2/4/9       5.0       True  0.831978  0.692739  "
      ]
     },
     "execution_count": 60,
     "metadata": {},
     "output_type": "execute_result"
    }
   ],
   "source": [
    "df_train2.sort_values('kappa', ascending=False).head(5)"
   ]
  },
  {
   "cell_type": "markdown",
   "metadata": {},
   "source": [
    "#### Best models this fold:"
   ]
  },
  {
   "cell_type": "markdown",
   "metadata": {},
   "source": [
    "python train.py --csv_train train_mac_2_UW.csv --base_loss ce --exp 1 --lambd 10 --load_checkpoint models/resnet50_eyepacs --metric kappa_auc_avg --model_name resnet50 --n_epochs 50 --patience 5 --oversample 1/2/2/4/9 --save_model True --save_path best_mac_UW_f2 "
   ]
  },
  {
   "cell_type": "markdown",
   "metadata": {},
   "source": [
    "### Third fold"
   ]
  },
  {
   "cell_type": "code",
   "execution_count": 61,
   "metadata": {},
   "outputs": [
    {
     "data": {
      "text/html": [
       "<div>\n",
       "<style scoped>\n",
       "    .dataframe tbody tr th:only-of-type {\n",
       "        vertical-align: middle;\n",
       "    }\n",
       "\n",
       "    .dataframe tbody tr th {\n",
       "        vertical-align: top;\n",
       "    }\n",
       "\n",
       "    .dataframe thead th {\n",
       "        text-align: right;\n",
       "    }\n",
       "</style>\n",
       "<table border=\"1\" class=\"dataframe\">\n",
       "  <thead>\n",
       "    <tr style=\"text-align: right;\">\n",
       "      <th></th>\n",
       "      <th>time</th>\n",
       "      <th>base_loss</th>\n",
       "      <th>csv_train</th>\n",
       "      <th>exp</th>\n",
       "      <th>lambd</th>\n",
       "      <th>load_checkpoint</th>\n",
       "      <th>lr</th>\n",
       "      <th>metric</th>\n",
       "      <th>model_name</th>\n",
       "      <th>n_epochs</th>\n",
       "      <th>oversample</th>\n",
       "      <th>patience</th>\n",
       "      <th>pretrained</th>\n",
       "      <th>auc</th>\n",
       "      <th>kappa</th>\n",
       "    </tr>\n",
       "  </thead>\n",
       "  <tbody>\n",
       "    <tr>\n",
       "      <th>5</th>\n",
       "      <td>0:01:47</td>\n",
       "      <td>gls</td>\n",
       "      <td>train_mac_3_UW.csv</td>\n",
       "      <td>1.0</td>\n",
       "      <td>10.0</td>\n",
       "      <td>models/resnet50_eyepacs</td>\n",
       "      <td>0.0001</td>\n",
       "      <td>kappa_auc_avg</td>\n",
       "      <td>resnet50</td>\n",
       "      <td>50.0</td>\n",
       "      <td>1/2/2/4/9</td>\n",
       "      <td>5.0</td>\n",
       "      <td>True</td>\n",
       "      <td>0.793372</td>\n",
       "      <td>0.549450</td>\n",
       "    </tr>\n",
       "    <tr>\n",
       "      <th>9</th>\n",
       "      <td>0:01:39</td>\n",
       "      <td>ce</td>\n",
       "      <td>train_mac_3_UW.csv</td>\n",
       "      <td>1.0</td>\n",
       "      <td>10.0</td>\n",
       "      <td>models/resnet50_eyepacs</td>\n",
       "      <td>0.0001</td>\n",
       "      <td>kappa_auc_avg</td>\n",
       "      <td>resnet50</td>\n",
       "      <td>50.0</td>\n",
       "      <td>1/2/2/4/9</td>\n",
       "      <td>5.0</td>\n",
       "      <td>True</td>\n",
       "      <td>0.803395</td>\n",
       "      <td>0.513241</td>\n",
       "    </tr>\n",
       "    <tr>\n",
       "      <th>1</th>\n",
       "      <td>0:01:39</td>\n",
       "      <td>focal_loss</td>\n",
       "      <td>train_mac_3_UW.csv</td>\n",
       "      <td>1.0</td>\n",
       "      <td>10.0</td>\n",
       "      <td>models/resnet50_eyepacs</td>\n",
       "      <td>0.0001</td>\n",
       "      <td>kappa_auc_avg</td>\n",
       "      <td>resnet50</td>\n",
       "      <td>50.0</td>\n",
       "      <td>1/2/2/4/9</td>\n",
       "      <td>5.0</td>\n",
       "      <td>True</td>\n",
       "      <td>0.806529</td>\n",
       "      <td>0.505111</td>\n",
       "    </tr>\n",
       "  </tbody>\n",
       "</table>\n",
       "</div>"
      ],
      "text/plain": [
       "      time   base_loss           csv_train  exp  lambd  \\\n",
       "5  0:01:47         gls  train_mac_3_UW.csv  1.0   10.0   \n",
       "9  0:01:39          ce  train_mac_3_UW.csv  1.0   10.0   \n",
       "1  0:01:39  focal_loss  train_mac_3_UW.csv  1.0   10.0   \n",
       "\n",
       "           load_checkpoint      lr         metric model_name  n_epochs  \\\n",
       "5  models/resnet50_eyepacs  0.0001  kappa_auc_avg   resnet50      50.0   \n",
       "9  models/resnet50_eyepacs  0.0001  kappa_auc_avg   resnet50      50.0   \n",
       "1  models/resnet50_eyepacs  0.0001  kappa_auc_avg   resnet50      50.0   \n",
       "\n",
       "  oversample  patience pretrained       auc     kappa  \n",
       "5  1/2/2/4/9       5.0       True  0.793372  0.549450  \n",
       "9  1/2/2/4/9       5.0       True  0.803395  0.513241  \n",
       "1  1/2/2/4/9       5.0       True  0.806529  0.505111  "
      ]
     },
     "execution_count": 61,
     "metadata": {},
     "output_type": "execute_result"
    }
   ],
   "source": [
    "df_train3.sort_values('kappa', ascending=False).head(5)"
   ]
  },
  {
   "cell_type": "markdown",
   "metadata": {},
   "source": [
    "#### Best models this fold:"
   ]
  },
  {
   "cell_type": "markdown",
   "metadata": {},
   "source": [
    "python train.py --csv_train train_mac_3_UW.csv --base_loss gls --exp 1 --lambd 10 --load_checkpoint models/resnet50_eyepacs --metric kappa_auc_avg --model_name resnet50 --n_epochs 50 --patience 5 --oversample 1/2/2/4/9 --save_model True --save_path best_mac_UW_f3 "
   ]
  },
  {
   "cell_type": "markdown",
   "metadata": {},
   "source": [
    "### Fourth fold"
   ]
  },
  {
   "cell_type": "code",
   "execution_count": 62,
   "metadata": {},
   "outputs": [
    {
     "data": {
      "text/html": [
       "<div>\n",
       "<style scoped>\n",
       "    .dataframe tbody tr th:only-of-type {\n",
       "        vertical-align: middle;\n",
       "    }\n",
       "\n",
       "    .dataframe tbody tr th {\n",
       "        vertical-align: top;\n",
       "    }\n",
       "\n",
       "    .dataframe thead th {\n",
       "        text-align: right;\n",
       "    }\n",
       "</style>\n",
       "<table border=\"1\" class=\"dataframe\">\n",
       "  <thead>\n",
       "    <tr style=\"text-align: right;\">\n",
       "      <th></th>\n",
       "      <th>time</th>\n",
       "      <th>base_loss</th>\n",
       "      <th>csv_train</th>\n",
       "      <th>exp</th>\n",
       "      <th>lambd</th>\n",
       "      <th>load_checkpoint</th>\n",
       "      <th>lr</th>\n",
       "      <th>metric</th>\n",
       "      <th>model_name</th>\n",
       "      <th>n_epochs</th>\n",
       "      <th>oversample</th>\n",
       "      <th>patience</th>\n",
       "      <th>pretrained</th>\n",
       "      <th>auc</th>\n",
       "      <th>kappa</th>\n",
       "    </tr>\n",
       "  </thead>\n",
       "  <tbody>\n",
       "    <tr>\n",
       "      <th>0</th>\n",
       "      <td>0:02:48</td>\n",
       "      <td>focal_loss</td>\n",
       "      <td>train_mac_4_UW.csv</td>\n",
       "      <td>1.0</td>\n",
       "      <td>10.0</td>\n",
       "      <td>models/resnet50_eyepacs</td>\n",
       "      <td>0.0001</td>\n",
       "      <td>kappa_auc_avg</td>\n",
       "      <td>resnet50</td>\n",
       "      <td>50.0</td>\n",
       "      <td>1/2/2/4/9</td>\n",
       "      <td>5.0</td>\n",
       "      <td>True</td>\n",
       "      <td>0.849329</td>\n",
       "      <td>0.711647</td>\n",
       "    </tr>\n",
       "    <tr>\n",
       "      <th>8</th>\n",
       "      <td>0:03:27</td>\n",
       "      <td>ce</td>\n",
       "      <td>train_mac_4_UW.csv</td>\n",
       "      <td>1.0</td>\n",
       "      <td>10.0</td>\n",
       "      <td>models/resnet50_eyepacs</td>\n",
       "      <td>0.0001</td>\n",
       "      <td>kappa_auc_avg</td>\n",
       "      <td>resnet50</td>\n",
       "      <td>50.0</td>\n",
       "      <td>1/2/2/4/9</td>\n",
       "      <td>5.0</td>\n",
       "      <td>True</td>\n",
       "      <td>0.829033</td>\n",
       "      <td>0.651953</td>\n",
       "    </tr>\n",
       "    <tr>\n",
       "      <th>4</th>\n",
       "      <td>0:04:39</td>\n",
       "      <td>gls</td>\n",
       "      <td>train_mac_4_UW.csv</td>\n",
       "      <td>1.0</td>\n",
       "      <td>10.0</td>\n",
       "      <td>models/resnet50_eyepacs</td>\n",
       "      <td>0.0001</td>\n",
       "      <td>kappa_auc_avg</td>\n",
       "      <td>resnet50</td>\n",
       "      <td>50.0</td>\n",
       "      <td>1/2/2/4/9</td>\n",
       "      <td>5.0</td>\n",
       "      <td>True</td>\n",
       "      <td>0.834724</td>\n",
       "      <td>0.633069</td>\n",
       "    </tr>\n",
       "  </tbody>\n",
       "</table>\n",
       "</div>"
      ],
      "text/plain": [
       "      time   base_loss           csv_train  exp  lambd  \\\n",
       "0  0:02:48  focal_loss  train_mac_4_UW.csv  1.0   10.0   \n",
       "8  0:03:27          ce  train_mac_4_UW.csv  1.0   10.0   \n",
       "4  0:04:39         gls  train_mac_4_UW.csv  1.0   10.0   \n",
       "\n",
       "           load_checkpoint      lr         metric model_name  n_epochs  \\\n",
       "0  models/resnet50_eyepacs  0.0001  kappa_auc_avg   resnet50      50.0   \n",
       "8  models/resnet50_eyepacs  0.0001  kappa_auc_avg   resnet50      50.0   \n",
       "4  models/resnet50_eyepacs  0.0001  kappa_auc_avg   resnet50      50.0   \n",
       "\n",
       "  oversample  patience pretrained       auc     kappa  \n",
       "0  1/2/2/4/9       5.0       True  0.849329  0.711647  \n",
       "8  1/2/2/4/9       5.0       True  0.829033  0.651953  \n",
       "4  1/2/2/4/9       5.0       True  0.834724  0.633069  "
      ]
     },
     "execution_count": 62,
     "metadata": {},
     "output_type": "execute_result"
    }
   ],
   "source": [
    "df_train4.sort_values('kappa', ascending=False).head(5)"
   ]
  },
  {
   "cell_type": "markdown",
   "metadata": {},
   "source": [
    "#### Best models this fold:"
   ]
  },
  {
   "cell_type": "markdown",
   "metadata": {},
   "source": [
    "python train.py --csv_train train_mac_1_UW.csv --base_loss focal_loss --exp 1 --lambd 10 --load_checkpoint models/resnet50_eyepacs --metric kappa_auc_avg --model_name resnet50 --n_epochs 50 --patience 5 --oversample 1/2/2/4/9 --save_model True --save_path best_mac_UW_f4 "
   ]
  },
  {
   "cell_type": "markdown",
   "metadata": {},
   "source": [
    "## MIXING COEFFICIENTS - ok"
   ]
  },
  {
   "cell_type": "code",
   "execution_count": null,
   "metadata": {},
   "outputs": [],
   "source": [
    "k_auc_f1 = 0.5*0.919381+0.5*0.840923  \n",
    "k_auc_f2 = 0.5*0.821162+0.5*0.704816\n",
    "k_auc_f3 = 0.5*0.793372+0.5*0.549450 \n",
    "k_auc_f4 = 0.5*0.849329+0.5*0.711647\n",
    "coeff_sum = k_auc_f1+k_auc_f2+k_auc_f3+k_auc_f4"
   ]
  },
  {
   "cell_type": "code",
   "execution_count": null,
   "metadata": {},
   "outputs": [],
   "source": [
    "coeff_f1 = k_auc_f1/coeff_sum\n",
    "coeff_f2 = k_auc_f2/coeff_sum\n",
    "coeff_f3 = k_auc_f3/coeff_sum\n",
    "coeff_f4 = k_auc_f4/coeff_sum\n",
    "print(coeff_f1,coeff_f2,coeff_f3,coeff_f4)"
   ]
  },
  {
   "cell_type": "markdown",
   "metadata": {},
   "source": [
    "# QUALITY\n",
    "## Multi-Task"
   ]
  },
  {
   "cell_type": "code",
   "execution_count": 63,
   "metadata": {},
   "outputs": [],
   "source": [
    "df_all = pd.read_csv('results_multi_split_quality_MT.csv')"
   ]
  },
  {
   "cell_type": "code",
   "execution_count": 64,
   "metadata": {},
   "outputs": [
    {
     "data": {
      "text/plain": [
       "Index(['time', 'base_loss', 'csv_train', 'exp', 'load_checkpoint', 'lr',\n",
       "       'metric', 'model_name', 'n_classes', 'n_epochs', 'optimizer',\n",
       "       'patience', 'auc', 'auc_q', 'vl_acc_f', 'vl_auc_a', 'vl_auc_c'],\n",
       "      dtype='object')"
      ]
     },
     "execution_count": 64,
     "metadata": {},
     "output_type": "execute_result"
    }
   ],
   "source": [
    "df_all = df_all.drop(['run', 'operation', 'started',  'status', 'label', 'batch_size', 'decay_f', \n",
    "        'lambd', 'pretrained', 'save_model', 'step', 'oversample'], axis=1)\n",
    "df_all.columns"
   ]
  },
  {
   "cell_type": "code",
   "execution_count": 65,
   "metadata": {},
   "outputs": [],
   "source": [
    "df_train1 = df_all[df_all.csv_train=='train_all_qualities_1.csv']\n",
    "df_train2 = df_all[df_all.csv_train=='train_all_qualities_2.csv']\n",
    "df_train3 = df_all[df_all.csv_train=='train_all_qualities_3.csv']\n",
    "df_train4 = df_all[df_all.csv_train=='train_all_qualities_4.csv']"
   ]
  },
  {
   "cell_type": "markdown",
   "metadata": {},
   "source": [
    "### First fold -  TRAINED"
   ]
  },
  {
   "cell_type": "code",
   "execution_count": 66,
   "metadata": {},
   "outputs": [
    {
     "data": {
      "text/html": [
       "<div>\n",
       "<style scoped>\n",
       "    .dataframe tbody tr th:only-of-type {\n",
       "        vertical-align: middle;\n",
       "    }\n",
       "\n",
       "    .dataframe tbody tr th {\n",
       "        vertical-align: top;\n",
       "    }\n",
       "\n",
       "    .dataframe thead th {\n",
       "        text-align: right;\n",
       "    }\n",
       "</style>\n",
       "<table border=\"1\" class=\"dataframe\">\n",
       "  <thead>\n",
       "    <tr style=\"text-align: right;\">\n",
       "      <th></th>\n",
       "      <th>time</th>\n",
       "      <th>base_loss</th>\n",
       "      <th>csv_train</th>\n",
       "      <th>exp</th>\n",
       "      <th>load_checkpoint</th>\n",
       "      <th>lr</th>\n",
       "      <th>metric</th>\n",
       "      <th>model_name</th>\n",
       "      <th>n_classes</th>\n",
       "      <th>n_epochs</th>\n",
       "      <th>optimizer</th>\n",
       "      <th>patience</th>\n",
       "      <th>auc</th>\n",
       "      <th>auc_q</th>\n",
       "      <th>vl_acc_f</th>\n",
       "      <th>vl_auc_a</th>\n",
       "      <th>vl_auc_c</th>\n",
       "    </tr>\n",
       "  </thead>\n",
       "  <tbody>\n",
       "    <tr>\n",
       "      <th>20</th>\n",
       "      <td>1:00:28</td>\n",
       "      <td>ce</td>\n",
       "      <td>train_all_qualities_1.csv</td>\n",
       "      <td>1.0</td>\n",
       "      <td>False</td>\n",
       "      <td>0.0001</td>\n",
       "      <td>auc</td>\n",
       "      <td>resnext50_sws</td>\n",
       "      <td>18.0</td>\n",
       "      <td>200.0</td>\n",
       "      <td>sgd</td>\n",
       "      <td>10.0</td>\n",
       "      <td>0.857078</td>\n",
       "      <td>NaN</td>\n",
       "      <td>NaN</td>\n",
       "      <td>NaN</td>\n",
       "      <td>NaN</td>\n",
       "    </tr>\n",
       "    <tr>\n",
       "      <th>21</th>\n",
       "      <td>0:23:43</td>\n",
       "      <td>ce</td>\n",
       "      <td>train_all_qualities_1.csv</td>\n",
       "      <td>1.0</td>\n",
       "      <td>False</td>\n",
       "      <td>0.0001</td>\n",
       "      <td>auc</td>\n",
       "      <td>resnet50_sws</td>\n",
       "      <td>18.0</td>\n",
       "      <td>200.0</td>\n",
       "      <td>sgd</td>\n",
       "      <td>10.0</td>\n",
       "      <td>0.856412</td>\n",
       "      <td>NaN</td>\n",
       "      <td>NaN</td>\n",
       "      <td>NaN</td>\n",
       "      <td>NaN</td>\n",
       "    </tr>\n",
       "    <tr>\n",
       "      <th>42</th>\n",
       "      <td>1:11:20</td>\n",
       "      <td>ce</td>\n",
       "      <td>train_all_qualities_1.csv</td>\n",
       "      <td>1.0</td>\n",
       "      <td>False</td>\n",
       "      <td>0.0001</td>\n",
       "      <td>auc</td>\n",
       "      <td>resnet50</td>\n",
       "      <td>18.0</td>\n",
       "      <td>200.0</td>\n",
       "      <td>sgd</td>\n",
       "      <td>10.0</td>\n",
       "      <td>0.855885</td>\n",
       "      <td>NaN</td>\n",
       "      <td>NaN</td>\n",
       "      <td>NaN</td>\n",
       "      <td>NaN</td>\n",
       "    </tr>\n",
       "    <tr>\n",
       "      <th>5</th>\n",
       "      <td>0:51:55</td>\n",
       "      <td>focal_loss</td>\n",
       "      <td>train_all_qualities_1.csv</td>\n",
       "      <td>1.0</td>\n",
       "      <td>False</td>\n",
       "      <td>0.0001</td>\n",
       "      <td>auc</td>\n",
       "      <td>resnext50_sws</td>\n",
       "      <td>18.0</td>\n",
       "      <td>200.0</td>\n",
       "      <td>sgd</td>\n",
       "      <td>10.0</td>\n",
       "      <td>0.854342</td>\n",
       "      <td>0.826459</td>\n",
       "      <td>0.695761</td>\n",
       "      <td>0.885399</td>\n",
       "      <td>0.878089</td>\n",
       "    </tr>\n",
       "    <tr>\n",
       "      <th>31</th>\n",
       "      <td>0:52:18</td>\n",
       "      <td>focal_loss</td>\n",
       "      <td>train_all_qualities_1.csv</td>\n",
       "      <td>1.0</td>\n",
       "      <td>False</td>\n",
       "      <td>0.0001</td>\n",
       "      <td>auc</td>\n",
       "      <td>resnext50_sws</td>\n",
       "      <td>18.0</td>\n",
       "      <td>200.0</td>\n",
       "      <td>sgd</td>\n",
       "      <td>10.0</td>\n",
       "      <td>0.854342</td>\n",
       "      <td>NaN</td>\n",
       "      <td>NaN</td>\n",
       "      <td>NaN</td>\n",
       "      <td>NaN</td>\n",
       "    </tr>\n",
       "  </tbody>\n",
       "</table>\n",
       "</div>"
      ],
      "text/plain": [
       "       time   base_loss                  csv_train  exp load_checkpoint  \\\n",
       "20  1:00:28          ce  train_all_qualities_1.csv  1.0           False   \n",
       "21  0:23:43          ce  train_all_qualities_1.csv  1.0           False   \n",
       "42  1:11:20          ce  train_all_qualities_1.csv  1.0           False   \n",
       "5   0:51:55  focal_loss  train_all_qualities_1.csv  1.0           False   \n",
       "31  0:52:18  focal_loss  train_all_qualities_1.csv  1.0           False   \n",
       "\n",
       "        lr metric     model_name  n_classes  n_epochs optimizer  patience  \\\n",
       "20  0.0001    auc  resnext50_sws       18.0     200.0       sgd      10.0   \n",
       "21  0.0001    auc   resnet50_sws       18.0     200.0       sgd      10.0   \n",
       "42  0.0001    auc       resnet50       18.0     200.0       sgd      10.0   \n",
       "5   0.0001    auc  resnext50_sws       18.0     200.0       sgd      10.0   \n",
       "31  0.0001    auc  resnext50_sws       18.0     200.0       sgd      10.0   \n",
       "\n",
       "         auc     auc_q  vl_acc_f  vl_auc_a  vl_auc_c  \n",
       "20  0.857078       NaN       NaN       NaN       NaN  \n",
       "21  0.856412       NaN       NaN       NaN       NaN  \n",
       "42  0.855885       NaN       NaN       NaN       NaN  \n",
       "5   0.854342  0.826459  0.695761  0.885399  0.878089  \n",
       "31  0.854342       NaN       NaN       NaN       NaN  "
      ]
     },
     "execution_count": 66,
     "metadata": {},
     "output_type": "execute_result"
    }
   ],
   "source": [
    "df_train1.sort_values('auc', ascending=False).head(5)"
   ]
  },
  {
   "cell_type": "markdown",
   "metadata": {},
   "source": [
    "#### Best models this fold:"
   ]
  },
  {
   "cell_type": "markdown",
   "metadata": {},
   "source": [
    "python train_multi_task.py --csv_train train_all_qualities_1.csv --base_loss ce --exp 1 --lambd 0 --load_checkpoint no --metric auc --model_name resnext50_sws --n_classes 18 --n_epochs 200 --patience 10 --oversample 1/1/1/1/1/1/1/1/1/1/1/1/1/1/1/1/1/1 --save_model True --save_path best_quality_MT_f1 "
   ]
  },
  {
   "cell_type": "markdown",
   "metadata": {},
   "source": [
    "### Second fold"
   ]
  },
  {
   "cell_type": "code",
   "execution_count": 53,
   "metadata": {},
   "outputs": [
    {
     "data": {
      "text/html": [
       "<div>\n",
       "<style scoped>\n",
       "    .dataframe tbody tr th:only-of-type {\n",
       "        vertical-align: middle;\n",
       "    }\n",
       "\n",
       "    .dataframe tbody tr th {\n",
       "        vertical-align: top;\n",
       "    }\n",
       "\n",
       "    .dataframe thead th {\n",
       "        text-align: right;\n",
       "    }\n",
       "</style>\n",
       "<table border=\"1\" class=\"dataframe\">\n",
       "  <thead>\n",
       "    <tr style=\"text-align: right;\">\n",
       "      <th></th>\n",
       "      <th>time</th>\n",
       "      <th>base_loss</th>\n",
       "      <th>csv_train</th>\n",
       "      <th>exp</th>\n",
       "      <th>lr</th>\n",
       "      <th>metric</th>\n",
       "      <th>model_name</th>\n",
       "      <th>n_classes</th>\n",
       "      <th>n_epochs</th>\n",
       "      <th>optimizer</th>\n",
       "      <th>patience</th>\n",
       "      <th>auc</th>\n",
       "      <th>auc_q</th>\n",
       "      <th>vl_acc_f</th>\n",
       "      <th>vl_auc_a</th>\n",
       "      <th>vl_auc_c</th>\n",
       "    </tr>\n",
       "  </thead>\n",
       "  <tbody>\n",
       "    <tr>\n",
       "      <th>2</th>\n",
       "      <td>0:55:36</td>\n",
       "      <td>focal_loss</td>\n",
       "      <td>train_all_qualities_2.csv</td>\n",
       "      <td>1.0</td>\n",
       "      <td>0.0001</td>\n",
       "      <td>auc</td>\n",
       "      <td>resnext50_sws</td>\n",
       "      <td>18.0</td>\n",
       "      <td>200.0</td>\n",
       "      <td>sgd</td>\n",
       "      <td>10.0</td>\n",
       "      <td>0.837494</td>\n",
       "      <td>0.797641</td>\n",
       "      <td>0.67581</td>\n",
       "      <td>0.875099</td>\n",
       "      <td>0.876847</td>\n",
       "    </tr>\n",
       "    <tr>\n",
       "      <th>28</th>\n",
       "      <td>0:55:56</td>\n",
       "      <td>focal_loss</td>\n",
       "      <td>train_all_qualities_2.csv</td>\n",
       "      <td>1.0</td>\n",
       "      <td>0.0001</td>\n",
       "      <td>auc</td>\n",
       "      <td>resnext50_sws</td>\n",
       "      <td>18.0</td>\n",
       "      <td>200.0</td>\n",
       "      <td>sgd</td>\n",
       "      <td>10.0</td>\n",
       "      <td>0.837494</td>\n",
       "      <td>NaN</td>\n",
       "      <td>NaN</td>\n",
       "      <td>NaN</td>\n",
       "      <td>NaN</td>\n",
       "    </tr>\n",
       "    <tr>\n",
       "      <th>18</th>\n",
       "      <td>0:43:42</td>\n",
       "      <td>ce</td>\n",
       "      <td>train_all_qualities_2.csv</td>\n",
       "      <td>1.0</td>\n",
       "      <td>0.0001</td>\n",
       "      <td>auc</td>\n",
       "      <td>resnext50_sws</td>\n",
       "      <td>18.0</td>\n",
       "      <td>200.0</td>\n",
       "      <td>sgd</td>\n",
       "      <td>10.0</td>\n",
       "      <td>0.836756</td>\n",
       "      <td>NaN</td>\n",
       "      <td>NaN</td>\n",
       "      <td>NaN</td>\n",
       "      <td>NaN</td>\n",
       "    </tr>\n",
       "    <tr>\n",
       "      <th>19</th>\n",
       "      <td>0:21:07</td>\n",
       "      <td>ce</td>\n",
       "      <td>train_all_qualities_2.csv</td>\n",
       "      <td>1.0</td>\n",
       "      <td>0.0001</td>\n",
       "      <td>auc</td>\n",
       "      <td>resnet50_sws</td>\n",
       "      <td>18.0</td>\n",
       "      <td>200.0</td>\n",
       "      <td>sgd</td>\n",
       "      <td>10.0</td>\n",
       "      <td>0.836544</td>\n",
       "      <td>NaN</td>\n",
       "      <td>NaN</td>\n",
       "      <td>NaN</td>\n",
       "      <td>NaN</td>\n",
       "    </tr>\n",
       "    <tr>\n",
       "      <th>39</th>\n",
       "      <td>1:13:49</td>\n",
       "      <td>ce</td>\n",
       "      <td>train_all_qualities_2.csv</td>\n",
       "      <td>1.0</td>\n",
       "      <td>0.0001</td>\n",
       "      <td>auc</td>\n",
       "      <td>resnext50</td>\n",
       "      <td>18.0</td>\n",
       "      <td>200.0</td>\n",
       "      <td>sgd</td>\n",
       "      <td>10.0</td>\n",
       "      <td>0.835901</td>\n",
       "      <td>NaN</td>\n",
       "      <td>NaN</td>\n",
       "      <td>NaN</td>\n",
       "      <td>NaN</td>\n",
       "    </tr>\n",
       "  </tbody>\n",
       "</table>\n",
       "</div>"
      ],
      "text/plain": [
       "       time   base_loss                  csv_train  exp      lr metric  \\\n",
       "2   0:55:36  focal_loss  train_all_qualities_2.csv  1.0  0.0001    auc   \n",
       "28  0:55:56  focal_loss  train_all_qualities_2.csv  1.0  0.0001    auc   \n",
       "18  0:43:42          ce  train_all_qualities_2.csv  1.0  0.0001    auc   \n",
       "19  0:21:07          ce  train_all_qualities_2.csv  1.0  0.0001    auc   \n",
       "39  1:13:49          ce  train_all_qualities_2.csv  1.0  0.0001    auc   \n",
       "\n",
       "       model_name  n_classes  n_epochs optimizer  patience       auc  \\\n",
       "2   resnext50_sws       18.0     200.0       sgd      10.0  0.837494   \n",
       "28  resnext50_sws       18.0     200.0       sgd      10.0  0.837494   \n",
       "18  resnext50_sws       18.0     200.0       sgd      10.0  0.836756   \n",
       "19   resnet50_sws       18.0     200.0       sgd      10.0  0.836544   \n",
       "39      resnext50       18.0     200.0       sgd      10.0  0.835901   \n",
       "\n",
       "       auc_q  vl_acc_f  vl_auc_a  vl_auc_c  \n",
       "2   0.797641   0.67581  0.875099  0.876847  \n",
       "28       NaN       NaN       NaN       NaN  \n",
       "18       NaN       NaN       NaN       NaN  \n",
       "19       NaN       NaN       NaN       NaN  \n",
       "39       NaN       NaN       NaN       NaN  "
      ]
     },
     "execution_count": 53,
     "metadata": {},
     "output_type": "execute_result"
    }
   ],
   "source": [
    "df_train2.sort_values('auc', ascending=False).head(5)"
   ]
  },
  {
   "cell_type": "markdown",
   "metadata": {},
   "source": [
    "#### Best models this fold:"
   ]
  },
  {
   "cell_type": "markdown",
   "metadata": {},
   "source": [
    "python train_multi_task.py --csv_train train_all_qualities_2.csv --base_loss focal_loss --exp 1 --lambd 0 --load_checkpoint no --metric auc --model_name resnext50_sws --n_classes 18 --n_epochs 200 --patience 10 --oversample 1/1/1/1/1/1/1/1/1/1/1/1/1/1/1/1/1/1 --save_model True --save_path best_quality_MT_f2 "
   ]
  },
  {
   "cell_type": "markdown",
   "metadata": {},
   "source": [
    "### Third fold"
   ]
  },
  {
   "cell_type": "code",
   "execution_count": 54,
   "metadata": {},
   "outputs": [
    {
     "data": {
      "text/html": [
       "<div>\n",
       "<style scoped>\n",
       "    .dataframe tbody tr th:only-of-type {\n",
       "        vertical-align: middle;\n",
       "    }\n",
       "\n",
       "    .dataframe tbody tr th {\n",
       "        vertical-align: top;\n",
       "    }\n",
       "\n",
       "    .dataframe thead th {\n",
       "        text-align: right;\n",
       "    }\n",
       "</style>\n",
       "<table border=\"1\" class=\"dataframe\">\n",
       "  <thead>\n",
       "    <tr style=\"text-align: right;\">\n",
       "      <th></th>\n",
       "      <th>time</th>\n",
       "      <th>base_loss</th>\n",
       "      <th>csv_train</th>\n",
       "      <th>exp</th>\n",
       "      <th>lr</th>\n",
       "      <th>metric</th>\n",
       "      <th>model_name</th>\n",
       "      <th>n_classes</th>\n",
       "      <th>n_epochs</th>\n",
       "      <th>optimizer</th>\n",
       "      <th>patience</th>\n",
       "      <th>auc</th>\n",
       "      <th>auc_q</th>\n",
       "      <th>vl_acc_f</th>\n",
       "      <th>vl_auc_a</th>\n",
       "      <th>vl_auc_c</th>\n",
       "    </tr>\n",
       "  </thead>\n",
       "  <tbody>\n",
       "    <tr>\n",
       "      <th>26</th>\n",
       "      <td>0:49:49</td>\n",
       "      <td>focal_loss</td>\n",
       "      <td>train_all_qualities_3.csv</td>\n",
       "      <td>1.0</td>\n",
       "      <td>0.0001</td>\n",
       "      <td>auc</td>\n",
       "      <td>resnet50_sws</td>\n",
       "      <td>18.0</td>\n",
       "      <td>200.0</td>\n",
       "      <td>sgd</td>\n",
       "      <td>10.0</td>\n",
       "      <td>0.844817</td>\n",
       "      <td>NaN</td>\n",
       "      <td>NaN</td>\n",
       "      <td>NaN</td>\n",
       "      <td>NaN</td>\n",
       "    </tr>\n",
       "    <tr>\n",
       "      <th>37</th>\n",
       "      <td>0:25:57</td>\n",
       "      <td>ce</td>\n",
       "      <td>train_all_qualities_3.csv</td>\n",
       "      <td>1.0</td>\n",
       "      <td>0.0001</td>\n",
       "      <td>auc</td>\n",
       "      <td>resnet50_sws</td>\n",
       "      <td>18.0</td>\n",
       "      <td>200.0</td>\n",
       "      <td>sgd</td>\n",
       "      <td>10.0</td>\n",
       "      <td>0.841322</td>\n",
       "      <td>NaN</td>\n",
       "      <td>NaN</td>\n",
       "      <td>NaN</td>\n",
       "      <td>NaN</td>\n",
       "    </tr>\n",
       "    <tr>\n",
       "      <th>13</th>\n",
       "      <td>0:50:10</td>\n",
       "      <td>ce</td>\n",
       "      <td>train_all_qualities_3.csv</td>\n",
       "      <td>1.0</td>\n",
       "      <td>0.0001</td>\n",
       "      <td>auc</td>\n",
       "      <td>resnext50_sws</td>\n",
       "      <td>18.0</td>\n",
       "      <td>200.0</td>\n",
       "      <td>sgd</td>\n",
       "      <td>10.0</td>\n",
       "      <td>0.839329</td>\n",
       "      <td>0.797491</td>\n",
       "      <td>0.677582</td>\n",
       "      <td>0.883787</td>\n",
       "      <td>0.855607</td>\n",
       "    </tr>\n",
       "    <tr>\n",
       "      <th>25</th>\n",
       "      <td>2:42:20</td>\n",
       "      <td>focal_loss</td>\n",
       "      <td>train_all_qualities_3.csv</td>\n",
       "      <td>1.0</td>\n",
       "      <td>0.0001</td>\n",
       "      <td>auc</td>\n",
       "      <td>resnext50</td>\n",
       "      <td>18.0</td>\n",
       "      <td>200.0</td>\n",
       "      <td>sgd</td>\n",
       "      <td>10.0</td>\n",
       "      <td>0.838645</td>\n",
       "      <td>NaN</td>\n",
       "      <td>NaN</td>\n",
       "      <td>NaN</td>\n",
       "      <td>NaN</td>\n",
       "    </tr>\n",
       "    <tr>\n",
       "      <th>36</th>\n",
       "      <td>1:29:53</td>\n",
       "      <td>ce</td>\n",
       "      <td>train_all_qualities_3.csv</td>\n",
       "      <td>1.0</td>\n",
       "      <td>0.0001</td>\n",
       "      <td>auc</td>\n",
       "      <td>resnext50</td>\n",
       "      <td>18.0</td>\n",
       "      <td>200.0</td>\n",
       "      <td>sgd</td>\n",
       "      <td>10.0</td>\n",
       "      <td>0.838528</td>\n",
       "      <td>NaN</td>\n",
       "      <td>NaN</td>\n",
       "      <td>NaN</td>\n",
       "      <td>NaN</td>\n",
       "    </tr>\n",
       "  </tbody>\n",
       "</table>\n",
       "</div>"
      ],
      "text/plain": [
       "       time   base_loss                  csv_train  exp      lr metric  \\\n",
       "26  0:49:49  focal_loss  train_all_qualities_3.csv  1.0  0.0001    auc   \n",
       "37  0:25:57          ce  train_all_qualities_3.csv  1.0  0.0001    auc   \n",
       "13  0:50:10          ce  train_all_qualities_3.csv  1.0  0.0001    auc   \n",
       "25  2:42:20  focal_loss  train_all_qualities_3.csv  1.0  0.0001    auc   \n",
       "36  1:29:53          ce  train_all_qualities_3.csv  1.0  0.0001    auc   \n",
       "\n",
       "       model_name  n_classes  n_epochs optimizer  patience       auc  \\\n",
       "26   resnet50_sws       18.0     200.0       sgd      10.0  0.844817   \n",
       "37   resnet50_sws       18.0     200.0       sgd      10.0  0.841322   \n",
       "13  resnext50_sws       18.0     200.0       sgd      10.0  0.839329   \n",
       "25      resnext50       18.0     200.0       sgd      10.0  0.838645   \n",
       "36      resnext50       18.0     200.0       sgd      10.0  0.838528   \n",
       "\n",
       "       auc_q  vl_acc_f  vl_auc_a  vl_auc_c  \n",
       "26       NaN       NaN       NaN       NaN  \n",
       "37       NaN       NaN       NaN       NaN  \n",
       "13  0.797491  0.677582  0.883787  0.855607  \n",
       "25       NaN       NaN       NaN       NaN  \n",
       "36       NaN       NaN       NaN       NaN  "
      ]
     },
     "execution_count": 54,
     "metadata": {},
     "output_type": "execute_result"
    }
   ],
   "source": [
    "df_train3.sort_values('auc', ascending=False).head(5)"
   ]
  },
  {
   "cell_type": "markdown",
   "metadata": {},
   "source": [
    "#### Best models this fold:"
   ]
  },
  {
   "cell_type": "markdown",
   "metadata": {},
   "source": [
    "python train_multi_task.py --csv_train train_all_qualities_3.csv --base_loss focal_loss --exp 1 --lambd 0 --load_checkpoint no --metric auc --model_name resnet50_sws --n_classes 18 --n_epochs 200 --patience 10 --oversample 1/1/1/1/1/1/1/1/1/1/1/1/1/1/1/1/1/1 --save_model True --save_path best_quality_MT_f3  "
   ]
  },
  {
   "cell_type": "markdown",
   "metadata": {},
   "source": [
    "### Fourth fold"
   ]
  },
  {
   "cell_type": "code",
   "execution_count": 55,
   "metadata": {},
   "outputs": [
    {
     "data": {
      "text/html": [
       "<div>\n",
       "<style scoped>\n",
       "    .dataframe tbody tr th:only-of-type {\n",
       "        vertical-align: middle;\n",
       "    }\n",
       "\n",
       "    .dataframe tbody tr th {\n",
       "        vertical-align: top;\n",
       "    }\n",
       "\n",
       "    .dataframe thead th {\n",
       "        text-align: right;\n",
       "    }\n",
       "</style>\n",
       "<table border=\"1\" class=\"dataframe\">\n",
       "  <thead>\n",
       "    <tr style=\"text-align: right;\">\n",
       "      <th></th>\n",
       "      <th>time</th>\n",
       "      <th>base_loss</th>\n",
       "      <th>csv_train</th>\n",
       "      <th>exp</th>\n",
       "      <th>lr</th>\n",
       "      <th>metric</th>\n",
       "      <th>model_name</th>\n",
       "      <th>n_classes</th>\n",
       "      <th>n_epochs</th>\n",
       "      <th>optimizer</th>\n",
       "      <th>patience</th>\n",
       "      <th>auc</th>\n",
       "      <th>auc_q</th>\n",
       "      <th>vl_acc_f</th>\n",
       "      <th>vl_auc_a</th>\n",
       "      <th>vl_auc_c</th>\n",
       "    </tr>\n",
       "  </thead>\n",
       "  <tbody>\n",
       "    <tr>\n",
       "      <th>35</th>\n",
       "      <td>0:51:04</td>\n",
       "      <td>ce</td>\n",
       "      <td>train_all_qualities_4.csv</td>\n",
       "      <td>1.0</td>\n",
       "      <td>0.0001</td>\n",
       "      <td>auc</td>\n",
       "      <td>resnet50</td>\n",
       "      <td>18.0</td>\n",
       "      <td>200.0</td>\n",
       "      <td>sgd</td>\n",
       "      <td>10.0</td>\n",
       "      <td>0.834613</td>\n",
       "      <td>NaN</td>\n",
       "      <td>NaN</td>\n",
       "      <td>NaN</td>\n",
       "      <td>NaN</td>\n",
       "    </tr>\n",
       "    <tr>\n",
       "      <th>33</th>\n",
       "      <td>0:29:53</td>\n",
       "      <td>ce</td>\n",
       "      <td>train_all_qualities_4.csv</td>\n",
       "      <td>1.0</td>\n",
       "      <td>0.0001</td>\n",
       "      <td>auc</td>\n",
       "      <td>resnext50_sws</td>\n",
       "      <td>18.0</td>\n",
       "      <td>200.0</td>\n",
       "      <td>sgd</td>\n",
       "      <td>10.0</td>\n",
       "      <td>0.827634</td>\n",
       "      <td>NaN</td>\n",
       "      <td>NaN</td>\n",
       "      <td>NaN</td>\n",
       "      <td>NaN</td>\n",
       "    </tr>\n",
       "    <tr>\n",
       "      <th>15</th>\n",
       "      <td>1:01:15</td>\n",
       "      <td>ce</td>\n",
       "      <td>train_all_qualities_4.csv</td>\n",
       "      <td>1.0</td>\n",
       "      <td>0.0001</td>\n",
       "      <td>auc</td>\n",
       "      <td>resnext50</td>\n",
       "      <td>18.0</td>\n",
       "      <td>200.0</td>\n",
       "      <td>sgd</td>\n",
       "      <td>10.0</td>\n",
       "      <td>0.824425</td>\n",
       "      <td>0.8158</td>\n",
       "      <td>0.76</td>\n",
       "      <td>0.856401</td>\n",
       "      <td>0.829121</td>\n",
       "    </tr>\n",
       "    <tr>\n",
       "      <th>34</th>\n",
       "      <td>0:17:43</td>\n",
       "      <td>ce</td>\n",
       "      <td>train_all_qualities_4.csv</td>\n",
       "      <td>1.0</td>\n",
       "      <td>0.0001</td>\n",
       "      <td>auc</td>\n",
       "      <td>resnet50_sws</td>\n",
       "      <td>18.0</td>\n",
       "      <td>200.0</td>\n",
       "      <td>sgd</td>\n",
       "      <td>10.0</td>\n",
       "      <td>0.823935</td>\n",
       "      <td>NaN</td>\n",
       "      <td>NaN</td>\n",
       "      <td>NaN</td>\n",
       "      <td>NaN</td>\n",
       "    </tr>\n",
       "    <tr>\n",
       "      <th>24</th>\n",
       "      <td>0:36:06</td>\n",
       "      <td>focal_loss</td>\n",
       "      <td>train_all_qualities_4.csv</td>\n",
       "      <td>1.0</td>\n",
       "      <td>0.0001</td>\n",
       "      <td>auc</td>\n",
       "      <td>resnet50_sws</td>\n",
       "      <td>18.0</td>\n",
       "      <td>200.0</td>\n",
       "      <td>sgd</td>\n",
       "      <td>10.0</td>\n",
       "      <td>0.823548</td>\n",
       "      <td>NaN</td>\n",
       "      <td>NaN</td>\n",
       "      <td>NaN</td>\n",
       "      <td>NaN</td>\n",
       "    </tr>\n",
       "  </tbody>\n",
       "</table>\n",
       "</div>"
      ],
      "text/plain": [
       "       time   base_loss                  csv_train  exp      lr metric  \\\n",
       "35  0:51:04          ce  train_all_qualities_4.csv  1.0  0.0001    auc   \n",
       "33  0:29:53          ce  train_all_qualities_4.csv  1.0  0.0001    auc   \n",
       "15  1:01:15          ce  train_all_qualities_4.csv  1.0  0.0001    auc   \n",
       "34  0:17:43          ce  train_all_qualities_4.csv  1.0  0.0001    auc   \n",
       "24  0:36:06  focal_loss  train_all_qualities_4.csv  1.0  0.0001    auc   \n",
       "\n",
       "       model_name  n_classes  n_epochs optimizer  patience       auc   auc_q  \\\n",
       "35       resnet50       18.0     200.0       sgd      10.0  0.834613     NaN   \n",
       "33  resnext50_sws       18.0     200.0       sgd      10.0  0.827634     NaN   \n",
       "15      resnext50       18.0     200.0       sgd      10.0  0.824425  0.8158   \n",
       "34   resnet50_sws       18.0     200.0       sgd      10.0  0.823935     NaN   \n",
       "24   resnet50_sws       18.0     200.0       sgd      10.0  0.823548     NaN   \n",
       "\n",
       "    vl_acc_f  vl_auc_a  vl_auc_c  \n",
       "35       NaN       NaN       NaN  \n",
       "33       NaN       NaN       NaN  \n",
       "15      0.76  0.856401  0.829121  \n",
       "34       NaN       NaN       NaN  \n",
       "24       NaN       NaN       NaN  "
      ]
     },
     "execution_count": 55,
     "metadata": {},
     "output_type": "execute_result"
    }
   ],
   "source": [
    "df_train4.sort_values('auc', ascending=False).head(5)"
   ]
  },
  {
   "cell_type": "markdown",
   "metadata": {},
   "source": [
    "#### Best models this fold:"
   ]
  },
  {
   "cell_type": "markdown",
   "metadata": {},
   "source": [
    "python train_multi_task.py --csv_train train_all_qualities_4.csv --base_loss ce --exp 1 --lambd 0 --load_checkpoint no --metric auc --model_name resnet50 --n_classes 18 --n_epochs 200 --patience 10 --oversample 1/1/1/1/1/1/1/1/1/1/1/1/1/1/1/1/1/1 --save_model True --save_path best_quality_MT_f4  "
   ]
  },
  {
   "cell_type": "markdown",
   "metadata": {},
   "source": [
    "## MIXING COEFFICIENTS - ok"
   ]
  },
  {
   "cell_type": "code",
   "execution_count": null,
   "metadata": {},
   "outputs": [],
   "source": [
    "auc_f1 = 0.857078\n",
    "auc_f2 = 0.837494\n",
    "auc_f3 = 0.844817\n",
    "auc_f4 = 0.834613\n",
    "coeff_sum = auc_f1+auc_f2+auc_f3+auc_f4"
   ]
  },
  {
   "cell_type": "code",
   "execution_count": null,
   "metadata": {},
   "outputs": [],
   "source": [
    "coeff_f1 = auc_f1/coeff_sum\n",
    "coeff_f2 = auc_f2/coeff_sum\n",
    "coeff_f3 = auc_f3/coeff_sum\n",
    "coeff_f4 = auc_f4/coeff_sum\n",
    "print(coeff_f1,coeff_f2,coeff_f3,coeff_f4)"
   ]
  },
  {
   "cell_type": "markdown",
   "metadata": {},
   "source": [
    "## Overall Quality"
   ]
  },
  {
   "cell_type": "code",
   "execution_count": null,
   "metadata": {},
   "outputs": [],
   "source": [
    "df_all = pd.read_csv('results_multi_split_q.csv')"
   ]
  },
  {
   "cell_type": "code",
   "execution_count": null,
   "metadata": {},
   "outputs": [],
   "source": [
    "df_all = df_all.drop(['run', 'operation', 'started',  'status', 'label', 'batch_size', 'decay_f', \n",
    "        'optimizer', 'pretrained', 'save_model', 'step', 'oversample'], axis=1)\n",
    "df_all.columns"
   ]
  },
  {
   "cell_type": "code",
   "execution_count": null,
   "metadata": {},
   "outputs": [],
   "source": [
    "df_train1 = df_all[df_all.csv_train=='train_q_1.csv']\n",
    "df_train2 = df_all[df_all.csv_train=='train_q_2.csv']\n",
    "df_train3 = df_all[df_all.csv_train=='train_q_3.csv']\n",
    "df_train4 = df_all[df_all.csv_train=='train_q_4.csv']"
   ]
  },
  {
   "cell_type": "markdown",
   "metadata": {},
   "source": [
    "### First fold"
   ]
  },
  {
   "cell_type": "code",
   "execution_count": null,
   "metadata": {},
   "outputs": [],
   "source": [
    "df_train1.sort_values('auc', ascending=False).head(5)"
   ]
  },
  {
   "cell_type": "markdown",
   "metadata": {},
   "source": [
    "#### Best models this fold:    --> TRAINING"
   ]
  },
  {
   "cell_type": "markdown",
   "metadata": {},
   "source": [
    "python train_"
   ]
  },
  {
   "cell_type": "markdown",
   "metadata": {},
   "source": [
    "### Second fold"
   ]
  },
  {
   "cell_type": "code",
   "execution_count": null,
   "metadata": {},
   "outputs": [],
   "source": [
    "df_train2.sort_values('auc', ascending=False).head(5)"
   ]
  },
  {
   "cell_type": "markdown",
   "metadata": {},
   "source": [
    "#### Best models this fold:"
   ]
  },
  {
   "cell_type": "markdown",
   "metadata": {},
   "source": [
    "python train_"
   ]
  },
  {
   "cell_type": "markdown",
   "metadata": {},
   "source": [
    "### Third fold"
   ]
  },
  {
   "cell_type": "code",
   "execution_count": null,
   "metadata": {},
   "outputs": [],
   "source": [
    "df_train3.sort_values('auc', ascending=False).head(5)"
   ]
  },
  {
   "cell_type": "markdown",
   "metadata": {},
   "source": [
    "#### Best models this fold:"
   ]
  },
  {
   "cell_type": "markdown",
   "metadata": {},
   "source": [
    "python train_"
   ]
  },
  {
   "cell_type": "markdown",
   "metadata": {},
   "source": [
    "### Fourth fold"
   ]
  },
  {
   "cell_type": "code",
   "execution_count": null,
   "metadata": {},
   "outputs": [],
   "source": [
    "df_train4.sort_values('auc', ascending=False).head(5)"
   ]
  },
  {
   "cell_type": "markdown",
   "metadata": {},
   "source": [
    "#### Best models this fold:"
   ]
  },
  {
   "cell_type": "markdown",
   "metadata": {},
   "source": [
    "python train_"
   ]
  },
  {
   "cell_type": "markdown",
   "metadata": {},
   "source": [
    "# MIXING COEFFICIENTS"
   ]
  },
  {
   "cell_type": "code",
   "execution_count": null,
   "metadata": {},
   "outputs": [],
   "source": [
    "auc_f1 = \n",
    "auc_f2 = \n",
    "auc_f3 = \n",
    "auc_f4 = \n",
    "coeff_sum = auc_f1+auc_f2+auc_f3+auc_f4"
   ]
  },
  {
   "cell_type": "code",
   "execution_count": null,
   "metadata": {},
   "outputs": [],
   "source": [
    "coeff_f1 = auc_f1/coeff_sum\n",
    "coeff_f2 = auc_f2/coeff_sum\n",
    "coeff_f3 = auc_f3/coeff_sum\n",
    "coeff_f4 = auc_f4/coeff_sum\n",
    "print(coeff_f1,coeff_f2,coeff_f3,coeff_f4)"
   ]
  },
  {
   "cell_type": "markdown",
   "metadata": {},
   "source": [
    "## Clarity"
   ]
  },
  {
   "cell_type": "code",
   "execution_count": null,
   "metadata": {},
   "outputs": [],
   "source": [
    "df_all = pd.read_csv('results_multi_split_clarity.csv')"
   ]
  },
  {
   "cell_type": "code",
   "execution_count": null,
   "metadata": {},
   "outputs": [],
   "source": [
    "df_all = df_all.drop(['run', 'operation', 'started',  'status', 'label', 'batch_size', 'decay_f', \n",
    "        'optimizer', 'pretrained', 'save_model', 'step', 'oversample'], axis=1)\n",
    "df_all.columns"
   ]
  },
  {
   "cell_type": "code",
   "execution_count": null,
   "metadata": {},
   "outputs": [],
   "source": [
    "df_train1 = df_all[df_all.csv_train=='train_clarity_1.csv']\n",
    "df_train2 = df_all[df_all.csv_train=='train_clarity_2.csv']\n",
    "df_train3 = df_all[df_all.csv_train=='train_clarity_3.csv']\n",
    "df_train4 = df_all[df_all.csv_train=='train_clarity_4.csv']"
   ]
  },
  {
   "cell_type": "markdown",
   "metadata": {},
   "source": [
    "### First fold"
   ]
  },
  {
   "cell_type": "code",
   "execution_count": null,
   "metadata": {},
   "outputs": [],
   "source": [
    "df_train1.sort_values('auc', ascending=False).head(5)"
   ]
  },
  {
   "cell_type": "markdown",
   "metadata": {},
   "source": [
    "#### Best models this fold:    --> TRAINING"
   ]
  },
  {
   "cell_type": "markdown",
   "metadata": {},
   "source": [
    "python train_"
   ]
  },
  {
   "cell_type": "markdown",
   "metadata": {},
   "source": [
    "### Second fold"
   ]
  },
  {
   "cell_type": "code",
   "execution_count": null,
   "metadata": {},
   "outputs": [],
   "source": [
    "df_train2.sort_values('auc', ascending=False).head(5)"
   ]
  },
  {
   "cell_type": "markdown",
   "metadata": {},
   "source": [
    "#### Best models this fold:"
   ]
  },
  {
   "cell_type": "markdown",
   "metadata": {},
   "source": [
    "python train_"
   ]
  },
  {
   "cell_type": "markdown",
   "metadata": {},
   "source": [
    "### Third fold"
   ]
  },
  {
   "cell_type": "code",
   "execution_count": null,
   "metadata": {},
   "outputs": [],
   "source": [
    "df_train3.sort_values('auc', ascending=False).head(5)"
   ]
  },
  {
   "cell_type": "markdown",
   "metadata": {},
   "source": [
    "#### Best models this fold:"
   ]
  },
  {
   "cell_type": "markdown",
   "metadata": {},
   "source": [
    "python train_"
   ]
  },
  {
   "cell_type": "markdown",
   "metadata": {},
   "source": [
    "### Fourth fold"
   ]
  },
  {
   "cell_type": "code",
   "execution_count": null,
   "metadata": {},
   "outputs": [],
   "source": [
    "df_train4.sort_values('auc', ascending=False).head(5)"
   ]
  },
  {
   "cell_type": "markdown",
   "metadata": {},
   "source": [
    "#### Best models this fold:"
   ]
  },
  {
   "cell_type": "markdown",
   "metadata": {},
   "source": [
    "python train_"
   ]
  },
  {
   "cell_type": "markdown",
   "metadata": {},
   "source": [
    "# MIXING COEFFICIENTS"
   ]
  },
  {
   "cell_type": "code",
   "execution_count": null,
   "metadata": {},
   "outputs": [],
   "source": [
    "auc_f1 = \n",
    "auc_f2 = \n",
    "auc_f3 = \n",
    "auc_f4 = \n",
    "coeff_sum = auc_f1+auc_f2+auc_f3+auc_f4"
   ]
  },
  {
   "cell_type": "code",
   "execution_count": null,
   "metadata": {},
   "outputs": [],
   "source": [
    "coeff_f1 = auc_f1/coeff_sum\n",
    "coeff_f2 = auc_f2/coeff_sum\n",
    "coeff_f3 = auc_f3/coeff_sum\n",
    "coeff_f4 = auc_f4/coeff_sum\n",
    "print(coeff_f1,coeff_f2,coeff_f3,coeff_f4)"
   ]
  },
  {
   "cell_type": "code",
   "execution_count": null,
   "metadata": {},
   "outputs": [],
   "source": []
  },
  {
   "cell_type": "code",
   "execution_count": null,
   "metadata": {},
   "outputs": [],
   "source": []
  },
  {
   "cell_type": "markdown",
   "metadata": {},
   "source": [
    "## Artifact"
   ]
  },
  {
   "cell_type": "code",
   "execution_count": null,
   "metadata": {},
   "outputs": [],
   "source": [
    "df_all = pd.read_csv('results_multi_split_artifact.csv')"
   ]
  },
  {
   "cell_type": "code",
   "execution_count": null,
   "metadata": {},
   "outputs": [],
   "source": [
    "df_all = df_all.drop(['run', 'operation', 'started',  'status', 'label', 'batch_size', 'decay_f', \n",
    "        'optimizer', 'pretrained', 'save_model', 'step', 'oversample'], axis=1)\n",
    "df_all.columns"
   ]
  },
  {
   "cell_type": "code",
   "execution_count": null,
   "metadata": {},
   "outputs": [],
   "source": [
    "df_train1 = df_all[df_all.csv_train=='train_artifact_1.csv']\n",
    "df_train2 = df_all[df_all.csv_train=='train_artifact_2.csv']\n",
    "df_train3 = df_all[df_all.csv_train=='train_artifact_3.csv']\n",
    "df_train4 = df_all[df_all.csv_train=='train_artifact_4.csv']"
   ]
  },
  {
   "cell_type": "markdown",
   "metadata": {},
   "source": [
    "### First fold"
   ]
  },
  {
   "cell_type": "code",
   "execution_count": null,
   "metadata": {},
   "outputs": [],
   "source": [
    "df_train1.sort_values('auc', ascending=False).head(5)"
   ]
  },
  {
   "cell_type": "markdown",
   "metadata": {},
   "source": [
    "#### Best models this fold:    --> TRAINING"
   ]
  },
  {
   "cell_type": "markdown",
   "metadata": {},
   "source": [
    "python train_"
   ]
  },
  {
   "cell_type": "markdown",
   "metadata": {},
   "source": [
    "### Second fold"
   ]
  },
  {
   "cell_type": "code",
   "execution_count": null,
   "metadata": {},
   "outputs": [],
   "source": [
    "df_train2.sort_values('auc', ascending=False).head(5)"
   ]
  },
  {
   "cell_type": "markdown",
   "metadata": {},
   "source": [
    "#### Best models this fold:"
   ]
  },
  {
   "cell_type": "markdown",
   "metadata": {},
   "source": [
    "python train_"
   ]
  },
  {
   "cell_type": "markdown",
   "metadata": {},
   "source": [
    "### Third fold"
   ]
  },
  {
   "cell_type": "code",
   "execution_count": null,
   "metadata": {},
   "outputs": [],
   "source": [
    "df_train3.sort_values('auc', ascending=False).head(5)"
   ]
  },
  {
   "cell_type": "markdown",
   "metadata": {},
   "source": [
    "#### Best models this fold:"
   ]
  },
  {
   "cell_type": "markdown",
   "metadata": {},
   "source": [
    "python train_"
   ]
  },
  {
   "cell_type": "markdown",
   "metadata": {},
   "source": [
    "### Fourth fold"
   ]
  },
  {
   "cell_type": "code",
   "execution_count": null,
   "metadata": {},
   "outputs": [],
   "source": [
    "df_train4.sort_values('auc', ascending=False).head(5)"
   ]
  },
  {
   "cell_type": "markdown",
   "metadata": {},
   "source": [
    "#### Best models this fold:"
   ]
  },
  {
   "cell_type": "markdown",
   "metadata": {},
   "source": [
    "python train_"
   ]
  },
  {
   "cell_type": "markdown",
   "metadata": {},
   "source": [
    "# MIXING COEFFICIENTS"
   ]
  },
  {
   "cell_type": "code",
   "execution_count": null,
   "metadata": {},
   "outputs": [],
   "source": [
    "auc_f1 = \n",
    "auc_f2 = \n",
    "auc_f3 = \n",
    "auc_f4 = \n",
    "coeff_sum = auc_f1+auc_f2+auc_f3+auc_f4"
   ]
  },
  {
   "cell_type": "code",
   "execution_count": null,
   "metadata": {},
   "outputs": [],
   "source": [
    "coeff_f1 = auc_f1/coeff_sum\n",
    "coeff_f2 = auc_f2/coeff_sum\n",
    "coeff_f3 = auc_f3/coeff_sum\n",
    "coeff_f4 = auc_f4/coeff_sum\n",
    "print(coeff_f1,coeff_f2,coeff_f3,coeff_f4)"
   ]
  },
  {
   "cell_type": "code",
   "execution_count": null,
   "metadata": {},
   "outputs": [],
   "source": []
  },
  {
   "cell_type": "code",
   "execution_count": null,
   "metadata": {},
   "outputs": [],
   "source": []
  },
  {
   "cell_type": "markdown",
   "metadata": {},
   "source": [
    "## Field Def"
   ]
  },
  {
   "cell_type": "code",
   "execution_count": null,
   "metadata": {},
   "outputs": [],
   "source": [
    "df_all = pd.read_csv('results_multi_split_field_def.csv')"
   ]
  },
  {
   "cell_type": "code",
   "execution_count": null,
   "metadata": {},
   "outputs": [],
   "source": [
    "df_all = df_all.drop(['run', 'operation', 'started',  'status', 'label', 'batch_size', 'decay_f', \n",
    "        'optimizer', 'pretrained', 'save_model', 'step', 'oversample'], axis=1)\n",
    "df_all.columns"
   ]
  },
  {
   "cell_type": "code",
   "execution_count": null,
   "metadata": {},
   "outputs": [],
   "source": [
    "df_train1 = df_all[df_all.csv_train=='train_field_def_1.csv']\n",
    "df_train2 = df_all[df_all.csv_train=='train_field_def_2.csv']\n",
    "df_train3 = df_all[df_all.csv_train=='train_field_def_3.csv']\n",
    "df_train4 = df_all[df_all.csv_train=='train_field_def_4.csv']"
   ]
  },
  {
   "cell_type": "markdown",
   "metadata": {},
   "source": [
    "### First fold"
   ]
  },
  {
   "cell_type": "code",
   "execution_count": null,
   "metadata": {},
   "outputs": [],
   "source": [
    "df_train1.sort_values('auc', ascending=False).head(5)"
   ]
  },
  {
   "cell_type": "markdown",
   "metadata": {},
   "source": [
    "#### Best models this fold:    --> TRAINING"
   ]
  },
  {
   "cell_type": "markdown",
   "metadata": {},
   "source": [
    "python train_"
   ]
  },
  {
   "cell_type": "markdown",
   "metadata": {},
   "source": [
    "### Second fold"
   ]
  },
  {
   "cell_type": "code",
   "execution_count": null,
   "metadata": {},
   "outputs": [],
   "source": [
    "df_train2.sort_values('auc', ascending=False).head(5)"
   ]
  },
  {
   "cell_type": "markdown",
   "metadata": {},
   "source": [
    "#### Best models this fold:"
   ]
  },
  {
   "cell_type": "markdown",
   "metadata": {},
   "source": [
    "python train_"
   ]
  },
  {
   "cell_type": "markdown",
   "metadata": {},
   "source": [
    "### Third fold"
   ]
  },
  {
   "cell_type": "code",
   "execution_count": null,
   "metadata": {},
   "outputs": [],
   "source": [
    "df_train3.sort_values('auc', ascending=False).head(5)"
   ]
  },
  {
   "cell_type": "markdown",
   "metadata": {},
   "source": [
    "#### Best models this fold:"
   ]
  },
  {
   "cell_type": "markdown",
   "metadata": {},
   "source": [
    "python train_"
   ]
  },
  {
   "cell_type": "markdown",
   "metadata": {},
   "source": [
    "### Fourth fold"
   ]
  },
  {
   "cell_type": "code",
   "execution_count": null,
   "metadata": {},
   "outputs": [],
   "source": [
    "df_train4.sort_values('auc', ascending=False).head(5)"
   ]
  },
  {
   "cell_type": "markdown",
   "metadata": {},
   "source": [
    "#### Best models this fold:"
   ]
  },
  {
   "cell_type": "markdown",
   "metadata": {},
   "source": [
    "python train_"
   ]
  },
  {
   "cell_type": "markdown",
   "metadata": {},
   "source": [
    "# MIXING COEFFICIENTS"
   ]
  },
  {
   "cell_type": "code",
   "execution_count": null,
   "metadata": {},
   "outputs": [],
   "source": [
    "auc_f1 = \n",
    "auc_f2 = \n",
    "auc_f3 = \n",
    "auc_f4 = \n",
    "coeff_sum = auc_f1+auc_f2+auc_f3+auc_f4"
   ]
  },
  {
   "cell_type": "code",
   "execution_count": null,
   "metadata": {},
   "outputs": [],
   "source": [
    "coeff_f1 = auc_f1/coeff_sum\n",
    "coeff_f2 = auc_f2/coeff_sum\n",
    "coeff_f3 = auc_f3/coeff_sum\n",
    "coeff_f4 = auc_f4/coeff_sum\n",
    "print(coeff_f1,coeff_f2,coeff_f3,coeff_f4)"
   ]
  },
  {
   "cell_type": "code",
   "execution_count": null,
   "metadata": {},
   "outputs": [],
   "source": []
  },
  {
   "cell_type": "code",
   "execution_count": null,
   "metadata": {},
   "outputs": [],
   "source": []
  }
 ],
 "metadata": {
  "kernelspec": {
   "display_name": "vessels",
   "language": "python",
   "name": "build_central"
  },
  "language_info": {
   "codemirror_mode": {
    "name": "ipython",
    "version": 3
   },
   "file_extension": ".py",
   "mimetype": "text/x-python",
   "name": "python",
   "nbconvert_exporter": "python",
   "pygments_lexer": "ipython3",
   "version": "3.7.6"
  }
 },
 "nbformat": 4,
 "nbformat_minor": 4
}
