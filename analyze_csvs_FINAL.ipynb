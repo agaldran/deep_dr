{
 "cells": [
  {
   "cell_type": "code",
   "execution_count": 1,
   "metadata": {},
   "outputs": [],
   "source": [
    "import pandas as pd"
   ]
  },
  {
   "cell_type": "code",
   "execution_count": 2,
   "metadata": {},
   "outputs": [
    {
     "data": {
      "text/html": [
       "<style>.container { width:80% !important; }</style>"
      ],
      "text/plain": [
       "<IPython.core.display.HTML object>"
      ]
     },
     "metadata": {},
     "output_type": "display_data"
    }
   ],
   "source": [
    "from IPython.core.display import display, HTML\n",
    "display(HTML(\"<style>.container { width:80% !important; }</style>\"))"
   ]
  },
  {
   "cell_type": "code",
   "execution_count": 3,
   "metadata": {},
   "outputs": [],
   "source": [
    "%load_ext autoreload\n",
    "%autoreload 2\n",
    "\n",
    "from utils.get_loaders import get_train_val_loaders, modify_MT_dataset\n",
    "import numpy as np"
   ]
  },
  {
   "cell_type": "code",
   "execution_count": 4,
   "metadata": {},
   "outputs": [],
   "source": [
    "# train_loader, val_loader = get_train_val_loaders(csv_path_train='data/train_all_qualities.csv', csv_path_val='data/val_all_qualities.csv',\n",
    "#                                                      batch_size=8, mean=0, std=1, qualities=True)"
   ]
  },
  {
   "cell_type": "code",
   "execution_count": 5,
   "metadata": {},
   "outputs": [],
   "source": [
    "# print('quality', np.unique(train_loader.dataset.quality, return_counts=True)[1])\n",
    "# print('artifact', np.unique(train_loader.dataset.artifact, return_counts=True)[1])\n",
    "# print('field_def', np.unique(train_loader.dataset.field_def, return_counts=True)[1])\n",
    "# print('clarity', np.unique(train_loader.dataset.clarity, return_counts=True)[1])"
   ]
  },
  {
   "cell_type": "code",
   "execution_count": 6,
   "metadata": {},
   "outputs": [],
   "source": [
    "# csv_train_path = train_loader.dataset.csv_path #[10,4,1,1,1] [8,3,1,1,1]"
   ]
  },
  {
   "cell_type": "code",
   "execution_count": 7,
   "metadata": {},
   "outputs": [],
   "source": [
    "# train_loader_MOD = modify_MT_dataset(train_loader, csv_train_path=csv_train_path, keep_samples=[8,3,1,1,1], task='clarity')\n",
    "# print('quality', np.unique(train_loader_MOD.quality, return_counts=True)[1])\n",
    "# print('artifact', np.unique(train_loader_MOD.artifact, return_counts=True)[1])\n",
    "# print('field_def', np.unique(train_loader_MOD.field_def, return_counts=True)[1])\n",
    "# print('clarity', np.unique(train_loader_MOD.clarity, return_counts=True)[1])"
   ]
  },
  {
   "cell_type": "code",
   "execution_count": 8,
   "metadata": {},
   "outputs": [],
   "source": [
    "# csv_train_path = train_loader.dataset.csv_path #[10,4,1,1,1] [8,3,1,1,1]"
   ]
  },
  {
   "cell_type": "code",
   "execution_count": 9,
   "metadata": {},
   "outputs": [],
   "source": [
    "# train_loader_MOD = modify_MT_dataset(train_loader, csv_train_path=csv_train_path, keep_samples=[10,4,1,1,1], task='field_def')\n",
    "# print('quality', np.unique(train_loader_MOD.quality, return_counts=True)[1])\n",
    "# print('artifact', np.unique(train_loader_MOD.artifact, return_counts=True)[1])\n",
    "# print('field_def', np.unique(train_loader_MOD.field_def, return_counts=True)[1])\n",
    "# print('clarity', np.unique(train_loader_MOD.clarity, return_counts=True)[1])"
   ]
  },
  {
   "cell_type": "code",
   "execution_count": 10,
   "metadata": {},
   "outputs": [],
   "source": [
    "# csv_train_path = train_loader.dataset.csv_path #[10,4,1,1,1] [8,3,1,1,1]"
   ]
  },
  {
   "cell_type": "code",
   "execution_count": 11,
   "metadata": {},
   "outputs": [],
   "source": [
    "# train_loader_MOD = modify_MT_dataset(train_loader, csv_train_path=csv_train_path, keep_samples=[1,5,1,2,2,5], task='artifact')\n",
    "# print('quality', np.unique(train_loader_MOD.quality, return_counts=True)[1])\n",
    "# print('artifact', np.unique(train_loader_MOD.artifact, return_counts=True)[1])\n",
    "# print('field_def', np.unique(train_loader_MOD.field_def, return_counts=True)[1])\n",
    "# print('clarity', np.unique(train_loader_MOD.clarity, return_counts=True)[1])"
   ]
  },
  {
   "cell_type": "markdown",
   "metadata": {},
   "source": [
    "# Standard Fundus\n",
    "## Both OD+MAC"
   ]
  },
  {
   "cell_type": "markdown",
   "metadata": {},
   "source": [
    "## First fold"
   ]
  },
  {
   "cell_type": "code",
   "execution_count": null,
   "metadata": {},
   "outputs": [],
   "source": [
    "df_train1.sort_values('kappa', ascending=False).head(15)"
   ]
  },
  {
   "cell_type": "markdown",
   "metadata": {},
   "source": [
    "### Best models this fold:"
   ]
  },
  {
   "cell_type": "markdown",
   "metadata": {},
   "source": [
    "python train.py --csv_train train_all_1.csv --base_loss focal_loss --exp 1 --lambd 10 --load_checkpoint models/resnet50_eyepacs --metric kappa_auc_avg --model_name resnet50 --n_epochs 50 --patience 5 --oversample 1/4/2/2/7 --save_model True --save_path best_both_f1 "
   ]
  },
  {
   "cell_type": "markdown",
   "metadata": {},
   "source": [
    "## Second fold"
   ]
  },
  {
   "cell_type": "code",
   "execution_count": null,
   "metadata": {},
   "outputs": [],
   "source": [
    "df_train2.sort_values('kappa', ascending=False).head(15)"
   ]
  },
  {
   "cell_type": "markdown",
   "metadata": {},
   "source": [
    "### Best models this fold:"
   ]
  },
  {
   "cell_type": "markdown",
   "metadata": {},
   "source": [
    "python train.py --csv_train train_all_2.csv --base_loss gls --exp 1 --lambd 10 --load_checkpoint models/resnet50_eyepacs --metric kappa_auc_avg --model_name resnet50 --n_epochs 50 --patience 5 --oversample 1/4/2/2/7 --save_model True --save_path best_both_f2 "
   ]
  },
  {
   "cell_type": "markdown",
   "metadata": {},
   "source": [
    "## Third fold"
   ]
  },
  {
   "cell_type": "code",
   "execution_count": null,
   "metadata": {},
   "outputs": [],
   "source": [
    "df_train3.sort_values('kappa', ascending=False).head(15)"
   ]
  },
  {
   "cell_type": "markdown",
   "metadata": {},
   "source": [
    "### Best models this fold:"
   ]
  },
  {
   "cell_type": "markdown",
   "metadata": {},
   "source": [
    "python train.py --csv_train train_all_3.csv --base_loss gls --exp 1 --lambd 10 --load_checkpoint models/resnet50_eyepacs --metric kappa_auc_avg --model_name resnet50 --n_epochs 50 --patience 5 --oversample 1/4/2/2/7 --save_model True --save_path best_both_f3 "
   ]
  },
  {
   "cell_type": "markdown",
   "metadata": {},
   "source": [
    "## Fourth fold"
   ]
  },
  {
   "cell_type": "code",
   "execution_count": null,
   "metadata": {},
   "outputs": [],
   "source": [
    "df_train4.sort_values('kappa', ascending=False).head(15)"
   ]
  },
  {
   "cell_type": "markdown",
   "metadata": {},
   "source": [
    "### Best models this fold:"
   ]
  },
  {
   "cell_type": "markdown",
   "metadata": {},
   "source": [
    "python train.py --csv_train train_all_4.csv --base_loss gls --exp 1 --lambd 10 --load_checkpoint models/resnet50_eyepacs --metric kappa_auc_avg --model_name resnet50 --n_epochs 50 --patience 5 --oversample 1/4/2/2/7 --save_model True --save_path best_both_f4 "
   ]
  },
  {
   "cell_type": "markdown",
   "metadata": {},
   "source": [
    "# MIXING COEFFICIENTS"
   ]
  },
  {
   "cell_type": "code",
   "execution_count": null,
   "metadata": {},
   "outputs": [],
   "source": [
    "k_auc_f1 = 0.5*(0.908872+0.857692)\n",
    "k_auc_f2 = 0.5*(0.935597+0.857399)\n",
    "k_auc_f3 = 0.5*(0.938523+0.882619)\n",
    "k_auc_f4 = 0.5*(0.943784+0.873273)\n",
    "coeff_sum = k_auc_f1+k_auc_f2+k_auc_f3+k_auc_f4"
   ]
  },
  {
   "cell_type": "code",
   "execution_count": null,
   "metadata": {},
   "outputs": [],
   "source": [
    "coeff_f1 = k_auc_f1/coeff_sum\n",
    "coeff_f2 = k_auc_f2/coeff_sum\n",
    "coeff_f3 = k_auc_f3/coeff_sum\n",
    "coeff_f4 = k_auc_f4/coeff_sum\n",
    "print(coeff_f1,coeff_f2,coeff_f3,coeff_f4)"
   ]
  },
  {
   "cell_type": "markdown",
   "metadata": {},
   "source": [
    "# Standard Fundus\n",
    "## OD"
   ]
  },
  {
   "cell_type": "code",
   "execution_count": null,
   "metadata": {},
   "outputs": [],
   "source": [
    "df_all = pd.read_csv('results_multi_split_fundus_od.csv')"
   ]
  },
  {
   "cell_type": "code",
   "execution_count": null,
   "metadata": {},
   "outputs": [],
   "source": [
    "df_all = df_all.drop(['run', 'operation', 'started',  'status', 'label', 'batch_size', 'decay_f', 'acc', 'load_checkpoint', \n",
    "        'optimizer', 'pretrained', 'save_model', 'step'], axis=1)\n",
    "df_all.columns"
   ]
  },
  {
   "cell_type": "code",
   "execution_count": null,
   "metadata": {},
   "outputs": [],
   "source": [
    "df_train1 = df_all[df_all.csv_train=='train_od_1.csv']\n",
    "df_train2 = df_all[df_all.csv_train=='train_od_2.csv']\n",
    "df_train3 = df_all[df_all.csv_train=='train_od_3.csv']\n",
    "df_train4 = df_all[df_all.csv_train=='train_od_4.csv']"
   ]
  },
  {
   "cell_type": "markdown",
   "metadata": {},
   "source": [
    "## First fold"
   ]
  },
  {
   "cell_type": "code",
   "execution_count": null,
   "metadata": {},
   "outputs": [],
   "source": [
    "df_train1.sort_values('kappa', ascending=False).head(5)"
   ]
  },
  {
   "cell_type": "markdown",
   "metadata": {},
   "source": [
    "### Best models this fold:"
   ]
  },
  {
   "cell_type": "markdown",
   "metadata": {},
   "source": [
    "python train.py --csv_train train_od_1.csv --base_loss focal_loss --exp 1 --lambd 10 --load_checkpoint models/resnet50_eyepacs --metric kappa_auc_avg --model_name resnet50 --n_epochs 50 --patience 5 --oversample 1/4/2/2/7 --save_model True --save_path best_od_f1 "
   ]
  },
  {
   "cell_type": "markdown",
   "metadata": {},
   "source": [
    "## Second fold"
   ]
  },
  {
   "cell_type": "code",
   "execution_count": null,
   "metadata": {},
   "outputs": [],
   "source": [
    "df_train2.sort_values('kappa', ascending=False).head(5)"
   ]
  },
  {
   "cell_type": "markdown",
   "metadata": {},
   "source": [
    "### Best models this fold:"
   ]
  },
  {
   "cell_type": "markdown",
   "metadata": {},
   "source": [
    "python train.py --csv_train train_od_2.csv --base_loss focal_loss --exp 1 --lambd 10 --load_checkpoint models/resnet50_eyepacs --metric kappa_auc_avg --model_name resnet50 --n_epochs 50 --patience 5 --oversample 1/4/2/2/7 --save_model True --save_path best_od_f2 "
   ]
  },
  {
   "cell_type": "markdown",
   "metadata": {},
   "source": [
    "## Third fold"
   ]
  },
  {
   "cell_type": "code",
   "execution_count": null,
   "metadata": {},
   "outputs": [],
   "source": [
    "df_train3.sort_values('kappa', ascending=False).head(5)"
   ]
  },
  {
   "cell_type": "markdown",
   "metadata": {},
   "source": [
    "### Best models this fold:"
   ]
  },
  {
   "cell_type": "markdown",
   "metadata": {},
   "source": [
    "python train.py --csv_train train_od_3.csv --base_loss focal_loss --exp 1 --lambd 10 --load_checkpoint models/resnet50_eyepacs --metric kappa_auc_avg --model_name resnet50 --n_epochs 50 --patience 5 --oversample 1/4/2/2/7 --save_model True --save_path best_od_f3 "
   ]
  },
  {
   "cell_type": "markdown",
   "metadata": {},
   "source": [
    "## Fourth fold"
   ]
  },
  {
   "cell_type": "code",
   "execution_count": null,
   "metadata": {},
   "outputs": [],
   "source": [
    "df_train4.sort_values('kappa', ascending=False).head(5)"
   ]
  },
  {
   "cell_type": "markdown",
   "metadata": {},
   "source": [
    "### Best models this fold:"
   ]
  },
  {
   "cell_type": "markdown",
   "metadata": {},
   "source": [
    "python train.py --csv_train train_od_4.csv --base_loss gls --exp 1 --lambd 10 --load_checkpoint models/resnet50_eyepacs --metric kappa_auc_avg --model_name resnet50 --n_epochs 50 --patience 5 --oversample 1/4/2/2/7 --save_model True --save_path best_od_f4 "
   ]
  },
  {
   "cell_type": "markdown",
   "metadata": {},
   "source": [
    "# MIXING COEFFICIENTS"
   ]
  },
  {
   "cell_type": "code",
   "execution_count": null,
   "metadata": {},
   "outputs": [],
   "source": [
    "k_auc_f1 = 0.5*0.915289+0.5*0.872834\n",
    "k_auc_f2 = 0.5*0.901828+0.5*0.859852\n",
    "k_auc_f3 = 0.5*0.906088+0.5*0.753158\n",
    "k_auc_f4 = 0.5*0.920812+0.5*0.826630\n",
    "coeff_sum = k_auc_f1+k_auc_f2+k_auc_f3+k_auc_f4"
   ]
  },
  {
   "cell_type": "code",
   "execution_count": null,
   "metadata": {},
   "outputs": [],
   "source": [
    "coeff_f1 = k_auc_f1/coeff_sum\n",
    "coeff_f2 = k_auc_f2/coeff_sum\n",
    "coeff_f3 = k_auc_f3/coeff_sum\n",
    "coeff_f4 = k_auc_f4/coeff_sum\n",
    "print(coeff_f1,coeff_f2,coeff_f3,coeff_f4)"
   ]
  },
  {
   "cell_type": "markdown",
   "metadata": {},
   "source": [
    "# Standard Fundus\n",
    "## MAC"
   ]
  },
  {
   "cell_type": "code",
   "execution_count": null,
   "metadata": {},
   "outputs": [],
   "source": [
    "df_all = pd.read_csv('results_multi_split_fundus_mac.csv')"
   ]
  },
  {
   "cell_type": "code",
   "execution_count": null,
   "metadata": {},
   "outputs": [],
   "source": [
    "df_all = df_all.drop(['run', 'operation', 'started',  'status', 'label', 'batch_size', 'decay_f', 'acc', 'load_checkpoint', \n",
    "        'optimizer', 'pretrained', 'save_model', 'step'], axis=1)\n",
    "df_all.columns"
   ]
  },
  {
   "cell_type": "code",
   "execution_count": null,
   "metadata": {},
   "outputs": [],
   "source": [
    "df_train1 = df_all[df_all.csv_train=='train_mac_1.csv']\n",
    "df_train2 = df_all[df_all.csv_train=='train_mac_2.csv']\n",
    "df_train3 = df_all[df_all.csv_train=='train_mac_3.csv']\n",
    "df_train4 = df_all[df_all.csv_train=='train_mac_4.csv']"
   ]
  },
  {
   "cell_type": "markdown",
   "metadata": {},
   "source": [
    "## First fold"
   ]
  },
  {
   "cell_type": "code",
   "execution_count": null,
   "metadata": {},
   "outputs": [],
   "source": [
    "df_train1.sort_values('kappa', ascending=False).head(5)"
   ]
  },
  {
   "cell_type": "markdown",
   "metadata": {},
   "source": [
    "### Best models this fold:"
   ]
  },
  {
   "cell_type": "markdown",
   "metadata": {},
   "source": [
    "python train.py --csv_train train_mac_1.csv --base_loss focal_loss --exp 1 --lambd 10 --load_checkpoint models/resnet50_eyepacs --metric kappa_auc_avg --model_name resnet50 --n_epochs 50 --patience 5 --oversample 1/4/2/2/7 --save_model True --save_path best_mac_f1 "
   ]
  },
  {
   "cell_type": "markdown",
   "metadata": {},
   "source": [
    "## Second fold"
   ]
  },
  {
   "cell_type": "code",
   "execution_count": null,
   "metadata": {},
   "outputs": [],
   "source": [
    "df_train2.sort_values('kappa', ascending=False).head(5)"
   ]
  },
  {
   "cell_type": "markdown",
   "metadata": {},
   "source": [
    "### Best models this fold:"
   ]
  },
  {
   "cell_type": "markdown",
   "metadata": {},
   "source": [
    "python train.py --csv_train train_mac_2.csv --base_loss gls --exp 1 --lambd 10 --load_checkpoint models/resnet50_eyepacs --metric kappa_auc_avg --model_name resnet50 --n_epochs 50 --patience 5 --oversample 1/4/2/2/7 --save_model True --save_path best_mac_f2 "
   ]
  },
  {
   "cell_type": "markdown",
   "metadata": {},
   "source": [
    "## Third fold"
   ]
  },
  {
   "cell_type": "code",
   "execution_count": null,
   "metadata": {},
   "outputs": [],
   "source": [
    "df_train3.sort_values('kappa', ascending=False).head(5)"
   ]
  },
  {
   "cell_type": "markdown",
   "metadata": {},
   "source": [
    "### Best models this fold:"
   ]
  },
  {
   "cell_type": "markdown",
   "metadata": {},
   "source": [
    "python train.py --csv_train train_mac_3.csv --base_loss focal_loss --exp 1 --lambd 10 --load_checkpoint models/resnet50_eyepacs --metric kappa_auc_avg --model_name resnet50 --n_epochs 50 --patience 5 --oversample 1/4/2/2/7 --save_model True --save_path best_mac_f3 "
   ]
  },
  {
   "cell_type": "markdown",
   "metadata": {},
   "source": [
    "## Fourth fold"
   ]
  },
  {
   "cell_type": "code",
   "execution_count": null,
   "metadata": {},
   "outputs": [],
   "source": [
    "df_train4.sort_values('kappa', ascending=False).head(5)"
   ]
  },
  {
   "cell_type": "markdown",
   "metadata": {},
   "source": [
    "### Best models this fold:"
   ]
  },
  {
   "cell_type": "markdown",
   "metadata": {},
   "source": [
    "python train.py --csv_train train_od_4.csv --base_loss ce --exp 1 --lambd 10 --load_checkpoint models/resnet50_eyepacs --metric kappa_auc_avg --model_name resnet50 --n_epochs 50 --patience 5 --oversample 1/4/2/2/7 --save_model True --save_path best_mac_f4 "
   ]
  },
  {
   "cell_type": "markdown",
   "metadata": {},
   "source": [
    "# MIXING COEFFICIENTS"
   ]
  },
  {
   "cell_type": "code",
   "execution_count": null,
   "metadata": {},
   "outputs": [],
   "source": [
    "k_auc_f1 = 0.5*(0.906182+0.852420)\n",
    "k_auc_f2 = 0.5*(0.891001+0.844584)\n",
    "k_auc_f3 = 0.5*(0.885983+0.805524)\n",
    "k_auc_f4 = 0.5*(0.927619+0.861877)\n",
    "coeff_sum = k_auc_f1+k_auc_f2+k_auc_f3+k_auc_f4"
   ]
  },
  {
   "cell_type": "code",
   "execution_count": null,
   "metadata": {},
   "outputs": [],
   "source": [
    "coeff_f1 = k_auc_f1/coeff_sum\n",
    "coeff_f2 = k_auc_f2/coeff_sum\n",
    "coeff_f3 = k_auc_f3/coeff_sum\n",
    "coeff_f4 = k_auc_f4/coeff_sum\n",
    "print(coeff_f1,coeff_f2,coeff_f3,coeff_f4)"
   ]
  },
  {
   "cell_type": "markdown",
   "metadata": {},
   "source": [
    "# QUALITY\n",
    "## Multi-Task"
   ]
  },
  {
   "cell_type": "code",
   "execution_count": 26,
   "metadata": {},
   "outputs": [],
   "source": [
    "df_all = pd.read_csv('results_multi_split_quality_MT.csv')"
   ]
  },
  {
   "cell_type": "code",
   "execution_count": 27,
   "metadata": {},
   "outputs": [
    {
     "data": {
      "text/plain": [
       "Index(['time', 'base_loss', 'csv_train', 'exp', 'lambd', 'load_checkpoint',\n",
       "       'lr', 'metric', 'model_name', 'n_classes', 'n_epochs', 'patience',\n",
       "       'auc', 'auc_q', 'vl_acc_f', 'vl_auc_a', 'vl_auc_c'],\n",
       "      dtype='object')"
      ]
     },
     "execution_count": 27,
     "metadata": {},
     "output_type": "execute_result"
    }
   ],
   "source": [
    "df_all = df_all.drop(['run', 'operation', 'started',  'status', 'label', 'batch_size', 'decay_f', \n",
    "        'optimizer', 'pretrained', 'save_model', 'step', 'oversample'], axis=1)\n",
    "df_all.columns"
   ]
  },
  {
   "cell_type": "code",
   "execution_count": 28,
   "metadata": {},
   "outputs": [],
   "source": [
    "df_train1 = df_all[df_all.csv_train=='train_all_qualities_1.csv']\n",
    "df_train2 = df_all[df_all.csv_train=='train_all_qualities_2.csv']\n",
    "df_train3 = df_all[df_all.csv_train=='train_all_qualities_3.csv']\n",
    "df_train4 = df_all[df_all.csv_train=='train_all_qualities_4.csv']"
   ]
  },
  {
   "cell_type": "markdown",
   "metadata": {},
   "source": [
    "### First fold"
   ]
  },
  {
   "cell_type": "code",
   "execution_count": 29,
   "metadata": {},
   "outputs": [
    {
     "data": {
      "text/html": [
       "<div>\n",
       "<style scoped>\n",
       "    .dataframe tbody tr th:only-of-type {\n",
       "        vertical-align: middle;\n",
       "    }\n",
       "\n",
       "    .dataframe tbody tr th {\n",
       "        vertical-align: top;\n",
       "    }\n",
       "\n",
       "    .dataframe thead th {\n",
       "        text-align: right;\n",
       "    }\n",
       "</style>\n",
       "<table border=\"1\" class=\"dataframe\">\n",
       "  <thead>\n",
       "    <tr style=\"text-align: right;\">\n",
       "      <th></th>\n",
       "      <th>time</th>\n",
       "      <th>base_loss</th>\n",
       "      <th>csv_train</th>\n",
       "      <th>exp</th>\n",
       "      <th>lambd</th>\n",
       "      <th>load_checkpoint</th>\n",
       "      <th>lr</th>\n",
       "      <th>metric</th>\n",
       "      <th>model_name</th>\n",
       "      <th>n_classes</th>\n",
       "      <th>n_epochs</th>\n",
       "      <th>patience</th>\n",
       "      <th>auc</th>\n",
       "      <th>auc_q</th>\n",
       "      <th>vl_acc_f</th>\n",
       "      <th>vl_auc_a</th>\n",
       "      <th>vl_auc_c</th>\n",
       "    </tr>\n",
       "  </thead>\n",
       "  <tbody>\n",
       "    <tr>\n",
       "      <th>20</th>\n",
       "      <td>1:00:28</td>\n",
       "      <td>ce</td>\n",
       "      <td>train_all_qualities_1.csv</td>\n",
       "      <td>1.0</td>\n",
       "      <td>0.0</td>\n",
       "      <td>False</td>\n",
       "      <td>0.0001</td>\n",
       "      <td>auc</td>\n",
       "      <td>resnext50_sws</td>\n",
       "      <td>18.0</td>\n",
       "      <td>200.0</td>\n",
       "      <td>10.0</td>\n",
       "      <td>0.857078</td>\n",
       "      <td>NaN</td>\n",
       "      <td>NaN</td>\n",
       "      <td>NaN</td>\n",
       "      <td>NaN</td>\n",
       "    </tr>\n",
       "    <tr>\n",
       "      <th>21</th>\n",
       "      <td>0:23:43</td>\n",
       "      <td>ce</td>\n",
       "      <td>train_all_qualities_1.csv</td>\n",
       "      <td>1.0</td>\n",
       "      <td>0.0</td>\n",
       "      <td>False</td>\n",
       "      <td>0.0001</td>\n",
       "      <td>auc</td>\n",
       "      <td>resnet50_sws</td>\n",
       "      <td>18.0</td>\n",
       "      <td>200.0</td>\n",
       "      <td>10.0</td>\n",
       "      <td>0.856412</td>\n",
       "      <td>NaN</td>\n",
       "      <td>NaN</td>\n",
       "      <td>NaN</td>\n",
       "      <td>NaN</td>\n",
       "    </tr>\n",
       "    <tr>\n",
       "      <th>42</th>\n",
       "      <td>1:11:20</td>\n",
       "      <td>ce</td>\n",
       "      <td>train_all_qualities_1.csv</td>\n",
       "      <td>1.0</td>\n",
       "      <td>0.0</td>\n",
       "      <td>False</td>\n",
       "      <td>0.0001</td>\n",
       "      <td>auc</td>\n",
       "      <td>resnet50</td>\n",
       "      <td>18.0</td>\n",
       "      <td>200.0</td>\n",
       "      <td>10.0</td>\n",
       "      <td>0.855885</td>\n",
       "      <td>NaN</td>\n",
       "      <td>NaN</td>\n",
       "      <td>NaN</td>\n",
       "      <td>NaN</td>\n",
       "    </tr>\n",
       "    <tr>\n",
       "      <th>5</th>\n",
       "      <td>0:51:55</td>\n",
       "      <td>focal_loss</td>\n",
       "      <td>train_all_qualities_1.csv</td>\n",
       "      <td>1.0</td>\n",
       "      <td>0.0</td>\n",
       "      <td>False</td>\n",
       "      <td>0.0001</td>\n",
       "      <td>auc</td>\n",
       "      <td>resnext50_sws</td>\n",
       "      <td>18.0</td>\n",
       "      <td>200.0</td>\n",
       "      <td>10.0</td>\n",
       "      <td>0.854342</td>\n",
       "      <td>0.826459</td>\n",
       "      <td>0.695761</td>\n",
       "      <td>0.885399</td>\n",
       "      <td>0.878089</td>\n",
       "    </tr>\n",
       "    <tr>\n",
       "      <th>31</th>\n",
       "      <td>0:52:18</td>\n",
       "      <td>focal_loss</td>\n",
       "      <td>train_all_qualities_1.csv</td>\n",
       "      <td>1.0</td>\n",
       "      <td>0.0</td>\n",
       "      <td>False</td>\n",
       "      <td>0.0001</td>\n",
       "      <td>auc</td>\n",
       "      <td>resnext50_sws</td>\n",
       "      <td>18.0</td>\n",
       "      <td>200.0</td>\n",
       "      <td>10.0</td>\n",
       "      <td>0.854342</td>\n",
       "      <td>NaN</td>\n",
       "      <td>NaN</td>\n",
       "      <td>NaN</td>\n",
       "      <td>NaN</td>\n",
       "    </tr>\n",
       "  </tbody>\n",
       "</table>\n",
       "</div>"
      ],
      "text/plain": [
       "       time   base_loss                  csv_train  exp  lambd  \\\n",
       "20  1:00:28          ce  train_all_qualities_1.csv  1.0    0.0   \n",
       "21  0:23:43          ce  train_all_qualities_1.csv  1.0    0.0   \n",
       "42  1:11:20          ce  train_all_qualities_1.csv  1.0    0.0   \n",
       "5   0:51:55  focal_loss  train_all_qualities_1.csv  1.0    0.0   \n",
       "31  0:52:18  focal_loss  train_all_qualities_1.csv  1.0    0.0   \n",
       "\n",
       "   load_checkpoint      lr metric     model_name  n_classes  n_epochs  \\\n",
       "20           False  0.0001    auc  resnext50_sws       18.0     200.0   \n",
       "21           False  0.0001    auc   resnet50_sws       18.0     200.0   \n",
       "42           False  0.0001    auc       resnet50       18.0     200.0   \n",
       "5            False  0.0001    auc  resnext50_sws       18.0     200.0   \n",
       "31           False  0.0001    auc  resnext50_sws       18.0     200.0   \n",
       "\n",
       "    patience       auc     auc_q  vl_acc_f  vl_auc_a  vl_auc_c  \n",
       "20      10.0  0.857078       NaN       NaN       NaN       NaN  \n",
       "21      10.0  0.856412       NaN       NaN       NaN       NaN  \n",
       "42      10.0  0.855885       NaN       NaN       NaN       NaN  \n",
       "5       10.0  0.854342  0.826459  0.695761  0.885399  0.878089  \n",
       "31      10.0  0.854342       NaN       NaN       NaN       NaN  "
      ]
     },
     "execution_count": 29,
     "metadata": {},
     "output_type": "execute_result"
    }
   ],
   "source": [
    "df_train1.sort_values('auc', ascending=False).head(5)"
   ]
  },
  {
   "cell_type": "markdown",
   "metadata": {},
   "source": [
    "#### Best models this fold:    --> TRAINING"
   ]
  },
  {
   "cell_type": "markdown",
   "metadata": {},
   "source": [
    "python train_multi_task.py --csv_train train_all_qualities_1.csv --base_loss ce --exp 1 --lambd 0 --load_checkpoint no --metric auc --model_name resnext50_sws --n_classes 18 --n_epochs 200 --patience 10 --oversample 1/1/1/1/1/1/1/1/1/1/1/1/1/1/1/1/1/1 --save_model True --save_path best_quality_MT_f1 "
   ]
  },
  {
   "cell_type": "markdown",
   "metadata": {},
   "source": [
    "### Second fold"
   ]
  },
  {
   "cell_type": "code",
   "execution_count": 30,
   "metadata": {},
   "outputs": [
    {
     "data": {
      "text/html": [
       "<div>\n",
       "<style scoped>\n",
       "    .dataframe tbody tr th:only-of-type {\n",
       "        vertical-align: middle;\n",
       "    }\n",
       "\n",
       "    .dataframe tbody tr th {\n",
       "        vertical-align: top;\n",
       "    }\n",
       "\n",
       "    .dataframe thead th {\n",
       "        text-align: right;\n",
       "    }\n",
       "</style>\n",
       "<table border=\"1\" class=\"dataframe\">\n",
       "  <thead>\n",
       "    <tr style=\"text-align: right;\">\n",
       "      <th></th>\n",
       "      <th>time</th>\n",
       "      <th>base_loss</th>\n",
       "      <th>csv_train</th>\n",
       "      <th>exp</th>\n",
       "      <th>lambd</th>\n",
       "      <th>load_checkpoint</th>\n",
       "      <th>lr</th>\n",
       "      <th>metric</th>\n",
       "      <th>model_name</th>\n",
       "      <th>n_classes</th>\n",
       "      <th>n_epochs</th>\n",
       "      <th>patience</th>\n",
       "      <th>auc</th>\n",
       "      <th>auc_q</th>\n",
       "      <th>vl_acc_f</th>\n",
       "      <th>vl_auc_a</th>\n",
       "      <th>vl_auc_c</th>\n",
       "    </tr>\n",
       "  </thead>\n",
       "  <tbody>\n",
       "    <tr>\n",
       "      <th>2</th>\n",
       "      <td>0:55:36</td>\n",
       "      <td>focal_loss</td>\n",
       "      <td>train_all_qualities_2.csv</td>\n",
       "      <td>1.0</td>\n",
       "      <td>0.0</td>\n",
       "      <td>False</td>\n",
       "      <td>0.0001</td>\n",
       "      <td>auc</td>\n",
       "      <td>resnext50_sws</td>\n",
       "      <td>18.0</td>\n",
       "      <td>200.0</td>\n",
       "      <td>10.0</td>\n",
       "      <td>0.837494</td>\n",
       "      <td>0.797641</td>\n",
       "      <td>0.67581</td>\n",
       "      <td>0.875099</td>\n",
       "      <td>0.876847</td>\n",
       "    </tr>\n",
       "    <tr>\n",
       "      <th>28</th>\n",
       "      <td>0:55:56</td>\n",
       "      <td>focal_loss</td>\n",
       "      <td>train_all_qualities_2.csv</td>\n",
       "      <td>1.0</td>\n",
       "      <td>0.0</td>\n",
       "      <td>False</td>\n",
       "      <td>0.0001</td>\n",
       "      <td>auc</td>\n",
       "      <td>resnext50_sws</td>\n",
       "      <td>18.0</td>\n",
       "      <td>200.0</td>\n",
       "      <td>10.0</td>\n",
       "      <td>0.837494</td>\n",
       "      <td>NaN</td>\n",
       "      <td>NaN</td>\n",
       "      <td>NaN</td>\n",
       "      <td>NaN</td>\n",
       "    </tr>\n",
       "    <tr>\n",
       "      <th>18</th>\n",
       "      <td>0:43:42</td>\n",
       "      <td>ce</td>\n",
       "      <td>train_all_qualities_2.csv</td>\n",
       "      <td>1.0</td>\n",
       "      <td>0.0</td>\n",
       "      <td>False</td>\n",
       "      <td>0.0001</td>\n",
       "      <td>auc</td>\n",
       "      <td>resnext50_sws</td>\n",
       "      <td>18.0</td>\n",
       "      <td>200.0</td>\n",
       "      <td>10.0</td>\n",
       "      <td>0.836756</td>\n",
       "      <td>NaN</td>\n",
       "      <td>NaN</td>\n",
       "      <td>NaN</td>\n",
       "      <td>NaN</td>\n",
       "    </tr>\n",
       "    <tr>\n",
       "      <th>19</th>\n",
       "      <td>0:21:07</td>\n",
       "      <td>ce</td>\n",
       "      <td>train_all_qualities_2.csv</td>\n",
       "      <td>1.0</td>\n",
       "      <td>0.0</td>\n",
       "      <td>False</td>\n",
       "      <td>0.0001</td>\n",
       "      <td>auc</td>\n",
       "      <td>resnet50_sws</td>\n",
       "      <td>18.0</td>\n",
       "      <td>200.0</td>\n",
       "      <td>10.0</td>\n",
       "      <td>0.836544</td>\n",
       "      <td>NaN</td>\n",
       "      <td>NaN</td>\n",
       "      <td>NaN</td>\n",
       "      <td>NaN</td>\n",
       "    </tr>\n",
       "    <tr>\n",
       "      <th>39</th>\n",
       "      <td>1:13:49</td>\n",
       "      <td>ce</td>\n",
       "      <td>train_all_qualities_2.csv</td>\n",
       "      <td>1.0</td>\n",
       "      <td>0.0</td>\n",
       "      <td>False</td>\n",
       "      <td>0.0001</td>\n",
       "      <td>auc</td>\n",
       "      <td>resnext50</td>\n",
       "      <td>18.0</td>\n",
       "      <td>200.0</td>\n",
       "      <td>10.0</td>\n",
       "      <td>0.835901</td>\n",
       "      <td>NaN</td>\n",
       "      <td>NaN</td>\n",
       "      <td>NaN</td>\n",
       "      <td>NaN</td>\n",
       "    </tr>\n",
       "  </tbody>\n",
       "</table>\n",
       "</div>"
      ],
      "text/plain": [
       "       time   base_loss                  csv_train  exp  lambd  \\\n",
       "2   0:55:36  focal_loss  train_all_qualities_2.csv  1.0    0.0   \n",
       "28  0:55:56  focal_loss  train_all_qualities_2.csv  1.0    0.0   \n",
       "18  0:43:42          ce  train_all_qualities_2.csv  1.0    0.0   \n",
       "19  0:21:07          ce  train_all_qualities_2.csv  1.0    0.0   \n",
       "39  1:13:49          ce  train_all_qualities_2.csv  1.0    0.0   \n",
       "\n",
       "   load_checkpoint      lr metric     model_name  n_classes  n_epochs  \\\n",
       "2            False  0.0001    auc  resnext50_sws       18.0     200.0   \n",
       "28           False  0.0001    auc  resnext50_sws       18.0     200.0   \n",
       "18           False  0.0001    auc  resnext50_sws       18.0     200.0   \n",
       "19           False  0.0001    auc   resnet50_sws       18.0     200.0   \n",
       "39           False  0.0001    auc      resnext50       18.0     200.0   \n",
       "\n",
       "    patience       auc     auc_q  vl_acc_f  vl_auc_a  vl_auc_c  \n",
       "2       10.0  0.837494  0.797641   0.67581  0.875099  0.876847  \n",
       "28      10.0  0.837494       NaN       NaN       NaN       NaN  \n",
       "18      10.0  0.836756       NaN       NaN       NaN       NaN  \n",
       "19      10.0  0.836544       NaN       NaN       NaN       NaN  \n",
       "39      10.0  0.835901       NaN       NaN       NaN       NaN  "
      ]
     },
     "execution_count": 30,
     "metadata": {},
     "output_type": "execute_result"
    }
   ],
   "source": [
    "df_train2.sort_values('auc', ascending=False).head(5)"
   ]
  },
  {
   "cell_type": "markdown",
   "metadata": {},
   "source": [
    "#### Best models this fold:"
   ]
  },
  {
   "cell_type": "markdown",
   "metadata": {},
   "source": [
    "python train_multi_task.py --csv_train train_all_qualities_2.csv --base_loss focal_loss --exp 1 --lambd 0 --load_checkpoint no --metric auc --model_name resnext50_sws --n_classes 18 --n_epochs 200 --patience 10 --oversample 1/1/1/1/1/1/1/1/1/1/1/1/1/1/1/1/1/1 --save_model True --save_path best_quality_MT_f2 "
   ]
  },
  {
   "cell_type": "markdown",
   "metadata": {},
   "source": [
    "### Third fold"
   ]
  },
  {
   "cell_type": "code",
   "execution_count": 31,
   "metadata": {},
   "outputs": [
    {
     "data": {
      "text/html": [
       "<div>\n",
       "<style scoped>\n",
       "    .dataframe tbody tr th:only-of-type {\n",
       "        vertical-align: middle;\n",
       "    }\n",
       "\n",
       "    .dataframe tbody tr th {\n",
       "        vertical-align: top;\n",
       "    }\n",
       "\n",
       "    .dataframe thead th {\n",
       "        text-align: right;\n",
       "    }\n",
       "</style>\n",
       "<table border=\"1\" class=\"dataframe\">\n",
       "  <thead>\n",
       "    <tr style=\"text-align: right;\">\n",
       "      <th></th>\n",
       "      <th>time</th>\n",
       "      <th>base_loss</th>\n",
       "      <th>csv_train</th>\n",
       "      <th>exp</th>\n",
       "      <th>lambd</th>\n",
       "      <th>load_checkpoint</th>\n",
       "      <th>lr</th>\n",
       "      <th>metric</th>\n",
       "      <th>model_name</th>\n",
       "      <th>n_classes</th>\n",
       "      <th>n_epochs</th>\n",
       "      <th>patience</th>\n",
       "      <th>auc</th>\n",
       "      <th>auc_q</th>\n",
       "      <th>vl_acc_f</th>\n",
       "      <th>vl_auc_a</th>\n",
       "      <th>vl_auc_c</th>\n",
       "    </tr>\n",
       "  </thead>\n",
       "  <tbody>\n",
       "    <tr>\n",
       "      <th>26</th>\n",
       "      <td>0:49:49</td>\n",
       "      <td>focal_loss</td>\n",
       "      <td>train_all_qualities_3.csv</td>\n",
       "      <td>1.0</td>\n",
       "      <td>0.0</td>\n",
       "      <td>False</td>\n",
       "      <td>0.0001</td>\n",
       "      <td>auc</td>\n",
       "      <td>resnet50_sws</td>\n",
       "      <td>18.0</td>\n",
       "      <td>200.0</td>\n",
       "      <td>10.0</td>\n",
       "      <td>0.844817</td>\n",
       "      <td>NaN</td>\n",
       "      <td>NaN</td>\n",
       "      <td>NaN</td>\n",
       "      <td>NaN</td>\n",
       "    </tr>\n",
       "    <tr>\n",
       "      <th>37</th>\n",
       "      <td>0:25:57</td>\n",
       "      <td>ce</td>\n",
       "      <td>train_all_qualities_3.csv</td>\n",
       "      <td>1.0</td>\n",
       "      <td>0.0</td>\n",
       "      <td>False</td>\n",
       "      <td>0.0001</td>\n",
       "      <td>auc</td>\n",
       "      <td>resnet50_sws</td>\n",
       "      <td>18.0</td>\n",
       "      <td>200.0</td>\n",
       "      <td>10.0</td>\n",
       "      <td>0.841322</td>\n",
       "      <td>NaN</td>\n",
       "      <td>NaN</td>\n",
       "      <td>NaN</td>\n",
       "      <td>NaN</td>\n",
       "    </tr>\n",
       "    <tr>\n",
       "      <th>13</th>\n",
       "      <td>0:50:10</td>\n",
       "      <td>ce</td>\n",
       "      <td>train_all_qualities_3.csv</td>\n",
       "      <td>1.0</td>\n",
       "      <td>0.0</td>\n",
       "      <td>False</td>\n",
       "      <td>0.0001</td>\n",
       "      <td>auc</td>\n",
       "      <td>resnext50_sws</td>\n",
       "      <td>18.0</td>\n",
       "      <td>200.0</td>\n",
       "      <td>10.0</td>\n",
       "      <td>0.839329</td>\n",
       "      <td>0.797491</td>\n",
       "      <td>0.677582</td>\n",
       "      <td>0.883787</td>\n",
       "      <td>0.855607</td>\n",
       "    </tr>\n",
       "    <tr>\n",
       "      <th>25</th>\n",
       "      <td>2:42:20</td>\n",
       "      <td>focal_loss</td>\n",
       "      <td>train_all_qualities_3.csv</td>\n",
       "      <td>1.0</td>\n",
       "      <td>0.0</td>\n",
       "      <td>False</td>\n",
       "      <td>0.0001</td>\n",
       "      <td>auc</td>\n",
       "      <td>resnext50</td>\n",
       "      <td>18.0</td>\n",
       "      <td>200.0</td>\n",
       "      <td>10.0</td>\n",
       "      <td>0.838645</td>\n",
       "      <td>NaN</td>\n",
       "      <td>NaN</td>\n",
       "      <td>NaN</td>\n",
       "      <td>NaN</td>\n",
       "    </tr>\n",
       "    <tr>\n",
       "      <th>36</th>\n",
       "      <td>1:29:53</td>\n",
       "      <td>ce</td>\n",
       "      <td>train_all_qualities_3.csv</td>\n",
       "      <td>1.0</td>\n",
       "      <td>0.0</td>\n",
       "      <td>False</td>\n",
       "      <td>0.0001</td>\n",
       "      <td>auc</td>\n",
       "      <td>resnext50</td>\n",
       "      <td>18.0</td>\n",
       "      <td>200.0</td>\n",
       "      <td>10.0</td>\n",
       "      <td>0.838528</td>\n",
       "      <td>NaN</td>\n",
       "      <td>NaN</td>\n",
       "      <td>NaN</td>\n",
       "      <td>NaN</td>\n",
       "    </tr>\n",
       "  </tbody>\n",
       "</table>\n",
       "</div>"
      ],
      "text/plain": [
       "       time   base_loss                  csv_train  exp  lambd  \\\n",
       "26  0:49:49  focal_loss  train_all_qualities_3.csv  1.0    0.0   \n",
       "37  0:25:57          ce  train_all_qualities_3.csv  1.0    0.0   \n",
       "13  0:50:10          ce  train_all_qualities_3.csv  1.0    0.0   \n",
       "25  2:42:20  focal_loss  train_all_qualities_3.csv  1.0    0.0   \n",
       "36  1:29:53          ce  train_all_qualities_3.csv  1.0    0.0   \n",
       "\n",
       "   load_checkpoint      lr metric     model_name  n_classes  n_epochs  \\\n",
       "26           False  0.0001    auc   resnet50_sws       18.0     200.0   \n",
       "37           False  0.0001    auc   resnet50_sws       18.0     200.0   \n",
       "13           False  0.0001    auc  resnext50_sws       18.0     200.0   \n",
       "25           False  0.0001    auc      resnext50       18.0     200.0   \n",
       "36           False  0.0001    auc      resnext50       18.0     200.0   \n",
       "\n",
       "    patience       auc     auc_q  vl_acc_f  vl_auc_a  vl_auc_c  \n",
       "26      10.0  0.844817       NaN       NaN       NaN       NaN  \n",
       "37      10.0  0.841322       NaN       NaN       NaN       NaN  \n",
       "13      10.0  0.839329  0.797491  0.677582  0.883787  0.855607  \n",
       "25      10.0  0.838645       NaN       NaN       NaN       NaN  \n",
       "36      10.0  0.838528       NaN       NaN       NaN       NaN  "
      ]
     },
     "execution_count": 31,
     "metadata": {},
     "output_type": "execute_result"
    }
   ],
   "source": [
    "df_train3.sort_values('auc', ascending=False).head(5)"
   ]
  },
  {
   "cell_type": "markdown",
   "metadata": {},
   "source": [
    "#### Best models this fold:"
   ]
  },
  {
   "cell_type": "markdown",
   "metadata": {},
   "source": [
    "python train_multi_task.py --csv_train train_all_qualities_3.csv --base_loss focal_loss --exp 1 --lambd 0 --load_checkpoint no --metric auc --model_name resnet50_sws --n_classes 18 --n_epochs 200 --patience 10 --oversample 1/1/1/1/1/1/1/1/1/1/1/1/1/1/1/1/1/1 --save_model True --save_path best_quality_MT_f3  "
   ]
  },
  {
   "cell_type": "markdown",
   "metadata": {},
   "source": [
    "### Fourth fold"
   ]
  },
  {
   "cell_type": "code",
   "execution_count": 32,
   "metadata": {},
   "outputs": [
    {
     "data": {
      "text/html": [
       "<div>\n",
       "<style scoped>\n",
       "    .dataframe tbody tr th:only-of-type {\n",
       "        vertical-align: middle;\n",
       "    }\n",
       "\n",
       "    .dataframe tbody tr th {\n",
       "        vertical-align: top;\n",
       "    }\n",
       "\n",
       "    .dataframe thead th {\n",
       "        text-align: right;\n",
       "    }\n",
       "</style>\n",
       "<table border=\"1\" class=\"dataframe\">\n",
       "  <thead>\n",
       "    <tr style=\"text-align: right;\">\n",
       "      <th></th>\n",
       "      <th>time</th>\n",
       "      <th>base_loss</th>\n",
       "      <th>csv_train</th>\n",
       "      <th>exp</th>\n",
       "      <th>lambd</th>\n",
       "      <th>load_checkpoint</th>\n",
       "      <th>lr</th>\n",
       "      <th>metric</th>\n",
       "      <th>model_name</th>\n",
       "      <th>n_classes</th>\n",
       "      <th>n_epochs</th>\n",
       "      <th>patience</th>\n",
       "      <th>auc</th>\n",
       "      <th>auc_q</th>\n",
       "      <th>vl_acc_f</th>\n",
       "      <th>vl_auc_a</th>\n",
       "      <th>vl_auc_c</th>\n",
       "    </tr>\n",
       "  </thead>\n",
       "  <tbody>\n",
       "    <tr>\n",
       "      <th>35</th>\n",
       "      <td>0:51:04</td>\n",
       "      <td>ce</td>\n",
       "      <td>train_all_qualities_4.csv</td>\n",
       "      <td>1.0</td>\n",
       "      <td>0.0</td>\n",
       "      <td>False</td>\n",
       "      <td>0.0001</td>\n",
       "      <td>auc</td>\n",
       "      <td>resnet50</td>\n",
       "      <td>18.0</td>\n",
       "      <td>200.0</td>\n",
       "      <td>10.0</td>\n",
       "      <td>0.834613</td>\n",
       "      <td>NaN</td>\n",
       "      <td>NaN</td>\n",
       "      <td>NaN</td>\n",
       "      <td>NaN</td>\n",
       "    </tr>\n",
       "    <tr>\n",
       "      <th>33</th>\n",
       "      <td>0:29:53</td>\n",
       "      <td>ce</td>\n",
       "      <td>train_all_qualities_4.csv</td>\n",
       "      <td>1.0</td>\n",
       "      <td>0.0</td>\n",
       "      <td>False</td>\n",
       "      <td>0.0001</td>\n",
       "      <td>auc</td>\n",
       "      <td>resnext50_sws</td>\n",
       "      <td>18.0</td>\n",
       "      <td>200.0</td>\n",
       "      <td>10.0</td>\n",
       "      <td>0.827634</td>\n",
       "      <td>NaN</td>\n",
       "      <td>NaN</td>\n",
       "      <td>NaN</td>\n",
       "      <td>NaN</td>\n",
       "    </tr>\n",
       "    <tr>\n",
       "      <th>15</th>\n",
       "      <td>1:01:15</td>\n",
       "      <td>ce</td>\n",
       "      <td>train_all_qualities_4.csv</td>\n",
       "      <td>1.0</td>\n",
       "      <td>0.0</td>\n",
       "      <td>False</td>\n",
       "      <td>0.0001</td>\n",
       "      <td>auc</td>\n",
       "      <td>resnext50</td>\n",
       "      <td>18.0</td>\n",
       "      <td>200.0</td>\n",
       "      <td>10.0</td>\n",
       "      <td>0.824425</td>\n",
       "      <td>0.8158</td>\n",
       "      <td>0.76</td>\n",
       "      <td>0.856401</td>\n",
       "      <td>0.829121</td>\n",
       "    </tr>\n",
       "    <tr>\n",
       "      <th>34</th>\n",
       "      <td>0:17:43</td>\n",
       "      <td>ce</td>\n",
       "      <td>train_all_qualities_4.csv</td>\n",
       "      <td>1.0</td>\n",
       "      <td>0.0</td>\n",
       "      <td>False</td>\n",
       "      <td>0.0001</td>\n",
       "      <td>auc</td>\n",
       "      <td>resnet50_sws</td>\n",
       "      <td>18.0</td>\n",
       "      <td>200.0</td>\n",
       "      <td>10.0</td>\n",
       "      <td>0.823935</td>\n",
       "      <td>NaN</td>\n",
       "      <td>NaN</td>\n",
       "      <td>NaN</td>\n",
       "      <td>NaN</td>\n",
       "    </tr>\n",
       "    <tr>\n",
       "      <th>24</th>\n",
       "      <td>0:36:06</td>\n",
       "      <td>focal_loss</td>\n",
       "      <td>train_all_qualities_4.csv</td>\n",
       "      <td>1.0</td>\n",
       "      <td>0.0</td>\n",
       "      <td>False</td>\n",
       "      <td>0.0001</td>\n",
       "      <td>auc</td>\n",
       "      <td>resnet50_sws</td>\n",
       "      <td>18.0</td>\n",
       "      <td>200.0</td>\n",
       "      <td>10.0</td>\n",
       "      <td>0.823548</td>\n",
       "      <td>NaN</td>\n",
       "      <td>NaN</td>\n",
       "      <td>NaN</td>\n",
       "      <td>NaN</td>\n",
       "    </tr>\n",
       "  </tbody>\n",
       "</table>\n",
       "</div>"
      ],
      "text/plain": [
       "       time   base_loss                  csv_train  exp  lambd  \\\n",
       "35  0:51:04          ce  train_all_qualities_4.csv  1.0    0.0   \n",
       "33  0:29:53          ce  train_all_qualities_4.csv  1.0    0.0   \n",
       "15  1:01:15          ce  train_all_qualities_4.csv  1.0    0.0   \n",
       "34  0:17:43          ce  train_all_qualities_4.csv  1.0    0.0   \n",
       "24  0:36:06  focal_loss  train_all_qualities_4.csv  1.0    0.0   \n",
       "\n",
       "   load_checkpoint      lr metric     model_name  n_classes  n_epochs  \\\n",
       "35           False  0.0001    auc       resnet50       18.0     200.0   \n",
       "33           False  0.0001    auc  resnext50_sws       18.0     200.0   \n",
       "15           False  0.0001    auc      resnext50       18.0     200.0   \n",
       "34           False  0.0001    auc   resnet50_sws       18.0     200.0   \n",
       "24           False  0.0001    auc   resnet50_sws       18.0     200.0   \n",
       "\n",
       "    patience       auc   auc_q  vl_acc_f  vl_auc_a  vl_auc_c  \n",
       "35      10.0  0.834613     NaN       NaN       NaN       NaN  \n",
       "33      10.0  0.827634     NaN       NaN       NaN       NaN  \n",
       "15      10.0  0.824425  0.8158      0.76  0.856401  0.829121  \n",
       "34      10.0  0.823935     NaN       NaN       NaN       NaN  \n",
       "24      10.0  0.823548     NaN       NaN       NaN       NaN  "
      ]
     },
     "execution_count": 32,
     "metadata": {},
     "output_type": "execute_result"
    }
   ],
   "source": [
    "df_train4.sort_values('auc', ascending=False).head(5)"
   ]
  },
  {
   "cell_type": "markdown",
   "metadata": {},
   "source": [
    "#### Best models this fold:"
   ]
  },
  {
   "cell_type": "markdown",
   "metadata": {},
   "source": [
    "python train_multi_task.py --csv_train train_all_qualities_4.csv --base_loss ce --exp 1 --lambd 0 --load_checkpoint no --metric auc --model_name resnet50 --n_classes 18 --n_epochs 200 --patience 10 --oversample 1/1/1/1/1/1/1/1/1/1/1/1/1/1/1/1/1/1 --save_model True --save_path best_quality_MT_f4  "
   ]
  },
  {
   "cell_type": "markdown",
   "metadata": {},
   "source": [
    "## Overall Quality"
   ]
  },
  {
   "cell_type": "code",
   "execution_count": 26,
   "metadata": {},
   "outputs": [],
   "source": [
    "df_all = pd.read_csv('results_multi_split_q.csv')"
   ]
  },
  {
   "cell_type": "code",
   "execution_count": 27,
   "metadata": {},
   "outputs": [
    {
     "data": {
      "text/plain": [
       "Index(['time', 'base_loss', 'csv_train', 'exp', 'lambd', 'load_checkpoint',\n",
       "       'lr', 'metric', 'model_name', 'n_classes', 'n_epochs', 'patience',\n",
       "       'auc', 'auc_q', 'vl_acc_f', 'vl_auc_a', 'vl_auc_c'],\n",
       "      dtype='object')"
      ]
     },
     "execution_count": 27,
     "metadata": {},
     "output_type": "execute_result"
    }
   ],
   "source": [
    "df_all = df_all.drop(['run', 'operation', 'started',  'status', 'label', 'batch_size', 'decay_f', \n",
    "        'optimizer', 'pretrained', 'save_model', 'step', 'oversample'], axis=1)\n",
    "df_all.columns"
   ]
  },
  {
   "cell_type": "code",
   "execution_count": 28,
   "metadata": {},
   "outputs": [],
   "source": [
    "df_train1 = df_all[df_all.csv_train=='train_q_1.csv']\n",
    "df_train2 = df_all[df_all.csv_train=='train_q_2.csv']\n",
    "df_train3 = df_all[df_all.csv_train=='train_q_3.csv']\n",
    "df_train4 = df_all[df_all.csv_train=='train_q_4.csv']"
   ]
  },
  {
   "cell_type": "code",
   "execution_count": null,
   "metadata": {},
   "outputs": [],
   "source": []
  },
  {
   "cell_type": "code",
   "execution_count": null,
   "metadata": {},
   "outputs": [],
   "source": []
  },
  {
   "cell_type": "markdown",
   "metadata": {},
   "source": [
    "## Clarity"
   ]
  },
  {
   "cell_type": "code",
   "execution_count": 26,
   "metadata": {},
   "outputs": [],
   "source": [
    "df_all = pd.read_csv('results_multi_split_clarity.csv')"
   ]
  },
  {
   "cell_type": "code",
   "execution_count": 27,
   "metadata": {},
   "outputs": [
    {
     "data": {
      "text/plain": [
       "Index(['time', 'base_loss', 'csv_train', 'exp', 'lambd', 'load_checkpoint',\n",
       "       'lr', 'metric', 'model_name', 'n_classes', 'n_epochs', 'patience',\n",
       "       'auc', 'auc_q', 'vl_acc_f', 'vl_auc_a', 'vl_auc_c'],\n",
       "      dtype='object')"
      ]
     },
     "execution_count": 27,
     "metadata": {},
     "output_type": "execute_result"
    }
   ],
   "source": [
    "df_all = df_all.drop(['run', 'operation', 'started',  'status', 'label', 'batch_size', 'decay_f', \n",
    "        'optimizer', 'pretrained', 'save_model', 'step', 'oversample'], axis=1)\n",
    "df_all.columns"
   ]
  },
  {
   "cell_type": "code",
   "execution_count": 28,
   "metadata": {},
   "outputs": [],
   "source": [
    "df_train1 = df_all[df_all.csv_train=='train_clarity_1.csv']\n",
    "df_train2 = df_all[df_all.csv_train=='train_clarity_2.csv']\n",
    "df_train3 = df_all[df_all.csv_train=='train_clarity_3.csv']\n",
    "df_train4 = df_all[df_all.csv_train=='train_clarity_4.csv']"
   ]
  },
  {
   "cell_type": "code",
   "execution_count": null,
   "metadata": {},
   "outputs": [],
   "source": []
  },
  {
   "cell_type": "code",
   "execution_count": null,
   "metadata": {},
   "outputs": [],
   "source": []
  },
  {
   "cell_type": "markdown",
   "metadata": {},
   "source": [
    "## Artifact"
   ]
  },
  {
   "cell_type": "code",
   "execution_count": 26,
   "metadata": {},
   "outputs": [],
   "source": [
    "df_all = pd.read_csv('results_multi_split_artifact.csv')"
   ]
  },
  {
   "cell_type": "code",
   "execution_count": 27,
   "metadata": {},
   "outputs": [
    {
     "data": {
      "text/plain": [
       "Index(['time', 'base_loss', 'csv_train', 'exp', 'lambd', 'load_checkpoint',\n",
       "       'lr', 'metric', 'model_name', 'n_classes', 'n_epochs', 'patience',\n",
       "       'auc', 'auc_q', 'vl_acc_f', 'vl_auc_a', 'vl_auc_c'],\n",
       "      dtype='object')"
      ]
     },
     "execution_count": 27,
     "metadata": {},
     "output_type": "execute_result"
    }
   ],
   "source": [
    "df_all = df_all.drop(['run', 'operation', 'started',  'status', 'label', 'batch_size', 'decay_f', \n",
    "        'optimizer', 'pretrained', 'save_model', 'step', 'oversample'], axis=1)\n",
    "df_all.columns"
   ]
  },
  {
   "cell_type": "code",
   "execution_count": 28,
   "metadata": {},
   "outputs": [],
   "source": [
    "df_train1 = df_all[df_all.csv_train=='train_artifact_1.csv']\n",
    "df_train2 = df_all[df_all.csv_train=='train_artifact_2.csv']\n",
    "df_train3 = df_all[df_all.csv_train=='train_artifact_3.csv']\n",
    "df_train4 = df_all[df_all.csv_train=='train_artifact_4.csv']"
   ]
  },
  {
   "cell_type": "code",
   "execution_count": null,
   "metadata": {},
   "outputs": [],
   "source": []
  },
  {
   "cell_type": "code",
   "execution_count": null,
   "metadata": {},
   "outputs": [],
   "source": []
  },
  {
   "cell_type": "markdown",
   "metadata": {},
   "source": [
    "## Field Def"
   ]
  },
  {
   "cell_type": "code",
   "execution_count": 26,
   "metadata": {},
   "outputs": [],
   "source": [
    "df_all = pd.read_csv('results_multi_split_field_def.csv')"
   ]
  },
  {
   "cell_type": "code",
   "execution_count": 27,
   "metadata": {},
   "outputs": [
    {
     "data": {
      "text/plain": [
       "Index(['time', 'base_loss', 'csv_train', 'exp', 'lambd', 'load_checkpoint',\n",
       "       'lr', 'metric', 'model_name', 'n_classes', 'n_epochs', 'patience',\n",
       "       'auc', 'auc_q', 'vl_acc_f', 'vl_auc_a', 'vl_auc_c'],\n",
       "      dtype='object')"
      ]
     },
     "execution_count": 27,
     "metadata": {},
     "output_type": "execute_result"
    }
   ],
   "source": [
    "df_all = df_all.drop(['run', 'operation', 'started',  'status', 'label', 'batch_size', 'decay_f', \n",
    "        'optimizer', 'pretrained', 'save_model', 'step', 'oversample'], axis=1)\n",
    "df_all.columns"
   ]
  },
  {
   "cell_type": "code",
   "execution_count": 28,
   "metadata": {},
   "outputs": [],
   "source": [
    "df_train1 = df_all[df_all.csv_train=='train_field_def_1.csv']\n",
    "df_train2 = df_all[df_all.csv_train=='train_field_def_2.csv']\n",
    "df_train3 = df_all[df_all.csv_train=='train_field_def_3.csv']\n",
    "df_train4 = df_all[df_all.csv_train=='train_field_def_4.csv']"
   ]
  },
  {
   "cell_type": "code",
   "execution_count": null,
   "metadata": {},
   "outputs": [],
   "source": []
  },
  {
   "cell_type": "code",
   "execution_count": null,
   "metadata": {},
   "outputs": [],
   "source": []
  }
 ],
 "metadata": {
  "kernelspec": {
   "display_name": "vessels",
   "language": "python",
   "name": "build_central"
  },
  "language_info": {
   "codemirror_mode": {
    "name": "ipython",
    "version": 3
   },
   "file_extension": ".py",
   "mimetype": "text/x-python",
   "name": "python",
   "nbconvert_exporter": "python",
   "pygments_lexer": "ipython3",
   "version": "3.7.6"
  }
 },
 "nbformat": 4,
 "nbformat_minor": 4
}
