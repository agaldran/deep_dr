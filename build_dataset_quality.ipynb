{
 "cells": [
  {
   "cell_type": "code",
   "execution_count": 1,
   "metadata": {},
   "outputs": [],
   "source": [
    "import os\n",
    "import os.path as osp\n",
    "import pandas as pd"
   ]
  },
  {
   "cell_type": "code",
   "execution_count": 2,
   "metadata": {},
   "outputs": [],
   "source": [
    "pd.options.mode.chained_assignment = None"
   ]
  },
  {
   "cell_type": "code",
   "execution_count": 3,
   "metadata": {},
   "outputs": [
    {
     "data": {
      "text/html": [
       "<style>.container { width:80% !important; }</style>"
      ],
      "text/plain": [
       "<IPython.core.display.HTML object>"
      ]
     },
     "metadata": {},
     "output_type": "display_data"
    }
   ],
   "source": [
    "from IPython.core.display import display, HTML\n",
    "display(HTML(\"<style>.container { width:80% !important; }</style>\"))"
   ]
  },
  {
   "cell_type": "code",
   "execution_count": 4,
   "metadata": {},
   "outputs": [],
   "source": [
    "path_raw_data = '/home/agaldran/Desktop/data/deepdr_data/'"
   ]
  },
  {
   "cell_type": "code",
   "execution_count": 5,
   "metadata": {},
   "outputs": [
    {
     "data": {
      "text/plain": [
       "Index(['patient_id', 'image_id', 'image_path', 'Overall quality',\n",
       "       'left_eye_DR_Level', 'right_eye_DR_Level', 'patient_DR_Level',\n",
       "       'Clarity', 'Field definition', 'Artifact'],\n",
       "      dtype='object')"
      ]
     },
     "execution_count": 5,
     "metadata": {},
     "output_type": "execute_result"
    }
   ],
   "source": [
    "csv_path = osp.join(path_raw_data, 'regular-fundus-training/regular-fundus-training.csv')\n",
    "\n",
    "csv_path = osp.join(path_raw_data, 'regular-fundus-validation/regular-fundus-validation.csv')\n",
    "\n",
    "\n",
    "df = pd.read_csv(csv_path)\n",
    "df.columns"
   ]
  },
  {
   "cell_type": "code",
   "execution_count": 6,
   "metadata": {},
   "outputs": [
    {
     "data": {
      "text/html": [
       "<div>\n",
       "<style scoped>\n",
       "    .dataframe tbody tr th:only-of-type {\n",
       "        vertical-align: middle;\n",
       "    }\n",
       "\n",
       "    .dataframe tbody tr th {\n",
       "        vertical-align: top;\n",
       "    }\n",
       "\n",
       "    .dataframe thead th {\n",
       "        text-align: right;\n",
       "    }\n",
       "</style>\n",
       "<table border=\"1\" class=\"dataframe\">\n",
       "  <thead>\n",
       "    <tr style=\"text-align: right;\">\n",
       "      <th></th>\n",
       "      <th>patient_id</th>\n",
       "      <th>image_id</th>\n",
       "      <th>image_path</th>\n",
       "      <th>Overall quality</th>\n",
       "      <th>left_eye_DR_Level</th>\n",
       "      <th>right_eye_DR_Level</th>\n",
       "      <th>patient_DR_Level</th>\n",
       "      <th>Clarity</th>\n",
       "      <th>Field definition</th>\n",
       "      <th>Artifact</th>\n",
       "    </tr>\n",
       "  </thead>\n",
       "  <tbody>\n",
       "    <tr>\n",
       "      <th>0</th>\n",
       "      <td>265</td>\n",
       "      <td>265_l1</td>\n",
       "      <td>\\regular-fundus-validation\\265\\265_l1.jpg</td>\n",
       "      <td>0</td>\n",
       "      <td>3.0</td>\n",
       "      <td>NaN</td>\n",
       "      <td>4</td>\n",
       "      <td>4</td>\n",
       "      <td>8</td>\n",
       "      <td>10</td>\n",
       "    </tr>\n",
       "    <tr>\n",
       "      <th>1</th>\n",
       "      <td>265</td>\n",
       "      <td>265_l2</td>\n",
       "      <td>\\regular-fundus-validation\\265\\265_l2.jpg</td>\n",
       "      <td>0</td>\n",
       "      <td>3.0</td>\n",
       "      <td>NaN</td>\n",
       "      <td>4</td>\n",
       "      <td>6</td>\n",
       "      <td>8</td>\n",
       "      <td>6</td>\n",
       "    </tr>\n",
       "    <tr>\n",
       "      <th>2</th>\n",
       "      <td>265</td>\n",
       "      <td>265_r1</td>\n",
       "      <td>\\regular-fundus-validation\\265\\265_r1.jpg</td>\n",
       "      <td>1</td>\n",
       "      <td>NaN</td>\n",
       "      <td>4.0</td>\n",
       "      <td>4</td>\n",
       "      <td>6</td>\n",
       "      <td>8</td>\n",
       "      <td>6</td>\n",
       "    </tr>\n",
       "    <tr>\n",
       "      <th>3</th>\n",
       "      <td>265</td>\n",
       "      <td>265_r2</td>\n",
       "      <td>\\regular-fundus-validation\\265\\265_r2.jpg</td>\n",
       "      <td>1</td>\n",
       "      <td>NaN</td>\n",
       "      <td>4.0</td>\n",
       "      <td>4</td>\n",
       "      <td>10</td>\n",
       "      <td>4</td>\n",
       "      <td>0</td>\n",
       "    </tr>\n",
       "    <tr>\n",
       "      <th>4</th>\n",
       "      <td>267</td>\n",
       "      <td>267_l1</td>\n",
       "      <td>\\regular-fundus-validation\\267\\267_l1.jpg</td>\n",
       "      <td>1</td>\n",
       "      <td>4.0</td>\n",
       "      <td>NaN</td>\n",
       "      <td>4</td>\n",
       "      <td>10</td>\n",
       "      <td>6</td>\n",
       "      <td>4</td>\n",
       "    </tr>\n",
       "  </tbody>\n",
       "</table>\n",
       "</div>"
      ],
      "text/plain": [
       "   patient_id image_id                                 image_path  \\\n",
       "0         265   265_l1  \\regular-fundus-validation\\265\\265_l1.jpg   \n",
       "1         265   265_l2  \\regular-fundus-validation\\265\\265_l2.jpg   \n",
       "2         265   265_r1  \\regular-fundus-validation\\265\\265_r1.jpg   \n",
       "3         265   265_r2  \\regular-fundus-validation\\265\\265_r2.jpg   \n",
       "4         267   267_l1  \\regular-fundus-validation\\267\\267_l1.jpg   \n",
       "\n",
       "   Overall quality  left_eye_DR_Level  right_eye_DR_Level  patient_DR_Level  \\\n",
       "0                0                3.0                 NaN                 4   \n",
       "1                0                3.0                 NaN                 4   \n",
       "2                1                NaN                 4.0                 4   \n",
       "3                1                NaN                 4.0                 4   \n",
       "4                1                4.0                 NaN                 4   \n",
       "\n",
       "   Clarity  Field definition  Artifact  \n",
       "0        4                 8        10  \n",
       "1        6                 8         6  \n",
       "2        6                 8         6  \n",
       "3       10                 4         0  \n",
       "4       10                 6         4  "
      ]
     },
     "execution_count": 6,
     "metadata": {},
     "output_type": "execute_result"
    }
   ],
   "source": [
    "df.head()"
   ]
  },
  {
   "cell_type": "code",
   "execution_count": 7,
   "metadata": {},
   "outputs": [
    {
     "data": {
      "text/plain": [
       "Index(['patient_id', 'image_id', 'image_path', 'Overall quality',\n",
       "       'left_eye_DR_Level', 'right_eye_DR_Level', 'patient_DR_Level',\n",
       "       'Clarity', 'Field definition', 'Artifact'],\n",
       "      dtype='object')"
      ]
     },
     "execution_count": 7,
     "metadata": {},
     "output_type": "execute_result"
    }
   ],
   "source": [
    "df.columns"
   ]
  },
  {
   "cell_type": "code",
   "execution_count": 8,
   "metadata": {},
   "outputs": [],
   "source": [
    "df = df.drop(['patient_id','left_eye_DR_Level','right_eye_DR_Level', 'patient_DR_Level'], axis=1)"
   ]
  },
  {
   "cell_type": "code",
   "execution_count": 9,
   "metadata": {},
   "outputs": [
    {
     "data": {
      "text/html": [
       "<div>\n",
       "<style scoped>\n",
       "    .dataframe tbody tr th:only-of-type {\n",
       "        vertical-align: middle;\n",
       "    }\n",
       "\n",
       "    .dataframe tbody tr th {\n",
       "        vertical-align: top;\n",
       "    }\n",
       "\n",
       "    .dataframe thead th {\n",
       "        text-align: right;\n",
       "    }\n",
       "</style>\n",
       "<table border=\"1\" class=\"dataframe\">\n",
       "  <thead>\n",
       "    <tr style=\"text-align: right;\">\n",
       "      <th></th>\n",
       "      <th>image_id</th>\n",
       "      <th>image_path</th>\n",
       "      <th>Overall quality</th>\n",
       "      <th>Clarity</th>\n",
       "      <th>Field definition</th>\n",
       "      <th>Artifact</th>\n",
       "    </tr>\n",
       "  </thead>\n",
       "  <tbody>\n",
       "    <tr>\n",
       "      <th>0</th>\n",
       "      <td>265_l1</td>\n",
       "      <td>\\regular-fundus-validation\\265\\265_l1.jpg</td>\n",
       "      <td>0</td>\n",
       "      <td>4</td>\n",
       "      <td>8</td>\n",
       "      <td>10</td>\n",
       "    </tr>\n",
       "    <tr>\n",
       "      <th>1</th>\n",
       "      <td>265_l2</td>\n",
       "      <td>\\regular-fundus-validation\\265\\265_l2.jpg</td>\n",
       "      <td>0</td>\n",
       "      <td>6</td>\n",
       "      <td>8</td>\n",
       "      <td>6</td>\n",
       "    </tr>\n",
       "    <tr>\n",
       "      <th>2</th>\n",
       "      <td>265_r1</td>\n",
       "      <td>\\regular-fundus-validation\\265\\265_r1.jpg</td>\n",
       "      <td>1</td>\n",
       "      <td>6</td>\n",
       "      <td>8</td>\n",
       "      <td>6</td>\n",
       "    </tr>\n",
       "    <tr>\n",
       "      <th>3</th>\n",
       "      <td>265_r2</td>\n",
       "      <td>\\regular-fundus-validation\\265\\265_r2.jpg</td>\n",
       "      <td>1</td>\n",
       "      <td>10</td>\n",
       "      <td>4</td>\n",
       "      <td>0</td>\n",
       "    </tr>\n",
       "    <tr>\n",
       "      <th>4</th>\n",
       "      <td>267_l1</td>\n",
       "      <td>\\regular-fundus-validation\\267\\267_l1.jpg</td>\n",
       "      <td>1</td>\n",
       "      <td>10</td>\n",
       "      <td>6</td>\n",
       "      <td>4</td>\n",
       "    </tr>\n",
       "  </tbody>\n",
       "</table>\n",
       "</div>"
      ],
      "text/plain": [
       "  image_id                                 image_path  Overall quality  \\\n",
       "0   265_l1  \\regular-fundus-validation\\265\\265_l1.jpg                0   \n",
       "1   265_l2  \\regular-fundus-validation\\265\\265_l2.jpg                0   \n",
       "2   265_r1  \\regular-fundus-validation\\265\\265_r1.jpg                1   \n",
       "3   265_r2  \\regular-fundus-validation\\265\\265_r2.jpg                1   \n",
       "4   267_l1  \\regular-fundus-validation\\267\\267_l1.jpg                1   \n",
       "\n",
       "   Clarity  Field definition  Artifact  \n",
       "0        4                 8        10  \n",
       "1        6                 8         6  \n",
       "2        6                 8         6  \n",
       "3       10                 4         0  \n",
       "4       10                 6         4  "
      ]
     },
     "execution_count": 9,
     "metadata": {},
     "output_type": "execute_result"
    }
   ],
   "source": [
    "df.head()"
   ]
  },
  {
   "cell_type": "code",
   "execution_count": 10,
   "metadata": {},
   "outputs": [],
   "source": [
    "abs_path = [osp.join(path_raw_data, n.replace('\\\\','/')[1:]) for n in list(df.image_path) ]"
   ]
  },
  {
   "cell_type": "code",
   "execution_count": 11,
   "metadata": {},
   "outputs": [],
   "source": [
    "df['abs_path']=abs_path\n",
    "df = df.drop(['image_path'], axis=1)"
   ]
  },
  {
   "cell_type": "code",
   "execution_count": 12,
   "metadata": {},
   "outputs": [],
   "source": [
    "im_list = df.abs_path"
   ]
  },
  {
   "cell_type": "code",
   "execution_count": 13,
   "metadata": {},
   "outputs": [],
   "source": [
    "path_out = 'data/images'"
   ]
  },
  {
   "cell_type": "code",
   "execution_count": 14,
   "metadata": {},
   "outputs": [],
   "source": [
    "image_ids = [osp.join(path_out, im_name.split('/')[-1]) for im_name in im_list]"
   ]
  },
  {
   "cell_type": "code",
   "execution_count": 15,
   "metadata": {},
   "outputs": [],
   "source": [
    "df['image_id']=image_ids\n",
    "df = df.drop(['abs_path'], axis=1)"
   ]
  },
  {
   "cell_type": "code",
   "execution_count": 16,
   "metadata": {},
   "outputs": [
    {
     "data": {
      "text/html": [
       "<div>\n",
       "<style scoped>\n",
       "    .dataframe tbody tr th:only-of-type {\n",
       "        vertical-align: middle;\n",
       "    }\n",
       "\n",
       "    .dataframe tbody tr th {\n",
       "        vertical-align: top;\n",
       "    }\n",
       "\n",
       "    .dataframe thead th {\n",
       "        text-align: right;\n",
       "    }\n",
       "</style>\n",
       "<table border=\"1\" class=\"dataframe\">\n",
       "  <thead>\n",
       "    <tr style=\"text-align: right;\">\n",
       "      <th></th>\n",
       "      <th>image_id</th>\n",
       "      <th>Overall quality</th>\n",
       "      <th>Clarity</th>\n",
       "      <th>Field definition</th>\n",
       "      <th>Artifact</th>\n",
       "    </tr>\n",
       "  </thead>\n",
       "  <tbody>\n",
       "    <tr>\n",
       "      <th>0</th>\n",
       "      <td>data/images/265_l1.jpg</td>\n",
       "      <td>0</td>\n",
       "      <td>4</td>\n",
       "      <td>8</td>\n",
       "      <td>10</td>\n",
       "    </tr>\n",
       "    <tr>\n",
       "      <th>1</th>\n",
       "      <td>data/images/265_l2.jpg</td>\n",
       "      <td>0</td>\n",
       "      <td>6</td>\n",
       "      <td>8</td>\n",
       "      <td>6</td>\n",
       "    </tr>\n",
       "    <tr>\n",
       "      <th>2</th>\n",
       "      <td>data/images/265_r1.jpg</td>\n",
       "      <td>1</td>\n",
       "      <td>6</td>\n",
       "      <td>8</td>\n",
       "      <td>6</td>\n",
       "    </tr>\n",
       "    <tr>\n",
       "      <th>3</th>\n",
       "      <td>data/images/265_r2.jpg</td>\n",
       "      <td>1</td>\n",
       "      <td>10</td>\n",
       "      <td>4</td>\n",
       "      <td>0</td>\n",
       "    </tr>\n",
       "    <tr>\n",
       "      <th>4</th>\n",
       "      <td>data/images/267_l1.jpg</td>\n",
       "      <td>1</td>\n",
       "      <td>10</td>\n",
       "      <td>6</td>\n",
       "      <td>4</td>\n",
       "    </tr>\n",
       "  </tbody>\n",
       "</table>\n",
       "</div>"
      ],
      "text/plain": [
       "                 image_id  Overall quality  Clarity  Field definition  \\\n",
       "0  data/images/265_l1.jpg                0        4                 8   \n",
       "1  data/images/265_l2.jpg                0        6                 8   \n",
       "2  data/images/265_r1.jpg                1        6                 8   \n",
       "3  data/images/265_r2.jpg                1       10                 4   \n",
       "4  data/images/267_l1.jpg                1       10                 6   \n",
       "\n",
       "   Artifact  \n",
       "0        10  \n",
       "1         6  \n",
       "2         6  \n",
       "3         0  \n",
       "4         4  "
      ]
     },
     "execution_count": 16,
     "metadata": {},
     "output_type": "execute_result"
    }
   ],
   "source": [
    "df.head()"
   ]
  },
  {
   "cell_type": "code",
   "execution_count": 17,
   "metadata": {},
   "outputs": [
    {
     "data": {
      "text/plain": [
       "['Overall quality', 'Clarity', 'Field definition', 'Artifact']"
      ]
     },
     "execution_count": 17,
     "metadata": {},
     "output_type": "execute_result"
    }
   ],
   "source": [
    "list(df.columns)[1:]"
   ]
  },
  {
   "cell_type": "code",
   "execution_count": 18,
   "metadata": {},
   "outputs": [],
   "source": [
    "import numpy as np"
   ]
  },
  {
   "cell_type": "code",
   "execution_count": 19,
   "metadata": {},
   "outputs": [
    {
     "name": "stdout",
     "output_type": "stream",
     "text": [
      "0  --->  218\n",
      "1  --->  182\n"
     ]
    }
   ],
   "source": [
    "df_qual = df[['image_id', 'Overall quality']]\n",
    "df_qual.columns = ['image_id', 'dr']\n",
    "a,b = np.unique(df_qual['dr'].values, return_counts=True)\n",
    "for i in range(len(a)):\n",
    "    print(a[i], ' ---> ', b[i])\n",
    "# df_qual.to_csv('data/train_quality.csv', index=False)"
   ]
  },
  {
   "cell_type": "code",
   "execution_count": 20,
   "metadata": {},
   "outputs": [],
   "source": [
    "def map_label_clarity(label):\n",
    "    if label == 1: return 0\n",
    "    elif label==4: return 1\n",
    "    elif label==6: return 2\n",
    "    elif label==8: return 3\n",
    "    else: return 4"
   ]
  },
  {
   "cell_type": "code",
   "execution_count": 21,
   "metadata": {},
   "outputs": [
    {
     "name": "stdout",
     "output_type": "stream",
     "text": [
      "1  --->  6\n",
      "4  --->  35\n",
      "6  --->  83\n",
      "8  --->  128\n",
      "10  --->  148\n",
      "------\n",
      "0  --->  6\n",
      "1  --->  35\n",
      "2  --->  83\n",
      "3  --->  128\n",
      "4  --->  148\n"
     ]
    }
   ],
   "source": [
    "df_clarity = df[['image_id', 'Clarity']]\n",
    "\n",
    "a,b = np.unique(df_clarity['Clarity'].values, return_counts=True)\n",
    "for i in range(len(a)):\n",
    "    print(a[i], ' ---> ', b[i])\n",
    "print('------')    \n",
    "df_clarity['dr'] = df_clarity['Clarity'].apply(map_label_clarity)\n",
    "a,b = np.unique(df_clarity['dr'].values, return_counts=True)\n",
    "for i in range(len(a)):\n",
    "    print(a[i], ' ---> ', b[i])\n",
    "df_clarity = df_clarity.drop(['Clarity'], axis=1)\n",
    "# df_clarity.to_csv('data/train_clarity.csv', index=False)"
   ]
  },
  {
   "cell_type": "code",
   "execution_count": 27,
   "metadata": {},
   "outputs": [],
   "source": [
    "x = np.array([[1,2], [2,0], [3,2]], dtype=float)"
   ]
  },
  {
   "cell_type": "code",
   "execution_count": 32,
   "metadata": {},
   "outputs": [
    {
     "data": {
      "text/plain": [
       "array([[1., 2.],\n",
       "       [2., 0.],\n",
       "       [3., 2.]])"
      ]
     },
     "execution_count": 32,
     "metadata": {},
     "output_type": "execute_result"
    }
   ],
   "source": [
    "x"
   ]
  },
  {
   "cell_type": "code",
   "execution_count": 29,
   "metadata": {},
   "outputs": [
    {
     "data": {
      "text/plain": [
       "(3, 2)"
      ]
     },
     "execution_count": 29,
     "metadata": {},
     "output_type": "execute_result"
    }
   ],
   "source": [
    "x.shape"
   ]
  },
  {
   "cell_type": "code",
   "execution_count": 33,
   "metadata": {},
   "outputs": [
    {
     "data": {
      "text/plain": [
       "array([1, 0, 0])"
      ]
     },
     "execution_count": 33,
     "metadata": {},
     "output_type": "execute_result"
    }
   ],
   "source": [
    "np.argmax(x, axis=1)"
   ]
  },
  {
   "cell_type": "code",
   "execution_count": 22,
   "metadata": {},
   "outputs": [],
   "source": [
    "def map_label_fd(label):\n",
    "    if label == 1: return 0\n",
    "    elif label==4: return 1\n",
    "    elif label==6: return 2\n",
    "    elif label==8: return 3\n",
    "    else: return 4"
   ]
  },
  {
   "cell_type": "code",
   "execution_count": 23,
   "metadata": {},
   "outputs": [
    {
     "name": "stdout",
     "output_type": "stream",
     "text": [
      "4  --->  14\n",
      "6  --->  73\n",
      "8  --->  253\n",
      "10  --->  60\n",
      "------\n",
      "1  --->  14\n",
      "2  --->  73\n",
      "3  --->  253\n",
      "4  --->  60\n"
     ]
    }
   ],
   "source": [
    "df_field_def = df[['image_id', 'Field definition']]\n",
    "\n",
    "a,b = np.unique(df_field_def['Field definition'].values, return_counts=True)\n",
    "for i in range(len(a)):\n",
    "    print(a[i], ' ---> ', b[i])\n",
    "print('------')    \n",
    "df_field_def['dr'] = df_field_def['Field definition'].apply(map_label_fd)\n",
    "a,b = np.unique(df_field_def['dr'].values, return_counts=True)\n",
    "for i in range(len(a)):\n",
    "    print(a[i], ' ---> ', b[i])\n",
    "df_field_def = df_field_def.drop(['Field definition'], axis=1)\n",
    "# df_field_def.to_csv('data/train_field_def.csv', index=False)"
   ]
  },
  {
   "cell_type": "code",
   "execution_count": 24,
   "metadata": {},
   "outputs": [
    {
     "data": {
      "text/plain": [
       "True"
      ]
     },
     "execution_count": 24,
     "metadata": {},
     "output_type": "execute_result"
    }
   ],
   "source": [
    "ss = [1,1,1,1,1]\n",
    "np.max(np.unique(ss))==1"
   ]
  },
  {
   "cell_type": "code",
   "execution_count": null,
   "metadata": {},
   "outputs": [],
   "source": []
  },
  {
   "cell_type": "code",
   "execution_count": 25,
   "metadata": {},
   "outputs": [],
   "source": [
    "def map_label_art(label):\n",
    "    if label==0: return 0\n",
    "    elif label==1: return 1\n",
    "    elif label==4: return 2\n",
    "    elif label==6: return 3\n",
    "    elif label==8: return 4\n",
    "    else: return 5"
   ]
  },
  {
   "cell_type": "code",
   "execution_count": 26,
   "metadata": {},
   "outputs": [
    {
     "name": "stdout",
     "output_type": "stream",
     "text": [
      "0  --->  191\n",
      "1  --->  18\n",
      "4  --->  82\n",
      "6  --->  60\n",
      "8  --->  39\n",
      "10  --->  10\n",
      "------\n",
      "0  --->  191\n",
      "1  --->  18\n",
      "2  --->  82\n",
      "3  --->  60\n",
      "4  --->  39\n",
      "5  --->  10\n"
     ]
    }
   ],
   "source": [
    "df_artifact = df[['image_id', 'Artifact']]\n",
    "\n",
    "a,b = np.unique(df_artifact['Artifact'].values, return_counts=True)\n",
    "for i in range(len(a)):\n",
    "    print(a[i], ' ---> ', b[i])\n",
    "print('------')    \n",
    "df_artifact['dr'] = df_artifact['Artifact'].apply(map_label_art)\n",
    "a,b = np.unique(df_artifact['dr'].values, return_counts=True)\n",
    "for i in range(len(a)):\n",
    "    print(a[i], ' ---> ', b[i])\n",
    "df_artifact = df_artifact.drop(['Artifact'], axis=1)\n",
    "# df_artifact.to_csv('data/train_artifact.csv', index=False)"
   ]
  }
 ],
 "metadata": {
  "kernelspec": {
   "display_name": "vessels",
   "language": "python",
   "name": "vessels"
  },
  "language_info": {
   "codemirror_mode": {
    "name": "ipython",
    "version": 3
   },
   "file_extension": ".py",
   "mimetype": "text/x-python",
   "name": "python",
   "nbconvert_exporter": "python",
   "pygments_lexer": "ipython3",
   "version": "3.7.5"
  }
 },
 "nbformat": 4,
 "nbformat_minor": 2
}
