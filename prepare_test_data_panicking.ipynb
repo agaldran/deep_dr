{
 "cells": [
  {
   "cell_type": "code",
   "execution_count": 1,
   "metadata": {},
   "outputs": [],
   "source": [
    "import pandas as pd\n",
    "import os\n",
    "import os.path as osp"
   ]
  },
  {
   "cell_type": "code",
   "execution_count": 2,
   "metadata": {},
   "outputs": [
    {
     "name": "stdout",
     "output_type": "stream",
     "text": [
      "Preparing test data\n"
     ]
    }
   ],
   "source": [
    "path_raw_data = '/home/agaldran/Desktop/ISBI2020_raw_data/Onsite-Challenge1&2-Evaluation'\n",
    "path_data_out = 'data/'\n",
    "\n",
    "path_out_ims = osp.join(path_data_out, 'test_images_ONSITE')\n",
    "path_out_fovs = osp.join(path_data_out, 'test_fovs_ONSITE')\n",
    "os.makedirs(path_out_ims, exist_ok=True)\n",
    "# os.makedirs(path_out_fovs, exist_ok=True)\n",
    "\n",
    "print('Preparing test data')"
   ]
  },
  {
   "cell_type": "code",
   "execution_count": 3,
   "metadata": {},
   "outputs": [],
   "source": [
    "csv_path = osp.join(path_raw_data, 'Challenge1_upload.csv')\n",
    "df = pd.read_csv(csv_path)"
   ]
  },
  {
   "cell_type": "code",
   "execution_count": 4,
   "metadata": {},
   "outputs": [
    {
     "data": {
      "text/html": [
       "<div>\n",
       "<style scoped>\n",
       "    .dataframe tbody tr th:only-of-type {\n",
       "        vertical-align: middle;\n",
       "    }\n",
       "\n",
       "    .dataframe tbody tr th {\n",
       "        vertical-align: top;\n",
       "    }\n",
       "\n",
       "    .dataframe thead th {\n",
       "        text-align: right;\n",
       "    }\n",
       "</style>\n",
       "<table border=\"1\" class=\"dataframe\">\n",
       "  <thead>\n",
       "    <tr style=\"text-align: right;\">\n",
       "      <th></th>\n",
       "      <th>image_id</th>\n",
       "      <th>DR_Level</th>\n",
       "    </tr>\n",
       "  </thead>\n",
       "  <tbody>\n",
       "    <tr>\n",
       "      <th>0</th>\n",
       "      <td>1_l1</td>\n",
       "      <td>NaN</td>\n",
       "    </tr>\n",
       "    <tr>\n",
       "      <th>1</th>\n",
       "      <td>1_l2</td>\n",
       "      <td>NaN</td>\n",
       "    </tr>\n",
       "    <tr>\n",
       "      <th>2</th>\n",
       "      <td>1_r1</td>\n",
       "      <td>NaN</td>\n",
       "    </tr>\n",
       "    <tr>\n",
       "      <th>3</th>\n",
       "      <td>1_r2</td>\n",
       "      <td>NaN</td>\n",
       "    </tr>\n",
       "    <tr>\n",
       "      <th>4</th>\n",
       "      <td>2_l1</td>\n",
       "      <td>NaN</td>\n",
       "    </tr>\n",
       "  </tbody>\n",
       "</table>\n",
       "</div>"
      ],
      "text/plain": [
       "  image_id  DR_Level\n",
       "0     1_l1       NaN\n",
       "1     1_l2       NaN\n",
       "2     1_r1       NaN\n",
       "3     1_r2       NaN\n",
       "4     2_l1       NaN"
      ]
     },
     "execution_count": 4,
     "metadata": {},
     "output_type": "execute_result"
    }
   ],
   "source": [
    "df.head()"
   ]
  },
  {
   "cell_type": "code",
   "execution_count": 8,
   "metadata": {},
   "outputs": [],
   "source": [
    "image_list = df.image_id.values\n",
    "image_path_list = df.image_id.values\n",
    "image_path_list = [n[:3] for n in image_path_list]\n",
    "\n",
    "im_list = [osp.join(path_raw_data, n1, n2+'.jpg') for n1, n2 in zip(image_path_list, image_list)]\n",
    "num_ims = len(im_list)"
   ]
  },
  {
   "cell_type": "code",
   "execution_count": 16,
   "metadata": {},
   "outputs": [],
   "source": [
    "folder_list = sorted(os.listdir(path_raw_data))[:-3]"
   ]
  },
  {
   "cell_type": "code",
   "execution_count": 18,
   "metadata": {},
   "outputs": [
    {
     "data": {
      "text/plain": [
       "100"
      ]
     },
     "execution_count": 18,
     "metadata": {},
     "output_type": "execute_result"
    }
   ],
   "source": [
    "len(folder_list)"
   ]
  },
  {
   "cell_type": "code",
   "execution_count": 31,
   "metadata": {},
   "outputs": [],
   "source": [
    "from PIL import Image\n",
    "from torchvision import transforms as tr\n",
    "tg_size = (512, 512)\n",
    "rsz = tr.Resize(tg_size)"
   ]
  },
  {
   "cell_type": "code",
   "execution_count": 32,
   "metadata": {},
   "outputs": [],
   "source": [
    "def process_im(im_name, im_name_out):\n",
    "    im = Image.open(im_name)\n",
    "    rsz_512 = tr.Resize(512)\n",
    "    im_rsz = rsz_512(im)\n",
    "    ctr_crop = tr.CenterCrop([512, 512])\n",
    "    ctr_crop(im_rsz).save(im_name_out)"
   ]
  },
  {
   "cell_type": "code",
   "execution_count": 34,
   "metadata": {},
   "outputs": [],
   "source": [
    "for folder in folder_list:\n",
    "    im_list = os.listdir(osp.join(path_raw_data, folder))\n",
    "    for im_name in im_list:\n",
    "        im_name_in = osp.join(path_raw_data, folder, im_name)\n",
    "        im_name_out = osp.join(path_out_ims, im_name)\n",
    "        process_im(im_name_in, im_name_out)"
   ]
  },
  {
   "cell_type": "code",
   "execution_count": null,
   "metadata": {},
   "outputs": [],
   "source": []
  },
  {
   "cell_type": "code",
   "execution_count": null,
   "metadata": {},
   "outputs": [],
   "source": []
  },
  {
   "cell_type": "code",
   "execution_count": 35,
   "metadata": {},
   "outputs": [
    {
     "name": "stdout",
     "output_type": "stream",
     "text": [
      "Preparing test data\n"
     ]
    }
   ],
   "source": [
    "path_raw_data = '/home/agaldran/Desktop/ISBI2020_raw_data/Onsite-Challenge3-Evaluation'\n",
    "path_data_out = 'data/'\n",
    "\n",
    "path_out_ims = osp.join(path_data_out, 'test_images_UW_ONSITE')\n",
    "path_out_fovs = osp.join(path_data_out, 'test_fovs_UW_ONSITE')\n",
    "os.makedirs(path_out_ims, exist_ok=True)\n",
    "# os.makedirs(path_out_fovs, exist_ok=True)\n",
    "\n",
    "print('Preparing test data')\n",
    "csv_path = osp.join(path_raw_data, 'Challenge3_upload.csv')\n",
    "df = pd.read_csv(csv_path)"
   ]
  },
  {
   "cell_type": "code",
   "execution_count": 36,
   "metadata": {},
   "outputs": [],
   "source": [
    "image_list = df.image_id.values\n",
    "image_path_list = df.image_id.values\n",
    "image_path_list = [n[:-3] for n in image_path_list]\n",
    "\n",
    "im_list = [osp.join(path_raw_data, n1, n2 + '.jpg') for n1, n2 in zip(image_path_list, image_list)]\n",
    "num_ims = len(im_list)"
   ]
  },
  {
   "cell_type": "code",
   "execution_count": 44,
   "metadata": {},
   "outputs": [],
   "source": [
    "folder_list = sorted(os.listdir(path_raw_data))[:-2]"
   ]
  },
  {
   "cell_type": "code",
   "execution_count": 45,
   "metadata": {},
   "outputs": [
    {
     "data": {
      "text/plain": [
       "20"
      ]
     },
     "execution_count": 45,
     "metadata": {},
     "output_type": "execute_result"
    }
   ],
   "source": [
    "len(folder_list)"
   ]
  },
  {
   "cell_type": "code",
   "execution_count": 47,
   "metadata": {},
   "outputs": [],
   "source": [
    "for folder in folder_list:\n",
    "    im_list = os.listdir(osp.join(path_raw_data, folder))\n",
    "    for im_name in im_list:\n",
    "        im_name_in = osp.join(path_raw_data, folder, im_name)\n",
    "        im_name_out = osp.join(path_out_ims, im_name)\n",
    "        process_im(im_name_in, im_name_out)"
   ]
  },
  {
   "cell_type": "code",
   "execution_count": null,
   "metadata": {},
   "outputs": [],
   "source": []
  }
 ],
 "metadata": {
  "kernelspec": {
   "display_name": "vessels",
   "language": "python",
   "name": "build_central"
  },
  "language_info": {
   "codemirror_mode": {
    "name": "ipython",
    "version": 3
   },
   "file_extension": ".py",
   "mimetype": "text/x-python",
   "name": "python",
   "nbconvert_exporter": "python",
   "pygments_lexer": "ipython3",
   "version": "3.7.6"
  }
 },
 "nbformat": 4,
 "nbformat_minor": 4
}
