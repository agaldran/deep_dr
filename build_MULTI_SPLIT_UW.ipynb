{
 "cells": [
  {
   "cell_type": "code",
   "execution_count": 1,
   "metadata": {},
   "outputs": [],
   "source": [
    "import os\n",
    "import os.path as osp\n",
    "import pandas as pd"
   ]
  },
  {
   "cell_type": "code",
   "execution_count": 14,
   "metadata": {},
   "outputs": [],
   "source": [
    "train = pd.read_csv('data/train_all_UW.csv')\n",
    "train_od = pd.read_csv('data/train_od_UW.csv')\n",
    "train_mac = pd.read_csv('data/train_mac_UW.csv')"
   ]
  },
  {
   "cell_type": "code",
   "execution_count": 15,
   "metadata": {},
   "outputs": [],
   "source": [
    "val = pd.read_csv('data/val_all_UW.csv')\n",
    "val_od = pd.read_csv('data/val_od_UW.csv')\n",
    "val_mac = pd.read_csv('data/val_mac_UW.csv')"
   ]
  },
  {
   "cell_type": "code",
   "execution_count": 16,
   "metadata": {},
   "outputs": [
    {
     "data": {
      "text/html": [
       "<div>\n",
       "<style scoped>\n",
       "    .dataframe tbody tr th:only-of-type {\n",
       "        vertical-align: middle;\n",
       "    }\n",
       "\n",
       "    .dataframe tbody tr th {\n",
       "        vertical-align: top;\n",
       "    }\n",
       "\n",
       "    .dataframe thead th {\n",
       "        text-align: right;\n",
       "    }\n",
       "</style>\n",
       "<table border=\"1\" class=\"dataframe\">\n",
       "  <thead>\n",
       "    <tr style=\"text-align: right;\">\n",
       "      <th></th>\n",
       "      <th>patient_id</th>\n",
       "      <th>image_id</th>\n",
       "      <th>DR_level</th>\n",
       "      <th>dr</th>\n",
       "    </tr>\n",
       "  </thead>\n",
       "  <tbody>\n",
       "    <tr>\n",
       "      <th>0</th>\n",
       "      <td>1</td>\n",
       "      <td>data/images_uw/1_r1.jpg</td>\n",
       "      <td>0</td>\n",
       "      <td>0</td>\n",
       "    </tr>\n",
       "    <tr>\n",
       "      <th>1</th>\n",
       "      <td>2</td>\n",
       "      <td>data/images_uw/2_r1.jpg</td>\n",
       "      <td>3</td>\n",
       "      <td>3</td>\n",
       "    </tr>\n",
       "    <tr>\n",
       "      <th>2</th>\n",
       "      <td>3</td>\n",
       "      <td>data/images_uw/3_r1.jpg</td>\n",
       "      <td>0</td>\n",
       "      <td>0</td>\n",
       "    </tr>\n",
       "    <tr>\n",
       "      <th>3</th>\n",
       "      <td>4</td>\n",
       "      <td>data/images_uw/4_r1.jpg</td>\n",
       "      <td>1</td>\n",
       "      <td>1</td>\n",
       "    </tr>\n",
       "    <tr>\n",
       "      <th>4</th>\n",
       "      <td>5</td>\n",
       "      <td>data/images_uw/5_r1.jpg</td>\n",
       "      <td>0</td>\n",
       "      <td>0</td>\n",
       "    </tr>\n",
       "  </tbody>\n",
       "</table>\n",
       "</div>"
      ],
      "text/plain": [
       "   patient_id                 image_id  DR_level  dr\n",
       "0           1  data/images_uw/1_r1.jpg         0   0\n",
       "1           2  data/images_uw/2_r1.jpg         3   3\n",
       "2           3  data/images_uw/3_r1.jpg         0   0\n",
       "3           4  data/images_uw/4_r1.jpg         1   1\n",
       "4           5  data/images_uw/5_r1.jpg         0   0"
      ]
     },
     "execution_count": 16,
     "metadata": {},
     "output_type": "execute_result"
    }
   ],
   "source": [
    "train.head()"
   ]
  },
  {
   "cell_type": "code",
   "execution_count": 17,
   "metadata": {},
   "outputs": [
    {
     "data": {
      "text/plain": [
       "((154, 4), (50, 4))"
      ]
     },
     "execution_count": 17,
     "metadata": {},
     "output_type": "execute_result"
    }
   ],
   "source": [
    "train.shape, val.shape"
   ]
  },
  {
   "cell_type": "code",
   "execution_count": 18,
   "metadata": {},
   "outputs": [],
   "source": [
    "val_1 = val.copy()"
   ]
  },
  {
   "cell_type": "code",
   "execution_count": 19,
   "metadata": {},
   "outputs": [],
   "source": [
    "val_2, val_3, val_4 = train[:51], train[51:102], train[102:]"
   ]
  },
  {
   "cell_type": "code",
   "execution_count": 20,
   "metadata": {},
   "outputs": [
    {
     "data": {
      "text/plain": [
       "((50, 4), (51, 4), (51, 4), (52, 4))"
      ]
     },
     "execution_count": 20,
     "metadata": {},
     "output_type": "execute_result"
    }
   ],
   "source": [
    "val_1.shape, val_2.shape, val_3.shape, val_4.shape"
   ]
  },
  {
   "cell_type": "code",
   "execution_count": 21,
   "metadata": {},
   "outputs": [],
   "source": [
    "train_1 = pd.concat([val_2, val_3, val_4], axis=0)\n",
    "train_2 = pd.concat([val_1, val_3, val_4], axis=0)\n",
    "train_3 = pd.concat([val_1, val_2, val_4], axis=0)\n",
    "train_4 = pd.concat([val_1, val_2, val_3], axis=0)"
   ]
  },
  {
   "cell_type": "code",
   "execution_count": 22,
   "metadata": {},
   "outputs": [
    {
     "data": {
      "text/plain": [
       "(154, 4)"
      ]
     },
     "execution_count": 22,
     "metadata": {},
     "output_type": "execute_result"
    }
   ],
   "source": [
    "train_1.shape"
   ]
  },
  {
   "cell_type": "code",
   "execution_count": 23,
   "metadata": {},
   "outputs": [],
   "source": [
    "train_1.to_csv(osp.join('csvs/', 'train_all_1_UW.csv'), index=False)\n",
    "train_2.to_csv(osp.join('csvs/', 'train_all_2_UW.csv'), index=False)\n",
    "train_3.to_csv(osp.join('csvs/', 'train_all_3_UW.csv'), index=False)\n",
    "train_4.to_csv(osp.join('csvs/', 'train_all_4_UW.csv'), index=False)\n",
    "\n",
    "val_1.to_csv(osp.join('csvs/', 'val_all_1_UW.csv'), index=False)\n",
    "val_2.to_csv(osp.join('csvs/', 'val_all_2_UW.csv'), index=False)\n",
    "val_3.to_csv(osp.join('csvs/', 'val_all_3_UW.csv'), index=False)\n",
    "val_4.to_csv(osp.join('csvs/', 'val_all_4_UW.csv'), index=False)"
   ]
  },
  {
   "cell_type": "markdown",
   "metadata": {},
   "source": [
    "### OD-centered"
   ]
  },
  {
   "cell_type": "code",
   "execution_count": 24,
   "metadata": {},
   "outputs": [
    {
     "data": {
      "text/plain": [
       "((56, 4), (21, 4))"
      ]
     },
     "execution_count": 24,
     "metadata": {},
     "output_type": "execute_result"
    }
   ],
   "source": [
    "train_od.shape, val_od.shape"
   ]
  },
  {
   "cell_type": "code",
   "execution_count": 25,
   "metadata": {},
   "outputs": [],
   "source": [
    "val_od_1 = val_od.copy()\n",
    "val_od_2 = train_od[0:19]\n",
    "val_od_3 = train_od[19:2*19]\n",
    "val_od_4 = train_od[2*19:]"
   ]
  },
  {
   "cell_type": "code",
   "execution_count": 26,
   "metadata": {},
   "outputs": [
    {
     "data": {
      "text/plain": [
       "((21, 4), (19, 4), (19, 4), (18, 4))"
      ]
     },
     "execution_count": 26,
     "metadata": {},
     "output_type": "execute_result"
    }
   ],
   "source": [
    "val_od_1.shape, val_od_2.shape,val_od_3.shape,val_od_4.shape"
   ]
  },
  {
   "cell_type": "code",
   "execution_count": 27,
   "metadata": {},
   "outputs": [],
   "source": [
    "train_od_1 = pd.concat([val_od_2, val_od_3, val_od_4], axis=0)\n",
    "train_od_2 = pd.concat([val_od_1, val_od_3, val_od_4], axis=0)\n",
    "train_od_3 = pd.concat([val_od_1, val_od_2, val_od_4], axis=0)\n",
    "train_od_4 = pd.concat([val_od_1, val_od_2, val_od_3], axis=0)"
   ]
  },
  {
   "cell_type": "code",
   "execution_count": 28,
   "metadata": {},
   "outputs": [],
   "source": [
    "train_od_1.to_csv(osp.join('csvs/', 'train_od_1_UW.csv'), index=False)\n",
    "train_od_2.to_csv(osp.join('csvs/', 'train_od_2_UW.csv'), index=False)\n",
    "train_od_3.to_csv(osp.join('csvs/', 'train_od_3_UW.csv'), index=False)\n",
    "train_od_4.to_csv(osp.join('csvs/', 'train_od_4_UW.csv'), index=False)\n",
    "\n",
    "val_od_1.to_csv(osp.join('csvs/', 'val_od_1_UW.csv'), index=False)\n",
    "val_od_2.to_csv(osp.join('csvs/', 'val_od_2_UW.csv'), index=False)\n",
    "val_od_3.to_csv(osp.join('csvs/', 'val_od_3_UW.csv'), index=False)\n",
    "val_od_4.to_csv(osp.join('csvs/', 'val_od_4_UW.csv'), index=False)"
   ]
  },
  {
   "cell_type": "markdown",
   "metadata": {},
   "source": [
    "### Macula-centered"
   ]
  },
  {
   "cell_type": "code",
   "execution_count": 29,
   "metadata": {},
   "outputs": [
    {
     "data": {
      "text/plain": [
       "((98, 4), (29, 4))"
      ]
     },
     "execution_count": 29,
     "metadata": {},
     "output_type": "execute_result"
    }
   ],
   "source": [
    "train_mac.shape, val_mac.shape"
   ]
  },
  {
   "cell_type": "code",
   "execution_count": 30,
   "metadata": {},
   "outputs": [],
   "source": [
    "val_mac_1 = val_mac.copy()\n",
    "val_mac_2 = train_mac[0:33]\n",
    "val_mac_3 = train_mac[33:2*33]\n",
    "val_mac_4 = train_mac[2*33:]"
   ]
  },
  {
   "cell_type": "code",
   "execution_count": 31,
   "metadata": {},
   "outputs": [
    {
     "data": {
      "text/plain": [
       "((29, 4), (33, 4), (33, 4), (32, 4))"
      ]
     },
     "execution_count": 31,
     "metadata": {},
     "output_type": "execute_result"
    }
   ],
   "source": [
    "val_mac_1.shape, val_mac_2.shape,val_mac_3.shape,val_mac_4.shape"
   ]
  },
  {
   "cell_type": "code",
   "execution_count": 32,
   "metadata": {},
   "outputs": [],
   "source": [
    "train_mac_1 = pd.concat([val_mac_2, val_mac_3, val_mac_4], axis=0)\n",
    "train_mac_2 = pd.concat([val_mac_1, val_mac_3, val_mac_4], axis=0)\n",
    "train_mac_3 = pd.concat([val_mac_1, val_mac_2, val_mac_4], axis=0)\n",
    "train_mac_4 = pd.concat([val_mac_1, val_mac_2, val_mac_3], axis=0)"
   ]
  },
  {
   "cell_type": "code",
   "execution_count": 33,
   "metadata": {},
   "outputs": [],
   "source": [
    "train_mac_1.to_csv(osp.join('csvs/', 'train_mac_1_UW.csv'), index=False)\n",
    "train_mac_2.to_csv(osp.join('csvs/', 'train_mac_2_UW.csv'), index=False)\n",
    "train_mac_3.to_csv(osp.join('csvs/', 'train_mac_3_UW.csv'), index=False)\n",
    "train_mac_4.to_csv(osp.join('csvs/', 'train_mac_4_UW.csv'), index=False)\n",
    "\n",
    "val_mac_1.to_csv(osp.join('csvs/', 'val_mac_1_UW.csv'), index=False)\n",
    "val_mac_2.to_csv(osp.join('csvs/', 'val_mac_2_UW.csv'), index=False)\n",
    "val_mac_3.to_csv(osp.join('csvs/', 'val_mac_3_UW.csv'), index=False)\n",
    "val_mac_4.to_csv(osp.join('csvs/', 'val_mac_4_UW.csv'), index=False)"
   ]
  },
  {
   "cell_type": "code",
   "execution_count": null,
   "metadata": {},
   "outputs": [],
   "source": []
  }
 ],
 "metadata": {
  "kernelspec": {
   "display_name": "vessels",
   "language": "python",
   "name": "build_central"
  },
  "language_info": {
   "codemirror_mode": {
    "name": "ipython",
    "version": 3
   },
   "file_extension": ".py",
   "mimetype": "text/x-python",
   "name": "python",
   "nbconvert_exporter": "python",
   "pygments_lexer": "ipython3",
   "version": "3.7.6"
  }
 },
 "nbformat": 4,
 "nbformat_minor": 2
}
