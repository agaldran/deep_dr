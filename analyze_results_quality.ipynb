{
 "cells": [
  {
   "cell_type": "code",
   "execution_count": 1,
   "metadata": {},
   "outputs": [
    {
     "name": "stdout",
     "output_type": "stream",
     "text": [
      "Wrote 52 row(s) to results_quality.csv\r\n"
     ]
    }
   ],
   "source": [
    "!guild compare --csv results_quality.csv"
   ]
  },
  {
   "cell_type": "code",
   "execution_count": 2,
   "metadata": {},
   "outputs": [],
   "source": [
    "import pandas as pd"
   ]
  },
  {
   "cell_type": "code",
   "execution_count": 3,
   "metadata": {},
   "outputs": [],
   "source": [
    "df = pd.read_csv('results_quality.csv')"
   ]
  },
  {
   "cell_type": "code",
   "execution_count": 4,
   "metadata": {},
   "outputs": [
    {
     "data": {
      "text/plain": [
       "Index(['run', 'operation', 'started', 'time', 'status', 'label', 'base_loss',\n",
       "       'batch_size', 'csv_train', 'decay_f', 'exp', 'lambd', 'load_checkpoint',\n",
       "       'lr', 'metric', 'model_name', 'n_classes', 'n_epochs', 'optimizer',\n",
       "       'oversample', 'patience', 'pretrained', 'save_model', 'step', 'acc',\n",
       "       'auc', 'kappa'],\n",
       "      dtype='object')"
      ]
     },
     "execution_count": 4,
     "metadata": {},
     "output_type": "execute_result"
    }
   ],
   "source": [
    "df.columns"
   ]
  },
  {
   "cell_type": "code",
   "execution_count": 5,
   "metadata": {},
   "outputs": [],
   "source": [
    "df = df.drop(['run', 'operation', 'started', 'time', 'status', 'label', 'batch_size', 'decay_f', 'n_classes',\n",
    "              'optimizer', 'oversample', 'patience', 'pretrained', 'save_model', 'step', 'n_epochs',\n",
    "              'exp', 'lambd', 'load_checkpoint', 'metric'], axis=1)"
   ]
  },
  {
   "cell_type": "code",
   "execution_count": 6,
   "metadata": {},
   "outputs": [
    {
     "data": {
      "text/plain": [
       "Index(['base_loss', 'csv_train', 'lr', 'model_name', 'acc', 'auc', 'kappa'], dtype='object')"
      ]
     },
     "execution_count": 6,
     "metadata": {},
     "output_type": "execute_result"
    }
   ],
   "source": [
    "df.columns"
   ]
  },
  {
   "cell_type": "code",
   "execution_count": 7,
   "metadata": {},
   "outputs": [],
   "source": [
    "df_clarity = df[df.csv_train=='train_clarity.csv']\n",
    "df_clarity = df_clarity.drop(['csv_train'], axis=1)"
   ]
  },
  {
   "cell_type": "code",
   "execution_count": 8,
   "metadata": {},
   "outputs": [],
   "source": [
    "df_quality = df[df.csv_train=='train_quality.csv']\n",
    "df_quality = df_quality.drop(['csv_train','kappa'], axis=1)"
   ]
  },
  {
   "cell_type": "code",
   "execution_count": 9,
   "metadata": {},
   "outputs": [],
   "source": [
    "df_field_def = df[df.csv_train=='train_field_def.csv']\n",
    "df_field_def = df_field_def.drop(['csv_train'], axis=1)"
   ]
  },
  {
   "cell_type": "code",
   "execution_count": 10,
   "metadata": {},
   "outputs": [],
   "source": [
    "df_field_artifact = df[df.csv_train=='train_artifact.csv']\n",
    "df_field_artifact = df_field_artifact.drop(['csv_train'], axis=1)"
   ]
  },
  {
   "cell_type": "markdown",
   "metadata": {},
   "source": [
    "# Analyzing Quality Results"
   ]
  },
  {
   "cell_type": "code",
   "execution_count": 11,
   "metadata": {},
   "outputs": [
    {
     "data": {
      "text/html": [
       "<div>\n",
       "<style scoped>\n",
       "    .dataframe tbody tr th:only-of-type {\n",
       "        vertical-align: middle;\n",
       "    }\n",
       "\n",
       "    .dataframe tbody tr th {\n",
       "        vertical-align: top;\n",
       "    }\n",
       "\n",
       "    .dataframe thead th {\n",
       "        text-align: right;\n",
       "    }\n",
       "</style>\n",
       "<table border=\"1\" class=\"dataframe\">\n",
       "  <thead>\n",
       "    <tr style=\"text-align: right;\">\n",
       "      <th></th>\n",
       "      <th>base_loss</th>\n",
       "      <th>lr</th>\n",
       "      <th>model_name</th>\n",
       "      <th>acc</th>\n",
       "      <th>auc</th>\n",
       "    </tr>\n",
       "  </thead>\n",
       "  <tbody>\n",
       "    <tr>\n",
       "      <th>42</th>\n",
       "      <td>ce</td>\n",
       "      <td>0.0001</td>\n",
       "      <td>resnext50_sws</td>\n",
       "      <td>0.7600</td>\n",
       "      <td>0.838402</td>\n",
       "    </tr>\n",
       "    <tr>\n",
       "      <th>44</th>\n",
       "      <td>ce</td>\n",
       "      <td>0.0001</td>\n",
       "      <td>resnet50_sws</td>\n",
       "      <td>0.7750</td>\n",
       "      <td>0.835022</td>\n",
       "    </tr>\n",
       "    <tr>\n",
       "      <th>43</th>\n",
       "      <td>ce</td>\n",
       "      <td>0.0001</td>\n",
       "      <td>resnext50</td>\n",
       "      <td>0.7450</td>\n",
       "      <td>0.833455</td>\n",
       "    </tr>\n",
       "    <tr>\n",
       "      <th>45</th>\n",
       "      <td>ce</td>\n",
       "      <td>0.0001</td>\n",
       "      <td>resnet50</td>\n",
       "      <td>0.7350</td>\n",
       "      <td>0.830949</td>\n",
       "    </tr>\n",
       "    <tr>\n",
       "      <th>34</th>\n",
       "      <td>focal_loss</td>\n",
       "      <td>0.0001</td>\n",
       "      <td>resnext50_sws</td>\n",
       "      <td>0.7475</td>\n",
       "      <td>0.828232</td>\n",
       "    </tr>\n",
       "  </tbody>\n",
       "</table>\n",
       "</div>"
      ],
      "text/plain": [
       "     base_loss      lr     model_name     acc       auc\n",
       "42          ce  0.0001  resnext50_sws  0.7600  0.838402\n",
       "44          ce  0.0001   resnet50_sws  0.7750  0.835022\n",
       "43          ce  0.0001      resnext50  0.7450  0.833455\n",
       "45          ce  0.0001       resnet50  0.7350  0.830949\n",
       "34  focal_loss  0.0001  resnext50_sws  0.7475  0.828232"
      ]
     },
     "execution_count": 11,
     "metadata": {},
     "output_type": "execute_result"
    }
   ],
   "source": [
    "df_quality.sort_values(by ='auc', ascending=False).head()"
   ]
  },
  {
   "cell_type": "code",
   "execution_count": 12,
   "metadata": {},
   "outputs": [
    {
     "data": {
      "text/html": [
       "<div>\n",
       "<style scoped>\n",
       "    .dataframe tbody tr th:only-of-type {\n",
       "        vertical-align: middle;\n",
       "    }\n",
       "\n",
       "    .dataframe tbody tr th {\n",
       "        vertical-align: top;\n",
       "    }\n",
       "\n",
       "    .dataframe thead th {\n",
       "        text-align: right;\n",
       "    }\n",
       "</style>\n",
       "<table border=\"1\" class=\"dataframe\">\n",
       "  <thead>\n",
       "    <tr style=\"text-align: right;\">\n",
       "      <th></th>\n",
       "      <th>base_loss</th>\n",
       "      <th>lr</th>\n",
       "      <th>model_name</th>\n",
       "      <th>acc</th>\n",
       "      <th>auc</th>\n",
       "    </tr>\n",
       "  </thead>\n",
       "  <tbody>\n",
       "    <tr>\n",
       "      <th>44</th>\n",
       "      <td>ce</td>\n",
       "      <td>0.0001</td>\n",
       "      <td>resnet50_sws</td>\n",
       "      <td>0.7750</td>\n",
       "      <td>0.835022</td>\n",
       "    </tr>\n",
       "    <tr>\n",
       "      <th>49</th>\n",
       "      <td>ce</td>\n",
       "      <td>0.0010</td>\n",
       "      <td>resnet50</td>\n",
       "      <td>0.7675</td>\n",
       "      <td>0.824613</td>\n",
       "    </tr>\n",
       "    <tr>\n",
       "      <th>42</th>\n",
       "      <td>ce</td>\n",
       "      <td>0.0001</td>\n",
       "      <td>resnext50_sws</td>\n",
       "      <td>0.7600</td>\n",
       "      <td>0.838402</td>\n",
       "    </tr>\n",
       "    <tr>\n",
       "      <th>34</th>\n",
       "      <td>focal_loss</td>\n",
       "      <td>0.0001</td>\n",
       "      <td>resnext50_sws</td>\n",
       "      <td>0.7475</td>\n",
       "      <td>0.828232</td>\n",
       "    </tr>\n",
       "    <tr>\n",
       "      <th>36</th>\n",
       "      <td>focal_loss</td>\n",
       "      <td>0.0001</td>\n",
       "      <td>resnet50_sws</td>\n",
       "      <td>0.7475</td>\n",
       "      <td>0.820847</td>\n",
       "    </tr>\n",
       "  </tbody>\n",
       "</table>\n",
       "</div>"
      ],
      "text/plain": [
       "     base_loss      lr     model_name     acc       auc\n",
       "44          ce  0.0001   resnet50_sws  0.7750  0.835022\n",
       "49          ce  0.0010       resnet50  0.7675  0.824613\n",
       "42          ce  0.0001  resnext50_sws  0.7600  0.838402\n",
       "34  focal_loss  0.0001  resnext50_sws  0.7475  0.828232\n",
       "36  focal_loss  0.0001   resnet50_sws  0.7475  0.820847"
      ]
     },
     "execution_count": 12,
     "metadata": {},
     "output_type": "execute_result"
    }
   ],
   "source": [
    "df_quality.sort_values(by ='acc', ascending=False).head()"
   ]
  },
  {
   "cell_type": "markdown",
   "metadata": {},
   "source": [
    "### Conclusions\n",
    "* Training with lr=0.0001 is way better\n",
    "* Training with ce seems also much better\n",
    "* I guess resnext50_sws is best (1st auc, 3rd acc).\n",
    "* resnet50_sws is also very good (2nd auc, 1st acc). But we trust more AUC at this point."
   ]
  },
  {
   "cell_type": "markdown",
   "metadata": {},
   "source": [
    "# Analyzing Clarity Results"
   ]
  },
  {
   "cell_type": "code",
   "execution_count": 13,
   "metadata": {},
   "outputs": [
    {
     "data": {
      "text/html": [
       "<div>\n",
       "<style scoped>\n",
       "    .dataframe tbody tr th:only-of-type {\n",
       "        vertical-align: middle;\n",
       "    }\n",
       "\n",
       "    .dataframe tbody tr th {\n",
       "        vertical-align: top;\n",
       "    }\n",
       "\n",
       "    .dataframe thead th {\n",
       "        text-align: right;\n",
       "    }\n",
       "</style>\n",
       "<table border=\"1\" class=\"dataframe\">\n",
       "  <thead>\n",
       "    <tr style=\"text-align: right;\">\n",
       "      <th></th>\n",
       "      <th>base_loss</th>\n",
       "      <th>lr</th>\n",
       "      <th>model_name</th>\n",
       "      <th>acc</th>\n",
       "      <th>auc</th>\n",
       "      <th>kappa</th>\n",
       "    </tr>\n",
       "  </thead>\n",
       "  <tbody>\n",
       "    <tr>\n",
       "      <th>5</th>\n",
       "      <td>focal_loss</td>\n",
       "      <td>0.0010</td>\n",
       "      <td>resnext50</td>\n",
       "      <td>0.5800</td>\n",
       "      <td>0.871427</td>\n",
       "      <td>0.738754</td>\n",
       "    </tr>\n",
       "    <tr>\n",
       "      <th>8</th>\n",
       "      <td>ce</td>\n",
       "      <td>0.0001</td>\n",
       "      <td>resnext50_sws</td>\n",
       "      <td>0.5300</td>\n",
       "      <td>0.866204</td>\n",
       "      <td>0.746660</td>\n",
       "    </tr>\n",
       "    <tr>\n",
       "      <th>9</th>\n",
       "      <td>ce</td>\n",
       "      <td>0.0001</td>\n",
       "      <td>resnext50</td>\n",
       "      <td>0.5325</td>\n",
       "      <td>0.864844</td>\n",
       "      <td>0.746635</td>\n",
       "    </tr>\n",
       "    <tr>\n",
       "      <th>0</th>\n",
       "      <td>focal_loss</td>\n",
       "      <td>0.0001</td>\n",
       "      <td>resnext50_sws</td>\n",
       "      <td>0.5450</td>\n",
       "      <td>0.862738</td>\n",
       "      <td>0.771517</td>\n",
       "    </tr>\n",
       "    <tr>\n",
       "      <th>1</th>\n",
       "      <td>focal_loss</td>\n",
       "      <td>0.0001</td>\n",
       "      <td>resnext50</td>\n",
       "      <td>0.5275</td>\n",
       "      <td>0.860815</td>\n",
       "      <td>0.745150</td>\n",
       "    </tr>\n",
       "    <tr>\n",
       "      <th>3</th>\n",
       "      <td>focal_loss</td>\n",
       "      <td>0.0001</td>\n",
       "      <td>resnet50</td>\n",
       "      <td>0.5625</td>\n",
       "      <td>0.860022</td>\n",
       "      <td>0.744670</td>\n",
       "    </tr>\n",
       "    <tr>\n",
       "      <th>12</th>\n",
       "      <td>ce</td>\n",
       "      <td>0.0010</td>\n",
       "      <td>resnext50_sws</td>\n",
       "      <td>0.5600</td>\n",
       "      <td>0.859043</td>\n",
       "      <td>0.716096</td>\n",
       "    </tr>\n",
       "    <tr>\n",
       "      <th>13</th>\n",
       "      <td>ce</td>\n",
       "      <td>0.0010</td>\n",
       "      <td>resnext50</td>\n",
       "      <td>0.5775</td>\n",
       "      <td>0.857485</td>\n",
       "      <td>0.724669</td>\n",
       "    </tr>\n",
       "    <tr>\n",
       "      <th>4</th>\n",
       "      <td>focal_loss</td>\n",
       "      <td>0.0010</td>\n",
       "      <td>resnext50_sws</td>\n",
       "      <td>0.5300</td>\n",
       "      <td>0.856989</td>\n",
       "      <td>0.720102</td>\n",
       "    </tr>\n",
       "    <tr>\n",
       "      <th>6</th>\n",
       "      <td>focal_loss</td>\n",
       "      <td>0.0010</td>\n",
       "      <td>resnet50_sws</td>\n",
       "      <td>0.5400</td>\n",
       "      <td>0.856670</td>\n",
       "      <td>0.729781</td>\n",
       "    </tr>\n",
       "  </tbody>\n",
       "</table>\n",
       "</div>"
      ],
      "text/plain": [
       "     base_loss      lr     model_name     acc       auc     kappa\n",
       "5   focal_loss  0.0010      resnext50  0.5800  0.871427  0.738754\n",
       "8           ce  0.0001  resnext50_sws  0.5300  0.866204  0.746660\n",
       "9           ce  0.0001      resnext50  0.5325  0.864844  0.746635\n",
       "0   focal_loss  0.0001  resnext50_sws  0.5450  0.862738  0.771517\n",
       "1   focal_loss  0.0001      resnext50  0.5275  0.860815  0.745150\n",
       "3   focal_loss  0.0001       resnet50  0.5625  0.860022  0.744670\n",
       "12          ce  0.0010  resnext50_sws  0.5600  0.859043  0.716096\n",
       "13          ce  0.0010      resnext50  0.5775  0.857485  0.724669\n",
       "4   focal_loss  0.0010  resnext50_sws  0.5300  0.856989  0.720102\n",
       "6   focal_loss  0.0010   resnet50_sws  0.5400  0.856670  0.729781"
      ]
     },
     "execution_count": 13,
     "metadata": {},
     "output_type": "execute_result"
    }
   ],
   "source": [
    "df_clarity.sort_values(by ='auc', ascending=False).head(10)"
   ]
  },
  {
   "cell_type": "code",
   "execution_count": 14,
   "metadata": {},
   "outputs": [
    {
     "data": {
      "text/html": [
       "<div>\n",
       "<style scoped>\n",
       "    .dataframe tbody tr th:only-of-type {\n",
       "        vertical-align: middle;\n",
       "    }\n",
       "\n",
       "    .dataframe tbody tr th {\n",
       "        vertical-align: top;\n",
       "    }\n",
       "\n",
       "    .dataframe thead th {\n",
       "        text-align: right;\n",
       "    }\n",
       "</style>\n",
       "<table border=\"1\" class=\"dataframe\">\n",
       "  <thead>\n",
       "    <tr style=\"text-align: right;\">\n",
       "      <th></th>\n",
       "      <th>base_loss</th>\n",
       "      <th>lr</th>\n",
       "      <th>model_name</th>\n",
       "      <th>acc</th>\n",
       "      <th>auc</th>\n",
       "      <th>kappa</th>\n",
       "    </tr>\n",
       "  </thead>\n",
       "  <tbody>\n",
       "    <tr>\n",
       "      <th>5</th>\n",
       "      <td>focal_loss</td>\n",
       "      <td>0.0010</td>\n",
       "      <td>resnext50</td>\n",
       "      <td>0.5800</td>\n",
       "      <td>0.871427</td>\n",
       "      <td>0.738754</td>\n",
       "    </tr>\n",
       "    <tr>\n",
       "      <th>13</th>\n",
       "      <td>ce</td>\n",
       "      <td>0.0010</td>\n",
       "      <td>resnext50</td>\n",
       "      <td>0.5775</td>\n",
       "      <td>0.857485</td>\n",
       "      <td>0.724669</td>\n",
       "    </tr>\n",
       "    <tr>\n",
       "      <th>3</th>\n",
       "      <td>focal_loss</td>\n",
       "      <td>0.0001</td>\n",
       "      <td>resnet50</td>\n",
       "      <td>0.5625</td>\n",
       "      <td>0.860022</td>\n",
       "      <td>0.744670</td>\n",
       "    </tr>\n",
       "    <tr>\n",
       "      <th>7</th>\n",
       "      <td>focal_loss</td>\n",
       "      <td>0.0010</td>\n",
       "      <td>resnet50</td>\n",
       "      <td>0.5600</td>\n",
       "      <td>0.856247</td>\n",
       "      <td>0.723526</td>\n",
       "    </tr>\n",
       "    <tr>\n",
       "      <th>12</th>\n",
       "      <td>ce</td>\n",
       "      <td>0.0010</td>\n",
       "      <td>resnext50_sws</td>\n",
       "      <td>0.5600</td>\n",
       "      <td>0.859043</td>\n",
       "      <td>0.716096</td>\n",
       "    </tr>\n",
       "    <tr>\n",
       "      <th>10</th>\n",
       "      <td>ce</td>\n",
       "      <td>0.0001</td>\n",
       "      <td>resnet50_sws</td>\n",
       "      <td>0.5575</td>\n",
       "      <td>0.851869</td>\n",
       "      <td>0.728541</td>\n",
       "    </tr>\n",
       "    <tr>\n",
       "      <th>2</th>\n",
       "      <td>focal_loss</td>\n",
       "      <td>0.0001</td>\n",
       "      <td>resnet50_sws</td>\n",
       "      <td>0.5525</td>\n",
       "      <td>0.855901</td>\n",
       "      <td>0.757220</td>\n",
       "    </tr>\n",
       "    <tr>\n",
       "      <th>0</th>\n",
       "      <td>focal_loss</td>\n",
       "      <td>0.0001</td>\n",
       "      <td>resnext50_sws</td>\n",
       "      <td>0.5450</td>\n",
       "      <td>0.862738</td>\n",
       "      <td>0.771517</td>\n",
       "    </tr>\n",
       "    <tr>\n",
       "      <th>15</th>\n",
       "      <td>ce</td>\n",
       "      <td>0.0010</td>\n",
       "      <td>resnet50</td>\n",
       "      <td>0.5425</td>\n",
       "      <td>0.851844</td>\n",
       "      <td>0.709565</td>\n",
       "    </tr>\n",
       "    <tr>\n",
       "      <th>6</th>\n",
       "      <td>focal_loss</td>\n",
       "      <td>0.0010</td>\n",
       "      <td>resnet50_sws</td>\n",
       "      <td>0.5400</td>\n",
       "      <td>0.856670</td>\n",
       "      <td>0.729781</td>\n",
       "    </tr>\n",
       "  </tbody>\n",
       "</table>\n",
       "</div>"
      ],
      "text/plain": [
       "     base_loss      lr     model_name     acc       auc     kappa\n",
       "5   focal_loss  0.0010      resnext50  0.5800  0.871427  0.738754\n",
       "13          ce  0.0010      resnext50  0.5775  0.857485  0.724669\n",
       "3   focal_loss  0.0001       resnet50  0.5625  0.860022  0.744670\n",
       "7   focal_loss  0.0010       resnet50  0.5600  0.856247  0.723526\n",
       "12          ce  0.0010  resnext50_sws  0.5600  0.859043  0.716096\n",
       "10          ce  0.0001   resnet50_sws  0.5575  0.851869  0.728541\n",
       "2   focal_loss  0.0001   resnet50_sws  0.5525  0.855901  0.757220\n",
       "0   focal_loss  0.0001  resnext50_sws  0.5450  0.862738  0.771517\n",
       "15          ce  0.0010       resnet50  0.5425  0.851844  0.709565\n",
       "6   focal_loss  0.0010   resnet50_sws  0.5400  0.856670  0.729781"
      ]
     },
     "execution_count": 14,
     "metadata": {},
     "output_type": "execute_result"
    }
   ],
   "source": [
    "df_clarity.sort_values(by ='acc', ascending=False).head(10)"
   ]
  },
  {
   "cell_type": "code",
   "execution_count": null,
   "metadata": {},
   "outputs": [],
   "source": []
  }
 ],
 "metadata": {
  "kernelspec": {
   "display_name": "vessels",
   "language": "python",
   "name": "vessels"
  },
  "language_info": {
   "codemirror_mode": {
    "name": "ipython",
    "version": 3
   },
   "file_extension": ".py",
   "mimetype": "text/x-python",
   "name": "python",
   "nbconvert_exporter": "python",
   "pygments_lexer": "ipython3",
   "version": "3.7.5"
  }
 },
 "nbformat": 4,
 "nbformat_minor": 2
}
