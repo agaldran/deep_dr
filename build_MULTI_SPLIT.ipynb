{
 "cells": [
  {
   "cell_type": "code",
   "execution_count": 1,
   "metadata": {},
   "outputs": [],
   "source": [
    "import os\n",
    "import os.path as osp\n",
    "import pandas as pd"
   ]
  },
  {
   "cell_type": "code",
   "execution_count": 2,
   "metadata": {},
   "outputs": [],
   "source": [
    "train = pd.read_csv('data/train_all.csv')\n",
    "train_od = pd.read_csv('data/train_od.csv')\n",
    "train_mac = pd.read_csv('data/train_mac.csv')"
   ]
  },
  {
   "cell_type": "code",
   "execution_count": 3,
   "metadata": {},
   "outputs": [],
   "source": [
    "val = pd.read_csv('data/val_all.csv')\n",
    "val_od = pd.read_csv('data/val_od.csv')\n",
    "val_mac = pd.read_csv('data/val_mac.csv')"
   ]
  },
  {
   "cell_type": "code",
   "execution_count": 4,
   "metadata": {},
   "outputs": [
    {
     "data": {
      "text/plain": [
       "((1200, 2), (400, 2))"
      ]
     },
     "execution_count": 4,
     "metadata": {},
     "output_type": "execute_result"
    }
   ],
   "source": [
    "train.shape, val.shape"
   ]
  },
  {
   "cell_type": "code",
   "execution_count": 9,
   "metadata": {},
   "outputs": [],
   "source": [
    "val_1 = val.copy()"
   ]
  },
  {
   "cell_type": "code",
   "execution_count": 10,
   "metadata": {},
   "outputs": [],
   "source": [
    "val_2, val_3, val_4 = train[:400], train[400:800], train[800:1200]"
   ]
  },
  {
   "cell_type": "code",
   "execution_count": 11,
   "metadata": {},
   "outputs": [
    {
     "data": {
      "text/plain": [
       "((400, 2), (400, 2), (400, 2), (400, 2))"
      ]
     },
     "execution_count": 11,
     "metadata": {},
     "output_type": "execute_result"
    }
   ],
   "source": [
    "val_1.shape, val_2.shape, val_3.shape, val_4.shape"
   ]
  },
  {
   "cell_type": "code",
   "execution_count": 23,
   "metadata": {},
   "outputs": [],
   "source": [
    "train_1 = pd.concat([val_2, val_3, val_4], axis=0)\n",
    "train_2 = pd.concat([val_1, val_3, val_4], axis=0)\n",
    "train_3 = pd.concat([val_1, val_2, val_4], axis=0)\n",
    "train_4 = pd.concat([val_1, val_2, val_3], axis=0)"
   ]
  },
  {
   "cell_type": "code",
   "execution_count": 24,
   "metadata": {},
   "outputs": [
    {
     "data": {
      "text/plain": [
       "(1200, 2)"
      ]
     },
     "execution_count": 24,
     "metadata": {},
     "output_type": "execute_result"
    }
   ],
   "source": [
    "train_1.shape"
   ]
  },
  {
   "cell_type": "code",
   "execution_count": 25,
   "metadata": {},
   "outputs": [],
   "source": [
    "train_1.to_csv(osp.join('data/', 'train_all_1.csv'), index=False)\n",
    "train_2.to_csv(osp.join('data/', 'train_all_2.csv'), index=False)\n",
    "train_3.to_csv(osp.join('data/', 'train_all_3.csv'), index=False)\n",
    "train_4.to_csv(osp.join('data/', 'train_all_4.csv'), index=False)\n",
    "\n",
    "val_1.to_csv(osp.join('data/', 'val_all_1.csv'), index=False)\n",
    "val_2.to_csv(osp.join('data/', 'val_all_2.csv'), index=False)\n",
    "val_3.to_csv(osp.join('data/', 'val_all_3.csv'), index=False)\n",
    "val_4.to_csv(osp.join('data/', 'val_all_4.csv'), index=False)"
   ]
  },
  {
   "cell_type": "markdown",
   "metadata": {},
   "source": [
    "### OD-centered"
   ]
  },
  {
   "cell_type": "code",
   "execution_count": 26,
   "metadata": {},
   "outputs": [
    {
     "data": {
      "text/plain": [
       "((594, 2), (200, 2))"
      ]
     },
     "execution_count": 26,
     "metadata": {},
     "output_type": "execute_result"
    }
   ],
   "source": [
    "train_od.shape, val_od.shape"
   ]
  },
  {
   "cell_type": "code",
   "execution_count": 34,
   "metadata": {},
   "outputs": [],
   "source": [
    "val_od_1 = val_od.copy()\n",
    "val_od_2 = train_od[0:198]\n",
    "val_od_3 = train_od[198:2*198]\n",
    "val_od_4 = train_od[2*198:]"
   ]
  },
  {
   "cell_type": "code",
   "execution_count": 35,
   "metadata": {},
   "outputs": [
    {
     "data": {
      "text/plain": [
       "((200, 2), (198, 2), (198, 2), (198, 2))"
      ]
     },
     "execution_count": 35,
     "metadata": {},
     "output_type": "execute_result"
    }
   ],
   "source": [
    "val_od_1.shape, val_od_2.shape,val_od_3.shape,val_od_4.shape"
   ]
  },
  {
   "cell_type": "code",
   "execution_count": 36,
   "metadata": {},
   "outputs": [],
   "source": [
    "train_od_1 = pd.concat([val_od_2, val_od_3, val_od_4], axis=0)\n",
    "train_od_2 = pd.concat([val_od_1, val_od_3, val_od_4], axis=0)\n",
    "train_od_3 = pd.concat([val_od_1, val_od_2, val_od_4], axis=0)\n",
    "train_od_4 = pd.concat([val_od_1, val_od_2, val_od_3], axis=0)"
   ]
  },
  {
   "cell_type": "code",
   "execution_count": 37,
   "metadata": {},
   "outputs": [],
   "source": [
    "train_od_1.to_csv(osp.join('data/', 'train_od_1.csv'), index=False)\n",
    "train_od_2.to_csv(osp.join('data/', 'train_od_2.csv'), index=False)\n",
    "train_od_3.to_csv(osp.join('data/', 'train_od_3.csv'), index=False)\n",
    "train_od_4.to_csv(osp.join('data/', 'train_od_4.csv'), index=False)\n",
    "\n",
    "val_od_1.to_csv(osp.join('data/', 'val_od_1.csv'), index=False)\n",
    "val_od_2.to_csv(osp.join('data/', 'val_od_2.csv'), index=False)\n",
    "val_od_3.to_csv(osp.join('data/', 'val_od_3.csv'), index=False)\n",
    "val_od_4.to_csv(osp.join('data/', 'val_od_4.csv'), index=False)"
   ]
  },
  {
   "cell_type": "markdown",
   "metadata": {},
   "source": [
    "### Macula-centered"
   ]
  },
  {
   "cell_type": "code",
   "execution_count": 27,
   "metadata": {},
   "outputs": [
    {
     "data": {
      "text/plain": [
       "((606, 2), (200, 2))"
      ]
     },
     "execution_count": 27,
     "metadata": {},
     "output_type": "execute_result"
    }
   ],
   "source": [
    "train_mac.shape, val_mac.shape"
   ]
  },
  {
   "cell_type": "code",
   "execution_count": 38,
   "metadata": {},
   "outputs": [],
   "source": [
    "val_mac_1 = val_mac.copy()\n",
    "val_mac_2 = train_mac[0:202]\n",
    "val_mac_3 = train_mac[202:2*202]\n",
    "val_mac_4 = train_mac[2*202:]"
   ]
  },
  {
   "cell_type": "code",
   "execution_count": 39,
   "metadata": {},
   "outputs": [
    {
     "data": {
      "text/plain": [
       "((200, 2), (202, 2), (202, 2), (202, 2))"
      ]
     },
     "execution_count": 39,
     "metadata": {},
     "output_type": "execute_result"
    }
   ],
   "source": [
    "val_mac_1.shape, val_mac_2.shape,val_mac_3.shape,val_mac_4.shape"
   ]
  },
  {
   "cell_type": "code",
   "execution_count": 40,
   "metadata": {},
   "outputs": [],
   "source": [
    "train_mac_1 = pd.concat([val_mac_2, val_mac_3, val_mac_4], axis=0)\n",
    "train_mac_2 = pd.concat([val_mac_1, val_mac_3, val_mac_4], axis=0)\n",
    "train_mac_3 = pd.concat([val_mac_1, val_mac_2, val_mac_4], axis=0)\n",
    "train_mac_4 = pd.concat([val_mac_1, val_mac_2, val_mac_3], axis=0)"
   ]
  },
  {
   "cell_type": "code",
   "execution_count": 41,
   "metadata": {},
   "outputs": [],
   "source": [
    "train_mac_1.to_csv(osp.join('data/', 'train_mac_1.csv'), index=False)\n",
    "train_mac_2.to_csv(osp.join('data/', 'train_mac_2.csv'), index=False)\n",
    "train_mac_3.to_csv(osp.join('data/', 'train_mac_3.csv'), index=False)\n",
    "train_mac_4.to_csv(osp.join('data/', 'train_mac_4.csv'), index=False)\n",
    "\n",
    "val_mac_1.to_csv(osp.join('data/', 'val_mac_1.csv'), index=False)\n",
    "val_mac_2.to_csv(osp.join('data/', 'val_mac_2.csv'), index=False)\n",
    "val_mac_3.to_csv(osp.join('data/', 'val_mac_3.csv'), index=False)\n",
    "val_mac_4.to_csv(osp.join('data/', 'val_mac_4.csv'), index=False)"
   ]
  },
  {
   "cell_type": "code",
   "execution_count": null,
   "metadata": {},
   "outputs": [],
   "source": []
  }
 ],
 "metadata": {
  "kernelspec": {
   "display_name": "vessels",
   "language": "python",
   "name": "build_central"
  },
  "language_info": {
   "codemirror_mode": {
    "name": "ipython",
    "version": 3
   },
   "file_extension": ".py",
   "mimetype": "text/x-python",
   "name": "python",
   "nbconvert_exporter": "python",
   "pygments_lexer": "ipython3",
   "version": "3.7.6"
  }
 },
 "nbformat": 4,
 "nbformat_minor": 2
}
